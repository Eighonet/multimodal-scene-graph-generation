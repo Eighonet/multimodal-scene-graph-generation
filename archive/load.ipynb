{
 "cells": [
  {
   "cell_type": "code",
   "execution_count": 1,
   "metadata": {},
   "outputs": [],
   "source": [
    "import wget\n",
    "import subprocess"
   ]
  },
  {
   "cell_type": "code",
   "execution_count": 2,
   "metadata": {},
   "outputs": [
    {
     "name": "stderr",
     "output_type": "stream",
     "text": [
      "'wget' is not recognized as an internal or external command,\n",
      "operable program or batch file.\n"
     ]
    }
   ],
   "source": [
    "!wget 'https://www-nlpir.nist.gov/projects/trecvid/dvu/dvu.development.dataset' -r "
   ]
  },
  {
   "cell_type": "code",
   "execution_count": 23,
   "metadata": {},
   "outputs": [
    {
     "name": "stderr",
     "output_type": "stream",
     "text": [
      "Usage: wget.py [options]\n",
      "\n",
      "wget.py: error: no such option: -r\n"
     ]
    }
   ],
   "source": [
    "!python -m wget \"https://www-nlpir.nist.gov/projects/trecvid/dvu/dvu.development.dataset\" -r"
   ]
  },
  {
   "cell_type": "code",
   "execution_count": null,
   "metadata": {},
   "outputs": [],
   "source": [
    "wget.download('https://www-nlpir.nist.gov/projects/trecvid/dvu/dvu.development.dataset', r=True)"
   ]
  },
  {
   "cell_type": "code",
   "execution_count": null,
   "metadata": {},
   "outputs": [],
   "source": [
    "!pip install directory-downloader "
   ]
  },
  {
   "cell_type": "code",
   "execution_count": null,
   "metadata": {},
   "outputs": [],
   "source": [
    "url = \"https://www-nlpir.nist.gov/projects/trecvid/dvu/dvu.development.dataset\"\n",
    "downloader = DDownloader()\n",
    "downloader.crawl(url)\n",
    "downloader.download_files()"
   ]
  },
  {
   "cell_type": "code",
   "execution_count": null,
   "metadata": {},
   "outputs": [],
   "source": [
    "import bs4\n",
    "import requests\n",
    "\n",
    "url = \"https://www-nlpir.nist.gov/projects/trecvid/dvu/dvu.development.dataset\"\n",
    "r = requests.get(url)\n",
    "data = bs4.BeautifulSoup(r.text, \"html.parser\")\n",
    "for l in data.find_all(\"a\"):\n",
    "    r = requests.get(url + '/' + l[\"href\"])\n",
    "    print(url + l[\"href\"])\n",
    "    print(r)"
   ]
  },
  {
   "cell_type": "code",
   "execution_count": null,
   "metadata": {},
   "outputs": [],
   "source": [
    "import asyncio\n",
    "from directory_downloader import DDownloader\n",
    "\n",
    "\n",
    "async def main():\n",
    "    url = \"https://example.com/directory/\"\n",
    "    downloader = DDownloader()\n",
    "    await downloader.crawl(url)  # fetch all the links from /directory/\n",
    "    await downloader.download_files()  # download all files to current directory\n",
    "\n",
    "\n",
    "await main()"
   ]
  },
  {
   "cell_type": "code",
   "execution_count": 11,
   "metadata": {},
   "outputs": [
    {
     "name": "stdout",
     "output_type": "stream",
     "text": [
      "Skipped URL\n",
      "Url:https://www-nlpir.nist.gov/projects/trecvid/dvu/documentation/\n",
      "Url:https://www-nlpir.nist.gov/projects/trecvid/dvu/human.generated.QA.annotations/\n",
      "Url:https://www-nlpir.nist.gov/projects/trecvid/dvu/kinolorber.dataset/\n",
      "Url:https://www-nlpir.nist.gov/projects/trecvid/dvu/movie.shots/\n",
      "Url:https://www-nlpir.nist.gov/projects/trecvid/dvu/movie_knowledge_graph/\n",
      "Url:https://www-nlpir.nist.gov/projects/trecvid/dvu/movies/\n",
      "Url:https://www-nlpir.nist.gov/projects/trecvid/dvu/ontology_2023.pdf\n",
      "Url:https://www-nlpir.nist.gov/projects/trecvid/dvu/resources/\n",
      "Url:https://www-nlpir.nist.gov/projects/trecvid/dvu/scene.segmentation.reference/\n",
      "Url:https://www-nlpir.nist.gov/projects/trecvid/dvu/scenes_knowledge_graphs/\n",
      "Url:https://www-nlpir.nist.gov/projects/trecvid/dvu/scenes_textual_summaries/\n",
      "Url:https://www-nlpir.nist.gov/projects/trecvid/dvu/vocab.dvu.json\n",
      "Start Downloading\n"
     ]
    }
   ],
   "source": [
    "import asyncio\n",
    "from directory_downloader import DDownloader\n",
    "\n",
    "\n",
    "async def main():\n",
    "    url = \"https://www-nlpir.nist.gov/projects/trecvid/dvu/dvu.development.dataset\"\n",
    "    downloader = DDownloader()\n",
    "    await downloader.crawl(url)  # fetch all the links from /directory/\n",
    "    await downloader.download_files()  # download all files to current directory\n",
    "\n",
    "await main()"
   ]
  },
  {
   "cell_type": "code",
   "execution_count": 3,
   "metadata": {},
   "outputs": [],
   "source": [
    "import pandas as pd\n"
   ]
  },
  {
   "cell_type": "code",
   "execution_count": 6,
   "metadata": {},
   "outputs": [],
   "source": [
    "data = [['1', '1', '10', '1', 'completed', '2013-10-01'], ['2', '2', '11', '1', 'cancelled_by_driver', '2013-10-01'], ['3', '3', '12', '6', 'completed', '2013-10-01'], ['4', '4', '13', '6', 'cancelled_by_client', '2013-10-01'], ['5', '1', '10', '1', 'completed', '2013-10-02'], ['6', '2', '11', '6', 'completed', '2013-10-02'], ['7', '3', '12', '6', 'completed', '2013-10-02'], ['8', '2', '12', '12', 'completed', '2013-10-03'], ['9', '3', '10', '12', 'completed', '2013-10-03'], ['10', '4', '13', '12', 'cancelled_by_driver', '2013-10-03']]\n",
    "t = pd.DataFrame(data, columns=['id', 'client_id', 'driver_id', 'city_id', 'status', 'request_at']).astype({'id':'Int64', 'client_id':'Int64', 'driver_id':'Int64', 'city_id':'Int64', 'status':'object', 'request_at':'object'})\n",
    "\n",
    "data = [['1', 'No', 'client'], ['2', 'Yes', 'client'], ['3', 'No', 'client'], ['4', 'No', 'client'], ['10', 'No', 'driver'], ['11', 'No', 'driver'], ['12', 'No', 'driver'], ['13', 'No', 'driver']]\n",
    "u = pd.DataFrame(data, columns=['users_id', 'banned', 'role']).astype({'users_id':'Int64', 'banned':'object', 'role':'object'})"
   ]
  },
  {
   "cell_type": "code",
   "execution_count": 7,
   "metadata": {},
   "outputs": [],
   "source": [
    "tmp = t.merge(u, how='left', left_on='client_id', right_on='users_id')\n",
    "tmp = tmp.merge(u, how='left', left_on='driver_id', right_on='users_id', suffixes=['_user', '_driver'])[['banned_user', 'banned_driver', 'status', 'request_at']]\n",
    "tmp = tmp[(tmp['banned_user'] == 'No') & (tmp['banned_driver'] == 'No') & (tmp['request_at'] <= \"2013-10-03\") & (tmp['request_at'] >= \"2013-10-01\")]"
   ]
  },
  {
   "cell_type": "code",
   "execution_count": 12,
   "metadata": {},
   "outputs": [
    {
     "data": {
      "text/html": [
       "<div>\n",
       "<style scoped>\n",
       "    .dataframe tbody tr th:only-of-type {\n",
       "        vertical-align: middle;\n",
       "    }\n",
       "\n",
       "    .dataframe tbody tr th {\n",
       "        vertical-align: top;\n",
       "    }\n",
       "\n",
       "    .dataframe thead th {\n",
       "        text-align: right;\n",
       "    }\n",
       "</style>\n",
       "<table border=\"1\" class=\"dataframe\">\n",
       "  <thead>\n",
       "    <tr style=\"text-align: right;\">\n",
       "      <th></th>\n",
       "      <th>banned_user</th>\n",
       "      <th>banned_driver</th>\n",
       "      <th>status</th>\n",
       "      <th>request_at</th>\n",
       "    </tr>\n",
       "  </thead>\n",
       "  <tbody>\n",
       "    <tr>\n",
       "      <th>0</th>\n",
       "      <td>No</td>\n",
       "      <td>No</td>\n",
       "      <td>completed</td>\n",
       "      <td>2013-10-01</td>\n",
       "    </tr>\n",
       "    <tr>\n",
       "      <th>2</th>\n",
       "      <td>No</td>\n",
       "      <td>No</td>\n",
       "      <td>completed</td>\n",
       "      <td>2013-10-01</td>\n",
       "    </tr>\n",
       "    <tr>\n",
       "      <th>3</th>\n",
       "      <td>No</td>\n",
       "      <td>No</td>\n",
       "      <td>cancelled_by_client</td>\n",
       "      <td>2013-10-01</td>\n",
       "    </tr>\n",
       "    <tr>\n",
       "      <th>4</th>\n",
       "      <td>No</td>\n",
       "      <td>No</td>\n",
       "      <td>completed</td>\n",
       "      <td>2013-10-02</td>\n",
       "    </tr>\n",
       "    <tr>\n",
       "      <th>6</th>\n",
       "      <td>No</td>\n",
       "      <td>No</td>\n",
       "      <td>completed</td>\n",
       "      <td>2013-10-02</td>\n",
       "    </tr>\n",
       "    <tr>\n",
       "      <th>8</th>\n",
       "      <td>No</td>\n",
       "      <td>No</td>\n",
       "      <td>completed</td>\n",
       "      <td>2013-10-03</td>\n",
       "    </tr>\n",
       "    <tr>\n",
       "      <th>9</th>\n",
       "      <td>No</td>\n",
       "      <td>No</td>\n",
       "      <td>cancelled_by_driver</td>\n",
       "      <td>2013-10-03</td>\n",
       "    </tr>\n",
       "  </tbody>\n",
       "</table>\n",
       "</div>"
      ],
      "text/plain": [
       "  banned_user banned_driver               status  request_at\n",
       "0          No            No            completed  2013-10-01\n",
       "2          No            No            completed  2013-10-01\n",
       "3          No            No  cancelled_by_client  2013-10-01\n",
       "4          No            No            completed  2013-10-02\n",
       "6          No            No            completed  2013-10-02\n",
       "8          No            No            completed  2013-10-03\n",
       "9          No            No  cancelled_by_driver  2013-10-03"
      ]
     },
     "execution_count": 12,
     "metadata": {},
     "output_type": "execute_result"
    }
   ],
   "source": []
  },
  {
   "cell_type": "code",
   "execution_count": 22,
   "metadata": {},
   "outputs": [
    {
     "data": {
      "text/html": [
       "<div>\n",
       "<style scoped>\n",
       "    .dataframe tbody tr th:only-of-type {\n",
       "        vertical-align: middle;\n",
       "    }\n",
       "\n",
       "    .dataframe tbody tr th {\n",
       "        vertical-align: top;\n",
       "    }\n",
       "\n",
       "    .dataframe thead th {\n",
       "        text-align: right;\n",
       "    }\n",
       "</style>\n",
       "<table border=\"1\" class=\"dataframe\">\n",
       "  <thead>\n",
       "    <tr style=\"text-align: right;\">\n",
       "      <th></th>\n",
       "      <th>banned_user</th>\n",
       "      <th>banned_driver</th>\n",
       "      <th>status</th>\n",
       "      <th>request_at</th>\n",
       "      <th>total</th>\n",
       "      <th>canceled</th>\n",
       "    </tr>\n",
       "  </thead>\n",
       "  <tbody>\n",
       "    <tr>\n",
       "      <th>0</th>\n",
       "      <td>No</td>\n",
       "      <td>No</td>\n",
       "      <td>completed</td>\n",
       "      <td>2013-10-01</td>\n",
       "      <td>3</td>\n",
       "      <td>NaN</td>\n",
       "    </tr>\n",
       "    <tr>\n",
       "      <th>2</th>\n",
       "      <td>No</td>\n",
       "      <td>No</td>\n",
       "      <td>completed</td>\n",
       "      <td>2013-10-01</td>\n",
       "      <td>3</td>\n",
       "      <td>NaN</td>\n",
       "    </tr>\n",
       "    <tr>\n",
       "      <th>3</th>\n",
       "      <td>No</td>\n",
       "      <td>No</td>\n",
       "      <td>cancelled_by_client</td>\n",
       "      <td>2013-10-01</td>\n",
       "      <td>3</td>\n",
       "      <td>1.0</td>\n",
       "    </tr>\n",
       "    <tr>\n",
       "      <th>4</th>\n",
       "      <td>No</td>\n",
       "      <td>No</td>\n",
       "      <td>completed</td>\n",
       "      <td>2013-10-02</td>\n",
       "      <td>2</td>\n",
       "      <td>NaN</td>\n",
       "    </tr>\n",
       "    <tr>\n",
       "      <th>6</th>\n",
       "      <td>No</td>\n",
       "      <td>No</td>\n",
       "      <td>completed</td>\n",
       "      <td>2013-10-02</td>\n",
       "      <td>2</td>\n",
       "      <td>NaN</td>\n",
       "    </tr>\n",
       "    <tr>\n",
       "      <th>8</th>\n",
       "      <td>No</td>\n",
       "      <td>No</td>\n",
       "      <td>completed</td>\n",
       "      <td>2013-10-03</td>\n",
       "      <td>2</td>\n",
       "      <td>NaN</td>\n",
       "    </tr>\n",
       "    <tr>\n",
       "      <th>9</th>\n",
       "      <td>No</td>\n",
       "      <td>No</td>\n",
       "      <td>cancelled_by_driver</td>\n",
       "      <td>2013-10-03</td>\n",
       "      <td>2</td>\n",
       "      <td>1.0</td>\n",
       "    </tr>\n",
       "  </tbody>\n",
       "</table>\n",
       "</div>"
      ],
      "text/plain": [
       "  banned_user banned_driver               status  request_at  total  canceled\n",
       "0          No            No            completed  2013-10-01      3       NaN\n",
       "2          No            No            completed  2013-10-01      3       NaN\n",
       "3          No            No  cancelled_by_client  2013-10-01      3       1.0\n",
       "4          No            No            completed  2013-10-02      2       NaN\n",
       "6          No            No            completed  2013-10-02      2       NaN\n",
       "8          No            No            completed  2013-10-03      2       NaN\n",
       "9          No            No  cancelled_by_driver  2013-10-03      2       1.0"
      ]
     },
     "execution_count": 22,
     "metadata": {},
     "output_type": "execute_result"
    }
   ],
   "source": [
    "tmp['total'] = tmp.groupby('request_at').transform('size')\n",
    "tmp['canceled'] = tmp[tmp['status'] != 'completed'].groupby('request_at').transform('size')\n",
    "tmp"
   ]
  },
  {
   "cell_type": "code",
   "execution_count": 24,
   "metadata": {},
   "outputs": [
    {
     "data": {
      "text/plain": [
       "request_at\n",
       "2013-10-01    3\n",
       "2013-10-02    2\n",
       "2013-10-03    2\n",
       "dtype: int64"
      ]
     },
     "execution_count": 24,
     "metadata": {},
     "output_type": "execute_result"
    }
   ],
   "source": [
    "tmp.groupby('request_at').aggregate('size')"
   ]
  },
  {
   "cell_type": "code",
   "execution_count": 34,
   "metadata": {},
   "outputs": [],
   "source": [
    "canceled = tmp[tmp['status'] != 'completed'].groupby('request_at').size().to_frame().reset_index()\n",
    "total = tmp.groupby('request_at').size().to_frame().reset_index()"
   ]
  },
  {
   "cell_type": "code",
   "execution_count": 35,
   "metadata": {},
   "outputs": [
    {
     "data": {
      "text/html": [
       "<div>\n",
       "<style scoped>\n",
       "    .dataframe tbody tr th:only-of-type {\n",
       "        vertical-align: middle;\n",
       "    }\n",
       "\n",
       "    .dataframe tbody tr th {\n",
       "        vertical-align: top;\n",
       "    }\n",
       "\n",
       "    .dataframe thead th {\n",
       "        text-align: right;\n",
       "    }\n",
       "</style>\n",
       "<table border=\"1\" class=\"dataframe\">\n",
       "  <thead>\n",
       "    <tr style=\"text-align: right;\">\n",
       "      <th></th>\n",
       "      <th>request_at</th>\n",
       "      <th>0</th>\n",
       "    </tr>\n",
       "  </thead>\n",
       "  <tbody>\n",
       "    <tr>\n",
       "      <th>0</th>\n",
       "      <td>2013-10-01</td>\n",
       "      <td>1</td>\n",
       "    </tr>\n",
       "    <tr>\n",
       "      <th>1</th>\n",
       "      <td>2013-10-03</td>\n",
       "      <td>1</td>\n",
       "    </tr>\n",
       "  </tbody>\n",
       "</table>\n",
       "</div>"
      ],
      "text/plain": [
       "   request_at  0\n",
       "0  2013-10-01  1\n",
       "1  2013-10-03  1"
      ]
     },
     "execution_count": 35,
     "metadata": {},
     "output_type": "execute_result"
    }
   ],
   "source": [
    "canceled"
   ]
  },
  {
   "cell_type": "code",
   "execution_count": 52,
   "metadata": {},
   "outputs": [
    {
     "data": {
      "text/plain": [
       "[2, 0, 1, 0, 2]"
      ]
     },
     "execution_count": 52,
     "metadata": {},
     "output_type": "execute_result"
    }
   ],
   "source": [
    "import numpy as np\n",
    "\n",
    "a = np.array([5, 1, 2, 1, 5])\n",
    "\n",
    "[np.sum(i > np.array(list(set(a)))) for i in a]"
   ]
  },
  {
   "cell_type": "code",
   "execution_count": 41,
   "metadata": {},
   "outputs": [
    {
     "data": {
      "text/html": [
       "<div>\n",
       "<style scoped>\n",
       "    .dataframe tbody tr th:only-of-type {\n",
       "        vertical-align: middle;\n",
       "    }\n",
       "\n",
       "    .dataframe tbody tr th {\n",
       "        vertical-align: top;\n",
       "    }\n",
       "\n",
       "    .dataframe thead th {\n",
       "        text-align: right;\n",
       "    }\n",
       "</style>\n",
       "<table border=\"1\" class=\"dataframe\">\n",
       "  <thead>\n",
       "    <tr style=\"text-align: right;\">\n",
       "      <th></th>\n",
       "      <th>request_at</th>\n",
       "      <th>0_x</th>\n",
       "      <th>0_y</th>\n",
       "      <th>Cancellation Rate</th>\n",
       "      <th>Day</th>\n",
       "    </tr>\n",
       "  </thead>\n",
       "  <tbody>\n",
       "    <tr>\n",
       "      <th>0</th>\n",
       "      <td>2013-10-01</td>\n",
       "      <td>3</td>\n",
       "      <td>1.0</td>\n",
       "      <td>0.33</td>\n",
       "      <td>2013-10-01</td>\n",
       "    </tr>\n",
       "    <tr>\n",
       "      <th>1</th>\n",
       "      <td>2013-10-02</td>\n",
       "      <td>2</td>\n",
       "      <td>0.0</td>\n",
       "      <td>0.00</td>\n",
       "      <td>2013-10-02</td>\n",
       "    </tr>\n",
       "    <tr>\n",
       "      <th>2</th>\n",
       "      <td>2013-10-03</td>\n",
       "      <td>2</td>\n",
       "      <td>1.0</td>\n",
       "      <td>0.50</td>\n",
       "      <td>2013-10-03</td>\n",
       "    </tr>\n",
       "  </tbody>\n",
       "</table>\n",
       "</div>"
      ],
      "text/plain": [
       "   request_at  0_x  0_y  Cancellation Rate         Day\n",
       "0  2013-10-01    3  1.0               0.33  2013-10-01\n",
       "1  2013-10-02    2  0.0               0.00  2013-10-02\n",
       "2  2013-10-03    2  1.0               0.50  2013-10-03"
      ]
     },
     "execution_count": 41,
     "metadata": {},
     "output_type": "execute_result"
    }
   ],
   "source": [
    "r = total.merge(canceled, how='left', on='request_at').fillna(0)\n",
    "r['Cancellation Rate'] = round(r['0_y']/r['0_x'],2)\n",
    "r['Day'] = r['request_at']\n",
    "r"
   ]
  },
  {
   "cell_type": "code",
   "execution_count": null,
   "metadata": {},
   "outputs": [],
   "source": []
  }
 ],
 "metadata": {
  "kernelspec": {
   "display_name": "base",
   "language": "python",
   "name": "python3"
  },
  "language_info": {
   "codemirror_mode": {
    "name": "ipython",
    "version": 3
   },
   "file_extension": ".py",
   "mimetype": "text/x-python",
   "name": "python",
   "nbconvert_exporter": "python",
   "pygments_lexer": "ipython3",
   "version": "3.11.5"
  }
 },
 "nbformat": 4,
 "nbformat_minor": 2
}
