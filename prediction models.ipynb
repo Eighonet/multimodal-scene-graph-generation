{
 "cells": [
  {
   "cell_type": "code",
   "execution_count": 9,
   "id": "8c6c2d31",
   "metadata": {
    "collapsed": true
   },
   "outputs": [
    {
     "name": "stdout",
     "output_type": "stream",
     "text": [
      "Requirement already satisfied: transformers in /home/jovyan/.imgenv-bold-wing-0/lib/python3.7/site-packages (4.29.2)\n",
      "Requirement already satisfied: requests in /home/user/conda/lib/python3.7/site-packages (from transformers) (2.27.1)\n",
      "Requirement already satisfied: filelock in /home/user/conda/lib/python3.7/site-packages (from transformers) (3.4.2)\n",
      "Requirement already satisfied: tqdm>=4.27 in /home/user/conda/lib/python3.7/site-packages (from transformers) (4.62.3)\n",
      "Requirement already satisfied: regex!=2019.12.17 in /home/user/conda/lib/python3.7/site-packages (from transformers) (2022.1.18)\n",
      "Requirement already satisfied: tokenizers!=0.11.3,<0.14,>=0.11.1 in /home/jovyan/.imgenv-bold-wing-0/lib/python3.7/site-packages (from transformers) (0.13.3)\n",
      "Requirement already satisfied: importlib-metadata in /home/user/conda/lib/python3.7/site-packages (from transformers) (4.10.1)\n",
      "Requirement already satisfied: huggingface-hub<1.0,>=0.14.1 in /home/jovyan/.imgenv-bold-wing-0/lib/python3.7/site-packages (from transformers) (0.15.1)\n",
      "Requirement already satisfied: pyyaml>=5.1 in /home/user/conda/lib/python3.7/site-packages (from transformers) (6.0)\n",
      "Requirement already satisfied: packaging>=20.0 in /home/user/conda/lib/python3.7/site-packages (from transformers) (21.3)\n",
      "Requirement already satisfied: numpy>=1.17 in /home/user/conda/lib/python3.7/site-packages (from transformers) (1.21.5)\n",
      "Requirement already satisfied: typing-extensions>=3.7.4.3 in /home/user/conda/lib/python3.7/site-packages (from huggingface-hub<1.0,>=0.14.1->transformers) (4.0.1)\n",
      "Requirement already satisfied: fsspec in /home/user/conda/lib/python3.7/site-packages (from huggingface-hub<1.0,>=0.14.1->transformers) (2022.1.0)\n",
      "Requirement already satisfied: pyparsing!=3.0.5,>=2.0.2 in /home/user/conda/lib/python3.7/site-packages (from packaging>=20.0->transformers) (3.0.7)\n",
      "Requirement already satisfied: zipp>=0.5 in /home/user/conda/lib/python3.7/site-packages (from importlib-metadata->transformers) (3.7.0)\n",
      "Requirement already satisfied: charset-normalizer~=2.0.0 in /home/user/conda/lib/python3.7/site-packages (from requests->transformers) (2.0.10)\n",
      "Requirement already satisfied: certifi>=2017.4.17 in /home/user/conda/lib/python3.7/site-packages (from requests->transformers) (2021.10.8)\n",
      "Requirement already satisfied: urllib3<1.27,>=1.21.1 in /home/jovyan/.imgenv-bold-wing-0/lib/python3.7/site-packages (from requests->transformers) (1.26.16)\n",
      "Requirement already satisfied: idna<4,>=2.5 in /home/user/conda/lib/python3.7/site-packages (from requests->transformers) (3.3)\n",
      "Collecting ffmpeg\n",
      "  Using cached ffmpeg-1.4-py3-none-any.whl\n",
      "Collecting moviepy\n",
      "  Using cached moviepy-1.0.3-py3-none-any.whl\n",
      "Collecting imageio-ffmpeg>=0.2.0\n",
      "  Using cached imageio_ffmpeg-0.4.8-py3-none-manylinux2010_x86_64.whl (26.9 MB)\n",
      "Collecting decorator<5.0,>=4.0.2\n",
      "  Using cached decorator-4.4.2-py2.py3-none-any.whl (9.2 kB)\n",
      "Requirement already satisfied: numpy in /home/user/conda/lib/python3.7/site-packages (from moviepy) (1.21.5)\n",
      "Requirement already satisfied: requests<3.0,>=2.8.1 in /home/user/conda/lib/python3.7/site-packages (from moviepy) (2.27.1)\n",
      "Collecting imageio<3.0,>=2.5\n",
      "  Downloading imageio-2.31.1-py3-none-any.whl (313 kB)\n",
      "     |████████████████████████████████| 313 kB 1.2 MB/s            \n",
      "\u001b[?25hRequirement already satisfied: tqdm<5.0,>=4.11.2 in /home/user/conda/lib/python3.7/site-packages (from moviepy) (4.62.3)\n",
      "Collecting proglog<=1.0.0\n",
      "  Using cached proglog-0.1.10-py3-none-any.whl (6.1 kB)\n",
      "Requirement already satisfied: pillow>=8.3.2 in /home/user/conda/lib/python3.7/site-packages (from imageio<3.0,>=2.5->moviepy) (9.0.0)\n",
      "Requirement already satisfied: urllib3<1.27,>=1.21.1 in /home/jovyan/.imgenv-bold-wing-0/lib/python3.7/site-packages (from requests<3.0,>=2.8.1->moviepy) (1.26.16)\n",
      "Requirement already satisfied: certifi>=2017.4.17 in /home/user/conda/lib/python3.7/site-packages (from requests<3.0,>=2.8.1->moviepy) (2021.10.8)\n",
      "Requirement already satisfied: charset-normalizer~=2.0.0 in /home/user/conda/lib/python3.7/site-packages (from requests<3.0,>=2.8.1->moviepy) (2.0.10)\n",
      "Requirement already satisfied: idna<4,>=2.5 in /home/user/conda/lib/python3.7/site-packages (from requests<3.0,>=2.8.1->moviepy) (3.3)\n",
      "Installing collected packages: proglog, imageio-ffmpeg, imageio, decorator, moviepy, ffmpeg\n",
      "  Attempting uninstall: decorator\n",
      "    Found existing installation: decorator 5.1.1\n",
      "    Uninstalling decorator-5.1.1:\n",
      "      Successfully uninstalled decorator-5.1.1\n",
      "Successfully installed decorator-4.4.2 ffmpeg-1.4 imageio-2.31.1 imageio-ffmpeg-0.4.8 moviepy-1.0.3 proglog-0.1.10\n",
      "Collecting speechpy\n",
      "  Using cached speechpy-2.4-py2.py3-none-any.whl (9.5 kB)\n",
      "Requirement already satisfied: numpy in /home/user/conda/lib/python3.7/site-packages (from speechpy) (1.21.5)\n",
      "Requirement already satisfied: scipy in /home/user/conda/lib/python3.7/site-packages (from speechpy) (1.7.3)\n",
      "Installing collected packages: speechpy\n",
      "Successfully installed speechpy-2.4\n",
      "Collecting lightgbm\n",
      "  Using cached lightgbm-3.3.5-py3-none-manylinux1_x86_64.whl (2.0 MB)\n",
      "Requirement already satisfied: wheel in /home/jovyan/.imgenv-bold-wing-0/lib/python3.7/site-packages (from lightgbm) (0.37.1)\n",
      "Requirement already satisfied: numpy in /home/user/conda/lib/python3.7/site-packages (from lightgbm) (1.21.5)\n",
      "Requirement already satisfied: scipy in /home/user/conda/lib/python3.7/site-packages (from lightgbm) (1.7.3)\n",
      "Requirement already satisfied: scikit-learn!=0.22.0 in /home/user/conda/lib/python3.7/site-packages (from lightgbm) (1.0.2)\n",
      "Requirement already satisfied: threadpoolctl>=2.0.0 in /home/user/conda/lib/python3.7/site-packages (from scikit-learn!=0.22.0->lightgbm) (3.0.0)\n",
      "Requirement already satisfied: joblib>=0.11 in /home/user/conda/lib/python3.7/site-packages (from scikit-learn!=0.22.0->lightgbm) (1.1.0)\n",
      "Installing collected packages: lightgbm\n",
      "Successfully installed lightgbm-3.3.5\n",
      "Collecting setproctitle\n",
      "  Using cached setproctitle-1.3.2-cp37-cp37m-manylinux_2_5_x86_64.manylinux1_x86_64.manylinux_2_17_x86_64.manylinux2014_x86_64.whl (30 kB)\n",
      "Installing collected packages: setproctitle\n",
      "Successfully installed setproctitle-1.3.2\n"
     ]
    }
   ],
   "source": [
    "!pip install transformers\n",
    "!pip install ffmpeg moviepy\n",
    "!pip install speechpy\n",
    "!pip install lightgbm\n",
    "!pip install setproctitle"
   ]
  },
  {
   "cell_type": "code",
   "execution_count": 679,
   "id": "5ba037b8",
   "metadata": {
    "collapsed": true
   },
   "outputs": [
    {
     "name": "stdout",
     "output_type": "stream",
     "text": [
      "huggingface/tokenizers: The current process just got forked, after parallelism has already been used. Disabling parallelism to avoid deadlocks...\n",
      "To disable this warning, you can either:\n",
      "\t- Avoid using `tokenizers` before the fork if possible\n",
      "\t- Explicitly set the environment variable TOKENIZERS_PARALLELISM=(true | false)\n",
      "Requirement already satisfied: optuna in /home/user/conda/lib/python3.7/site-packages (2.10.0)\n",
      "Requirement already satisfied: colorlog in /home/user/conda/lib/python3.7/site-packages (from optuna) (6.6.0)\n",
      "Requirement already satisfied: packaging>=20.0 in /home/user/conda/lib/python3.7/site-packages (from optuna) (21.3)\n",
      "Requirement already satisfied: numpy in /home/user/conda/lib/python3.7/site-packages (from optuna) (1.21.5)\n",
      "Requirement already satisfied: cmaes>=0.8.2 in /home/user/conda/lib/python3.7/site-packages (from optuna) (0.8.2)\n",
      "Requirement already satisfied: cliff in /home/user/conda/lib/python3.7/site-packages (from optuna) (3.10.0)\n",
      "Requirement already satisfied: PyYAML in /home/user/conda/lib/python3.7/site-packages (from optuna) (6.0)\n",
      "Requirement already satisfied: alembic in /home/user/conda/lib/python3.7/site-packages (from optuna) (1.4.1)\n",
      "Requirement already satisfied: sqlalchemy>=1.1.0 in /home/user/conda/lib/python3.7/site-packages (from optuna) (1.3.13)\n",
      "Requirement already satisfied: scipy!=1.4.0 in /home/user/conda/lib/python3.7/site-packages (from optuna) (1.7.3)\n",
      "Requirement already satisfied: tqdm in /home/user/conda/lib/python3.7/site-packages (from optuna) (4.62.3)\n",
      "Requirement already satisfied: pyparsing!=3.0.5,>=2.0.2 in /home/user/conda/lib/python3.7/site-packages (from packaging>=20.0->optuna) (3.0.7)\n",
      "Requirement already satisfied: python-editor>=0.3 in /home/user/conda/lib/python3.7/site-packages (from alembic->optuna) (1.0.4)\n",
      "Requirement already satisfied: Mako in /home/user/conda/lib/python3.7/site-packages (from alembic->optuna) (1.1.6)\n",
      "Requirement already satisfied: python-dateutil in /home/user/conda/lib/python3.7/site-packages (from alembic->optuna) (2.8.2)\n",
      "Requirement already satisfied: pbr!=2.1.0,>=2.0.0 in /home/user/conda/lib/python3.7/site-packages (from cliff->optuna) (5.8.0)\n",
      "Requirement already satisfied: cmd2>=1.0.0 in /home/user/conda/lib/python3.7/site-packages (from cliff->optuna) (2.3.3)\n",
      "Requirement already satisfied: autopage>=0.4.0 in /home/user/conda/lib/python3.7/site-packages (from cliff->optuna) (0.4.0)\n",
      "Requirement already satisfied: PrettyTable>=0.7.2 in /home/user/conda/lib/python3.7/site-packages (from cliff->optuna) (3.0.0)\n",
      "Requirement already satisfied: stevedore>=2.0.1 in /home/user/conda/lib/python3.7/site-packages (from cliff->optuna) (3.5.0)\n",
      "Requirement already satisfied: pyperclip>=1.6 in /home/user/conda/lib/python3.7/site-packages (from cmd2>=1.0.0->cliff->optuna) (1.8.2)\n",
      "Requirement already satisfied: wcwidth>=0.1.7 in /home/user/conda/lib/python3.7/site-packages (from cmd2>=1.0.0->cliff->optuna) (0.2.5)\n",
      "Requirement already satisfied: importlib-metadata>=1.6.0 in /home/user/conda/lib/python3.7/site-packages (from cmd2>=1.0.0->cliff->optuna) (4.10.1)\n",
      "Requirement already satisfied: attrs>=16.3.0 in /home/user/conda/lib/python3.7/site-packages (from cmd2>=1.0.0->cliff->optuna) (21.4.0)\n",
      "Requirement already satisfied: typing-extensions in /home/user/conda/lib/python3.7/site-packages (from cmd2>=1.0.0->cliff->optuna) (4.0.1)\n",
      "Requirement already satisfied: MarkupSafe>=0.9.2 in /home/user/conda/lib/python3.7/site-packages (from Mako->alembic->optuna) (2.0.1)\n",
      "Requirement already satisfied: six>=1.5 in /home/user/conda/lib/python3.7/site-packages (from python-dateutil->alembic->optuna) (1.16.0)\n",
      "Requirement already satisfied: zipp>=0.5 in /home/user/conda/lib/python3.7/site-packages (from importlib-metadata>=1.6.0->cmd2>=1.0.0->cliff->optuna) (3.7.0)\n"
     ]
    }
   ],
   "source": [
    "!pip install optuna"
   ]
  },
  {
   "cell_type": "code",
   "execution_count": null,
   "id": "659b69c6",
   "metadata": {},
   "outputs": [],
   "source": [
    "!pip install plotly"
   ]
  },
  {
   "cell_type": "code",
   "execution_count": 1,
   "id": "80de3954",
   "metadata": {},
   "outputs": [
    {
     "ename": "ModuleNotFoundError",
     "evalue": "No module named 'plotly'",
     "output_type": "error",
     "traceback": [
      "\u001b[0;31m---------------------------------------------------------------------------\u001b[0m",
      "\u001b[0;31mModuleNotFoundError\u001b[0m                       Traceback (most recent call last)",
      "\u001b[0;32m/tmp/ipykernel_81/3801367675.py\u001b[0m in \u001b[0;36m<module>\u001b[0;34m\u001b[0m\n\u001b[1;32m     19\u001b[0m \u001b[0;34m\u001b[0m\u001b[0m\n\u001b[1;32m     20\u001b[0m \u001b[0;32mimport\u001b[0m \u001b[0mmatplotlib\u001b[0m\u001b[0;34m.\u001b[0m\u001b[0mpyplot\u001b[0m \u001b[0;32mas\u001b[0m \u001b[0mplt\u001b[0m\u001b[0;34m\u001b[0m\u001b[0;34m\u001b[0m\u001b[0m\n\u001b[0;32m---> 21\u001b[0;31m \u001b[0;32mimport\u001b[0m \u001b[0mplotly\u001b[0m\u001b[0;34m\u001b[0m\u001b[0;34m\u001b[0m\u001b[0m\n\u001b[0m",
      "\u001b[0;31mModuleNotFoundError\u001b[0m: No module named 'plotly'"
     ]
    }
   ],
   "source": [
    "from tqdm import tqdm\n",
    "from os import listdir\n",
    "import json\n",
    "import pickle\n",
    "\n",
    "import torch\n",
    "import torchvision\n",
    "from torchvision.io import read_video\n",
    "from torchvision.ops import box_convert\n",
    "\n",
    "from torchvision.models.detection import maskrcnn_resnet50_fpn, MaskRCNN_ResNet50_FPN_Weights\n",
    "from torchvision.utils import draw_bounding_boxes\n",
    "import torchvision.transforms.functional as F\n",
    "\n",
    "import cv2 as cv\n",
    "import numpy as np\n",
    "import pandas as pd\n",
    "from scipy.spatial import distance\n",
    "\n",
    "import matplotlib.pyplot as plt\n",
    "import plotly"
   ]
  },
  {
   "cell_type": "code",
   "execution_count": 3,
   "id": "dec8d641",
   "metadata": {},
   "outputs": [],
   "source": [
    "scene_graph_path = f'../DVUChallenge/dev_dataset/scenes_knowledge_graphs/'\n",
    "\n",
    "shots_data_path = f'../DVUChallenge/dev_dataset/movie.shots/'\n",
    "\n",
    "dec_rate = 50\n",
    "\n",
    "filmnames = [file for file in listdir(f'../DVUChallenge/dev_dataset/movie_knowledge_graph/') if '.' not in file]"
   ]
  },
  {
   "cell_type": "markdown",
   "id": "7832d186",
   "metadata": {},
   "source": [
    "### Scene graphs"
   ]
  },
  {
   "cell_type": "code",
   "execution_count": 4,
   "id": "8909d4f1",
   "metadata": {},
   "outputs": [
    {
     "name": "stderr",
     "output_type": "stream",
     "text": [
      "\r",
      "  0%|          | 0/14 [00:00<?, ?it/s]"
     ]
    },
    {
     "name": "stdout",
     "output_type": "stream",
     "text": [
      "Bagman\n"
     ]
    },
    {
     "name": "stderr",
     "output_type": "stream",
     "text": [
      "\n",
      "  0%|          | 0/47 [00:00<?, ?it/s]\u001b[A"
     ]
    },
    {
     "name": "stdout",
     "output_type": "stream",
     "text": [
      "../DVUChallenge/dev_dataset/scenes_knowledge_graphs/Bagman-1.json\n",
      "../DVUChallenge/dev_dataset/scenes_knowledge_graphs/Bagman-2.json\n",
      "../DVUChallenge/dev_dataset/scenes_knowledge_graphs/Bagman-3.json\n",
      "../DVUChallenge/dev_dataset/scenes_knowledge_graphs/Bagman-4.json\n",
      "../DVUChallenge/dev_dataset/scenes_knowledge_graphs/Bagman-5.json\n",
      "../DVUChallenge/dev_dataset/scenes_knowledge_graphs/Bagman-6.json\n",
      "../DVUChallenge/dev_dataset/scenes_knowledge_graphs/Bagman-7.json\n",
      "../DVUChallenge/dev_dataset/scenes_knowledge_graphs/Bagman-8.json\n",
      "../DVUChallenge/dev_dataset/scenes_knowledge_graphs/Bagman-9.json\n",
      "../DVUChallenge/dev_dataset/scenes_knowledge_graphs/Bagman-10.json\n",
      "../DVUChallenge/dev_dataset/scenes_knowledge_graphs/Bagman-11.json\n",
      "../DVUChallenge/dev_dataset/scenes_knowledge_graphs/Bagman-12.json\n",
      "../DVUChallenge/dev_dataset/scenes_knowledge_graphs/Bagman-13.json\n",
      "../DVUChallenge/dev_dataset/scenes_knowledge_graphs/Bagman-14.json\n",
      "../DVUChallenge/dev_dataset/scenes_knowledge_graphs/Bagman-15.json\n",
      "../DVUChallenge/dev_dataset/scenes_knowledge_graphs/Bagman-16.json\n",
      "../DVUChallenge/dev_dataset/scenes_knowledge_graphs/Bagman-17.json\n",
      "../DVUChallenge/dev_dataset/scenes_knowledge_graphs/Bagman-18.json\n",
      "../DVUChallenge/dev_dataset/scenes_knowledge_graphs/Bagman-19.json\n",
      "../DVUChallenge/dev_dataset/scenes_knowledge_graphs/Bagman-20.json\n",
      "../DVUChallenge/dev_dataset/scenes_knowledge_graphs/Bagman-21.json\n",
      "../DVUChallenge/dev_dataset/scenes_knowledge_graphs/Bagman-22.json\n",
      "../DVUChallenge/dev_dataset/scenes_knowledge_graphs/Bagman-23.json\n"
     ]
    },
    {
     "name": "stderr",
     "output_type": "stream",
     "text": [
      "\n",
      "100%|██████████| 47/47 [00:00<00:00, 275.79it/s]\u001b[A\n",
      "  7%|▋         | 1/14 [00:00<00:03,  3.58it/s]"
     ]
    },
    {
     "name": "stdout",
     "output_type": "stream",
     "text": [
      "../DVUChallenge/dev_dataset/scenes_knowledge_graphs/Bagman-24.json\n",
      "../DVUChallenge/dev_dataset/scenes_knowledge_graphs/Bagman-25.json\n",
      "../DVUChallenge/dev_dataset/scenes_knowledge_graphs/Bagman-26.json\n",
      "../DVUChallenge/dev_dataset/scenes_knowledge_graphs/Bagman-27.json\n",
      "../DVUChallenge/dev_dataset/scenes_knowledge_graphs/Bagman-28.json\n",
      "../DVUChallenge/dev_dataset/scenes_knowledge_graphs/Bagman-29.json\n",
      "../DVUChallenge/dev_dataset/scenes_knowledge_graphs/Bagman-30.json\n",
      "../DVUChallenge/dev_dataset/scenes_knowledge_graphs/Bagman-31.json\n",
      "../DVUChallenge/dev_dataset/scenes_knowledge_graphs/Bagman-32.json\n",
      "../DVUChallenge/dev_dataset/scenes_knowledge_graphs/Bagman-33.json\n",
      "../DVUChallenge/dev_dataset/scenes_knowledge_graphs/Bagman-34.json\n",
      "../DVUChallenge/dev_dataset/scenes_knowledge_graphs/Bagman-35.json\n",
      "../DVUChallenge/dev_dataset/scenes_knowledge_graphs/Bagman-36.json\n",
      "../DVUChallenge/dev_dataset/scenes_knowledge_graphs/Bagman-37.json\n",
      "../DVUChallenge/dev_dataset/scenes_knowledge_graphs/Bagman-38.json\n",
      "../DVUChallenge/dev_dataset/scenes_knowledge_graphs/Bagman-39.json\n",
      "../DVUChallenge/dev_dataset/scenes_knowledge_graphs/Bagman-40.json\n",
      "../DVUChallenge/dev_dataset/scenes_knowledge_graphs/Bagman-41.json\n",
      "../DVUChallenge/dev_dataset/scenes_knowledge_graphs/Bagman-42.json\n",
      "../DVUChallenge/dev_dataset/scenes_knowledge_graphs/Bagman-43.json\n",
      "../DVUChallenge/dev_dataset/scenes_knowledge_graphs/Bagman-44.json\n",
      "../DVUChallenge/dev_dataset/scenes_knowledge_graphs/Bagman-45.json\n",
      "../DVUChallenge/dev_dataset/scenes_knowledge_graphs/Bagman-46.json\n",
      "../DVUChallenge/dev_dataset/scenes_knowledge_graphs/Bagman-47.json\n",
      "Manos\n"
     ]
    },
    {
     "name": "stderr",
     "output_type": "stream",
     "text": [
      "\n",
      "  0%|          | 0/44 [00:00<?, ?it/s]\u001b[A"
     ]
    },
    {
     "name": "stdout",
     "output_type": "stream",
     "text": [
      "../DVUChallenge/dev_dataset/scenes_knowledge_graphs/Manos-1.json\n",
      "../DVUChallenge/dev_dataset/scenes_knowledge_graphs/Manos-2.json\n",
      "../DVUChallenge/dev_dataset/scenes_knowledge_graphs/Manos-3.json\n",
      "../DVUChallenge/dev_dataset/scenes_knowledge_graphs/Manos-4.json\n",
      "../DVUChallenge/dev_dataset/scenes_knowledge_graphs/Manos-5.json\n",
      "../DVUChallenge/dev_dataset/scenes_knowledge_graphs/Manos-6.json\n",
      "../DVUChallenge/dev_dataset/scenes_knowledge_graphs/Manos-7.json\n",
      "../DVUChallenge/dev_dataset/scenes_knowledge_graphs/Manos-8.json\n",
      "../DVUChallenge/dev_dataset/scenes_knowledge_graphs/Manos-9.json\n",
      "../DVUChallenge/dev_dataset/scenes_knowledge_graphs/Manos-10.json\n"
     ]
    },
    {
     "name": "stderr",
     "output_type": "stream",
     "text": [
      "\n",
      " 77%|███████▋  | 34/44 [00:00<00:00, 338.09it/s]\u001b[A"
     ]
    },
    {
     "name": "stdout",
     "output_type": "stream",
     "text": [
      "../DVUChallenge/dev_dataset/scenes_knowledge_graphs/Manos-11.json\n",
      "../DVUChallenge/dev_dataset/scenes_knowledge_graphs/Manos-12.json\n",
      "../DVUChallenge/dev_dataset/scenes_knowledge_graphs/Manos-13.json\n",
      "../DVUChallenge/dev_dataset/scenes_knowledge_graphs/Manos-14.json\n",
      "../DVUChallenge/dev_dataset/scenes_knowledge_graphs/Manos-15.json\n",
      "../DVUChallenge/dev_dataset/scenes_knowledge_graphs/Manos-16.json\n",
      "../DVUChallenge/dev_dataset/scenes_knowledge_graphs/Manos-17.json\n",
      "../DVUChallenge/dev_dataset/scenes_knowledge_graphs/Manos-18.json\n",
      "../DVUChallenge/dev_dataset/scenes_knowledge_graphs/Manos-19.json\n",
      "../DVUChallenge/dev_dataset/scenes_knowledge_graphs/Manos-20.json\n",
      "../DVUChallenge/dev_dataset/scenes_knowledge_graphs/Manos-21.json\n",
      "../DVUChallenge/dev_dataset/scenes_knowledge_graphs/Manos-22.json\n",
      "../DVUChallenge/dev_dataset/scenes_knowledge_graphs/Manos-23.json\n",
      "../DVUChallenge/dev_dataset/scenes_knowledge_graphs/Manos-24.json\n",
      "../DVUChallenge/dev_dataset/scenes_knowledge_graphs/Manos-25.json\n",
      "../DVUChallenge/dev_dataset/scenes_knowledge_graphs/Manos-26.json\n",
      "../DVUChallenge/dev_dataset/scenes_knowledge_graphs/Manos-27.json\n",
      "../DVUChallenge/dev_dataset/scenes_knowledge_graphs/Manos-28.json\n",
      "../DVUChallenge/dev_dataset/scenes_knowledge_graphs/Manos-29.json\n",
      "../DVUChallenge/dev_dataset/scenes_knowledge_graphs/Manos-30.json\n",
      "../DVUChallenge/dev_dataset/scenes_knowledge_graphs/Manos-31.json\n",
      "../DVUChallenge/dev_dataset/scenes_knowledge_graphs/Manos-32.json\n",
      "../DVUChallenge/dev_dataset/scenes_knowledge_graphs/Manos-33.json\n",
      "../DVUChallenge/dev_dataset/scenes_knowledge_graphs/Manos-34.json\n",
      "../DVUChallenge/dev_dataset/scenes_knowledge_graphs/Manos-35.json\n",
      "../DVUChallenge/dev_dataset/scenes_knowledge_graphs/Manos-36.json\n",
      "../DVUChallenge/dev_dataset/scenes_knowledge_graphs/Manos-37.json\n",
      "../DVUChallenge/dev_dataset/scenes_knowledge_graphs/Manos-38.json\n",
      "../DVUChallenge/dev_dataset/scenes_knowledge_graphs/Manos-39.json\n",
      "../DVUChallenge/dev_dataset/scenes_knowledge_graphs/Manos-40.json\n",
      "../DVUChallenge/dev_dataset/scenes_knowledge_graphs/Manos-41.json\n",
      "../DVUChallenge/dev_dataset/scenes_knowledge_graphs/Manos-42.json\n"
     ]
    },
    {
     "name": "stderr",
     "output_type": "stream",
     "text": [
      "100%|██████████| 44/44 [00:00<00:00, 349.23it/s]\n",
      " 14%|█▍        | 2/14 [00:00<00:02,  5.23it/s]"
     ]
    },
    {
     "name": "stdout",
     "output_type": "stream",
     "text": [
      "../DVUChallenge/dev_dataset/scenes_knowledge_graphs/Manos-43.json\n",
      "../DVUChallenge/dev_dataset/scenes_knowledge_graphs/Manos-44.json\n",
      "Valkaama\n"
     ]
    },
    {
     "name": "stderr",
     "output_type": "stream",
     "text": [
      "\n",
      "  0%|          | 0/45 [00:00<?, ?it/s]\u001b[A"
     ]
    },
    {
     "name": "stdout",
     "output_type": "stream",
     "text": [
      "../DVUChallenge/dev_dataset/scenes_knowledge_graphs/Valkaama-1.json\n",
      "../DVUChallenge/dev_dataset/scenes_knowledge_graphs/Valkaama-2.json\n",
      "../DVUChallenge/dev_dataset/scenes_knowledge_graphs/Valkaama-3.json\n",
      "../DVUChallenge/dev_dataset/scenes_knowledge_graphs/Valkaama-4.json\n",
      "../DVUChallenge/dev_dataset/scenes_knowledge_graphs/Valkaama-5.json\n",
      "../DVUChallenge/dev_dataset/scenes_knowledge_graphs/Valkaama-6.json\n",
      "../DVUChallenge/dev_dataset/scenes_knowledge_graphs/Valkaama-7.json\n",
      "../DVUChallenge/dev_dataset/scenes_knowledge_graphs/Valkaama-8.json\n",
      "../DVUChallenge/dev_dataset/scenes_knowledge_graphs/Valkaama-9.json\n",
      "../DVUChallenge/dev_dataset/scenes_knowledge_graphs/Valkaama-10.json\n",
      "../DVUChallenge/dev_dataset/scenes_knowledge_graphs/Valkaama-11.json\n",
      "../DVUChallenge/dev_dataset/scenes_knowledge_graphs/Valkaama-12.json\n",
      "../DVUChallenge/dev_dataset/scenes_knowledge_graphs/Valkaama-13.json\n",
      "../DVUChallenge/dev_dataset/scenes_knowledge_graphs/Valkaama-14.json\n",
      "../DVUChallenge/dev_dataset/scenes_knowledge_graphs/Valkaama-15.json\n",
      "../DVUChallenge/dev_dataset/scenes_knowledge_graphs/Valkaama-16.json\n",
      "../DVUChallenge/dev_dataset/scenes_knowledge_graphs/Valkaama-17.json\n",
      "../DVUChallenge/dev_dataset/scenes_knowledge_graphs/Valkaama-18.json\n",
      "../DVUChallenge/dev_dataset/scenes_knowledge_graphs/Valkaama-19.json\n",
      "../DVUChallenge/dev_dataset/scenes_knowledge_graphs/Valkaama-20.json\n",
      "../DVUChallenge/dev_dataset/scenes_knowledge_graphs/Valkaama-21.json\n",
      "../DVUChallenge/dev_dataset/scenes_knowledge_graphs/Valkaama-22.json\n",
      "../DVUChallenge/dev_dataset/scenes_knowledge_graphs/Valkaama-23.json\n",
      "../DVUChallenge/dev_dataset/scenes_knowledge_graphs/Valkaama-24.json\n"
     ]
    },
    {
     "name": "stderr",
     "output_type": "stream",
     "text": [
      "\n",
      " 53%|█████▎    | 24/45 [00:00<00:00, 232.56it/s]\u001b[A"
     ]
    },
    {
     "name": "stdout",
     "output_type": "stream",
     "text": [
      "../DVUChallenge/dev_dataset/scenes_knowledge_graphs/Valkaama-25.json\n",
      "../DVUChallenge/dev_dataset/scenes_knowledge_graphs/Valkaama-26.json\n",
      "../DVUChallenge/dev_dataset/scenes_knowledge_graphs/Valkaama-27.json\n",
      "../DVUChallenge/dev_dataset/scenes_knowledge_graphs/Valkaama-28.json\n",
      "../DVUChallenge/dev_dataset/scenes_knowledge_graphs/Valkaama-29.json\n",
      "../DVUChallenge/dev_dataset/scenes_knowledge_graphs/Valkaama-30.json\n",
      "../DVUChallenge/dev_dataset/scenes_knowledge_graphs/Valkaama-31.json\n",
      "../DVUChallenge/dev_dataset/scenes_knowledge_graphs/Valkaama-32.json\n",
      "../DVUChallenge/dev_dataset/scenes_knowledge_graphs/Valkaama-33.json\n",
      "../DVUChallenge/dev_dataset/scenes_knowledge_graphs/Valkaama-34.json\n",
      "../DVUChallenge/dev_dataset/scenes_knowledge_graphs/Valkaama-35.json\n",
      "../DVUChallenge/dev_dataset/scenes_knowledge_graphs/Valkaama-36.json\n",
      "../DVUChallenge/dev_dataset/scenes_knowledge_graphs/Valkaama-37.json\n",
      "../DVUChallenge/dev_dataset/scenes_knowledge_graphs/Valkaama-38.json\n",
      "../DVUChallenge/dev_dataset/scenes_knowledge_graphs/Valkaama-39.json\n",
      "../DVUChallenge/dev_dataset/scenes_knowledge_graphs/Valkaama-40.json\n",
      "../DVUChallenge/dev_dataset/scenes_knowledge_graphs/Valkaama-41.json\n",
      "../DVUChallenge/dev_dataset/scenes_knowledge_graphs/Valkaama-42.json\n"
     ]
    },
    {
     "name": "stderr",
     "output_type": "stream",
     "text": [
      "100%|██████████| 45/45 [00:00<00:00, 209.06it/s]\n",
      " 21%|██▏       | 3/14 [00:00<00:02,  4.90it/s]"
     ]
    },
    {
     "name": "stdout",
     "output_type": "stream",
     "text": [
      "../DVUChallenge/dev_dataset/scenes_knowledge_graphs/Valkaama-43.json\n",
      "../DVUChallenge/dev_dataset/scenes_knowledge_graphs/Valkaama-44.json\n",
      "../DVUChallenge/dev_dataset/scenes_knowledge_graphs/Valkaama-45.json\n",
      "honey\n"
     ]
    },
    {
     "name": "stderr",
     "output_type": "stream",
     "text": [
      "\n",
      "  0%|          | 0/23 [00:00<?, ?it/s]\u001b[A"
     ]
    },
    {
     "name": "stdout",
     "output_type": "stream",
     "text": [
      "../DVUChallenge/dev_dataset/scenes_knowledge_graphs/honey-1.json\n",
      "../DVUChallenge/dev_dataset/scenes_knowledge_graphs/honey-2.json\n",
      "../DVUChallenge/dev_dataset/scenes_knowledge_graphs/honey-3.json\n",
      "../DVUChallenge/dev_dataset/scenes_knowledge_graphs/honey-4.json\n",
      "../DVUChallenge/dev_dataset/scenes_knowledge_graphs/honey-5.json\n",
      "../DVUChallenge/dev_dataset/scenes_knowledge_graphs/honey-6.json\n",
      "../DVUChallenge/dev_dataset/scenes_knowledge_graphs/honey-7.json\n",
      "../DVUChallenge/dev_dataset/scenes_knowledge_graphs/honey-8.json\n",
      "../DVUChallenge/dev_dataset/scenes_knowledge_graphs/honey-9.json\n",
      "../DVUChallenge/dev_dataset/scenes_knowledge_graphs/honey-10.json\n",
      "../DVUChallenge/dev_dataset/scenes_knowledge_graphs/honey-11.json\n",
      "../DVUChallenge/dev_dataset/scenes_knowledge_graphs/honey-12.json\n",
      "../DVUChallenge/dev_dataset/scenes_knowledge_graphs/honey-13.json\n",
      "../DVUChallenge/dev_dataset/scenes_knowledge_graphs/honey-14.json\n",
      "../DVUChallenge/dev_dataset/scenes_knowledge_graphs/honey-15.json\n",
      "../DVUChallenge/dev_dataset/scenes_knowledge_graphs/honey-16.json\n"
     ]
    },
    {
     "name": "stderr",
     "output_type": "stream",
     "text": [
      "100%|██████████| 23/23 [00:00<00:00, 310.81it/s]\n"
     ]
    },
    {
     "name": "stdout",
     "output_type": "stream",
     "text": [
      "../DVUChallenge/dev_dataset/scenes_knowledge_graphs/honey-17.json\n",
      "../DVUChallenge/dev_dataset/scenes_knowledge_graphs/honey-18.json\n",
      "../DVUChallenge/dev_dataset/scenes_knowledge_graphs/honey-19.json\n",
      "../DVUChallenge/dev_dataset/scenes_knowledge_graphs/honey-20.json\n",
      "../DVUChallenge/dev_dataset/scenes_knowledge_graphs/honey-21.json\n",
      "../DVUChallenge/dev_dataset/scenes_knowledge_graphs/honey-22.json\n",
      "../DVUChallenge/dev_dataset/scenes_knowledge_graphs/honey-23.json\n",
      "The_Illusionist\n"
     ]
    },
    {
     "name": "stderr",
     "output_type": "stream",
     "text": [
      "\n",
      "  0%|          | 0/47 [00:00<?, ?it/s]\u001b[A"
     ]
    },
    {
     "name": "stdout",
     "output_type": "stream",
     "text": [
      "../DVUChallenge/dev_dataset/scenes_knowledge_graphs/The_Illusionist-1.json\n",
      "../DVUChallenge/dev_dataset/scenes_knowledge_graphs/The_Illusionist-2.json\n",
      "../DVUChallenge/dev_dataset/scenes_knowledge_graphs/The_Illusionist-3.json\n"
     ]
    },
    {
     "name": "stderr",
     "output_type": "stream",
     "text": [
      "\n",
      " 64%|██████▍   | 30/47 [00:00<00:00, 298.32it/s]\u001b[A"
     ]
    },
    {
     "name": "stdout",
     "output_type": "stream",
     "text": [
      "../DVUChallenge/dev_dataset/scenes_knowledge_graphs/The_Illusionist-4.json\n",
      "../DVUChallenge/dev_dataset/scenes_knowledge_graphs/The_Illusionist-5.json\n",
      "../DVUChallenge/dev_dataset/scenes_knowledge_graphs/The_Illusionist-6.json\n",
      "../DVUChallenge/dev_dataset/scenes_knowledge_graphs/The_Illusionist-7.json\n",
      "../DVUChallenge/dev_dataset/scenes_knowledge_graphs/The_Illusionist-8.json\n",
      "../DVUChallenge/dev_dataset/scenes_knowledge_graphs/The_Illusionist-9.json\n",
      "../DVUChallenge/dev_dataset/scenes_knowledge_graphs/The_Illusionist-10.json\n",
      "../DVUChallenge/dev_dataset/scenes_knowledge_graphs/The_Illusionist-11.json\n",
      "../DVUChallenge/dev_dataset/scenes_knowledge_graphs/The_Illusionist-12.json\n",
      "../DVUChallenge/dev_dataset/scenes_knowledge_graphs/The_Illusionist-13.json\n",
      "../DVUChallenge/dev_dataset/scenes_knowledge_graphs/The_Illusionist-14.json\n",
      "../DVUChallenge/dev_dataset/scenes_knowledge_graphs/The_Illusionist-15.json\n",
      "../DVUChallenge/dev_dataset/scenes_knowledge_graphs/The_Illusionist-16.json\n",
      "../DVUChallenge/dev_dataset/scenes_knowledge_graphs/The_Illusionist-17.json\n",
      "../DVUChallenge/dev_dataset/scenes_knowledge_graphs/The_Illusionist-18.json\n",
      "../DVUChallenge/dev_dataset/scenes_knowledge_graphs/The_Illusionist-19.json\n",
      "../DVUChallenge/dev_dataset/scenes_knowledge_graphs/The_Illusionist-20.json\n",
      "../DVUChallenge/dev_dataset/scenes_knowledge_graphs/The_Illusionist-21.json\n",
      "../DVUChallenge/dev_dataset/scenes_knowledge_graphs/The_Illusionist-22.json\n",
      "../DVUChallenge/dev_dataset/scenes_knowledge_graphs/The_Illusionist-23.json\n",
      "../DVUChallenge/dev_dataset/scenes_knowledge_graphs/The_Illusionist-24.json\n",
      "../DVUChallenge/dev_dataset/scenes_knowledge_graphs/The_Illusionist-25.json\n",
      "../DVUChallenge/dev_dataset/scenes_knowledge_graphs/The_Illusionist-26.json\n",
      "../DVUChallenge/dev_dataset/scenes_knowledge_graphs/The_Illusionist-27.json\n",
      "../DVUChallenge/dev_dataset/scenes_knowledge_graphs/The_Illusionist-28.json\n",
      "../DVUChallenge/dev_dataset/scenes_knowledge_graphs/The_Illusionist-29.json\n",
      "../DVUChallenge/dev_dataset/scenes_knowledge_graphs/The_Illusionist-30.json\n",
      "../DVUChallenge/dev_dataset/scenes_knowledge_graphs/The_Illusionist-31.json\n",
      "../DVUChallenge/dev_dataset/scenes_knowledge_graphs/The_Illusionist-32.json\n",
      "../DVUChallenge/dev_dataset/scenes_knowledge_graphs/The_Illusionist-33.json\n",
      "../DVUChallenge/dev_dataset/scenes_knowledge_graphs/The_Illusionist-34.json\n",
      "../DVUChallenge/dev_dataset/scenes_knowledge_graphs/The_Illusionist-35.json\n",
      "../DVUChallenge/dev_dataset/scenes_knowledge_graphs/The_Illusionist-36.json\n",
      "../DVUChallenge/dev_dataset/scenes_knowledge_graphs/The_Illusionist-37.json\n",
      "../DVUChallenge/dev_dataset/scenes_knowledge_graphs/The_Illusionist-38.json\n",
      "../DVUChallenge/dev_dataset/scenes_knowledge_graphs/The_Illusionist-39.json\n"
     ]
    },
    {
     "name": "stderr",
     "output_type": "stream",
     "text": [
      "100%|██████████| 47/47 [00:00<00:00, 325.21it/s]\n",
      " 36%|███▌      | 5/14 [00:00<00:01,  6.56it/s]"
     ]
    },
    {
     "name": "stdout",
     "output_type": "stream",
     "text": [
      "../DVUChallenge/dev_dataset/scenes_knowledge_graphs/The_Illusionist-40.json\n",
      "../DVUChallenge/dev_dataset/scenes_knowledge_graphs/The_Illusionist-41.json\n",
      "../DVUChallenge/dev_dataset/scenes_knowledge_graphs/The_Illusionist-42.json\n",
      "../DVUChallenge/dev_dataset/scenes_knowledge_graphs/The_Illusionist-43.json\n",
      "../DVUChallenge/dev_dataset/scenes_knowledge_graphs/The_Illusionist-44.json\n",
      "../DVUChallenge/dev_dataset/scenes_knowledge_graphs/The_Illusionist-45.json\n",
      "../DVUChallenge/dev_dataset/scenes_knowledge_graphs/The_Illusionist-46.json\n",
      "../DVUChallenge/dev_dataset/scenes_knowledge_graphs/The_Illusionist-47.json\n",
      "time_expired\n"
     ]
    },
    {
     "name": "stderr",
     "output_type": "stream",
     "text": [
      "\n",
      "  0%|          | 0/75 [00:00<?, ?it/s]\u001b[A"
     ]
    },
    {
     "name": "stdout",
     "output_type": "stream",
     "text": [
      "../DVUChallenge/dev_dataset/scenes_knowledge_graphs/time_expired-1.json\n",
      "../DVUChallenge/dev_dataset/scenes_knowledge_graphs/time_expired-2.json\n",
      "../DVUChallenge/dev_dataset/scenes_knowledge_graphs/time_expired-3.json\n",
      "../DVUChallenge/dev_dataset/scenes_knowledge_graphs/time_expired-4.json\n",
      "../DVUChallenge/dev_dataset/scenes_knowledge_graphs/time_expired-5.json\n",
      "../DVUChallenge/dev_dataset/scenes_knowledge_graphs/time_expired-6.json\n",
      "../DVUChallenge/dev_dataset/scenes_knowledge_graphs/time_expired-7.json\n",
      "../DVUChallenge/dev_dataset/scenes_knowledge_graphs/time_expired-8.json\n",
      "../DVUChallenge/dev_dataset/scenes_knowledge_graphs/time_expired-9.json\n",
      "../DVUChallenge/dev_dataset/scenes_knowledge_graphs/time_expired-10.json\n",
      "../DVUChallenge/dev_dataset/scenes_knowledge_graphs/time_expired-11.json\n",
      "../DVUChallenge/dev_dataset/scenes_knowledge_graphs/time_expired-12.json\n",
      "../DVUChallenge/dev_dataset/scenes_knowledge_graphs/time_expired-13.json\n",
      "../DVUChallenge/dev_dataset/scenes_knowledge_graphs/time_expired-14.json\n",
      "../DVUChallenge/dev_dataset/scenes_knowledge_graphs/time_expired-15.json\n",
      "../DVUChallenge/dev_dataset/scenes_knowledge_graphs/time_expired-16.json\n",
      "../DVUChallenge/dev_dataset/scenes_knowledge_graphs/time_expired-17.json\n",
      "../DVUChallenge/dev_dataset/scenes_knowledge_graphs/time_expired-18.json\n",
      "../DVUChallenge/dev_dataset/scenes_knowledge_graphs/time_expired-19.json\n",
      "../DVUChallenge/dev_dataset/scenes_knowledge_graphs/time_expired-20.json\n",
      "../DVUChallenge/dev_dataset/scenes_knowledge_graphs/time_expired-21.json\n",
      "../DVUChallenge/dev_dataset/scenes_knowledge_graphs/time_expired-22.json\n",
      "../DVUChallenge/dev_dataset/scenes_knowledge_graphs/time_expired-23.json\n",
      "../DVUChallenge/dev_dataset/scenes_knowledge_graphs/time_expired-24.json\n",
      "../DVUChallenge/dev_dataset/scenes_knowledge_graphs/time_expired-25.json\n"
     ]
    },
    {
     "name": "stderr",
     "output_type": "stream",
     "text": [
      "\n",
      " 56%|█████▌    | 42/75 [00:00<00:00, 409.73it/s]\u001b[A"
     ]
    },
    {
     "name": "stdout",
     "output_type": "stream",
     "text": [
      "../DVUChallenge/dev_dataset/scenes_knowledge_graphs/time_expired-26.json\n",
      "../DVUChallenge/dev_dataset/scenes_knowledge_graphs/time_expired-27.json\n",
      "../DVUChallenge/dev_dataset/scenes_knowledge_graphs/time_expired-28.json\n",
      "../DVUChallenge/dev_dataset/scenes_knowledge_graphs/time_expired-29.json\n",
      "../DVUChallenge/dev_dataset/scenes_knowledge_graphs/time_expired-30.json\n",
      "../DVUChallenge/dev_dataset/scenes_knowledge_graphs/time_expired-31.json\n",
      "../DVUChallenge/dev_dataset/scenes_knowledge_graphs/time_expired-32.json\n",
      "../DVUChallenge/dev_dataset/scenes_knowledge_graphs/time_expired-33.json\n",
      "../DVUChallenge/dev_dataset/scenes_knowledge_graphs/time_expired-34.json\n",
      "../DVUChallenge/dev_dataset/scenes_knowledge_graphs/time_expired-35.json\n",
      "../DVUChallenge/dev_dataset/scenes_knowledge_graphs/time_expired-36.json\n",
      "../DVUChallenge/dev_dataset/scenes_knowledge_graphs/time_expired-37.json\n",
      "../DVUChallenge/dev_dataset/scenes_knowledge_graphs/time_expired-38.json\n",
      "../DVUChallenge/dev_dataset/scenes_knowledge_graphs/time_expired-39.json\n",
      "../DVUChallenge/dev_dataset/scenes_knowledge_graphs/time_expired-40.json\n",
      "../DVUChallenge/dev_dataset/scenes_knowledge_graphs/time_expired-41.json\n",
      "../DVUChallenge/dev_dataset/scenes_knowledge_graphs/time_expired-42.json\n",
      "../DVUChallenge/dev_dataset/scenes_knowledge_graphs/time_expired-43.json\n",
      "../DVUChallenge/dev_dataset/scenes_knowledge_graphs/time_expired-44.json\n",
      "../DVUChallenge/dev_dataset/scenes_knowledge_graphs/time_expired-45.json\n",
      "../DVUChallenge/dev_dataset/scenes_knowledge_graphs/time_expired-46.json\n",
      "../DVUChallenge/dev_dataset/scenes_knowledge_graphs/time_expired-47.json\n",
      "../DVUChallenge/dev_dataset/scenes_knowledge_graphs/time_expired-48.json\n",
      "../DVUChallenge/dev_dataset/scenes_knowledge_graphs/time_expired-49.json\n",
      "../DVUChallenge/dev_dataset/scenes_knowledge_graphs/time_expired-50.json\n",
      "../DVUChallenge/dev_dataset/scenes_knowledge_graphs/time_expired-51.json\n",
      "../DVUChallenge/dev_dataset/scenes_knowledge_graphs/time_expired-52.json\n",
      "../DVUChallenge/dev_dataset/scenes_knowledge_graphs/time_expired-53.json\n",
      "../DVUChallenge/dev_dataset/scenes_knowledge_graphs/time_expired-54.json\n",
      "../DVUChallenge/dev_dataset/scenes_knowledge_graphs/time_expired-55.json\n",
      "../DVUChallenge/dev_dataset/scenes_knowledge_graphs/time_expired-56.json\n",
      "../DVUChallenge/dev_dataset/scenes_knowledge_graphs/time_expired-57.json\n",
      "../DVUChallenge/dev_dataset/scenes_knowledge_graphs/time_expired-58.json\n",
      "../DVUChallenge/dev_dataset/scenes_knowledge_graphs/time_expired-59.json\n",
      "../DVUChallenge/dev_dataset/scenes_knowledge_graphs/time_expired-60.json\n",
      "../DVUChallenge/dev_dataset/scenes_knowledge_graphs/time_expired-61.json\n",
      "../DVUChallenge/dev_dataset/scenes_knowledge_graphs/time_expired-62.json\n",
      "../DVUChallenge/dev_dataset/scenes_knowledge_graphs/time_expired-63.json\n",
      "../DVUChallenge/dev_dataset/scenes_knowledge_graphs/time_expired-64.json\n",
      "../DVUChallenge/dev_dataset/scenes_knowledge_graphs/time_expired-65.json\n",
      "../DVUChallenge/dev_dataset/scenes_knowledge_graphs/time_expired-66.json\n",
      "../DVUChallenge/dev_dataset/scenes_knowledge_graphs/time_expired-67.json\n"
     ]
    },
    {
     "name": "stderr",
     "output_type": "stream",
     "text": [
      "100%|██████████| 75/75 [00:00<00:00, 377.64it/s]\n",
      " 43%|████▎     | 6/14 [00:01<00:01,  6.00it/s]"
     ]
    },
    {
     "name": "stdout",
     "output_type": "stream",
     "text": [
      "../DVUChallenge/dev_dataset/scenes_knowledge_graphs/time_expired-68.json\n",
      "../DVUChallenge/dev_dataset/scenes_knowledge_graphs/time_expired-69.json\n",
      "../DVUChallenge/dev_dataset/scenes_knowledge_graphs/time_expired-70.json\n",
      "../DVUChallenge/dev_dataset/scenes_knowledge_graphs/time_expired-71.json\n",
      "../DVUChallenge/dev_dataset/scenes_knowledge_graphs/time_expired-72.json\n",
      "../DVUChallenge/dev_dataset/scenes_knowledge_graphs/time_expired-73.json\n",
      "../DVUChallenge/dev_dataset/scenes_knowledge_graphs/time_expired-74.json\n",
      "../DVUChallenge/dev_dataset/scenes_knowledge_graphs/time_expired-75.json\n",
      "shooters\n"
     ]
    },
    {
     "name": "stderr",
     "output_type": "stream",
     "text": [
      "\n",
      "  0%|          | 0/20 [00:00<?, ?it/s]\u001b[A"
     ]
    },
    {
     "name": "stdout",
     "output_type": "stream",
     "text": [
      "../DVUChallenge/dev_dataset/scenes_knowledge_graphs/shooters-1.json\n",
      "../DVUChallenge/dev_dataset/scenes_knowledge_graphs/shooters-2.json\n",
      "../DVUChallenge/dev_dataset/scenes_knowledge_graphs/shooters-3.json\n",
      "../DVUChallenge/dev_dataset/scenes_knowledge_graphs/shooters-4.json\n",
      "../DVUChallenge/dev_dataset/scenes_knowledge_graphs/shooters-5.json\n",
      "../DVUChallenge/dev_dataset/scenes_knowledge_graphs/shooters-6.json\n",
      "../DVUChallenge/dev_dataset/scenes_knowledge_graphs/shooters-7.json\n",
      "../DVUChallenge/dev_dataset/scenes_knowledge_graphs/shooters-8.json\n",
      "../DVUChallenge/dev_dataset/scenes_knowledge_graphs/shooters-9.json\n",
      "../DVUChallenge/dev_dataset/scenes_knowledge_graphs/shooters-10.json\n",
      "../DVUChallenge/dev_dataset/scenes_knowledge_graphs/shooters-11.json\n",
      "../DVUChallenge/dev_dataset/scenes_knowledge_graphs/shooters-12.json\n",
      "../DVUChallenge/dev_dataset/scenes_knowledge_graphs/shooters-13.json\n"
     ]
    },
    {
     "name": "stderr",
     "output_type": "stream",
     "text": [
      "\r",
      "100%|██████████| 20/20 [00:00<00:00, 389.26it/s]"
     ]
    },
    {
     "name": "stdout",
     "output_type": "stream",
     "text": [
      "../DVUChallenge/dev_dataset/scenes_knowledge_graphs/shooters-14.json\n",
      "../DVUChallenge/dev_dataset/scenes_knowledge_graphs/shooters-15.json\n",
      "../DVUChallenge/dev_dataset/scenes_knowledge_graphs/shooters-16.json\n",
      "../DVUChallenge/dev_dataset/scenes_knowledge_graphs/shooters-17.json\n",
      "../DVUChallenge/dev_dataset/scenes_knowledge_graphs/shooters-18.json\n",
      "../DVUChallenge/dev_dataset/scenes_knowledge_graphs/shooters-19.json\n",
      "../DVUChallenge/dev_dataset/scenes_knowledge_graphs/shooters-20.json\n"
     ]
    },
    {
     "name": "stderr",
     "output_type": "stream",
     "text": [
      "\n"
     ]
    },
    {
     "name": "stdout",
     "output_type": "stream",
     "text": [
      "SuperHero\n"
     ]
    },
    {
     "name": "stderr",
     "output_type": "stream",
     "text": [
      "\n",
      "  0%|          | 0/10 [00:00<?, ?it/s]\u001b[A"
     ]
    },
    {
     "name": "stdout",
     "output_type": "stream",
     "text": [
      "../DVUChallenge/dev_dataset/scenes_knowledge_graphs/SuperHero-1.json\n",
      "../DVUChallenge/dev_dataset/scenes_knowledge_graphs/SuperHero-2.json\n",
      "../DVUChallenge/dev_dataset/scenes_knowledge_graphs/SuperHero-3.json\n"
     ]
    },
    {
     "name": "stderr",
     "output_type": "stream",
     "text": [
      "100%|██████████| 10/10 [00:00<00:00, 433.45it/s]\n"
     ]
    },
    {
     "name": "stdout",
     "output_type": "stream",
     "text": [
      "../DVUChallenge/dev_dataset/scenes_knowledge_graphs/SuperHero-4.json\n",
      "../DVUChallenge/dev_dataset/scenes_knowledge_graphs/SuperHero-5.json\n",
      "../DVUChallenge/dev_dataset/scenes_knowledge_graphs/SuperHero-6.json\n",
      "../DVUChallenge/dev_dataset/scenes_knowledge_graphs/SuperHero-7.json\n",
      "../DVUChallenge/dev_dataset/scenes_knowledge_graphs/SuperHero-8.json\n",
      "../DVUChallenge/dev_dataset/scenes_knowledge_graphs/SuperHero-9.json\n",
      "../DVUChallenge/dev_dataset/scenes_knowledge_graphs/SuperHero-10.json\n",
      "Huckleberry_Finn\n"
     ]
    },
    {
     "name": "stderr",
     "output_type": "stream",
     "text": [
      "\n",
      "  0%|          | 0/59 [00:00<?, ?it/s]\u001b[A"
     ]
    },
    {
     "name": "stdout",
     "output_type": "stream",
     "text": [
      "../DVUChallenge/dev_dataset/scenes_knowledge_graphs/Huckleberry_Finn-1.json\n",
      "../DVUChallenge/dev_dataset/scenes_knowledge_graphs/Huckleberry_Finn-2.json\n",
      "../DVUChallenge/dev_dataset/scenes_knowledge_graphs/Huckleberry_Finn-3.json\n",
      "../DVUChallenge/dev_dataset/scenes_knowledge_graphs/Huckleberry_Finn-4.json\n",
      "../DVUChallenge/dev_dataset/scenes_knowledge_graphs/Huckleberry_Finn-5.json\n",
      "../DVUChallenge/dev_dataset/scenes_knowledge_graphs/Huckleberry_Finn-6.json\n",
      "../DVUChallenge/dev_dataset/scenes_knowledge_graphs/Huckleberry_Finn-7.json\n",
      "../DVUChallenge/dev_dataset/scenes_knowledge_graphs/Huckleberry_Finn-8.json\n",
      "../DVUChallenge/dev_dataset/scenes_knowledge_graphs/Huckleberry_Finn-9.json\n",
      "../DVUChallenge/dev_dataset/scenes_knowledge_graphs/Huckleberry_Finn-10.json\n",
      "../DVUChallenge/dev_dataset/scenes_knowledge_graphs/Huckleberry_Finn-11.json\n",
      "../DVUChallenge/dev_dataset/scenes_knowledge_graphs/Huckleberry_Finn-12.json\n",
      "../DVUChallenge/dev_dataset/scenes_knowledge_graphs/Huckleberry_Finn-13.json\n",
      "../DVUChallenge/dev_dataset/scenes_knowledge_graphs/Huckleberry_Finn-14.json\n",
      "../DVUChallenge/dev_dataset/scenes_knowledge_graphs/Huckleberry_Finn-15.json\n",
      "../DVUChallenge/dev_dataset/scenes_knowledge_graphs/Huckleberry_Finn-16.json\n",
      "../DVUChallenge/dev_dataset/scenes_knowledge_graphs/Huckleberry_Finn-17.json\n",
      "../DVUChallenge/dev_dataset/scenes_knowledge_graphs/Huckleberry_Finn-18.json\n",
      "../DVUChallenge/dev_dataset/scenes_knowledge_graphs/Huckleberry_Finn-19.json\n",
      "../DVUChallenge/dev_dataset/scenes_knowledge_graphs/Huckleberry_Finn-20.json\n",
      "../DVUChallenge/dev_dataset/scenes_knowledge_graphs/Huckleberry_Finn-21.json\n",
      "../DVUChallenge/dev_dataset/scenes_knowledge_graphs/Huckleberry_Finn-22.json\n",
      "../DVUChallenge/dev_dataset/scenes_knowledge_graphs/Huckleberry_Finn-23.json\n",
      "../DVUChallenge/dev_dataset/scenes_knowledge_graphs/Huckleberry_Finn-24.json\n",
      "../DVUChallenge/dev_dataset/scenes_knowledge_graphs/Huckleberry_Finn-25.json\n",
      "../DVUChallenge/dev_dataset/scenes_knowledge_graphs/Huckleberry_Finn-26.json\n",
      "../DVUChallenge/dev_dataset/scenes_knowledge_graphs/Huckleberry_Finn-27.json\n",
      "../DVUChallenge/dev_dataset/scenes_knowledge_graphs/Huckleberry_Finn-28.json\n",
      "../DVUChallenge/dev_dataset/scenes_knowledge_graphs/Huckleberry_Finn-29.json\n",
      "../DVUChallenge/dev_dataset/scenes_knowledge_graphs/Huckleberry_Finn-30.json\n",
      "../DVUChallenge/dev_dataset/scenes_knowledge_graphs/Huckleberry_Finn-31.json\n",
      "../DVUChallenge/dev_dataset/scenes_knowledge_graphs/Huckleberry_Finn-32.json\n",
      "../DVUChallenge/dev_dataset/scenes_knowledge_graphs/Huckleberry_Finn-33.json\n",
      "../DVUChallenge/dev_dataset/scenes_knowledge_graphs/Huckleberry_Finn-34.json\n",
      "../DVUChallenge/dev_dataset/scenes_knowledge_graphs/Huckleberry_Finn-35.json\n",
      "../DVUChallenge/dev_dataset/scenes_knowledge_graphs/Huckleberry_Finn-36.json\n",
      "../DVUChallenge/dev_dataset/scenes_knowledge_graphs/Huckleberry_Finn-37.json\n",
      "../DVUChallenge/dev_dataset/scenes_knowledge_graphs/Huckleberry_Finn-38.json\n",
      "../DVUChallenge/dev_dataset/scenes_knowledge_graphs/Huckleberry_Finn-39.json\n",
      "../DVUChallenge/dev_dataset/scenes_knowledge_graphs/Huckleberry_Finn-40.json\n",
      "../DVUChallenge/dev_dataset/scenes_knowledge_graphs/Huckleberry_Finn-41.json\n",
      "../DVUChallenge/dev_dataset/scenes_knowledge_graphs/Huckleberry_Finn-42.json\n",
      "../DVUChallenge/dev_dataset/scenes_knowledge_graphs/Huckleberry_Finn-43.json\n",
      "../DVUChallenge/dev_dataset/scenes_knowledge_graphs/Huckleberry_Finn-44.json\n",
      "../DVUChallenge/dev_dataset/scenes_knowledge_graphs/Huckleberry_Finn-45.json\n"
     ]
    },
    {
     "name": "stderr",
     "output_type": "stream",
     "text": [
      "\n",
      " 80%|███████▉  | 47/59 [00:00<00:00, 460.22it/s]\u001b[A"
     ]
    },
    {
     "name": "stdout",
     "output_type": "stream",
     "text": [
      "../DVUChallenge/dev_dataset/scenes_knowledge_graphs/Huckleberry_Finn-46.json\n",
      "../DVUChallenge/dev_dataset/scenes_knowledge_graphs/Huckleberry_Finn-47.json\n",
      "../DVUChallenge/dev_dataset/scenes_knowledge_graphs/Huckleberry_Finn-48.json\n",
      "../DVUChallenge/dev_dataset/scenes_knowledge_graphs/Huckleberry_Finn-49.json\n",
      "../DVUChallenge/dev_dataset/scenes_knowledge_graphs/Huckleberry_Finn-50.json\n",
      "../DVUChallenge/dev_dataset/scenes_knowledge_graphs/Huckleberry_Finn-51.json\n",
      "../DVUChallenge/dev_dataset/scenes_knowledge_graphs/Huckleberry_Finn-52.json\n",
      "../DVUChallenge/dev_dataset/scenes_knowledge_graphs/Huckleberry_Finn-53.json\n"
     ]
    },
    {
     "name": "stderr",
     "output_type": "stream",
     "text": [
      "100%|██████████| 59/59 [00:00<00:00, 437.07it/s]\n",
      " 64%|██████▍   | 9/14 [00:01<00:00,  8.69it/s]"
     ]
    },
    {
     "name": "stdout",
     "output_type": "stream",
     "text": [
      "../DVUChallenge/dev_dataset/scenes_knowledge_graphs/Huckleberry_Finn-54.json\n",
      "../DVUChallenge/dev_dataset/scenes_knowledge_graphs/Huckleberry_Finn-55.json\n",
      "../DVUChallenge/dev_dataset/scenes_knowledge_graphs/Huckleberry_Finn-56.json\n",
      "../DVUChallenge/dev_dataset/scenes_knowledge_graphs/Huckleberry_Finn-57.json\n",
      "../DVUChallenge/dev_dataset/scenes_knowledge_graphs/Huckleberry_Finn-58.json\n",
      "../DVUChallenge/dev_dataset/scenes_knowledge_graphs/Huckleberry_Finn-59.json\n",
      "Road_To_Bali\n"
     ]
    },
    {
     "name": "stderr",
     "output_type": "stream",
     "text": [
      "\n",
      "  0%|          | 0/47 [00:00<?, ?it/s]\u001b[A"
     ]
    },
    {
     "name": "stdout",
     "output_type": "stream",
     "text": [
      "../DVUChallenge/dev_dataset/scenes_knowledge_graphs/Road_To_Bali-1.json\n",
      "../DVUChallenge/dev_dataset/scenes_knowledge_graphs/Road_To_Bali-2.json\n",
      "../DVUChallenge/dev_dataset/scenes_knowledge_graphs/Road_To_Bali-3.json\n",
      "../DVUChallenge/dev_dataset/scenes_knowledge_graphs/Road_To_Bali-4.json\n",
      "../DVUChallenge/dev_dataset/scenes_knowledge_graphs/Road_To_Bali-5.json\n",
      "../DVUChallenge/dev_dataset/scenes_knowledge_graphs/Road_To_Bali-6.json\n",
      "../DVUChallenge/dev_dataset/scenes_knowledge_graphs/Road_To_Bali-7.json\n",
      "../DVUChallenge/dev_dataset/scenes_knowledge_graphs/Road_To_Bali-8.json\n",
      "../DVUChallenge/dev_dataset/scenes_knowledge_graphs/Road_To_Bali-9.json\n",
      "../DVUChallenge/dev_dataset/scenes_knowledge_graphs/Road_To_Bali-10.json\n",
      "../DVUChallenge/dev_dataset/scenes_knowledge_graphs/Road_To_Bali-11.json\n",
      "../DVUChallenge/dev_dataset/scenes_knowledge_graphs/Road_To_Bali-12.json\n",
      "../DVUChallenge/dev_dataset/scenes_knowledge_graphs/Road_To_Bali-13.json\n",
      "../DVUChallenge/dev_dataset/scenes_knowledge_graphs/Road_To_Bali-14.json\n",
      "../DVUChallenge/dev_dataset/scenes_knowledge_graphs/Road_To_Bali-15.json\n",
      "../DVUChallenge/dev_dataset/scenes_knowledge_graphs/Road_To_Bali-16.json\n",
      "../DVUChallenge/dev_dataset/scenes_knowledge_graphs/Road_To_Bali-17.json\n",
      "../DVUChallenge/dev_dataset/scenes_knowledge_graphs/Road_To_Bali-18.json\n",
      "../DVUChallenge/dev_dataset/scenes_knowledge_graphs/Road_To_Bali-19.json\n",
      "../DVUChallenge/dev_dataset/scenes_knowledge_graphs/Road_To_Bali-20.json\n",
      "../DVUChallenge/dev_dataset/scenes_knowledge_graphs/Road_To_Bali-21.json\n",
      "../DVUChallenge/dev_dataset/scenes_knowledge_graphs/Road_To_Bali-22.json\n",
      "../DVUChallenge/dev_dataset/scenes_knowledge_graphs/Road_To_Bali-23.json\n",
      "../DVUChallenge/dev_dataset/scenes_knowledge_graphs/Road_To_Bali-24.json\n",
      "../DVUChallenge/dev_dataset/scenes_knowledge_graphs/Road_To_Bali-25.json\n",
      "../DVUChallenge/dev_dataset/scenes_knowledge_graphs/Road_To_Bali-26.json\n"
     ]
    },
    {
     "name": "stderr",
     "output_type": "stream",
     "text": [
      "\n",
      "100%|██████████| 47/47 [00:00<00:00, 382.31it/s]\u001b[A\n",
      " 71%|███████▏  | 10/14 [00:01<00:00,  8.52it/s]"
     ]
    },
    {
     "name": "stdout",
     "output_type": "stream",
     "text": [
      "../DVUChallenge/dev_dataset/scenes_knowledge_graphs/Road_To_Bali-27.json\n",
      "../DVUChallenge/dev_dataset/scenes_knowledge_graphs/Road_To_Bali-28.json\n",
      "../DVUChallenge/dev_dataset/scenes_knowledge_graphs/Road_To_Bali-29.json\n",
      "../DVUChallenge/dev_dataset/scenes_knowledge_graphs/Road_To_Bali-30.json\n",
      "../DVUChallenge/dev_dataset/scenes_knowledge_graphs/Road_To_Bali-31.json\n",
      "../DVUChallenge/dev_dataset/scenes_knowledge_graphs/Road_To_Bali-32.json\n",
      "../DVUChallenge/dev_dataset/scenes_knowledge_graphs/Road_To_Bali-33.json\n",
      "../DVUChallenge/dev_dataset/scenes_knowledge_graphs/Road_To_Bali-34.json\n",
      "../DVUChallenge/dev_dataset/scenes_knowledge_graphs/Road_To_Bali-35.json\n",
      "../DVUChallenge/dev_dataset/scenes_knowledge_graphs/Road_To_Bali-36.json\n",
      "../DVUChallenge/dev_dataset/scenes_knowledge_graphs/Road_To_Bali-37.json\n",
      "../DVUChallenge/dev_dataset/scenes_knowledge_graphs/Road_To_Bali-38.json\n",
      "../DVUChallenge/dev_dataset/scenes_knowledge_graphs/Road_To_Bali-39.json\n",
      "../DVUChallenge/dev_dataset/scenes_knowledge_graphs/Road_To_Bali-40.json\n",
      "../DVUChallenge/dev_dataset/scenes_knowledge_graphs/Road_To_Bali-41.json\n",
      "../DVUChallenge/dev_dataset/scenes_knowledge_graphs/Road_To_Bali-42.json\n",
      "../DVUChallenge/dev_dataset/scenes_knowledge_graphs/Road_To_Bali-43.json\n",
      "../DVUChallenge/dev_dataset/scenes_knowledge_graphs/Road_To_Bali-44.json\n",
      "../DVUChallenge/dev_dataset/scenes_knowledge_graphs/Road_To_Bali-45.json\n",
      "../DVUChallenge/dev_dataset/scenes_knowledge_graphs/Road_To_Bali-46.json\n",
      "../DVUChallenge/dev_dataset/scenes_knowledge_graphs/Road_To_Bali-47.json\n",
      "sophie\n"
     ]
    },
    {
     "name": "stderr",
     "output_type": "stream",
     "text": [
      "\n",
      "  0%|          | 0/45 [00:00<?, ?it/s]\u001b[A"
     ]
    },
    {
     "name": "stdout",
     "output_type": "stream",
     "text": [
      "../DVUChallenge/dev_dataset/scenes_knowledge_graphs/sophie-1.json\n",
      "../DVUChallenge/dev_dataset/scenes_knowledge_graphs/sophie-2.json\n",
      "../DVUChallenge/dev_dataset/scenes_knowledge_graphs/sophie-3.json\n",
      "../DVUChallenge/dev_dataset/scenes_knowledge_graphs/sophie-4.json\n",
      "../DVUChallenge/dev_dataset/scenes_knowledge_graphs/sophie-5.json\n",
      "../DVUChallenge/dev_dataset/scenes_knowledge_graphs/sophie-6.json\n",
      "../DVUChallenge/dev_dataset/scenes_knowledge_graphs/sophie-7.json\n",
      "../DVUChallenge/dev_dataset/scenes_knowledge_graphs/sophie-8.json\n",
      "../DVUChallenge/dev_dataset/scenes_knowledge_graphs/sophie-9.json\n",
      "../DVUChallenge/dev_dataset/scenes_knowledge_graphs/sophie-10.json\n",
      "../DVUChallenge/dev_dataset/scenes_knowledge_graphs/sophie-11.json\n",
      "../DVUChallenge/dev_dataset/scenes_knowledge_graphs/sophie-12.json\n",
      "../DVUChallenge/dev_dataset/scenes_knowledge_graphs/sophie-13.json\n",
      "../DVUChallenge/dev_dataset/scenes_knowledge_graphs/sophie-14.json\n",
      "../DVUChallenge/dev_dataset/scenes_knowledge_graphs/sophie-15.json\n",
      "../DVUChallenge/dev_dataset/scenes_knowledge_graphs/sophie-16.json\n",
      "../DVUChallenge/dev_dataset/scenes_knowledge_graphs/sophie-17.json\n",
      "../DVUChallenge/dev_dataset/scenes_knowledge_graphs/sophie-18.json\n",
      "../DVUChallenge/dev_dataset/scenes_knowledge_graphs/sophie-19.json\n",
      "../DVUChallenge/dev_dataset/scenes_knowledge_graphs/sophie-20.json\n",
      "../DVUChallenge/dev_dataset/scenes_knowledge_graphs/sophie-21.json\n",
      "../DVUChallenge/dev_dataset/scenes_knowledge_graphs/sophie-22.json\n",
      "../DVUChallenge/dev_dataset/scenes_knowledge_graphs/sophie-23.json\n",
      "../DVUChallenge/dev_dataset/scenes_knowledge_graphs/sophie-24.json\n",
      "../DVUChallenge/dev_dataset/scenes_knowledge_graphs/sophie-25.json\n",
      "../DVUChallenge/dev_dataset/scenes_knowledge_graphs/sophie-26.json\n",
      "../DVUChallenge/dev_dataset/scenes_knowledge_graphs/sophie-27.json\n",
      "../DVUChallenge/dev_dataset/scenes_knowledge_graphs/sophie-28.json\n",
      "../DVUChallenge/dev_dataset/scenes_knowledge_graphs/sophie-29.json\n",
      "../DVUChallenge/dev_dataset/scenes_knowledge_graphs/sophie-30.json\n",
      "../DVUChallenge/dev_dataset/scenes_knowledge_graphs/sophie-31.json\n",
      "../DVUChallenge/dev_dataset/scenes_knowledge_graphs/sophie-32.json\n",
      "../DVUChallenge/dev_dataset/scenes_knowledge_graphs/sophie-33.json\n",
      "../DVUChallenge/dev_dataset/scenes_knowledge_graphs/sophie-34.json\n",
      "../DVUChallenge/dev_dataset/scenes_knowledge_graphs/sophie-35.json\n",
      "../DVUChallenge/dev_dataset/scenes_knowledge_graphs/sophie-36.json\n",
      "../DVUChallenge/dev_dataset/scenes_knowledge_graphs/sophie-37.json\n"
     ]
    },
    {
     "name": "stderr",
     "output_type": "stream",
     "text": [
      "\n",
      "100%|██████████| 45/45 [00:00<00:00, 434.42it/s]\u001b[A\n",
      " 79%|███████▊  | 11/14 [00:01<00:00,  8.69it/s]"
     ]
    },
    {
     "name": "stdout",
     "output_type": "stream",
     "text": [
      "../DVUChallenge/dev_dataset/scenes_knowledge_graphs/sophie-38.json\n",
      "../DVUChallenge/dev_dataset/scenes_knowledge_graphs/sophie-39.json\n",
      "../DVUChallenge/dev_dataset/scenes_knowledge_graphs/sophie-40.json\n",
      "../DVUChallenge/dev_dataset/scenes_knowledge_graphs/sophie-41.json\n",
      "../DVUChallenge/dev_dataset/scenes_knowledge_graphs/sophie-42.json\n",
      "../DVUChallenge/dev_dataset/scenes_knowledge_graphs/sophie-43.json\n",
      "../DVUChallenge/dev_dataset/scenes_knowledge_graphs/sophie-44.json\n",
      "../DVUChallenge/dev_dataset/scenes_knowledge_graphs/sophie-45.json\n",
      "Nuclear_Family\n"
     ]
    },
    {
     "name": "stderr",
     "output_type": "stream",
     "text": [
      "\n",
      "  0%|          | 0/16 [00:00<?, ?it/s]\u001b[A"
     ]
    },
    {
     "name": "stdout",
     "output_type": "stream",
     "text": [
      "../DVUChallenge/dev_dataset/scenes_knowledge_graphs/Nuclear_Family-1.json\n",
      "../DVUChallenge/dev_dataset/scenes_knowledge_graphs/Nuclear_Family-2.json\n",
      "../DVUChallenge/dev_dataset/scenes_knowledge_graphs/Nuclear_Family-3.json\n",
      "../DVUChallenge/dev_dataset/scenes_knowledge_graphs/Nuclear_Family-4.json\n",
      "../DVUChallenge/dev_dataset/scenes_knowledge_graphs/Nuclear_Family-5.json\n",
      "../DVUChallenge/dev_dataset/scenes_knowledge_graphs/Nuclear_Family-6.json\n",
      "../DVUChallenge/dev_dataset/scenes_knowledge_graphs/Nuclear_Family-7.json\n",
      "../DVUChallenge/dev_dataset/scenes_knowledge_graphs/Nuclear_Family-8.json\n",
      "../DVUChallenge/dev_dataset/scenes_knowledge_graphs/Nuclear_Family-9.json\n",
      "../DVUChallenge/dev_dataset/scenes_knowledge_graphs/Nuclear_Family-10.json\n",
      "../DVUChallenge/dev_dataset/scenes_knowledge_graphs/Nuclear_Family-11.json\n",
      "../DVUChallenge/dev_dataset/scenes_knowledge_graphs/Nuclear_Family-12.json\n",
      "../DVUChallenge/dev_dataset/scenes_knowledge_graphs/Nuclear_Family-13.json\n"
     ]
    },
    {
     "name": "stderr",
     "output_type": "stream",
     "text": [
      "100%|██████████| 16/16 [00:00<00:00, 413.59it/s]\n"
     ]
    },
    {
     "name": "stdout",
     "output_type": "stream",
     "text": [
      "../DVUChallenge/dev_dataset/scenes_knowledge_graphs/Nuclear_Family-14.json\n",
      "../DVUChallenge/dev_dataset/scenes_knowledge_graphs/Nuclear_Family-15.json\n",
      "../DVUChallenge/dev_dataset/scenes_knowledge_graphs/Nuclear_Family-16.json\n",
      "The_Big_Something\n"
     ]
    },
    {
     "name": "stderr",
     "output_type": "stream",
     "text": [
      "\n",
      "  0%|          | 0/66 [00:00<?, ?it/s]\u001b[A"
     ]
    },
    {
     "name": "stdout",
     "output_type": "stream",
     "text": [
      "../DVUChallenge/dev_dataset/scenes_knowledge_graphs/The_Big_Something-1.json\n",
      "../DVUChallenge/dev_dataset/scenes_knowledge_graphs/The_Big_Something-2.json\n",
      "../DVUChallenge/dev_dataset/scenes_knowledge_graphs/The_Big_Something-3.json\n",
      "../DVUChallenge/dev_dataset/scenes_knowledge_graphs/The_Big_Something-4.json\n",
      "../DVUChallenge/dev_dataset/scenes_knowledge_graphs/The_Big_Something-5.json\n",
      "../DVUChallenge/dev_dataset/scenes_knowledge_graphs/The_Big_Something-6.json\n",
      "../DVUChallenge/dev_dataset/scenes_knowledge_graphs/The_Big_Something-7.json\n",
      "../DVUChallenge/dev_dataset/scenes_knowledge_graphs/The_Big_Something-8.json\n",
      "../DVUChallenge/dev_dataset/scenes_knowledge_graphs/The_Big_Something-9.json\n",
      "../DVUChallenge/dev_dataset/scenes_knowledge_graphs/The_Big_Something-10.json\n",
      "../DVUChallenge/dev_dataset/scenes_knowledge_graphs/The_Big_Something-11.json\n",
      "../DVUChallenge/dev_dataset/scenes_knowledge_graphs/The_Big_Something-12.json\n",
      "../DVUChallenge/dev_dataset/scenes_knowledge_graphs/The_Big_Something-13.json\n",
      "../DVUChallenge/dev_dataset/scenes_knowledge_graphs/The_Big_Something-14.json\n",
      "../DVUChallenge/dev_dataset/scenes_knowledge_graphs/The_Big_Something-15.json\n",
      "../DVUChallenge/dev_dataset/scenes_knowledge_graphs/The_Big_Something-16.json\n",
      "../DVUChallenge/dev_dataset/scenes_knowledge_graphs/The_Big_Something-17.json\n",
      "../DVUChallenge/dev_dataset/scenes_knowledge_graphs/The_Big_Something-18.json\n",
      "../DVUChallenge/dev_dataset/scenes_knowledge_graphs/The_Big_Something-19.json\n",
      "../DVUChallenge/dev_dataset/scenes_knowledge_graphs/The_Big_Something-20.json\n",
      "../DVUChallenge/dev_dataset/scenes_knowledge_graphs/The_Big_Something-21.json\n",
      "../DVUChallenge/dev_dataset/scenes_knowledge_graphs/The_Big_Something-22.json\n",
      "../DVUChallenge/dev_dataset/scenes_knowledge_graphs/The_Big_Something-23.json\n",
      "../DVUChallenge/dev_dataset/scenes_knowledge_graphs/The_Big_Something-24.json\n",
      "../DVUChallenge/dev_dataset/scenes_knowledge_graphs/The_Big_Something-25.json\n",
      "../DVUChallenge/dev_dataset/scenes_knowledge_graphs/The_Big_Something-26.json\n",
      "../DVUChallenge/dev_dataset/scenes_knowledge_graphs/The_Big_Something-27.json\n",
      "../DVUChallenge/dev_dataset/scenes_knowledge_graphs/The_Big_Something-28.json\n",
      "../DVUChallenge/dev_dataset/scenes_knowledge_graphs/The_Big_Something-29.json\n",
      "../DVUChallenge/dev_dataset/scenes_knowledge_graphs/The_Big_Something-30.json\n",
      "../DVUChallenge/dev_dataset/scenes_knowledge_graphs/The_Big_Something-31.json\n",
      "../DVUChallenge/dev_dataset/scenes_knowledge_graphs/The_Big_Something-32.json\n",
      "../DVUChallenge/dev_dataset/scenes_knowledge_graphs/The_Big_Something-33.json\n",
      "../DVUChallenge/dev_dataset/scenes_knowledge_graphs/The_Big_Something-34.json\n",
      "../DVUChallenge/dev_dataset/scenes_knowledge_graphs/The_Big_Something-35.json\n",
      "../DVUChallenge/dev_dataset/scenes_knowledge_graphs/The_Big_Something-36.json\n",
      "../DVUChallenge/dev_dataset/scenes_knowledge_graphs/The_Big_Something-37.json\n",
      "../DVUChallenge/dev_dataset/scenes_knowledge_graphs/The_Big_Something-38.json\n",
      "../DVUChallenge/dev_dataset/scenes_knowledge_graphs/The_Big_Something-39.json\n",
      "../DVUChallenge/dev_dataset/scenes_knowledge_graphs/The_Big_Something-40.json\n",
      "../DVUChallenge/dev_dataset/scenes_knowledge_graphs/The_Big_Something-41.json\n",
      "../DVUChallenge/dev_dataset/scenes_knowledge_graphs/The_Big_Something-42.json\n"
     ]
    },
    {
     "name": "stderr",
     "output_type": "stream",
     "text": [
      "\n",
      " 76%|███████▌  | 50/66 [00:00<00:00, 492.89it/s]\u001b[A"
     ]
    },
    {
     "name": "stdout",
     "output_type": "stream",
     "text": [
      "../DVUChallenge/dev_dataset/scenes_knowledge_graphs/The_Big_Something-43.json\n",
      "../DVUChallenge/dev_dataset/scenes_knowledge_graphs/The_Big_Something-44.json\n",
      "../DVUChallenge/dev_dataset/scenes_knowledge_graphs/The_Big_Something-45.json\n",
      "../DVUChallenge/dev_dataset/scenes_knowledge_graphs/The_Big_Something-46.json\n",
      "../DVUChallenge/dev_dataset/scenes_knowledge_graphs/The_Big_Something-47.json\n",
      "../DVUChallenge/dev_dataset/scenes_knowledge_graphs/The_Big_Something-48.json\n",
      "../DVUChallenge/dev_dataset/scenes_knowledge_graphs/The_Big_Something-49.json\n",
      "../DVUChallenge/dev_dataset/scenes_knowledge_graphs/The_Big_Something-50.json\n",
      "../DVUChallenge/dev_dataset/scenes_knowledge_graphs/The_Big_Something-51.json\n",
      "../DVUChallenge/dev_dataset/scenes_knowledge_graphs/The_Big_Something-52.json\n",
      "../DVUChallenge/dev_dataset/scenes_knowledge_graphs/The_Big_Something-53.json\n",
      "../DVUChallenge/dev_dataset/scenes_knowledge_graphs/The_Big_Something-54.json\n",
      "../DVUChallenge/dev_dataset/scenes_knowledge_graphs/The_Big_Something-55.json\n",
      "../DVUChallenge/dev_dataset/scenes_knowledge_graphs/The_Big_Something-56.json\n",
      "../DVUChallenge/dev_dataset/scenes_knowledge_graphs/The_Big_Something-57.json\n",
      "../DVUChallenge/dev_dataset/scenes_knowledge_graphs/The_Big_Something-58.json\n",
      "../DVUChallenge/dev_dataset/scenes_knowledge_graphs/The_Big_Something-59.json\n",
      "../DVUChallenge/dev_dataset/scenes_knowledge_graphs/The_Big_Something-60.json\n",
      "../DVUChallenge/dev_dataset/scenes_knowledge_graphs/The_Big_Something-61.json\n",
      "../DVUChallenge/dev_dataset/scenes_knowledge_graphs/The_Big_Something-62.json\n",
      "../DVUChallenge/dev_dataset/scenes_knowledge_graphs/The_Big_Something-63.json\n"
     ]
    },
    {
     "name": "stderr",
     "output_type": "stream",
     "text": [
      "100%|██████████| 66/66 [00:00<00:00, 477.28it/s]\n",
      " 93%|█████████▎| 13/14 [00:01<00:00,  9.45it/s]"
     ]
    },
    {
     "name": "stdout",
     "output_type": "stream",
     "text": [
      "../DVUChallenge/dev_dataset/scenes_knowledge_graphs/The_Big_Something-64.json\n",
      "../DVUChallenge/dev_dataset/scenes_knowledge_graphs/The_Big_Something-65.json\n",
      "../DVUChallenge/dev_dataset/scenes_knowledge_graphs/The_Big_Something-66.json\n",
      "spiritual_contact\n"
     ]
    },
    {
     "name": "stderr",
     "output_type": "stream",
     "text": [
      "\n",
      "  0%|          | 0/38 [00:00<?, ?it/s]\u001b[A"
     ]
    },
    {
     "name": "stdout",
     "output_type": "stream",
     "text": [
      "../DVUChallenge/dev_dataset/scenes_knowledge_graphs/spiritual_contact-1.json\n",
      "../DVUChallenge/dev_dataset/scenes_knowledge_graphs/spiritual_contact-2.json\n",
      "../DVUChallenge/dev_dataset/scenes_knowledge_graphs/spiritual_contact-3.json\n",
      "../DVUChallenge/dev_dataset/scenes_knowledge_graphs/spiritual_contact-4.json\n",
      "../DVUChallenge/dev_dataset/scenes_knowledge_graphs/spiritual_contact-5.json\n",
      "../DVUChallenge/dev_dataset/scenes_knowledge_graphs/spiritual_contact-6.json\n",
      "../DVUChallenge/dev_dataset/scenes_knowledge_graphs/spiritual_contact-7.json\n",
      "../DVUChallenge/dev_dataset/scenes_knowledge_graphs/spiritual_contact-8.json\n",
      "../DVUChallenge/dev_dataset/scenes_knowledge_graphs/spiritual_contact-9.json\n",
      "../DVUChallenge/dev_dataset/scenes_knowledge_graphs/spiritual_contact-10.json\n",
      "../DVUChallenge/dev_dataset/scenes_knowledge_graphs/spiritual_contact-11.json\n",
      "../DVUChallenge/dev_dataset/scenes_knowledge_graphs/spiritual_contact-12.json\n",
      "../DVUChallenge/dev_dataset/scenes_knowledge_graphs/spiritual_contact-13.json\n",
      "../DVUChallenge/dev_dataset/scenes_knowledge_graphs/spiritual_contact-14.json\n",
      "../DVUChallenge/dev_dataset/scenes_knowledge_graphs/spiritual_contact-15.json\n",
      "../DVUChallenge/dev_dataset/scenes_knowledge_graphs/spiritual_contact-16.json\n",
      "../DVUChallenge/dev_dataset/scenes_knowledge_graphs/spiritual_contact-17.json\n",
      "../DVUChallenge/dev_dataset/scenes_knowledge_graphs/spiritual_contact-18.json\n",
      "../DVUChallenge/dev_dataset/scenes_knowledge_graphs/spiritual_contact-19.json\n",
      "../DVUChallenge/dev_dataset/scenes_knowledge_graphs/spiritual_contact-20.json\n",
      "../DVUChallenge/dev_dataset/scenes_knowledge_graphs/spiritual_contact-21.json\n",
      "../DVUChallenge/dev_dataset/scenes_knowledge_graphs/spiritual_contact-22.json\n",
      "../DVUChallenge/dev_dataset/scenes_knowledge_graphs/spiritual_contact-23.json\n",
      "../DVUChallenge/dev_dataset/scenes_knowledge_graphs/spiritual_contact-24.json\n",
      "../DVUChallenge/dev_dataset/scenes_knowledge_graphs/spiritual_contact-25.json\n",
      "../DVUChallenge/dev_dataset/scenes_knowledge_graphs/spiritual_contact-26.json\n"
     ]
    },
    {
     "name": "stderr",
     "output_type": "stream",
     "text": [
      "100%|██████████| 38/38 [00:00<00:00, 448.44it/s]\n",
      "100%|██████████| 14/14 [00:01<00:00,  7.86it/s]"
     ]
    },
    {
     "name": "stdout",
     "output_type": "stream",
     "text": [
      "../DVUChallenge/dev_dataset/scenes_knowledge_graphs/spiritual_contact-27.json\n",
      "../DVUChallenge/dev_dataset/scenes_knowledge_graphs/spiritual_contact-28.json\n",
      "../DVUChallenge/dev_dataset/scenes_knowledge_graphs/spiritual_contact-29.json\n",
      "../DVUChallenge/dev_dataset/scenes_knowledge_graphs/spiritual_contact-30.json\n",
      "../DVUChallenge/dev_dataset/scenes_knowledge_graphs/spiritual_contact-31.json\n",
      "../DVUChallenge/dev_dataset/scenes_knowledge_graphs/spiritual_contact-32.json\n",
      "../DVUChallenge/dev_dataset/scenes_knowledge_graphs/spiritual_contact-33.json\n",
      "../DVUChallenge/dev_dataset/scenes_knowledge_graphs/spiritual_contact-34.json\n",
      "../DVUChallenge/dev_dataset/scenes_knowledge_graphs/spiritual_contact-35.json\n",
      "../DVUChallenge/dev_dataset/scenes_knowledge_graphs/spiritual_contact-36.json\n",
      "../DVUChallenge/dev_dataset/scenes_knowledge_graphs/spiritual_contact-37.json\n",
      "../DVUChallenge/dev_dataset/scenes_knowledge_graphs/spiritual_contact-38.json\n"
     ]
    },
    {
     "name": "stderr",
     "output_type": "stream",
     "text": [
      "\n"
     ]
    }
   ],
   "source": [
    "from general_utils import get_scene_graphs\n",
    "\n",
    "scene_graphs = get_scene_graphs(filmnames, scene_graph_path)"
   ]
  },
  {
   "cell_type": "code",
   "execution_count": 9,
   "id": "e9c44f62",
   "metadata": {},
   "outputs": [
    {
     "data": {
      "text/plain": [
       "8.64864864864865"
      ]
     },
     "execution_count": 9,
     "metadata": {},
     "output_type": "execute_result"
    }
   ],
   "source": [
    "100*16/(len(scene_graphs['Bagman']) + len(scene_graphs['Road_To_Bali']) + len(scene_graphs['Manos']) + len(scene_graphs['The_Illusionist']))"
   ]
  },
  {
   "cell_type": "code",
   "execution_count": null,
   "id": "7df9e2bb",
   "metadata": {},
   "outputs": [],
   "source": [
    "with open('../DVUChallenge/dev_dataset/vocab.dvu.json', 'r') as f:\n",
    "    scene_vocab = json.load(f)"
   ]
  },
  {
   "cell_type": "markdown",
   "id": "f5d8835a",
   "metadata": {},
   "source": [
    "### Videos"
   ]
  },
  {
   "cell_type": "code",
   "execution_count": 5,
   "id": "a482a980",
   "metadata": {},
   "outputs": [
    {
     "name": "stderr",
     "output_type": "stream",
     "text": [
      "  0%|          | 0/14 [00:00<?, ?it/s]\n",
      "  0%|          | 0/67 [00:00<?, ?it/s]\u001b[A/home/jovyan/.imgenv-bold-wing-0/lib/python3.7/site-packages/torchvision/io/video.py:162: UserWarning: The pts_unit 'pts' gives wrong results. Please use pts_unit 'sec'.\n",
      "  warnings.warn(\"The pts_unit 'pts' gives wrong results. Please use pts_unit 'sec'.\")\n",
      "\n",
      "  1%|▏         | 1/67 [00:00<00:58,  1.13it/s]\u001b[A\n",
      "  3%|▎         | 2/67 [00:01<00:34,  1.86it/s]\u001b[A\n",
      "  4%|▍         | 3/67 [00:01<00:27,  2.32it/s]\u001b[A\n",
      "  6%|▌         | 4/67 [00:02<00:33,  1.87it/s]\u001b[A\n",
      "  7%|▋         | 5/67 [00:03<00:49,  1.24it/s]\u001b[A\n",
      "  9%|▉         | 6/67 [00:03<00:38,  1.60it/s]\u001b[A\n",
      " 10%|█         | 7/67 [00:04<00:35,  1.68it/s]\u001b[A\n",
      " 12%|█▏        | 8/67 [00:04<00:30,  1.94it/s]\u001b[A\n",
      " 13%|█▎        | 9/67 [00:05<00:33,  1.75it/s]\u001b[A\n",
      " 15%|█▍        | 10/67 [00:05<00:27,  2.11it/s]\u001b[A\n",
      " 16%|█▋        | 11/67 [00:05<00:24,  2.24it/s]\u001b[A\n",
      " 18%|█▊        | 12/67 [00:06<00:20,  2.68it/s]\u001b[A\n",
      " 19%|█▉        | 13/67 [00:06<00:24,  2.21it/s]\u001b[A\n",
      " 21%|██        | 14/67 [00:07<00:22,  2.38it/s]\u001b[A\n",
      " 22%|██▏       | 15/67 [00:07<00:20,  2.60it/s]\u001b[A\n",
      " 24%|██▍       | 16/67 [00:07<00:18,  2.73it/s]\u001b[A\n",
      " 25%|██▌       | 17/67 [00:08<00:17,  2.85it/s]\u001b[A\n",
      " 27%|██▋       | 18/67 [00:08<00:19,  2.46it/s]\u001b[A\n",
      " 28%|██▊       | 19/67 [00:09<00:22,  2.13it/s]\u001b[A\n",
      " 30%|██▉       | 20/67 [00:10<00:30,  1.54it/s]\u001b[A\n",
      " 31%|███▏      | 21/67 [00:10<00:30,  1.53it/s]\u001b[A\n",
      " 33%|███▎      | 22/67 [00:11<00:25,  1.75it/s]\u001b[A\n",
      " 34%|███▍      | 23/67 [00:11<00:23,  1.89it/s]\u001b[A\n",
      " 36%|███▌      | 24/67 [00:12<00:30,  1.40it/s]\u001b[A\n",
      " 37%|███▋      | 25/67 [00:13<00:24,  1.71it/s]\u001b[A\n",
      " 39%|███▉      | 26/67 [00:13<00:21,  1.93it/s]\u001b[A\n",
      " 40%|████      | 27/67 [00:13<00:17,  2.31it/s]\u001b[A\n",
      " 42%|████▏     | 28/67 [00:14<00:19,  2.04it/s]\u001b[A\n",
      " 43%|████▎     | 29/67 [00:15<00:19,  1.92it/s]\u001b[A\n",
      " 45%|████▍     | 30/67 [00:15<00:22,  1.66it/s]\u001b[A\n",
      " 46%|████▋     | 31/67 [00:16<00:18,  1.92it/s]\u001b[A\n",
      " 48%|████▊     | 32/67 [00:16<00:21,  1.66it/s]\u001b[A\n",
      " 49%|████▉     | 33/67 [00:17<00:23,  1.47it/s]\u001b[A\n",
      " 51%|█████     | 34/67 [00:18<00:19,  1.67it/s]\u001b[A\n",
      " 52%|█████▏    | 35/67 [00:18<00:18,  1.74it/s]\u001b[A\n",
      " 54%|█████▎    | 36/67 [00:19<00:19,  1.55it/s]\u001b[A\n",
      " 55%|█████▌    | 37/67 [00:19<00:15,  1.97it/s]\u001b[A\n",
      " 57%|█████▋    | 38/67 [00:20<00:12,  2.25it/s]\u001b[A\n",
      " 58%|█████▊    | 39/67 [00:20<00:11,  2.46it/s]\u001b[A\n",
      " 60%|█████▉    | 40/67 [00:20<00:10,  2.55it/s]\u001b[A\n",
      " 61%|██████    | 41/67 [00:21<00:12,  2.15it/s]\u001b[A\n",
      " 63%|██████▎   | 42/67 [00:21<00:10,  2.37it/s]\u001b[A\n",
      " 64%|██████▍   | 43/67 [00:22<00:12,  1.91it/s]\u001b[A\n",
      " 66%|██████▌   | 44/67 [00:22<00:11,  2.08it/s]\u001b[A\n",
      " 67%|██████▋   | 45/67 [00:23<00:09,  2.41it/s]\u001b[A\n",
      " 69%|██████▊   | 46/67 [00:23<00:11,  1.87it/s]\u001b[A\n",
      " 70%|███████   | 47/67 [00:24<00:09,  2.22it/s]\u001b[A\n",
      " 72%|███████▏  | 48/67 [00:24<00:07,  2.69it/s]\u001b[A\n",
      " 73%|███████▎  | 49/67 [00:24<00:07,  2.32it/s]\u001b[A\n",
      " 75%|███████▍  | 50/67 [00:25<00:07,  2.14it/s]\u001b[A\n",
      " 76%|███████▌  | 51/67 [00:25<00:06,  2.52it/s]\u001b[A\n",
      " 78%|███████▊  | 52/67 [00:25<00:05,  2.92it/s]\u001b[A\n",
      " 79%|███████▉  | 53/67 [00:26<00:05,  2.34it/s]\u001b[A\n",
      " 81%|████████  | 54/67 [00:26<00:05,  2.42it/s]\u001b[A\n",
      " 82%|████████▏ | 55/67 [00:27<00:06,  1.99it/s]\u001b[A\n",
      " 84%|████████▎ | 56/67 [00:28<00:07,  1.39it/s]\u001b[A\n",
      " 85%|████████▌ | 57/67 [00:29<00:05,  1.69it/s]\u001b[A\n",
      " 87%|████████▋ | 58/67 [00:29<00:04,  1.89it/s]\u001b[A\n",
      " 88%|████████▊ | 59/67 [00:29<00:04,  1.96it/s]\u001b[A\n",
      " 90%|████████▉ | 60/67 [00:30<00:03,  2.07it/s]\u001b[A\n",
      " 91%|█████████ | 61/67 [00:30<00:02,  2.44it/s]\u001b[A\n",
      " 93%|█████████▎| 62/67 [00:30<00:01,  2.90it/s]\u001b[A\n",
      " 94%|█████████▍| 63/67 [00:31<00:01,  2.50it/s]\u001b[A\n",
      " 96%|█████████▌| 64/67 [00:32<00:02,  1.39it/s]\u001b[A\n",
      " 97%|█████████▋| 65/67 [00:33<00:01,  1.46it/s]\u001b[A\n",
      " 99%|█████████▊| 66/67 [00:34<00:00,  1.52it/s]\u001b[A\n",
      "100%|██████████| 67/67 [00:34<00:00,  1.94it/s]\u001b[A\n",
      "  7%|▋         | 1/14 [00:35<07:36, 35.10s/it]\n",
      "  0%|          | 0/44 [00:00<?, ?it/s]\u001b[A\n",
      "  2%|▏         | 1/44 [00:00<00:27,  1.57it/s]\u001b[A\n",
      "  5%|▍         | 2/44 [00:01<00:32,  1.30it/s]\u001b[A\n",
      "  7%|▋         | 3/44 [00:01<00:22,  1.86it/s]\u001b[A\n",
      "  9%|▉         | 4/44 [00:02<00:19,  2.10it/s]\u001b[A\n",
      " 11%|█▏        | 5/44 [00:02<00:15,  2.47it/s]\u001b[A\n",
      " 14%|█▎        | 6/44 [00:04<00:33,  1.14it/s]\u001b[A\n",
      " 16%|█▌        | 7/44 [00:05<00:34,  1.07it/s]\u001b[A\n",
      " 18%|█▊        | 8/44 [00:05<00:29,  1.22it/s]\u001b[A\n",
      " 20%|██        | 9/44 [00:06<00:23,  1.47it/s]\u001b[A\n",
      " 23%|██▎       | 10/44 [00:06<00:22,  1.52it/s]\u001b[A\n",
      " 25%|██▌       | 11/44 [00:06<00:16,  2.03it/s]\u001b[A\n",
      " 27%|██▋       | 12/44 [00:07<00:14,  2.20it/s]\u001b[A\n",
      " 30%|██▉       | 13/44 [00:08<00:16,  1.85it/s]\u001b[A\n",
      " 32%|███▏      | 14/44 [00:08<00:14,  2.03it/s]\u001b[A\n",
      " 34%|███▍      | 15/44 [00:08<00:11,  2.57it/s]\u001b[A\n",
      " 36%|███▋      | 16/44 [00:08<00:08,  3.17it/s]\u001b[A\n",
      " 39%|███▊      | 17/44 [00:09<00:10,  2.49it/s]\u001b[A\n",
      " 41%|████      | 18/44 [00:09<00:10,  2.57it/s]\u001b[A\n",
      " 43%|████▎     | 19/44 [00:10<00:10,  2.37it/s]\u001b[A\n",
      " 45%|████▌     | 20/44 [00:10<00:08,  2.78it/s]\u001b[A\n",
      " 48%|████▊     | 21/44 [00:10<00:09,  2.42it/s]\u001b[A\n",
      " 50%|█████     | 22/44 [00:11<00:10,  2.13it/s]\u001b[A\n",
      " 52%|█████▏    | 23/44 [00:12<00:10,  2.09it/s]\u001b[A\n",
      " 55%|█████▍    | 24/44 [00:12<00:11,  1.79it/s]\u001b[A\n",
      " 57%|█████▋    | 25/44 [00:13<00:13,  1.42it/s]\u001b[A\n",
      " 59%|█████▉    | 26/44 [00:14<00:10,  1.64it/s]\u001b[A\n",
      " 61%|██████▏   | 27/44 [00:14<00:08,  1.95it/s]\u001b[A\n",
      " 64%|██████▎   | 28/44 [00:14<00:06,  2.42it/s]\u001b[A\n",
      " 66%|██████▌   | 29/44 [00:15<00:08,  1.84it/s]\u001b[A\n",
      " 68%|██████▊   | 30/44 [00:15<00:05,  2.40it/s]\u001b[A\n",
      " 70%|███████   | 31/44 [00:15<00:04,  3.01it/s]\u001b[A\n",
      " 73%|███████▎  | 32/44 [00:16<00:03,  3.38it/s]\u001b[A\n",
      " 75%|███████▌  | 33/44 [00:16<00:04,  2.72it/s]\u001b[A\n",
      " 80%|███████▉  | 35/44 [00:17<00:02,  3.27it/s]\u001b[A\n",
      " 82%|████████▏ | 36/44 [00:17<00:02,  3.32it/s]\u001b[A\n",
      " 84%|████████▍ | 37/44 [00:17<00:01,  3.73it/s]\u001b[A\n",
      " 86%|████████▋ | 38/44 [00:17<00:01,  4.45it/s]\u001b[A\n",
      " 89%|████████▊ | 39/44 [00:17<00:01,  4.60it/s]\u001b[A\n",
      " 91%|█████████ | 40/44 [00:18<00:00,  4.52it/s]\u001b[A\n",
      " 93%|█████████▎| 41/44 [00:18<00:00,  4.01it/s]\u001b[A\n",
      " 95%|█████████▌| 42/44 [00:18<00:00,  3.76it/s]\u001b[A\n",
      " 98%|█████████▊| 43/44 [00:19<00:00,  2.78it/s]\u001b[A\n",
      "100%|██████████| 44/44 [00:19<00:00,  2.27it/s]\u001b[A\n",
      " 14%|█▍        | 2/14 [00:54<05:10, 25.87s/it]\n",
      "  0%|          | 0/45 [00:00<?, ?it/s]\u001b[A\n",
      "  2%|▏         | 1/45 [00:01<00:54,  1.24s/it]\u001b[A\n",
      "  4%|▍         | 2/45 [00:02<01:03,  1.47s/it]\u001b[A\n",
      "  7%|▋         | 3/45 [00:03<00:42,  1.00s/it]\u001b[A\n",
      "  9%|▉         | 4/45 [00:04<00:44,  1.08s/it]\u001b[A\n",
      " 11%|█         | 5/45 [00:05<00:38,  1.04it/s]\u001b[A\n",
      " 13%|█▎        | 6/45 [00:05<00:30,  1.29it/s]\u001b[A\n",
      " 16%|█▌        | 7/45 [00:06<00:34,  1.10it/s]\u001b[A\n",
      " 18%|█▊        | 8/45 [00:07<00:26,  1.41it/s]\u001b[A\n",
      " 20%|██        | 9/45 [00:08<00:34,  1.03it/s]\u001b[A\n",
      " 22%|██▏       | 10/45 [00:09<00:29,  1.17it/s]\u001b[A\n",
      " 24%|██▍       | 11/45 [00:11<00:38,  1.14s/it]\u001b[A\n",
      " 27%|██▋       | 12/45 [00:11<00:29,  1.14it/s]\u001b[A\n",
      " 29%|██▉       | 13/45 [00:13<00:39,  1.22s/it]\u001b[A\n",
      " 31%|███       | 14/45 [00:13<00:30,  1.03it/s]\u001b[A\n",
      " 33%|███▎      | 15/45 [00:14<00:24,  1.21it/s]\u001b[A\n",
      " 36%|███▌      | 16/45 [00:15<00:26,  1.08it/s]\u001b[A\n",
      " 38%|███▊      | 17/45 [00:15<00:19,  1.46it/s]\u001b[A\n",
      " 40%|████      | 18/45 [00:15<00:15,  1.76it/s]\u001b[A\n",
      " 42%|████▏     | 19/45 [00:17<00:19,  1.33it/s]\u001b[A\n",
      " 44%|████▍     | 20/45 [00:17<00:14,  1.70it/s]\u001b[A\n",
      " 47%|████▋     | 21/45 [00:17<00:11,  2.14it/s]\u001b[A\n",
      " 49%|████▉     | 22/45 [00:17<00:09,  2.51it/s]\u001b[A\n",
      " 51%|█████     | 23/45 [00:18<00:12,  1.75it/s]\u001b[A\n",
      " 53%|█████▎    | 24/45 [00:19<00:16,  1.31it/s]\u001b[A\n",
      " 56%|█████▌    | 25/45 [00:20<00:15,  1.25it/s]\u001b[A\n",
      " 58%|█████▊    | 26/45 [00:22<00:18,  1.00it/s]\u001b[A\n",
      " 62%|██████▏   | 28/45 [00:22<00:11,  1.52it/s]\u001b[A\n",
      " 64%|██████▍   | 29/45 [00:22<00:08,  1.87it/s]\u001b[A\n",
      " 67%|██████▋   | 30/45 [00:23<00:06,  2.24it/s]\u001b[A\n",
      " 69%|██████▉   | 31/45 [00:24<00:11,  1.26it/s]\u001b[A\n",
      " 71%|███████   | 32/45 [00:26<00:13,  1.00s/it]\u001b[A\n",
      " 73%|███████▎  | 33/45 [00:26<00:09,  1.25it/s]\u001b[A\n",
      " 76%|███████▌  | 34/45 [00:27<00:07,  1.46it/s]\u001b[A\n",
      " 78%|███████▊  | 35/45 [00:27<00:07,  1.40it/s]\u001b[A\n",
      " 80%|████████  | 36/45 [00:28<00:06,  1.42it/s]\u001b[A\n",
      " 82%|████████▏ | 37/45 [00:28<00:04,  1.73it/s]\u001b[A\n",
      " 84%|████████▍ | 38/45 [00:29<00:03,  1.85it/s]\u001b[A\n",
      " 87%|████████▋ | 39/45 [00:29<00:03,  1.94it/s]\u001b[A\n",
      " 89%|████████▉ | 40/45 [00:30<00:03,  1.59it/s]\u001b[A\n",
      " 91%|█████████ | 41/45 [00:32<00:04,  1.16s/it]\u001b[A\n",
      " 93%|█████████▎| 42/45 [00:34<00:03,  1.18s/it]\u001b[A\n",
      " 96%|█████████▌| 43/45 [00:35<00:02,  1.15s/it]\u001b[A\n",
      " 98%|█████████▊| 44/45 [00:35<00:00,  1.17it/s]\u001b[A\n",
      "100%|██████████| 45/45 [00:36<00:00,  1.24it/s]\u001b[A\n",
      " 21%|██▏       | 3/14 [01:30<05:36, 30.63s/it]\n",
      "  0%|          | 0/23 [00:00<?, ?it/s]\u001b[A\n",
      "  4%|▍         | 1/23 [00:01<00:26,  1.22s/it]\u001b[A\n",
      "  9%|▊         | 2/23 [00:02<00:24,  1.16s/it]\u001b[A\n",
      " 13%|█▎        | 3/23 [00:02<00:16,  1.20it/s]\u001b[A\n",
      " 17%|█▋        | 4/23 [00:03<00:11,  1.60it/s]\u001b[A\n",
      " 26%|██▌       | 6/23 [00:04<00:09,  1.77it/s]\u001b[A\n",
      " 30%|███       | 7/23 [00:04<00:09,  1.63it/s]\u001b[A\n",
      " 35%|███▍      | 8/23 [00:05<00:07,  1.98it/s]\u001b[A\n",
      " 39%|███▉      | 9/23 [00:05<00:06,  2.25it/s]\u001b[A\n",
      " 43%|████▎     | 10/23 [00:05<00:04,  2.82it/s]\u001b[A\n",
      " 48%|████▊     | 11/23 [00:05<00:04,  2.99it/s]\u001b[A\n",
      " 57%|█████▋    | 13/23 [00:06<00:04,  2.34it/s]\u001b[A\n",
      " 65%|██████▌   | 15/23 [00:07<00:02,  2.96it/s]\u001b[A\n",
      " 70%|██████▉   | 16/23 [00:07<00:02,  2.90it/s]\u001b[A\n",
      " 74%|███████▍  | 17/23 [00:08<00:02,  2.10it/s]\u001b[A\n",
      " 83%|████████▎ | 19/23 [00:08<00:01,  3.02it/s]\u001b[A\n",
      " 87%|████████▋ | 20/23 [00:09<00:01,  2.63it/s]\u001b[A\n",
      " 96%|█████████▌| 22/23 [00:09<00:00,  3.92it/s]\u001b[A\n",
      "100%|██████████| 23/23 [00:09<00:00,  2.41it/s]\u001b[A\n",
      " 29%|██▊       | 4/14 [01:40<03:43, 22.31s/it]\n",
      "  0%|          | 0/66 [00:00<?, ?it/s]\u001b[A\n",
      "  2%|▏         | 1/66 [00:00<00:36,  1.78it/s]\u001b[A\n",
      "  3%|▎         | 2/66 [00:00<00:30,  2.11it/s]\u001b[A\n",
      "  5%|▍         | 3/66 [00:01<00:29,  2.17it/s]\u001b[A\n",
      "  6%|▌         | 4/66 [00:01<00:24,  2.50it/s]\u001b[A\n",
      "  8%|▊         | 5/66 [00:01<00:19,  3.07it/s]\u001b[A\n",
      "  9%|▉         | 6/66 [00:02<00:17,  3.53it/s]\u001b[A\n",
      " 11%|█         | 7/66 [00:02<00:17,  3.40it/s]\u001b[A\n",
      " 12%|█▏        | 8/66 [00:02<00:17,  3.27it/s]\u001b[A\n",
      " 14%|█▎        | 9/66 [00:03<00:19,  2.86it/s]\u001b[A\n",
      " 15%|█▌        | 10/66 [00:03<00:17,  3.23it/s]\u001b[A\n",
      " 17%|█▋        | 11/66 [00:04<00:34,  1.61it/s]\u001b[A\n",
      " 18%|█▊        | 12/66 [00:05<00:27,  1.93it/s]\u001b[A\n",
      " 20%|█▉        | 13/66 [00:05<00:24,  2.15it/s]\u001b[A\n",
      " 21%|██        | 14/66 [00:05<00:18,  2.74it/s]\u001b[A\n",
      " 23%|██▎       | 15/66 [00:06<00:28,  1.77it/s]\u001b[A\n",
      " 24%|██▍       | 16/66 [00:08<00:46,  1.09it/s]\u001b[A\n",
      " 26%|██▌       | 17/66 [00:08<00:39,  1.25it/s]\u001b[A\n",
      " 27%|██▋       | 18/66 [00:09<00:36,  1.31it/s]\u001b[A\n",
      " 29%|██▉       | 19/66 [00:10<00:32,  1.45it/s]\u001b[A\n",
      " 30%|███       | 20/66 [00:11<00:40,  1.13it/s]\u001b[A\n",
      " 32%|███▏      | 21/66 [00:11<00:30,  1.46it/s]\u001b[A\n",
      " 33%|███▎      | 22/66 [00:11<00:23,  1.90it/s]\u001b[A\n",
      " 35%|███▍      | 23/66 [00:12<00:27,  1.58it/s]\u001b[A\n",
      " 36%|███▋      | 24/66 [00:14<00:45,  1.09s/it]\u001b[A\n",
      " 38%|███▊      | 25/66 [00:15<00:34,  1.19it/s]\u001b[A\n",
      " 41%|████      | 27/66 [00:16<00:28,  1.38it/s]\u001b[A\n",
      " 42%|████▏     | 28/66 [00:16<00:24,  1.53it/s]\u001b[A\n",
      " 44%|████▍     | 29/66 [00:16<00:19,  1.93it/s]\u001b[A\n",
      " 45%|████▌     | 30/66 [00:17<00:16,  2.19it/s]\u001b[A\n",
      " 47%|████▋     | 31/66 [00:17<00:12,  2.75it/s]\u001b[A\n",
      " 48%|████▊     | 32/66 [00:17<00:11,  2.87it/s]\u001b[A\n",
      " 50%|█████     | 33/66 [00:17<00:09,  3.55it/s]\u001b[A\n",
      " 52%|█████▏    | 34/66 [00:17<00:09,  3.46it/s]\u001b[A\n",
      " 53%|█████▎    | 35/66 [00:18<00:10,  2.85it/s]\u001b[A\n",
      " 55%|█████▍    | 36/66 [00:19<00:19,  1.51it/s]\u001b[A\n",
      " 56%|█████▌    | 37/66 [00:20<00:15,  1.86it/s]\u001b[A\n",
      " 58%|█████▊    | 38/66 [00:20<00:12,  2.24it/s]\u001b[A\n",
      " 59%|█████▉    | 39/66 [00:20<00:13,  2.07it/s]\u001b[A\n",
      " 61%|██████    | 40/66 [00:21<00:15,  1.66it/s]\u001b[A\n",
      " 62%|██████▏   | 41/66 [00:22<00:13,  1.79it/s]\u001b[A\n",
      " 64%|██████▎   | 42/66 [00:22<00:14,  1.71it/s]\u001b[A\n",
      " 65%|██████▌   | 43/66 [00:23<00:10,  2.16it/s]\u001b[A\n",
      " 67%|██████▋   | 44/66 [00:23<00:09,  2.40it/s]\u001b[A\n",
      " 68%|██████▊   | 45/66 [00:24<00:10,  1.93it/s]\u001b[A\n",
      " 70%|██████▉   | 46/66 [00:24<00:08,  2.43it/s]\u001b[A\n",
      " 71%|███████   | 47/66 [00:24<00:07,  2.56it/s]\u001b[A\n",
      " 73%|███████▎  | 48/66 [00:24<00:06,  2.92it/s]\u001b[A\n",
      " 74%|███████▍  | 49/66 [00:25<00:04,  3.44it/s]\u001b[A\n",
      " 76%|███████▌  | 50/66 [00:25<00:04,  3.44it/s]\u001b[A\n",
      " 77%|███████▋  | 51/66 [00:25<00:04,  3.68it/s]\u001b[A\n",
      " 79%|███████▉  | 52/66 [00:25<00:03,  3.59it/s]\u001b[A\n",
      " 80%|████████  | 53/66 [00:26<00:03,  3.69it/s]\u001b[A\n",
      " 82%|████████▏ | 54/66 [00:27<00:06,  1.93it/s]\u001b[A\n",
      " 83%|████████▎ | 55/66 [00:27<00:05,  2.10it/s]\u001b[A\n",
      " 85%|████████▍ | 56/66 [00:28<00:07,  1.41it/s]\u001b[A\n",
      " 86%|████████▋ | 57/66 [00:28<00:05,  1.79it/s]\u001b[A\n",
      " 88%|████████▊ | 58/66 [00:29<00:04,  1.95it/s]\u001b[A\n",
      " 89%|████████▉ | 59/66 [00:29<00:03,  2.08it/s]\u001b[A\n",
      " 91%|█████████ | 60/66 [00:31<00:04,  1.38it/s]\u001b[A\n",
      " 92%|█████████▏| 61/66 [00:31<00:03,  1.53it/s]\u001b[A\n",
      " 94%|█████████▍| 62/66 [00:32<00:02,  1.62it/s]\u001b[A\n",
      " 95%|█████████▌| 63/66 [00:33<00:02,  1.16it/s]\u001b[A\n",
      " 97%|█████████▋| 64/66 [00:34<00:01,  1.27it/s]\u001b[A\n",
      " 98%|█████████▊| 65/66 [00:39<00:02,  2.21s/it]\u001b[A\n",
      "100%|██████████| 66/66 [00:40<00:00,  1.65it/s]\u001b[A\n",
      " 36%|███▌      | 5/14 [02:20<04:18, 28.73s/it]\n",
      "  0%|          | 0/75 [00:00<?, ?it/s]\u001b[A\n",
      "  1%|▏         | 1/75 [00:00<00:17,  4.17it/s]\u001b[A\n",
      "  3%|▎         | 2/75 [00:01<00:57,  1.26it/s]\u001b[A\n",
      "  4%|▍         | 3/75 [00:01<00:44,  1.62it/s]\u001b[A\n",
      "  5%|▌         | 4/75 [00:02<00:48,  1.47it/s]\u001b[A\n",
      "  7%|▋         | 5/75 [00:02<00:39,  1.78it/s]\u001b[A\n",
      "  8%|▊         | 6/75 [00:03<00:33,  2.08it/s]\u001b[A\n",
      "  9%|▉         | 7/75 [00:03<00:33,  2.05it/s]\u001b[A\n",
      " 11%|█         | 8/75 [00:04<00:27,  2.41it/s]\u001b[A\n",
      " 12%|█▏        | 9/75 [00:04<00:31,  2.12it/s]\u001b[A\n",
      " 13%|█▎        | 10/75 [00:05<00:28,  2.27it/s]\u001b[A\n",
      " 15%|█▍        | 11/75 [00:05<00:23,  2.68it/s]\u001b[A\n",
      " 16%|█▌        | 12/75 [00:05<00:25,  2.46it/s]\u001b[A\n",
      " 17%|█▋        | 13/75 [00:06<00:23,  2.65it/s]\u001b[A\n",
      " 19%|█▊        | 14/75 [00:06<00:20,  3.00it/s]\u001b[A\n",
      " 20%|██        | 15/75 [00:06<00:20,  2.98it/s]\u001b[A\n",
      " 21%|██▏       | 16/75 [00:06<00:19,  3.08it/s]\u001b[A\n",
      " 23%|██▎       | 17/75 [00:07<00:28,  2.06it/s]\u001b[A\n",
      " 24%|██▍       | 18/75 [00:08<00:24,  2.36it/s]\u001b[A\n",
      " 25%|██▌       | 19/75 [00:08<00:26,  2.11it/s]\u001b[A\n",
      " 27%|██▋       | 20/75 [00:09<00:26,  2.05it/s]\u001b[A\n",
      " 28%|██▊       | 21/75 [00:09<00:24,  2.18it/s]\u001b[A\n",
      " 29%|██▉       | 22/75 [00:10<00:25,  2.09it/s]\u001b[A\n",
      " 31%|███       | 23/75 [00:10<00:25,  2.07it/s]\u001b[A\n",
      " 32%|███▏      | 24/75 [00:10<00:23,  2.18it/s]\u001b[A\n",
      " 33%|███▎      | 25/75 [00:11<00:19,  2.55it/s]\u001b[A\n",
      " 35%|███▍      | 26/75 [00:11<00:22,  2.19it/s]\u001b[A\n",
      " 36%|███▌      | 27/75 [00:12<00:19,  2.40it/s]\u001b[A\n",
      " 37%|███▋      | 28/75 [00:12<00:15,  3.11it/s]\u001b[A\n",
      " 39%|███▊      | 29/75 [00:12<00:15,  2.95it/s]\u001b[A\n",
      " 40%|████      | 30/75 [00:12<00:12,  3.48it/s]\u001b[A\n",
      " 41%|████▏     | 31/75 [00:13<00:20,  2.12it/s]\u001b[A\n",
      " 43%|████▎     | 32/75 [00:14<00:21,  2.04it/s]\u001b[A\n",
      " 44%|████▍     | 33/75 [00:14<00:23,  1.78it/s]\u001b[A\n",
      " 45%|████▌     | 34/75 [00:15<00:20,  2.05it/s]\u001b[A\n",
      " 47%|████▋     | 35/75 [00:15<00:17,  2.28it/s]\u001b[A\n",
      " 48%|████▊     | 36/75 [00:15<00:16,  2.38it/s]\u001b[A\n",
      " 49%|████▉     | 37/75 [00:16<00:12,  2.93it/s]\u001b[A\n",
      " 51%|█████     | 38/75 [00:16<00:12,  3.05it/s]\u001b[A\n",
      " 52%|█████▏    | 39/75 [00:16<00:11,  3.07it/s]\u001b[A\n",
      " 53%|█████▎    | 40/75 [00:16<00:10,  3.26it/s]\u001b[A\n",
      " 55%|█████▍    | 41/75 [00:17<00:13,  2.61it/s]\u001b[A\n",
      " 56%|█████▌    | 42/75 [00:18<00:17,  1.85it/s]\u001b[A\n",
      " 57%|█████▋    | 43/75 [00:18<00:14,  2.19it/s]\u001b[A\n",
      " 59%|█████▊    | 44/75 [00:19<00:14,  2.15it/s]\u001b[A\n",
      " 60%|██████    | 45/75 [00:19<00:11,  2.66it/s]\u001b[A\n",
      " 61%|██████▏   | 46/75 [00:19<00:11,  2.59it/s]\u001b[A\n",
      " 63%|██████▎   | 47/75 [00:20<00:13,  2.12it/s]\u001b[A\n",
      " 64%|██████▍   | 48/75 [00:20<00:12,  2.11it/s]\u001b[A\n",
      " 65%|██████▌   | 49/75 [00:21<00:11,  2.29it/s]\u001b[A\n",
      " 67%|██████▋   | 50/75 [00:21<00:11,  2.14it/s]\u001b[A\n",
      " 68%|██████▊   | 51/75 [00:22<00:13,  1.72it/s]\u001b[A\n",
      " 69%|██████▉   | 52/75 [00:22<00:11,  2.06it/s]\u001b[A\n",
      " 71%|███████   | 53/75 [00:23<00:09,  2.33it/s]\u001b[A\n",
      " 72%|███████▏  | 54/75 [00:24<00:12,  1.64it/s]\u001b[A\n",
      " 73%|███████▎  | 55/75 [00:24<00:11,  1.70it/s]\u001b[A\n",
      " 75%|███████▍  | 56/75 [00:25<00:10,  1.87it/s]\u001b[A\n",
      " 77%|███████▋  | 58/75 [00:25<00:06,  2.81it/s]\u001b[A\n",
      " 79%|███████▊  | 59/75 [00:26<00:06,  2.47it/s]\u001b[A\n",
      " 80%|████████  | 60/75 [00:26<00:06,  2.22it/s]\u001b[A\n",
      " 81%|████████▏ | 61/75 [00:27<00:06,  2.06it/s]\u001b[A\n",
      " 83%|████████▎ | 62/75 [00:27<00:06,  1.97it/s]\u001b[A\n",
      " 84%|████████▍ | 63/75 [00:28<00:06,  1.86it/s]\u001b[A\n",
      " 85%|████████▌ | 64/75 [00:28<00:05,  2.01it/s]\u001b[A\n",
      " 87%|████████▋ | 65/75 [00:29<00:04,  2.09it/s]\u001b[A\n",
      " 88%|████████▊ | 66/75 [00:29<00:03,  2.27it/s]\u001b[A\n",
      " 89%|████████▉ | 67/75 [00:30<00:03,  2.16it/s]\u001b[A\n",
      " 91%|█████████ | 68/75 [00:30<00:03,  2.08it/s]\u001b[A\n",
      " 92%|█████████▏| 69/75 [00:31<00:02,  2.16it/s]\u001b[A\n",
      " 93%|█████████▎| 70/75 [00:31<00:02,  1.86it/s]\u001b[A\n"
     ]
    },
    {
     "name": "stderr",
     "output_type": "stream",
     "text": [
      " 95%|█████████▍| 71/75 [00:32<00:02,  1.64it/s]\u001b[A\n",
      " 96%|█████████▌| 72/75 [00:32<00:01,  2.02it/s]\u001b[A\n",
      " 97%|█████████▋| 73/75 [00:33<00:00,  2.01it/s]\u001b[A\n",
      " 99%|█████████▊| 74/75 [00:34<00:00,  1.71it/s]\u001b[A\n",
      "100%|██████████| 75/75 [00:34<00:00,  2.17it/s]\u001b[A\n",
      " 43%|████▎     | 6/14 [02:55<04:05, 30.73s/it]\n",
      "  0%|          | 0/20 [00:00<?, ?it/s]\u001b[A\n",
      "  5%|▌         | 1/20 [00:00<00:02,  7.69it/s]\u001b[A\n",
      " 10%|█         | 2/20 [00:00<00:05,  3.59it/s]\u001b[A\n",
      " 15%|█▌        | 3/20 [00:01<00:08,  1.92it/s]\u001b[A\n",
      " 20%|██        | 4/20 [00:02<00:13,  1.15it/s]\u001b[A\n",
      " 25%|██▌       | 5/20 [00:03<00:12,  1.24it/s]\u001b[A\n",
      " 30%|███       | 6/20 [00:04<00:14,  1.06s/it]\u001b[A\n",
      " 35%|███▌      | 7/20 [00:05<00:11,  1.13it/s]\u001b[A\n",
      " 40%|████      | 8/20 [00:06<00:11,  1.07it/s]\u001b[A\n",
      " 45%|████▌     | 9/20 [00:07<00:10,  1.01it/s]\u001b[A\n",
      " 50%|█████     | 10/20 [00:08<00:07,  1.26it/s]\u001b[A\n",
      " 55%|█████▌    | 11/20 [00:09<00:08,  1.06it/s]\u001b[A\n",
      " 60%|██████    | 12/20 [00:09<00:06,  1.23it/s]\u001b[A\n",
      " 65%|██████▌   | 13/20 [00:09<00:04,  1.61it/s]\u001b[A\n",
      " 70%|███████   | 14/20 [00:10<00:03,  1.66it/s]\u001b[A\n",
      " 75%|███████▌  | 15/20 [00:11<00:03,  1.60it/s]\u001b[A\n",
      " 80%|████████  | 16/20 [00:12<00:02,  1.47it/s]\u001b[A\n",
      " 85%|████████▌ | 17/20 [00:12<00:02,  1.41it/s]\u001b[A\n",
      " 90%|█████████ | 18/20 [00:14<00:01,  1.11it/s]\u001b[A\n",
      " 95%|█████████▌| 19/20 [00:14<00:00,  1.14it/s]\u001b[A\n",
      "100%|██████████| 20/20 [00:15<00:00,  1.28it/s]\u001b[A\n",
      " 50%|█████     | 7/14 [03:10<03:00, 25.79s/it]\n",
      "  0%|          | 0/10 [00:00<?, ?it/s]\u001b[A\n",
      " 20%|██        | 2/10 [00:00<00:00, 15.18it/s]\u001b[A\n",
      " 40%|████      | 4/10 [00:00<00:00, 10.03it/s]\u001b[A\n",
      " 60%|██████    | 6/10 [00:01<00:00,  4.33it/s]\u001b[A\n",
      " 70%|███████   | 7/10 [00:01<00:00,  4.26it/s]\u001b[A\n",
      " 80%|████████  | 8/10 [00:01<00:00,  4.87it/s]\u001b[A\n",
      " 90%|█████████ | 9/10 [00:01<00:00,  4.83it/s]\u001b[A\n",
      "100%|██████████| 10/10 [00:02<00:00,  4.28it/s]\u001b[A\n",
      " 57%|█████▋    | 8/14 [03:13<01:49, 18.32s/it]\n",
      "  0%|          | 0/59 [00:00<?, ?it/s]\u001b[A\n",
      "  3%|▎         | 2/59 [00:00<00:03, 14.72it/s]\u001b[A\n",
      "  7%|▋         | 4/59 [00:00<00:03, 14.22it/s]\u001b[A\n",
      " 10%|█         | 6/59 [00:00<00:06,  7.95it/s]\u001b[A\n",
      " 14%|█▎        | 8/59 [00:01<00:10,  5.06it/s]\u001b[A\n",
      " 15%|█▌        | 9/59 [00:01<00:13,  3.59it/s]\u001b[A\n",
      " 17%|█▋        | 10/59 [00:02<00:12,  3.99it/s]\u001b[A\n",
      " 20%|██        | 12/59 [00:02<00:12,  3.90it/s]\u001b[A\n",
      " 22%|██▏       | 13/59 [00:02<00:12,  3.57it/s]\u001b[A\n",
      " 25%|██▌       | 15/59 [00:03<00:09,  4.70it/s]\u001b[A\n",
      " 27%|██▋       | 16/59 [00:03<00:08,  5.12it/s]\u001b[A\n",
      " 29%|██▉       | 17/59 [00:03<00:09,  4.33it/s]\u001b[A\n",
      " 31%|███       | 18/59 [00:03<00:09,  4.19it/s]\u001b[A\n",
      " 32%|███▏      | 19/59 [00:04<00:15,  2.58it/s]\u001b[A\n",
      " 34%|███▍      | 20/59 [00:05<00:15,  2.60it/s]\u001b[A\n",
      " 36%|███▌      | 21/59 [00:05<00:13,  2.77it/s]\u001b[A\n",
      " 37%|███▋      | 22/59 [00:05<00:10,  3.46it/s]\u001b[A\n",
      " 39%|███▉      | 23/59 [00:05<00:12,  2.82it/s]\u001b[A\n",
      " 41%|████      | 24/59 [00:07<00:20,  1.68it/s]\u001b[A\n",
      " 42%|████▏     | 25/59 [00:07<00:16,  2.02it/s]\u001b[A\n",
      " 44%|████▍     | 26/59 [00:07<00:15,  2.13it/s]\u001b[A\n",
      " 46%|████▌     | 27/59 [00:08<00:13,  2.39it/s]\u001b[A\n",
      " 47%|████▋     | 28/59 [00:08<00:12,  2.53it/s]\u001b[A\n",
      " 49%|████▉     | 29/59 [00:08<00:10,  2.82it/s]\u001b[A\n",
      " 51%|█████     | 30/59 [00:08<00:08,  3.47it/s]\u001b[A\n",
      " 53%|█████▎    | 31/59 [00:08<00:06,  4.10it/s]\u001b[A\n",
      " 54%|█████▍    | 32/59 [00:09<00:08,  3.29it/s]\u001b[A\n",
      " 56%|█████▌    | 33/59 [00:09<00:07,  3.40it/s]\u001b[A\n",
      " 58%|█████▊    | 34/59 [00:09<00:06,  3.68it/s]\u001b[A\n",
      " 59%|█████▉    | 35/59 [00:10<00:06,  3.89it/s]\u001b[A\n",
      " 61%|██████    | 36/59 [00:10<00:05,  4.55it/s]\u001b[A\n",
      " 64%|██████▍   | 38/59 [00:10<00:03,  5.66it/s]\u001b[A\n",
      " 66%|██████▌   | 39/59 [00:10<00:04,  4.31it/s]\u001b[A\n",
      " 68%|██████▊   | 40/59 [00:11<00:05,  3.60it/s]\u001b[A\n",
      " 69%|██████▉   | 41/59 [00:11<00:04,  4.34it/s]\u001b[A\n",
      " 73%|███████▎  | 43/59 [00:11<00:02,  6.04it/s]\u001b[A\n",
      " 76%|███████▋  | 45/59 [00:12<00:03,  4.24it/s]\u001b[A\n",
      " 78%|███████▊  | 46/59 [00:12<00:02,  4.73it/s]\u001b[A\n",
      " 80%|███████▉  | 47/59 [00:12<00:02,  4.34it/s]\u001b[A\n",
      " 81%|████████▏ | 48/59 [00:13<00:02,  3.79it/s]\u001b[A\n",
      " 83%|████████▎ | 49/59 [00:13<00:02,  3.79it/s]\u001b[A\n",
      " 86%|████████▋ | 51/59 [00:13<00:01,  4.87it/s]\u001b[A\n",
      " 88%|████████▊ | 52/59 [00:13<00:01,  4.68it/s]\u001b[A\n",
      " 90%|████████▉ | 53/59 [00:14<00:01,  3.27it/s]\u001b[A\n",
      " 92%|█████████▏| 54/59 [00:14<00:01,  3.87it/s]\u001b[A\n",
      " 93%|█████████▎| 55/59 [00:14<00:00,  4.65it/s]\u001b[A\n",
      " 95%|█████████▍| 56/59 [00:14<00:00,  4.82it/s]\u001b[A\n",
      " 97%|█████████▋| 57/59 [00:15<00:00,  3.83it/s]\u001b[A\n",
      " 98%|█████████▊| 58/59 [00:15<00:00,  3.34it/s]\u001b[A\n",
      "100%|██████████| 59/59 [00:15<00:00,  3.71it/s]\u001b[A\n",
      " 64%|██████▍   | 9/14 [03:28<01:27, 17.57s/it]\n",
      "  0%|          | 0/47 [00:00<?, ?it/s]\u001b[A\n",
      "  4%|▍         | 2/47 [00:00<00:11,  3.96it/s]\u001b[A\n",
      "  6%|▋         | 3/47 [00:00<00:11,  3.69it/s]\u001b[A\n",
      " 11%|█         | 5/47 [00:01<00:08,  5.08it/s]\u001b[A\n",
      " 15%|█▍        | 7/47 [00:01<00:06,  6.28it/s]\u001b[A\n",
      " 17%|█▋        | 8/47 [00:01<00:06,  6.44it/s]\u001b[A\n",
      " 19%|█▉        | 9/47 [00:01<00:05,  7.05it/s]\u001b[A\n",
      " 21%|██▏       | 10/47 [00:01<00:08,  4.51it/s]\u001b[A\n",
      " 23%|██▎       | 11/47 [00:02<00:07,  5.01it/s]\u001b[A\n",
      " 28%|██▊       | 13/47 [00:02<00:05,  6.16it/s]\u001b[A\n",
      " 30%|██▉       | 14/47 [00:02<00:05,  5.51it/s]\u001b[A\n",
      " 32%|███▏      | 15/47 [00:02<00:05,  5.83it/s]\u001b[A\n",
      " 34%|███▍      | 16/47 [00:03<00:06,  5.03it/s]\u001b[A\n",
      " 36%|███▌      | 17/47 [00:03<00:08,  3.65it/s]\u001b[A\n",
      " 38%|███▊      | 18/47 [00:03<00:07,  3.76it/s]\u001b[A\n",
      " 40%|████      | 19/47 [00:04<00:08,  3.46it/s]\u001b[A\n",
      " 43%|████▎     | 20/47 [00:04<00:08,  3.28it/s]\u001b[A\n",
      " 45%|████▍     | 21/47 [00:04<00:07,  3.33it/s]\u001b[A\n",
      " 47%|████▋     | 22/47 [00:05<00:09,  2.63it/s]\u001b[A\n",
      " 49%|████▉     | 23/47 [00:05<00:07,  3.13it/s]\u001b[A\n",
      " 51%|█████     | 24/47 [00:05<00:08,  2.61it/s]\u001b[A\n",
      " 53%|█████▎    | 25/47 [00:06<00:07,  3.07it/s]\u001b[A\n",
      " 55%|█████▌    | 26/47 [00:06<00:06,  3.01it/s]\u001b[A\n",
      " 57%|█████▋    | 27/47 [00:06<00:05,  3.56it/s]\u001b[A\n",
      " 60%|█████▉    | 28/47 [00:06<00:04,  4.16it/s]\u001b[A\n",
      " 62%|██████▏   | 29/47 [00:07<00:04,  4.36it/s]\u001b[A\n",
      " 64%|██████▍   | 30/47 [00:07<00:05,  2.97it/s]\u001b[A\n",
      " 68%|██████▊   | 32/47 [00:07<00:03,  3.93it/s]\u001b[A\n",
      " 70%|███████   | 33/47 [00:08<00:05,  2.80it/s]\u001b[A\n",
      " 72%|███████▏  | 34/47 [00:08<00:04,  3.11it/s]\u001b[A\n",
      " 74%|███████▍  | 35/47 [00:08<00:03,  3.68it/s]\u001b[A\n",
      " 79%|███████▊  | 37/47 [00:09<00:01,  5.04it/s]\u001b[A\n",
      " 83%|████████▎ | 39/47 [00:09<00:01,  6.23it/s]\u001b[A\n",
      " 85%|████████▌ | 40/47 [00:09<00:01,  6.25it/s]\u001b[A\n",
      " 87%|████████▋ | 41/47 [00:09<00:01,  5.13it/s]\u001b[A\n",
      " 91%|█████████▏| 43/47 [00:10<00:00,  6.57it/s]\u001b[A\n",
      " 94%|█████████▎| 44/47 [00:10<00:00,  5.80it/s]\u001b[A\n",
      " 96%|█████████▌| 45/47 [00:10<00:00,  4.46it/s]\u001b[A\n",
      " 98%|█████████▊| 46/47 [00:10<00:00,  4.82it/s]\u001b[A\n",
      "100%|██████████| 47/47 [00:11<00:00,  4.22it/s]\u001b[A\n",
      " 71%|███████▏  | 10/14 [03:40<01:02, 15.59s/it]\n",
      "  0%|          | 0/45 [00:00<?, ?it/s]\u001b[A\n",
      "  2%|▏         | 1/45 [00:00<00:13,  3.26it/s]\u001b[A\n",
      "  4%|▍         | 2/45 [00:00<00:14,  2.99it/s]\u001b[A\n",
      "  7%|▋         | 3/45 [00:01<00:16,  2.53it/s]\u001b[A\n",
      "  9%|▉         | 4/45 [00:01<00:15,  2.63it/s]\u001b[A\n",
      " 11%|█         | 5/45 [00:01<00:14,  2.74it/s]\u001b[A\n",
      " 13%|█▎        | 6/45 [00:02<00:20,  1.88it/s]\u001b[A\n",
      " 16%|█▌        | 7/45 [00:02<00:15,  2.51it/s]\u001b[A\n",
      " 18%|█▊        | 8/45 [00:03<00:13,  2.77it/s]\u001b[A\n",
      " 20%|██        | 9/45 [00:03<00:10,  3.29it/s]\u001b[A\n",
      " 22%|██▏       | 10/45 [00:03<00:12,  2.73it/s]\u001b[A\n",
      " 24%|██▍       | 11/45 [00:04<00:11,  3.06it/s]\u001b[A\n",
      " 27%|██▋       | 12/45 [00:05<00:22,  1.45it/s]\u001b[A\n",
      " 29%|██▉       | 13/45 [00:06<00:20,  1.56it/s]\u001b[A\n",
      " 31%|███       | 14/45 [00:06<00:16,  1.90it/s]\u001b[A\n",
      " 33%|███▎      | 15/45 [00:06<00:13,  2.22it/s]\u001b[A\n",
      " 36%|███▌      | 16/45 [00:07<00:13,  2.19it/s]\u001b[A\n",
      " 38%|███▊      | 17/45 [00:07<00:14,  1.97it/s]\u001b[A\n",
      " 40%|████      | 18/45 [00:08<00:12,  2.12it/s]\u001b[A\n",
      " 42%|████▏     | 19/45 [00:08<00:12,  2.06it/s]\u001b[A\n",
      " 44%|████▍     | 20/45 [00:09<00:12,  2.06it/s]\u001b[A\n",
      " 47%|████▋     | 21/45 [00:09<00:10,  2.35it/s]\u001b[A\n",
      " 49%|████▉     | 22/45 [00:09<00:08,  2.56it/s]\u001b[A\n",
      " 51%|█████     | 23/45 [00:10<00:11,  1.91it/s]\u001b[A\n",
      " 53%|█████▎    | 24/45 [00:10<00:08,  2.42it/s]\u001b[A\n",
      " 56%|█████▌    | 25/45 [00:11<00:08,  2.47it/s]\u001b[A\n",
      " 58%|█████▊    | 26/45 [00:11<00:07,  2.70it/s]\u001b[A\n",
      " 60%|██████    | 27/45 [00:11<00:07,  2.48it/s]\u001b[A\n",
      " 62%|██████▏   | 28/45 [00:12<00:08,  1.95it/s]\u001b[A\n",
      " 64%|██████▍   | 29/45 [00:12<00:07,  2.25it/s]\u001b[A\n",
      " 67%|██████▋   | 30/45 [00:13<00:07,  1.89it/s]\u001b[A\n",
      " 69%|██████▉   | 31/45 [00:13<00:05,  2.48it/s]\u001b[A\n",
      " 71%|███████   | 32/45 [00:14<00:06,  2.03it/s]\u001b[A\n",
      " 73%|███████▎  | 33/45 [00:14<00:04,  2.40it/s]\u001b[A\n",
      " 76%|███████▌  | 34/45 [00:15<00:04,  2.48it/s]\u001b[A\n",
      " 78%|███████▊  | 35/45 [00:15<00:03,  2.71it/s]\u001b[A\n",
      " 80%|████████  | 36/45 [00:15<00:02,  3.27it/s]\u001b[A\n",
      " 82%|████████▏ | 37/45 [00:15<00:02,  2.94it/s]\u001b[A\n",
      " 84%|████████▍ | 38/45 [00:16<00:02,  3.47it/s]\u001b[A\n",
      " 87%|████████▋ | 39/45 [00:16<00:02,  2.98it/s]\u001b[A\n",
      " 89%|████████▉ | 40/45 [00:16<00:01,  2.88it/s]\u001b[A\n",
      " 91%|█████████ | 41/45 [00:17<00:01,  3.50it/s]\u001b[A\n",
      " 93%|█████████▎| 42/45 [00:17<00:00,  3.99it/s]\u001b[A\n",
      " 96%|█████████▌| 43/45 [00:17<00:00,  3.84it/s]\u001b[A\n",
      " 98%|█████████▊| 44/45 [00:18<00:00,  2.38it/s]\u001b[A\n",
      "100%|██████████| 45/45 [00:19<00:00,  2.36it/s]\u001b[A\n",
      " 79%|███████▊  | 11/14 [03:59<00:49, 16.65s/it]\n",
      "  0%|          | 0/16 [00:00<?, ?it/s]\u001b[A\n",
      "  6%|▋         | 1/16 [00:00<00:09,  1.59it/s]\u001b[A\n",
      " 12%|█▎        | 2/16 [00:00<00:05,  2.42it/s]\u001b[A\n",
      " 19%|█▉        | 3/16 [00:01<00:04,  2.92it/s]\u001b[A\n",
      " 25%|██▌       | 4/16 [00:01<00:04,  2.53it/s]\u001b[A\n",
      " 31%|███▏      | 5/16 [00:02<00:04,  2.57it/s]\u001b[A\n",
      " 38%|███▊      | 6/16 [00:02<00:03,  2.81it/s]\u001b[A\n",
      " 44%|████▍     | 7/16 [00:03<00:06,  1.48it/s]\u001b[A\n",
      " 50%|█████     | 8/16 [00:04<00:05,  1.48it/s]\u001b[A\n",
      " 56%|█████▋    | 9/16 [00:04<00:03,  1.98it/s]\u001b[A\n",
      " 62%|██████▎   | 10/16 [00:06<00:05,  1.13it/s]\u001b[A\n",
      " 69%|██████▉   | 11/16 [00:06<00:03,  1.33it/s]\u001b[A\n",
      " 75%|███████▌  | 12/16 [00:06<00:02,  1.63it/s]\u001b[A\n",
      " 81%|████████▏ | 13/16 [00:07<00:01,  1.86it/s]\u001b[A\n",
      " 88%|████████▊ | 14/16 [00:08<00:01,  1.14it/s]\u001b[A\n",
      " 94%|█████████▍| 15/16 [00:10<00:00,  1.04it/s]\u001b[A\n",
      "100%|██████████| 16/16 [00:10<00:00,  1.49it/s]\u001b[A\n",
      " 86%|████████▌ | 12/14 [04:09<00:29, 14.85s/it]\n",
      "  0%|          | 0/66 [00:00<?, ?it/s]\u001b[A\n",
      "  2%|▏         | 1/66 [00:00<00:17,  3.75it/s]\u001b[A\n",
      "  3%|▎         | 2/66 [00:00<00:14,  4.27it/s]\u001b[A\n",
      "  5%|▍         | 3/66 [00:00<00:11,  5.25it/s]\u001b[A\n",
      "  8%|▊         | 5/66 [00:01<00:11,  5.19it/s]\u001b[A\n",
      " 11%|█         | 7/66 [00:01<00:07,  7.46it/s]\u001b[A\n",
      " 14%|█▎        | 9/66 [00:01<00:06,  9.35it/s]\u001b[A\n",
      " 17%|█▋        | 11/66 [00:01<00:05, 10.89it/s]\u001b[A\n",
      " 20%|█▉        | 13/66 [00:01<00:05,  9.12it/s]\u001b[A\n",
      " 23%|██▎       | 15/66 [00:01<00:06,  8.41it/s]\u001b[A\n",
      " 26%|██▌       | 17/66 [00:02<00:06,  7.55it/s]\u001b[A\n",
      " 27%|██▋       | 18/66 [00:02<00:08,  5.48it/s]\u001b[A\n",
      " 29%|██▉       | 19/66 [00:03<00:10,  4.65it/s]\u001b[A\n",
      " 30%|███       | 20/66 [00:03<00:08,  5.16it/s]\u001b[A\n",
      " 32%|███▏      | 21/66 [00:03<00:10,  4.48it/s]\u001b[A\n",
      " 33%|███▎      | 22/66 [00:03<00:13,  3.25it/s]\u001b[A\n",
      " 35%|███▍      | 23/66 [00:04<00:12,  3.39it/s]\u001b[A\n",
      " 36%|███▋      | 24/66 [00:04<00:10,  3.97it/s]\u001b[A\n",
      " 38%|███▊      | 25/66 [00:04<00:08,  4.77it/s]\u001b[A\n",
      " 39%|███▉      | 26/66 [00:04<00:07,  5.44it/s]\u001b[A\n",
      " 42%|████▏     | 28/66 [00:04<00:05,  7.45it/s]\u001b[A\n",
      " 44%|████▍     | 29/66 [00:05<00:07,  5.28it/s]\u001b[A\n",
      " 47%|████▋     | 31/66 [00:05<00:04,  7.45it/s]\u001b[A\n",
      " 50%|█████     | 33/66 [00:05<00:04,  8.17it/s]\u001b[A\n",
      " 55%|█████▍    | 36/66 [00:05<00:02, 10.84it/s]\u001b[A\n",
      " 58%|█████▊    | 38/66 [00:05<00:02, 11.29it/s]\u001b[A\n",
      " 61%|██████    | 40/66 [00:06<00:02,  9.89it/s]\u001b[A\n",
      " 64%|██████▎   | 42/66 [00:06<00:03,  7.89it/s]\u001b[A\n",
      " 65%|██████▌   | 43/66 [00:06<00:02,  8.02it/s]\u001b[A\n",
      " 68%|██████▊   | 45/66 [00:06<00:02,  8.33it/s]\u001b[A\n",
      " 70%|██████▉   | 46/66 [00:06<00:02,  8.24it/s]\u001b[A\n",
      " 71%|███████   | 47/66 [00:07<00:02,  7.59it/s]\u001b[A\n",
      " 73%|███████▎  | 48/66 [00:07<00:02,  6.88it/s]\u001b[A\n",
      " 74%|███████▍  | 49/66 [00:07<00:03,  5.53it/s]\u001b[A\n",
      " 77%|███████▋  | 51/66 [00:07<00:02,  6.82it/s]\u001b[A\n",
      " 79%|███████▉  | 52/66 [00:07<00:02,  6.33it/s]\u001b[A\n",
      " 80%|████████  | 53/66 [00:08<00:02,  6.45it/s]\u001b[A\n",
      " 82%|████████▏ | 54/66 [00:08<00:01,  6.45it/s]\u001b[A\n",
      " 83%|████████▎ | 55/66 [00:08<00:02,  5.42it/s]\u001b[A\n",
      " 86%|████████▋ | 57/66 [00:09<00:01,  4.56it/s]\u001b[A\n",
      " 88%|████████▊ | 58/66 [00:09<00:02,  3.89it/s]\u001b[A\n",
      " 91%|█████████ | 60/66 [00:09<00:01,  4.03it/s]\u001b[A\n",
      " 94%|█████████▍| 62/66 [00:10<00:00,  4.97it/s]\u001b[A\n",
      " 95%|█████████▌| 63/66 [00:10<00:00,  5.19it/s]\u001b[A\n",
      " 97%|█████████▋| 64/66 [00:10<00:00,  5.07it/s]\u001b[A\n",
      " 98%|█████████▊| 65/66 [00:10<00:00,  5.71it/s]\u001b[A\n",
      "100%|██████████| 66/66 [00:11<00:00,  5.89it/s]\u001b[A\n",
      " 93%|█████████▎| 13/14 [04:21<00:13, 13.74s/it]\n",
      "  0%|          | 0/38 [00:00<?, ?it/s]\u001b[A\n",
      "  3%|▎         | 1/38 [00:00<00:04,  7.82it/s]\u001b[A\n",
      "  5%|▌         | 2/38 [00:00<00:05,  6.49it/s]\u001b[A\n",
      " 11%|█         | 4/38 [00:00<00:05,  6.56it/s]\u001b[A\n",
      " 16%|█▌        | 6/38 [00:00<00:05,  6.28it/s]\u001b[A\n",
      " 18%|█▊        | 7/38 [00:01<00:11,  2.69it/s]\u001b[A\n",
      " 21%|██        | 8/38 [00:02<00:10,  2.96it/s]\u001b[A\n",
      " 24%|██▎       | 9/38 [00:02<00:08,  3.44it/s]\u001b[A\n",
      " 26%|██▋       | 10/38 [00:02<00:07,  3.78it/s]\u001b[A\n",
      " 29%|██▉       | 11/38 [00:02<00:06,  3.95it/s]\u001b[A\n",
      " 32%|███▏      | 12/38 [00:03<00:06,  3.93it/s]\u001b[A\n",
      " 34%|███▍      | 13/38 [00:03<00:06,  3.61it/s]\u001b[A\n",
      " 37%|███▋      | 14/38 [00:03<00:05,  4.05it/s]\u001b[A\n",
      " 39%|███▉      | 15/38 [00:03<00:06,  3.56it/s]\u001b[A\n",
      " 42%|████▏     | 16/38 [00:04<00:05,  3.83it/s]\u001b[A\n",
      " 47%|████▋     | 18/38 [00:04<00:05,  3.80it/s]\u001b[A\n",
      " 50%|█████     | 19/38 [00:04<00:05,  3.51it/s]\u001b[A\n",
      " 53%|█████▎    | 20/38 [00:05<00:04,  4.21it/s]\u001b[A\n",
      " 55%|█████▌    | 21/38 [00:05<00:04,  3.90it/s]\u001b[A\n",
      " 58%|█████▊    | 22/38 [00:05<00:04,  3.45it/s]\u001b[A\n",
      " 61%|██████    | 23/38 [00:06<00:04,  3.38it/s]\u001b[A\n",
      " 63%|██████▎   | 24/38 [00:06<00:04,  3.05it/s]\u001b[A\n",
      " 66%|██████▌   | 25/38 [00:07<00:05,  2.43it/s]\u001b[A\n",
      " 68%|██████▊   | 26/38 [00:07<00:04,  2.66it/s]\u001b[A\n",
      " 71%|███████   | 27/38 [00:07<00:03,  3.36it/s]\u001b[A\n",
      " 74%|███████▎  | 28/38 [00:07<00:02,  3.42it/s]\u001b[A\n",
      " 76%|███████▋  | 29/38 [00:08<00:04,  1.90it/s]\u001b[A\n",
      " 79%|███████▉  | 30/38 [00:09<00:03,  2.14it/s]\u001b[A\n",
      " 82%|████████▏ | 31/38 [00:10<00:04,  1.66it/s]\u001b[A\n",
      " 84%|████████▍ | 32/38 [00:10<00:03,  1.58it/s]\u001b[A\n",
      " 87%|████████▋ | 33/38 [00:11<00:03,  1.61it/s]\u001b[A\n",
      " 89%|████████▉ | 34/38 [00:11<00:02,  1.93it/s]\u001b[A\n",
      " 92%|█████████▏| 35/38 [00:12<00:01,  2.10it/s]\u001b[A\n",
      " 95%|█████████▍| 36/38 [00:12<00:00,  2.01it/s]\u001b[A\n",
      "100%|██████████| 38/38 [00:13<00:00,  2.89it/s]\u001b[A\n",
      "100%|██████████| 14/14 [04:34<00:00, 19.59s/it]\n"
     ]
    }
   ],
   "source": [
    "from general_utils import get_videos\n",
    "\n",
    "videos = get_videos(filmnames, shots_data_path, dec_rate)"
   ]
  },
  {
   "cell_type": "markdown",
   "id": "ac1c34b0",
   "metadata": {},
   "source": [
    "### Tracking data"
   ]
  },
  {
   "cell_type": "code",
   "execution_count": 6,
   "id": "5e0214f6",
   "metadata": {},
   "outputs": [],
   "source": [
    "with open(f'graphen_tracking_final.pickle', 'rb') as handle:\n",
    "    graphen_tr = pickle.load(handle)"
   ]
  },
  {
   "cell_type": "code",
   "execution_count": 7,
   "id": "ada6e9cc",
   "metadata": {},
   "outputs": [],
   "source": [
    "with open(f'evg_tracking_final.pickle', 'rb') as handle:\n",
    "    evg_tr = pickle.load(handle)"
   ]
  },
  {
   "cell_type": "markdown",
   "id": "8b91b70a",
   "metadata": {},
   "source": [
    "## SSGG"
   ]
  },
  {
   "cell_type": "code",
   "execution_count": 8,
   "id": "024aa837",
   "metadata": {},
   "outputs": [],
   "source": [
    "from transformers import AutoImageProcessor, ViTModel, AutoTokenizer, BertModel\n",
    "import torch\n",
    "\n",
    "import scipy.io.wavfile as wav\n",
    "import numpy as np\n",
    "import speechpy\n",
    "import moviepy.editor as mp\n",
    "\n",
    "import os"
   ]
  },
  {
   "cell_type": "markdown",
   "id": "f388e249",
   "metadata": {},
   "source": [
    "### A is for sudio feature"
   ]
  },
  {
   "cell_type": "code",
   "execution_count": 9,
   "id": "d36fa322",
   "metadata": {},
   "outputs": [
    {
     "name": "stderr",
     "output_type": "stream",
     "text": [
      "100%|██████████| 67/67 [00:33<00:00,  2.01it/s]\n",
      "100%|██████████| 44/44 [00:21<00:00,  2.01it/s]\n",
      "100%|██████████| 45/45 [00:30<00:00,  1.46it/s]\n",
      "100%|██████████| 23/23 [00:27<00:00,  1.19s/it]\n",
      "100%|██████████| 66/66 [00:33<00:00,  2.00it/s]\n",
      "100%|██████████| 75/75 [00:30<00:00,  2.42it/s]\n",
      "100%|██████████| 20/20 [00:14<00:00,  1.42it/s]\n",
      "100%|██████████| 10/10 [00:06<00:00,  1.65it/s]\n",
      "100%|██████████| 59/59 [00:34<00:00,  1.69it/s]\n",
      "100%|██████████| 47/47 [00:33<00:00,  1.40it/s]\n",
      "100%|██████████| 45/45 [00:20<00:00,  2.25it/s]\n",
      "100%|██████████| 16/16 [00:12<00:00,  1.31it/s]\n",
      "100%|██████████| 66/66 [00:37<00:00,  1.77it/s]\n",
      "100%|██████████| 38/38 [00:20<00:00,  1.83it/s]\n"
     ]
    }
   ],
   "source": [
    "A = {filmname:[] for filmname in filmnames} \n",
    "\n",
    "for filmname in filmnames:\n",
    "    film_embs = []\n",
    "    \n",
    "    for scene_idx in tqdm(range(len(videos[filmname]))):\n",
    "        scene_id = scene_idx+1\n",
    "        file_name = f\"extracted_scene_audio/{filmname}-{scene_id}.wav\"\n",
    "        fs, signal = wav.read(file_name)\n",
    "        signal = signal[:,0]\n",
    "        \n",
    "        mfcc = speechpy.feature.mfcc(signal, sampling_frequency=fs)\n",
    "        lmfe = speechpy.feature.lmfe(signal, sampling_frequency=fs)\n",
    "        film_embs.append(np.concatenate((np.mean(mfcc, axis=0), np.mean(lmfe, axis=0))))\n",
    "    A[filmname] = film_embs"
   ]
  },
  {
   "cell_type": "code",
   "execution_count": 10,
   "id": "9956d1b1",
   "metadata": {},
   "outputs": [],
   "source": [
    "for filmname in filmnames:\n",
    "    for i in range(len(A[filmname])):\n",
    "        A[filmname][i] = torch.Tensor(A[filmname][i])"
   ]
  },
  {
   "cell_type": "markdown",
   "id": "37e445e1",
   "metadata": {},
   "source": [
    "### T is for textual feature"
   ]
  },
  {
   "cell_type": "code",
   "execution_count": 11,
   "id": "3c3fef19",
   "metadata": {},
   "outputs": [
    {
     "name": "stderr",
     "output_type": "stream",
     "text": [
      "100%|██████████| 14/14 [00:00<00:00, 180.13it/s]\n"
     ]
    }
   ],
   "source": [
    "seg_path = '../DVUChallenge/dev_dataset/scene.segmentation.reference/'\n",
    "\n",
    "seg_refs = {filmname:pd.read_csv(seg_path + filmname + '.csv',  names=['start', 'end']) for filmname in tqdm(filmnames)}"
   ]
  },
  {
   "cell_type": "code",
   "execution_count": 12,
   "id": "1e6f2ae5",
   "metadata": {},
   "outputs": [
    {
     "name": "stderr",
     "output_type": "stream",
     "text": [
      "100%|██████████| 14/14 [00:00<00:00, 7121.92it/s]\n"
     ]
    }
   ],
   "source": [
    "def to_seconds(item):\n",
    "    split_item = item.split(':')\n",
    "    split_item = [int(dimension) for dimension in split_item]\n",
    "    return split_item[0]*3600 + split_item[1]*60 + split_item[2]\n",
    "\n",
    "def seg_processing(seg_refs, filmname):\n",
    "    data = seg_refs.values\n",
    "    data = [[to_seconds(pair[0].replace(';', ':')), to_seconds(pair[1].replace(';', ':'))] for pair in data]\n",
    "    return data\n",
    "\n",
    "seg_refs = {filmname:seg_processing(seg_refs[filmname], filmname) for filmname in tqdm(seg_refs)}"
   ]
  },
  {
   "cell_type": "code",
   "execution_count": 13,
   "id": "26ff116b",
   "metadata": {},
   "outputs": [],
   "source": [
    "raw_subtitles = {filmname:pickle.load(open('transcribed_results/' + filmname + '.pickle', \"rb\")) for filmname in filmnames}"
   ]
  },
  {
   "cell_type": "code",
   "execution_count": 14,
   "id": "d247b764",
   "metadata": {},
   "outputs": [],
   "source": [
    "films_subtitles = {filmname:[] for filmname in filmnames}\n",
    "\n",
    "for filmname in filmnames:\n",
    "    seg_ref = seg_refs[filmname]\n",
    "    raw_subtitle = raw_subtitles[filmname]['segments']\n",
    "    subtitle_idx = 0\n",
    "    \n",
    "    film_subtitles = []\n",
    "    \n",
    "    for scene_borders in seg_ref:\n",
    "        scene_subtitles = []\n",
    "        for subtitle_idx in range(len(raw_subtitle)):\n",
    "            if (raw_subtitle[subtitle_idx]['end'] <= scene_borders[1]) and (raw_subtitle[subtitle_idx]['start'] >= scene_borders[0]):\n",
    "                scene_subtitles.append(raw_subtitle[subtitle_idx]['text'])\n",
    "            else:\n",
    "                continue\n",
    "        film_subtitles.append(scene_subtitles)\n",
    "    films_subtitles[filmname] = film_subtitles"
   ]
  },
  {
   "cell_type": "code",
   "execution_count": 15,
   "id": "0b2fe273",
   "metadata": {},
   "outputs": [],
   "source": [
    "def process_text(text_array):\n",
    "    \n",
    "    text_blocks = []\n",
    "    text_block = []\n",
    "\n",
    "    for i, item in enumerate(text_array):\n",
    "        if item.strip()[-1] != '.' and item.strip()[-1] != '?' and item.strip()[-1] != '!':\n",
    "            text_block.append(item.strip())\n",
    "        else:\n",
    "            text_block.append(item.strip())\n",
    "#            print(' '.join(text_block))\n",
    "            text_blocks.append(' '.join(text_block))\n",
    "            text_block = []\n",
    "    return text_blocks"
   ]
  },
  {
   "cell_type": "code",
   "execution_count": 16,
   "id": "38de2e9c",
   "metadata": {},
   "outputs": [],
   "source": [
    "for filmname in filmnames:\n",
    "    for scene_idx in range(len(films_subtitles[filmname])):\n",
    "        raw_text = films_subtitles[filmname][scene_idx]\n",
    "        films_subtitles[filmname][scene_idx] = process_text(raw_text)"
   ]
  },
  {
   "cell_type": "code",
   "execution_count": 17,
   "id": "7f38a561",
   "metadata": {},
   "outputs": [
    {
     "name": "stderr",
     "output_type": "stream",
     "text": [
      "Some weights of the model checkpoint at bert-base-uncased were not used when initializing BertModel: ['cls.seq_relationship.weight', 'cls.predictions.bias', 'cls.predictions.transform.LayerNorm.weight', 'cls.predictions.transform.LayerNorm.bias', 'cls.seq_relationship.bias', 'cls.predictions.transform.dense.weight', 'cls.predictions.decoder.weight', 'cls.predictions.transform.dense.bias']\n",
      "- This IS expected if you are initializing BertModel from the checkpoint of a model trained on another task or with another architecture (e.g. initializing a BertForSequenceClassification model from a BertForPreTraining model).\n",
      "- This IS NOT expected if you are initializing BertModel from the checkpoint of a model that you expect to be exactly identical (initializing a BertForSequenceClassification model from a BertForSequenceClassification model).\n"
     ]
    }
   ],
   "source": [
    "tokenizer = AutoTokenizer.from_pretrained(\"bert-base-uncased\")\n",
    "bert_model = BertModel.from_pretrained(\"bert-base-uncased\").to('cuda:0')"
   ]
  },
  {
   "cell_type": "code",
   "execution_count": 18,
   "id": "00a0e9f9",
   "metadata": {},
   "outputs": [
    {
     "name": "stderr",
     "output_type": "stream",
     "text": [
      "100%|██████████| 67/67 [00:13<00:00,  5.11it/s]\n",
      "100%|██████████| 44/44 [00:03<00:00, 13.34it/s]\n",
      "100%|██████████| 45/45 [00:00<00:00, 365.08it/s]\n",
      "100%|██████████| 23/23 [00:10<00:00,  2.26it/s]\n",
      "100%|██████████| 66/66 [00:07<00:00,  8.79it/s]\n",
      "100%|██████████| 75/75 [00:07<00:00, 10.46it/s]\n",
      "100%|██████████| 20/20 [00:04<00:00,  4.34it/s]\n",
      "100%|██████████| 10/10 [00:01<00:00,  9.66it/s]\n",
      "100%|██████████| 59/59 [00:11<00:00,  5.12it/s]\n",
      "100%|██████████| 47/47 [00:10<00:00,  4.35it/s]\n",
      "100%|██████████| 45/45 [00:04<00:00, 10.40it/s]\n",
      "100%|██████████| 16/16 [00:00<00:00, 18.81it/s]\n",
      "100%|██████████| 66/66 [00:11<00:00,  5.79it/s]\n",
      "100%|██████████| 38/38 [00:04<00:00,  8.30it/s]\n"
     ]
    }
   ],
   "source": [
    "T = {filmname:[] for filmname in filmnames} \n",
    "\n",
    "for filmname in filmnames:\n",
    "    film_embs = []\n",
    "    \n",
    "    for scene_idx in tqdm(range(len(films_subtitles[filmname]))):\n",
    "        scene_embs = []\n",
    "        \n",
    "        for sentence in films_subtitles[filmname][scene_idx]:\n",
    "            \n",
    "            bert_inputs = tokenizer(sentence, return_tensors=\"pt\").to('cuda:0')\n",
    "            \n",
    "            with torch.no_grad():\n",
    "                bert_outputs = bert_model(**bert_inputs)\n",
    "            bert_embedding = bert_outputs.pooler_output\n",
    "            scene_embs.append(bert_embedding)\n",
    "            \n",
    "        if len(scene_embs) > 0:\n",
    "            scene_embs = torch.stack(scene_embs)\n",
    "        else:\n",
    "            scene_embs = torch.zeros(2, 1, 768)\n",
    "\n",
    "        film_embs.append(torch.mean(scene_embs, axis=0).detach().cpu())\n",
    "    T[filmname].append(film_embs)"
   ]
  },
  {
   "cell_type": "code",
   "execution_count": 19,
   "id": "547a5d06",
   "metadata": {},
   "outputs": [],
   "source": [
    "T = {filmname:T[filmname][0] for filmname in filmnames}"
   ]
  },
  {
   "cell_type": "markdown",
   "id": "b5efd1b5",
   "metadata": {},
   "source": [
    "### V is for visual feature"
   ]
  },
  {
   "cell_type": "code",
   "execution_count": 20,
   "id": "9c383cee",
   "metadata": {},
   "outputs": [],
   "source": [
    "image_processor = AutoImageProcessor.from_pretrained(\"google/vit-base-patch16-224-in21k\")\n",
    "vit_model = ViTModel.from_pretrained(\"google/vit-base-patch16-224-in21k\").to('cuda:0')"
   ]
  },
  {
   "cell_type": "code",
   "execution_count": 21,
   "id": "761d0f2f",
   "metadata": {},
   "outputs": [
    {
     "name": "stderr",
     "output_type": "stream",
     "text": [
      "100%|██████████| 67/67 [00:40<00:00,  1.65it/s]\n",
      "100%|██████████| 44/44 [00:23<00:00,  1.86it/s]\n",
      "100%|██████████| 45/45 [00:36<00:00,  1.25it/s]\n",
      "100%|██████████| 23/23 [00:29<00:00,  1.26s/it]\n",
      "100%|██████████| 66/66 [00:39<00:00,  1.67it/s]\n",
      "100%|██████████| 75/75 [00:34<00:00,  2.17it/s]\n",
      "100%|██████████| 20/20 [00:15<00:00,  1.27it/s]\n",
      "100%|██████████| 10/10 [00:05<00:00,  1.67it/s]\n",
      "100%|██████████| 59/59 [00:32<00:00,  1.83it/s]\n",
      "100%|██████████| 47/47 [00:30<00:00,  1.56it/s]\n",
      "100%|██████████| 45/45 [00:17<00:00,  2.51it/s]\n",
      "100%|██████████| 16/16 [00:10<00:00,  1.55it/s]\n",
      "100%|██████████| 66/66 [00:27<00:00,  2.36it/s]\n",
      "100%|██████████| 38/38 [00:20<00:00,  1.88it/s]\n"
     ]
    }
   ],
   "source": [
    "V = {filmname:[] for filmname in filmnames} \n",
    "\n",
    "for filmname in filmnames:\n",
    "    film = videos[filmname]\n",
    "    film_embs = []\n",
    "    for scene in tqdm(film):\n",
    "        scene_embs = []\n",
    "        for frame in scene:\n",
    "            vit_inputs = image_processor(frame, return_tensors=\"pt\").to('cuda:0')\n",
    "\n",
    "            with torch.no_grad():\n",
    "                vit_outputs = vit_model(**vit_inputs)\n",
    "            vit_embedding = vit_outputs.pooler_output\n",
    "            scene_embs.append(vit_embedding)\n",
    "        scene_embs = torch.stack(scene_embs)\n",
    "        film_embs.append(torch.mean(scene_embs, axis=0).detach().cpu())\n",
    "    V[filmname].append(film_embs)"
   ]
  },
  {
   "cell_type": "code",
   "execution_count": 22,
   "id": "56f860b2",
   "metadata": {},
   "outputs": [],
   "source": [
    "V = {filmname:V[filmname][0] for filmname in filmnames}"
   ]
  },
  {
   "cell_type": "code",
   "execution_count": 23,
   "id": "edd64cde",
   "metadata": {},
   "outputs": [
    {
     "data": {
      "text/plain": [
       "(44, 1, 768)"
      ]
     },
     "execution_count": 23,
     "metadata": {},
     "output_type": "execute_result"
    }
   ],
   "source": [
    "len(V['Manos']), len(V['Manos'][0]), len(V['Manos'][0][0])"
   ]
  },
  {
   "cell_type": "markdown",
   "id": "d0360870",
   "metadata": {},
   "source": [
    "### Action prediction"
   ]
  },
  {
   "cell_type": "code",
   "execution_count": 24,
   "id": "2194260b",
   "metadata": {},
   "outputs": [],
   "source": [
    "attributes = scene_vocab['interactions'][0]['values']\n",
    "ints = [attribute['value'] for attribute in attributes]"
   ]
  },
  {
   "cell_type": "code",
   "execution_count": 164,
   "id": "d8656a90",
   "metadata": {},
   "outputs": [],
   "source": [
    "inter_2_label = {ints[i]:i for i in range(len(ints))}\n",
    "label_2_inter = {i:ints[i] for i in range(len(ints))}"
   ]
  },
  {
   "cell_type": "code",
   "execution_count": 26,
   "id": "5cd20fd6",
   "metadata": {},
   "outputs": [
    {
     "name": "stderr",
     "output_type": "stream",
     "text": [
      "100%|██████████| 14/14 [00:00<00:00, 789.37it/s]\n"
     ]
    }
   ],
   "source": [
    "def get_tails(interaction, scene_kg):\n",
    "    int_key = interaction['key']\n",
    "    edges, nodes = scene_kg['links'], scene_kg['nodes']\n",
    "    source, target = '', ''\n",
    "    for edge in edges:\n",
    "        if edge['to'] == int_key:\n",
    "            for node in nodes:\n",
    "                if node['key'] == edge['from'] and node['type'] == 'Person':\n",
    "                    source = node['text']\n",
    "        if edge['from'] == int_key:\n",
    "            for node in nodes:\n",
    "                if node['key'] == edge['to'] and node['type'] == 'Person':\n",
    "                    target = node['text']\n",
    "    return source, target\n",
    "    \n",
    "t_raw = {filmname:[] for filmname in filmnames} \n",
    "n_raw = {filmname:[] for filmname in filmnames}\n",
    "for filmname in tqdm(filmnames):\n",
    "    film_ints = []\n",
    "    film_nodes = []\n",
    "    for i in range(len(scene_graphs[filmname])):\n",
    "        scene_nodes = scene_graphs[filmname][i]['nodes']\n",
    "        scene_ints = [inter_2_label[scene_node['text'].lower().strip()] for scene_node in scene_nodes if scene_node['type'] == 'Interaction' and scene_node['text'].lower().strip() in inter_2_label]\n",
    "        \n",
    "        nodes = [get_tails(scene_node, scene_graphs[filmname][i]) for scene_node in scene_nodes if scene_node['type'] == 'Interaction' and scene_node['text'].lower().strip() in inter_2_label]\n",
    "        \n",
    "        film_ints.append(scene_ints)\n",
    "        film_nodes.append(nodes)\n",
    "    t_raw[filmname] = film_ints\n",
    "    n_raw[filmname] = film_nodes"
   ]
  },
  {
   "cell_type": "code",
   "execution_count": 120,
   "id": "949e30a9",
   "metadata": {},
   "outputs": [],
   "source": [
    "int_2_freq = Counter([entry for sublist in [t_raw[name] for name in t_raw] for list_ in sublist for entry in list_])"
   ]
  },
  {
   "cell_type": "code",
   "execution_count": 27,
   "id": "83c8b0b6",
   "metadata": {},
   "outputs": [],
   "source": [
    "def recall_k(preds, ground_truth):\n",
    "    if len(ground_truth) > 0:\n",
    "        return (len(set(preds)) - len(set(preds) - set(ground_truth)))/(len(set(ground_truth)))\n",
    "    else:\n",
    "        return None\n",
    "    \n",
    "def get_top_n(data, n):\n",
    "    return [data[i].argsort()[-n:][::-1] for i in range(len(data))]"
   ]
  },
  {
   "cell_type": "code",
   "execution_count": 28,
   "id": "12ffaff8",
   "metadata": {},
   "outputs": [
    {
     "name": "stderr",
     "output_type": "stream",
     "text": [
      "  0%|          | 0/10 [00:00<?, ?it/s]\n",
      "100%|██████████| 10/10 [00:00<00:00, 2067.99it/s]\n",
      "\n",
      "45it [00:00, 86659.17it/s]\n",
      " 10%|█         | 1/10 [00:21<03:16, 21.79s/it]"
     ]
    },
    {
     "name": "stdout",
     "output_type": "stream",
     "text": [
      "Valkaama 0.7642857142857142\n"
     ]
    },
    {
     "name": "stderr",
     "output_type": "stream",
     "text": [
      "\n",
      "100%|██████████| 10/10 [00:00<00:00, 1103.97it/s]\n",
      "\n",
      "23it [00:00, 116227.70it/s]\n",
      " 20%|██        | 2/10 [00:39<02:36, 19.58s/it]"
     ]
    },
    {
     "name": "stdout",
     "output_type": "stream",
     "text": [
      "honey 0.1494047619047619\n"
     ]
    },
    {
     "name": "stderr",
     "output_type": "stream",
     "text": [
      "\n",
      "100%|██████████| 10/10 [00:00<00:00, 1838.16it/s]\n",
      "\n",
      "75it [00:00, 241236.81it/s]\n",
      " 30%|███       | 3/10 [00:52<01:56, 16.63s/it]"
     ]
    },
    {
     "name": "stdout",
     "output_type": "stream",
     "text": [
      "time_expired 0.49009661835748797\n"
     ]
    },
    {
     "name": "stderr",
     "output_type": "stream",
     "text": [
      "\n",
      "100%|██████████| 10/10 [00:00<00:00, 1790.91it/s]\n",
      "\n",
      "20it [00:00, 143640.55it/s]\n",
      " 40%|████      | 4/10 [01:12<01:47, 17.98s/it]"
     ]
    },
    {
     "name": "stdout",
     "output_type": "stream",
     "text": [
      "shooters 0.4629629629629629\n"
     ]
    },
    {
     "name": "stderr",
     "output_type": "stream",
     "text": [
      "\n",
      "100%|██████████| 10/10 [00:00<00:00, 1762.61it/s]\n",
      "\n",
      "10it [00:00, 88862.37it/s]\n",
      " 50%|█████     | 5/10 [01:34<01:35, 19.17s/it]"
     ]
    },
    {
     "name": "stdout",
     "output_type": "stream",
     "text": [
      "SuperHero 0.2833333333333333\n"
     ]
    },
    {
     "name": "stderr",
     "output_type": "stream",
     "text": [
      "\n",
      "100%|██████████| 10/10 [00:00<00:00, 1736.84it/s]\n",
      "\n",
      "59it [00:00, 292510.56it/s]\n",
      " 60%|██████    | 6/10 [01:48<01:10, 17.58s/it]"
     ]
    },
    {
     "name": "stdout",
     "output_type": "stream",
     "text": [
      "Huckleberry_Finn 0.1934640522875817\n"
     ]
    },
    {
     "name": "stderr",
     "output_type": "stream",
     "text": [
      "\n",
      "100%|██████████| 10/10 [00:00<00:00, 2169.62it/s]\n",
      "\n",
      "45it [00:00, 184680.70it/s]\n",
      " 70%|███████   | 7/10 [02:05<00:52, 17.42s/it]"
     ]
    },
    {
     "name": "stdout",
     "output_type": "stream",
     "text": [
      "sophie 0.47072649572649566\n"
     ]
    },
    {
     "name": "stderr",
     "output_type": "stream",
     "text": [
      "\n",
      "100%|██████████| 10/10 [00:00<00:00, 1973.60it/s]\n",
      "\n",
      "16it [00:00, 113551.38it/s]\n",
      " 80%|████████  | 8/10 [02:27<00:37, 18.67s/it]"
     ]
    },
    {
     "name": "stdout",
     "output_type": "stream",
     "text": [
      "Nuclear_Family 0.25\n"
     ]
    },
    {
     "name": "stderr",
     "output_type": "stream",
     "text": [
      "\n",
      "100%|██████████| 10/10 [00:00<00:00, 1748.21it/s]\n",
      "\n",
      "66it [00:00, 90911.02it/s]\n",
      " 90%|█████████ | 9/10 [02:44<00:18, 18.09s/it]"
     ]
    },
    {
     "name": "stdout",
     "output_type": "stream",
     "text": [
      "The_Big_Something 0.3850574712643678\n"
     ]
    },
    {
     "name": "stderr",
     "output_type": "stream",
     "text": [
      "\n",
      "100%|██████████| 10/10 [00:00<00:00, 1953.20it/s]\n",
      "\n",
      "38it [00:00, 179688.33it/s]\n",
      "100%|██████████| 10/10 [03:02<00:00, 18.23s/it]"
     ]
    },
    {
     "name": "stdout",
     "output_type": "stream",
     "text": [
      "spiritual_contact 0.3466666666666667\n"
     ]
    },
    {
     "name": "stderr",
     "output_type": "stream",
     "text": [
      "\n"
     ]
    }
   ],
   "source": [
    "from lightgbm import LGBMClassifier\n",
    "\n",
    "global_test_filmnames = ['Bagman', 'Manos', 'Road_To_Bali', 'The_Illusionist']\n",
    "\n",
    "filmnames_local = [filmname for filmname in filmnames if filmname not in global_test_filmnames]\n",
    "\n",
    "film_recalls = {filmname:[] for filmname in filmnames_local}\n",
    "\n",
    "preds = dict()\n",
    "\n",
    "for local_test_filmname in tqdm(filmnames_local):\n",
    "#local_test_filmname = 'Valkaama'\n",
    "    X_train, y_train = [], []\n",
    "    X_test, y_test = [], []\n",
    "    \n",
    "    preds[local_test_filmname] = []\n",
    "    \n",
    "    for filmname in tqdm(filmnames_local):\n",
    "        if filmname != local_test_filmname:\n",
    "            targets_film = t_raw[filmname]\n",
    "            for i, targets_scene in enumerate(targets_film):\n",
    "                scene_emb = torch.cat([V[filmname][i].squeeze(), T[filmname][i].squeeze()],axis=0) # V[filmname][i].squeeze() # torch.cat([V[filmname][i].squeeze(), A[filmname][i]],axis=0) #torch.rand(32) #T[filmname][i]\n",
    "                for target in targets_scene:\n",
    "                    X_train.append(scene_emb)\n",
    "                    y_train.append(target)\n",
    "        else:\n",
    "            targets_film = t_raw[filmname]\n",
    "            for i, targets_scene in enumerate(targets_film):\n",
    "                scene_emb = torch.cat([V[filmname][i].squeeze(), T[filmname][i].squeeze()],axis=0) #V[filmname][i].squeeze() # torch.cat([V[filmname][i].squeeze(), A[filmname][i]],axis=0) #torch.cat([V[filmname][i], T[filmname][i]],axis=1)\n",
    "                X_test.append(scene_emb)\n",
    "                y_test.append(targets_scene)        \n",
    "\n",
    "    X_train = [x.squeeze().numpy() for x in X_train]\n",
    "    X_test = [x.squeeze().numpy() for x in X_test]\n",
    "\n",
    "    model = LGBMClassifier(random_state=51312342, objective='multiclass', max_depth=5, n_jobs=-1)\n",
    "    \n",
    "    # LGBMClassifier(random_state=0, objective='multiclass',\\\n",
    "    #                             n_estimators=27,\\\n",
    "    #                             max_depth=10,\\\n",
    "    #                             num_leaves=74,\\\n",
    "    #                             learning_rate=0.0708,\\\n",
    "    #                            n_jobs=-1)\n",
    "\n",
    "    model.fit(X_train, y_train)\n",
    "\n",
    "    probs = model.predict_proba(X_test)\n",
    "    unique_labels = np.array(list(((set(y_train)))))\n",
    "\n",
    "    top_10 = np.array(get_top_n(probs, 5))\n",
    "    preds_10 = unique_labels[top_10].tolist()\n",
    "    \n",
    "    preds[local_test_filmname].append(preds_10)\n",
    "    \n",
    "    recalls = []\n",
    "    for i, pred in tqdm(enumerate(preds_10)):\n",
    "        recall = recall_k(pred, y_test[i])\n",
    "        if recall != None:\n",
    "            recalls.append(recall)\n",
    "    \n",
    "    film_recalls[local_test_filmname] = np.mean(recalls)\n",
    "    print(local_test_filmname, film_recalls[local_test_filmname])"
   ]
  },
  {
   "cell_type": "code",
   "execution_count": 29,
   "id": "ed462be1",
   "metadata": {},
   "outputs": [
    {
     "data": {
      "text/plain": [
       "(array([0.764, 0.149, 0.49 , 0.463, 0.283, 0.193, 0.471, 0.25 , 0.385,\n",
       "        0.347]),\n",
       " 0.37950000000000006)"
      ]
     },
     "execution_count": 29,
     "metadata": {},
     "output_type": "execute_result"
    }
   ],
   "source": [
    "np.round(list(film_recalls.values()), 3), np.mean(np.round(list(film_recalls.values()), 3))"
   ]
  },
  {
   "cell_type": "markdown",
   "id": "4fb27f98",
   "metadata": {},
   "source": [
    "#### Ensembling"
   ]
  },
  {
   "cell_type": "code",
   "execution_count": 796,
   "id": "c35a5f5c",
   "metadata": {},
   "outputs": [],
   "source": [
    "ssar_res = preds"
   ]
  },
  {
   "cell_type": "code",
   "execution_count": 775,
   "id": "887becbe",
   "metadata": {},
   "outputs": [],
   "source": [
    "with open(f'zsar.pickle', 'rb') as handle:\n",
    "    zsar_res = pickle.load(handle)"
   ]
  },
  {
   "cell_type": "code",
   "execution_count": 787,
   "id": "6e5f2af4",
   "metadata": {},
   "outputs": [],
   "source": [
    "for filmname in filmnames:\n",
    "    for scene_idx in range(len(zsar_res[filmname][0])):\n",
    "        zsar_res[filmname][0][scene_idx] = [inter_2_label[inter] for inter in zsar_res[filmname][0][scene_idx][0]]"
   ]
  },
  {
   "cell_type": "code",
   "execution_count": 790,
   "id": "4d8aed53",
   "metadata": {},
   "outputs": [],
   "source": [
    "for filmname in filmnames:\n",
    "        zsar_res[filmname] = zsar_res[filmname][0]"
   ]
  },
  {
   "cell_type": "code",
   "execution_count": 800,
   "id": "7d0dffe3",
   "metadata": {},
   "outputs": [],
   "source": [
    "for filmname in filmnames_local:\n",
    "        ssar_res[filmname] = ssar_res[filmname][0]"
   ]
  },
  {
   "cell_type": "code",
   "execution_count": 811,
   "id": "c002b74c",
   "metadata": {},
   "outputs": [
    {
     "data": {
      "text/plain": [
       "[86, 30, 111, 64, 54, 20, 29, 43, 84, 7]"
      ]
     },
     "execution_count": 811,
     "metadata": {},
     "output_type": "execute_result"
    }
   ],
   "source": [
    "zsar_res[filmname][13]"
   ]
  },
  {
   "cell_type": "code",
   "execution_count": 812,
   "id": "c189cec7",
   "metadata": {},
   "outputs": [
    {
     "data": {
      "text/plain": [
       "[99, 6, 4, 106, 58, 34, 19, 115, 111, 95]"
      ]
     },
     "execution_count": 812,
     "metadata": {},
     "output_type": "execute_result"
    }
   ],
   "source": [
    "ssar_res[filmname][13]"
   ]
  },
  {
   "cell_type": "code",
   "execution_count": 907,
   "id": "6d47d0e6",
   "metadata": {},
   "outputs": [
    {
     "name": "stderr",
     "output_type": "stream",
     "text": [
      "100%|██████████| 10/10 [00:00<00:00, 7646.86it/s]\n"
     ]
    }
   ],
   "source": [
    "total_recall = []\n",
    "for filmname in tqdm(filmnames_local):\n",
    "    f_recall = []\n",
    "    for s_idx in range(len(t_raw[filmname])):\n",
    "        s_recall = recall_k(ssar_res[filmname][s_idx][:6] + zsar_res[filmname][s_idx][:4], t_raw[filmname][s_idx])\n",
    "        if s_recall != None:\n",
    "            f_recall.append(s_recall)\n",
    "    total_recall.append(np.mean(f_recall))"
   ]
  },
  {
   "cell_type": "code",
   "execution_count": 908,
   "id": "f54e27c4",
   "metadata": {},
   "outputs": [
    {
     "data": {
      "text/plain": [
       "6"
      ]
     },
     "execution_count": 908,
     "metadata": {},
     "output_type": "execute_result"
    }
   ],
   "source": [
    "len(ssar_res[filmname][s_idx][:6])"
   ]
  },
  {
   "cell_type": "code",
   "execution_count": 909,
   "id": "65c49414",
   "metadata": {},
   "outputs": [
    {
     "data": {
      "text/plain": [
       "(array([0.821, 0.311, 0.536, 0.507, 0.383, 0.352, 0.602, 0.486, 0.514,\n",
       "        0.45 ]),\n",
       " 0.4962)"
      ]
     },
     "execution_count": 909,
     "metadata": {},
     "output_type": "execute_result"
    }
   ],
   "source": [
    "np.round(total_recall, 3) , np.mean(np.round(total_recall, 3))"
   ]
  },
  {
   "cell_type": "code",
   "execution_count": 888,
   "id": "9af3ba5f",
   "metadata": {},
   "outputs": [
    {
     "data": {
      "text/plain": [
       "0.45359999999999995"
      ]
     },
     "execution_count": 888,
     "metadata": {},
     "output_type": "execute_result"
    }
   ],
   "source": [
    "np.mean([0.812,0.204, 0.551, 0.477, 0.411, 0.252, 0.556, 0.359, 0.452, 0.462])"
   ]
  },
  {
   "cell_type": "code",
   "execution_count": 836,
   "id": "e8d40683",
   "metadata": {},
   "outputs": [
    {
     "data": {
      "text/plain": [
       "0.2689043863538969"
      ]
     },
     "execution_count": 836,
     "metadata": {},
     "output_type": "execute_result"
    }
   ],
   "source": [
    "np.mean(total_recall)"
   ]
  },
  {
   "cell_type": "code",
   "execution_count": 834,
   "id": "fb06e0aa",
   "metadata": {},
   "outputs": [
    {
     "data": {
      "text/plain": [
       "0.47364182393012094"
      ]
     },
     "execution_count": 834,
     "metadata": {},
     "output_type": "execute_result"
    }
   ],
   "source": [
    "np.mean(total_recall)"
   ]
  },
  {
   "cell_type": "code",
   "execution_count": 825,
   "id": "3335465d",
   "metadata": {},
   "outputs": [
    {
     "data": {
      "text/plain": [
       "array([0.        , 1.        , 1.        , 1.        , 1.        ,\n",
       "       0.5       , 1.        , 0.33333333, 0.        , 0.5       ,\n",
       "       0.5       , 1.        , 0.5       , 0.5       , 0.6       ,\n",
       "       0.5       , 0.5       , 1.        , 0.4       , 0.        ,\n",
       "       0.        , 0.5       , 0.        , 0.5       , 0.33333333,\n",
       "       0.        , 0.5       , 0.4       , 0.5       , 0.        ,\n",
       "       1.        , 1.        , 0.5       , 0.        , 0.66666667])"
      ]
     },
     "execution_count": 825,
     "metadata": {},
     "output_type": "execute_result"
    }
   ],
   "source": [
    "np.mean(total_recall, axis=0)"
   ]
  },
  {
   "cell_type": "code",
   "execution_count": 810,
   "id": "8d276a08",
   "metadata": {},
   "outputs": [
    {
     "data": {
      "text/plain": [
       "[6, 98]"
      ]
     },
     "execution_count": 810,
     "metadata": {},
     "output_type": "execute_result"
    }
   ],
   "source": [
    "t_raw[filmname][13]"
   ]
  },
  {
   "cell_type": "code",
   "execution_count": null,
   "id": "deb6f8ec",
   "metadata": {},
   "outputs": [],
   "source": []
  },
  {
   "cell_type": "code",
   "execution_count": 776,
   "id": "fcd6c5a4",
   "metadata": {},
   "outputs": [
    {
     "ename": "NameError",
     "evalue": "name 'int_2_label' is not defined",
     "output_type": "error",
     "traceback": [
      "\u001b[0;31m---------------------------------------------------------------------------\u001b[0m",
      "\u001b[0;31mNameError\u001b[0m                                 Traceback (most recent call last)",
      "\u001b[0;32m/tmp/ipykernel_28240/1842482297.py\u001b[0m in \u001b[0;36m<module>\u001b[0;34m\u001b[0m\n\u001b[0;32m----> 1\u001b[0;31m \u001b[0mint_2_label\u001b[0m\u001b[0;34m\u001b[0m\u001b[0;34m\u001b[0m\u001b[0m\n\u001b[0m",
      "\u001b[0;31mNameError\u001b[0m: name 'int_2_label' is not defined"
     ]
    }
   ],
   "source": [
    "inter_2_label"
   ]
  },
  {
   "cell_type": "markdown",
   "id": "7f469f32",
   "metadata": {},
   "source": [
    "### Optuna LGBM optimization"
   ]
  },
  {
   "cell_type": "code",
   "execution_count": 688,
   "id": "f9358088",
   "metadata": {
    "collapsed": true
   },
   "outputs": [
    {
     "name": "stderr",
     "output_type": "stream",
     "text": [
      "100%|██████████| 14/14 [00:00<00:00, 6839.87it/s]\n"
     ]
    },
    {
     "ename": "KeyboardInterrupt",
     "evalue": "",
     "output_type": "error",
     "traceback": [
      "\u001b[0;31m---------------------------------------------------------------------------\u001b[0m",
      "\u001b[0;31mKeyboardInterrupt\u001b[0m                         Traceback (most recent call last)",
      "\u001b[0;32m/tmp/ipykernel_28240/3953114114.py\u001b[0m in \u001b[0;36m<module>\u001b[0;34m\u001b[0m\n\u001b[1;32m     31\u001b[0m \u001b[0;34m\u001b[0m\u001b[0m\n\u001b[1;32m     32\u001b[0m \u001b[0mmodel_o\u001b[0m \u001b[0;34m=\u001b[0m \u001b[0mLGBMClassifier\u001b[0m\u001b[0;34m(\u001b[0m\u001b[0mrandom_state\u001b[0m\u001b[0;34m=\u001b[0m\u001b[0;36m0\u001b[0m\u001b[0;34m,\u001b[0m \u001b[0mobjective\u001b[0m\u001b[0;34m=\u001b[0m\u001b[0;34m'multiclass'\u001b[0m\u001b[0;34m,\u001b[0m \u001b[0mmax_depth\u001b[0m\u001b[0;34m=\u001b[0m\u001b[0;36m0\u001b[0m\u001b[0;34m,\u001b[0m \u001b[0mn_jobs\u001b[0m\u001b[0;34m=\u001b[0m\u001b[0;34m-\u001b[0m\u001b[0;36m1\u001b[0m\u001b[0;34m)\u001b[0m\u001b[0;34m\u001b[0m\u001b[0;34m\u001b[0m\u001b[0m\n\u001b[0;32m---> 33\u001b[0;31m \u001b[0mmodel_o\u001b[0m\u001b[0;34m.\u001b[0m\u001b[0mfit\u001b[0m\u001b[0;34m(\u001b[0m\u001b[0mX_train\u001b[0m\u001b[0;34m,\u001b[0m \u001b[0my_train\u001b[0m\u001b[0;34m)\u001b[0m\u001b[0;34m\u001b[0m\u001b[0;34m\u001b[0m\u001b[0m\n\u001b[0m\u001b[1;32m     34\u001b[0m \u001b[0;34m\u001b[0m\u001b[0m\n\u001b[1;32m     35\u001b[0m \u001b[0mprobs\u001b[0m \u001b[0;34m=\u001b[0m \u001b[0mmodel_o\u001b[0m\u001b[0;34m.\u001b[0m\u001b[0mpredict_proba\u001b[0m\u001b[0;34m(\u001b[0m\u001b[0mX_test\u001b[0m\u001b[0;34m)\u001b[0m\u001b[0;34m\u001b[0m\u001b[0;34m\u001b[0m\u001b[0m\n",
      "\u001b[0;32m~/.imgenv-bold-wing-0/lib/python3.7/site-packages/lightgbm/sklearn.py\u001b[0m in \u001b[0;36mfit\u001b[0;34m(self, X, y, sample_weight, init_score, eval_set, eval_names, eval_sample_weight, eval_class_weight, eval_init_score, eval_metric, early_stopping_rounds, verbose, feature_name, categorical_feature, callbacks, init_model)\u001b[0m\n\u001b[1;32m    970\u001b[0m                     \u001b[0meval_metric\u001b[0m\u001b[0;34m=\u001b[0m\u001b[0meval_metric\u001b[0m\u001b[0;34m,\u001b[0m \u001b[0mearly_stopping_rounds\u001b[0m\u001b[0;34m=\u001b[0m\u001b[0mearly_stopping_rounds\u001b[0m\u001b[0;34m,\u001b[0m\u001b[0;34m\u001b[0m\u001b[0;34m\u001b[0m\u001b[0m\n\u001b[1;32m    971\u001b[0m                     \u001b[0mverbose\u001b[0m\u001b[0;34m=\u001b[0m\u001b[0mverbose\u001b[0m\u001b[0;34m,\u001b[0m \u001b[0mfeature_name\u001b[0m\u001b[0;34m=\u001b[0m\u001b[0mfeature_name\u001b[0m\u001b[0;34m,\u001b[0m \u001b[0mcategorical_feature\u001b[0m\u001b[0;34m=\u001b[0m\u001b[0mcategorical_feature\u001b[0m\u001b[0;34m,\u001b[0m\u001b[0;34m\u001b[0m\u001b[0;34m\u001b[0m\u001b[0m\n\u001b[0;32m--> 972\u001b[0;31m                     callbacks=callbacks, init_model=init_model)\n\u001b[0m\u001b[1;32m    973\u001b[0m         \u001b[0;32mreturn\u001b[0m \u001b[0mself\u001b[0m\u001b[0;34m\u001b[0m\u001b[0;34m\u001b[0m\u001b[0m\n\u001b[1;32m    974\u001b[0m \u001b[0;34m\u001b[0m\u001b[0m\n",
      "\u001b[0;32m~/.imgenv-bold-wing-0/lib/python3.7/site-packages/lightgbm/sklearn.py\u001b[0m in \u001b[0;36mfit\u001b[0;34m(self, X, y, sample_weight, init_score, group, eval_set, eval_names, eval_sample_weight, eval_class_weight, eval_init_score, eval_group, eval_metric, early_stopping_rounds, verbose, feature_name, categorical_feature, callbacks, init_model)\u001b[0m\n\u001b[1;32m    756\u001b[0m             \u001b[0minit_model\u001b[0m\u001b[0;34m=\u001b[0m\u001b[0minit_model\u001b[0m\u001b[0;34m,\u001b[0m\u001b[0;34m\u001b[0m\u001b[0;34m\u001b[0m\u001b[0m\n\u001b[1;32m    757\u001b[0m             \u001b[0mfeature_name\u001b[0m\u001b[0;34m=\u001b[0m\u001b[0mfeature_name\u001b[0m\u001b[0;34m,\u001b[0m\u001b[0;34m\u001b[0m\u001b[0;34m\u001b[0m\u001b[0m\n\u001b[0;32m--> 758\u001b[0;31m             \u001b[0mcallbacks\u001b[0m\u001b[0;34m=\u001b[0m\u001b[0mcallbacks\u001b[0m\u001b[0;34m\u001b[0m\u001b[0;34m\u001b[0m\u001b[0m\n\u001b[0m\u001b[1;32m    759\u001b[0m         )\n\u001b[1;32m    760\u001b[0m \u001b[0;34m\u001b[0m\u001b[0m\n",
      "\u001b[0;32m~/.imgenv-bold-wing-0/lib/python3.7/site-packages/lightgbm/engine.py\u001b[0m in \u001b[0;36mtrain\u001b[0;34m(params, train_set, num_boost_round, valid_sets, valid_names, fobj, feval, init_model, feature_name, categorical_feature, early_stopping_rounds, evals_result, verbose_eval, learning_rates, keep_training_booster, callbacks)\u001b[0m\n\u001b[1;32m    290\u001b[0m                                     evaluation_result_list=None))\n\u001b[1;32m    291\u001b[0m \u001b[0;34m\u001b[0m\u001b[0m\n\u001b[0;32m--> 292\u001b[0;31m         \u001b[0mbooster\u001b[0m\u001b[0;34m.\u001b[0m\u001b[0mupdate\u001b[0m\u001b[0;34m(\u001b[0m\u001b[0mfobj\u001b[0m\u001b[0;34m=\u001b[0m\u001b[0mfobj\u001b[0m\u001b[0;34m)\u001b[0m\u001b[0;34m\u001b[0m\u001b[0;34m\u001b[0m\u001b[0m\n\u001b[0m\u001b[1;32m    293\u001b[0m \u001b[0;34m\u001b[0m\u001b[0m\n\u001b[1;32m    294\u001b[0m         \u001b[0mevaluation_result_list\u001b[0m \u001b[0;34m=\u001b[0m \u001b[0;34m[\u001b[0m\u001b[0;34m]\u001b[0m\u001b[0;34m\u001b[0m\u001b[0;34m\u001b[0m\u001b[0m\n",
      "\u001b[0;32m~/.imgenv-bold-wing-0/lib/python3.7/site-packages/lightgbm/basic.py\u001b[0m in \u001b[0;36mupdate\u001b[0;34m(self, train_set, fobj)\u001b[0m\n\u001b[1;32m   3021\u001b[0m             _safe_call(_LIB.LGBM_BoosterUpdateOneIter(\n\u001b[1;32m   3022\u001b[0m                 \u001b[0mself\u001b[0m\u001b[0;34m.\u001b[0m\u001b[0mhandle\u001b[0m\u001b[0;34m,\u001b[0m\u001b[0;34m\u001b[0m\u001b[0;34m\u001b[0m\u001b[0m\n\u001b[0;32m-> 3023\u001b[0;31m                 ctypes.byref(is_finished)))\n\u001b[0m\u001b[1;32m   3024\u001b[0m             \u001b[0mself\u001b[0m\u001b[0;34m.\u001b[0m\u001b[0m__is_predicted_cur_iter\u001b[0m \u001b[0;34m=\u001b[0m \u001b[0;34m[\u001b[0m\u001b[0;32mFalse\u001b[0m \u001b[0;32mfor\u001b[0m \u001b[0m_\u001b[0m \u001b[0;32min\u001b[0m \u001b[0mrange\u001b[0m\u001b[0;34m(\u001b[0m\u001b[0mself\u001b[0m\u001b[0;34m.\u001b[0m\u001b[0m__num_dataset\u001b[0m\u001b[0;34m)\u001b[0m\u001b[0;34m]\u001b[0m\u001b[0;34m\u001b[0m\u001b[0;34m\u001b[0m\u001b[0m\n\u001b[1;32m   3025\u001b[0m             \u001b[0;32mreturn\u001b[0m \u001b[0mis_finished\u001b[0m\u001b[0;34m.\u001b[0m\u001b[0mvalue\u001b[0m \u001b[0;34m==\u001b[0m \u001b[0;36m1\u001b[0m\u001b[0;34m\u001b[0m\u001b[0;34m\u001b[0m\u001b[0m\n",
      "\u001b[0;31mKeyboardInterrupt\u001b[0m: "
     ]
    }
   ],
   "source": [
    "from lightgbm import LGBMClassifier\n",
    "\n",
    "global_test_filmnames = ['Bagman', 'Manos', 'Road_To_Bali', 'The_Illusionist']\n",
    "\n",
    "filmnames_local = [filmname for filmname in filmnames if filmname not in global_test_filmnames]\n",
    "\n",
    "film_recalls = {filmname:[] for filmname in filmnames_local}\n",
    "\n",
    "# for local_test_filmname in tqdm(filmnames_local):\n",
    "local_test_filmname = 'Valkaama'\n",
    "X_train, y_train = [], []\n",
    "X_test, y_test = [], []\n",
    "\n",
    "for filmname in tqdm(filmnames):\n",
    "    if filmname not in global_test_filmnames:\n",
    "        targets_film = t_raw[filmname]\n",
    "        for i, targets_scene in enumerate(targets_film):\n",
    "            scene_emb = V[filmname][i].squeeze() # torch.cat([V[filmname][i].squeeze(), A[filmname][i]],axis=0) #torch.rand(32) #T[filmname][i]\n",
    "            for target in targets_scene:\n",
    "                X_train.append(scene_emb)\n",
    "                y_train.append(target)\n",
    "    else:\n",
    "        targets_film = t_raw[filmname]\n",
    "        for i, targets_scene in enumerate(targets_film):\n",
    "            scene_emb = V[filmname][i].squeeze() # torch.cat([V[filmname][i].squeeze(), A[filmname][i]],axis=0) #torch.cat([V[filmname][i], T[filmname][i]],axis=1)\n",
    "            X_test.append(scene_emb)\n",
    "            y_test.append(targets_scene)        \n",
    "\n",
    "X_train = [x.squeeze().numpy() for x in X_train]\n",
    "X_test = [x.squeeze().numpy() for x in X_test]\n",
    "\n",
    "model_o = LGBMClassifier(random_state=0, objective='multiclass', max_depth=0, n_jobs=-1)\n",
    "model_o.fit(X_train, y_train)\n",
    "\n",
    "probs = model_o.predict_proba(X_test)\n",
    "unique_labels = np.array(list(((set(y_train)))))\n",
    "\n",
    "top_10 = np.array(get_top_n(probs, 10))\n",
    "preds_10 = unique_labels[top_10].tolist()\n",
    "\n",
    "recalls = []\n",
    "for i, pred in tqdm(enumerate(preds_10)):\n",
    "    recall = recall_k(pred, y_test[i])\n",
    "    if recall != None:\n",
    "        recalls.append(recall)\n",
    "\n",
    "film_recalls[local_test_filmname] = np.mean(recalls)\n",
    "print(local_test_filmname, film_recalls[local_test_filmname])"
   ]
  },
  {
   "cell_type": "code",
   "execution_count": 701,
   "id": "fc47356e",
   "metadata": {},
   "outputs": [
    {
     "name": "stderr",
     "output_type": "stream",
     "text": [
      "\u001b[32m[I 2023-06-28 01:00:01,989]\u001b[0m A new study created in memory with name: no-name-78db5573-c068-4b1d-b918-8239efc071f0\u001b[0m\n",
      "47it [00:00, 187924.01it/s]\n",
      "\u001b[32m[I 2023-06-28 01:00:04,030]\u001b[0m Trial 0 finished with value: 0.5473045674132632 and parameters: {'n_estimators': 7, 'max_depth': 7, 'num_leaves': 55, 'learning_rate': 0.03248862880760851}. Best is trial 0 with value: 0.5473045674132632.\u001b[0m\n",
      "47it [00:00, 252410.10it/s]\n",
      "\u001b[32m[I 2023-06-28 01:00:04,227]\u001b[0m Trial 1 finished with value: 0.5392896354852877 and parameters: {'n_estimators': 4, 'max_depth': 5, 'num_leaves': 2, 'learning_rate': 0.09618643865234462}. Best is trial 0 with value: 0.5473045674132632.\u001b[0m\n",
      "47it [00:00, 255352.70it/s]\n",
      "\u001b[32m[I 2023-06-28 01:00:05,260]\u001b[0m Trial 2 finished with value: 0.5443715101323797 and parameters: {'n_estimators': 6, 'max_depth': 11, 'num_leaves': 7, 'learning_rate': 0.0526735902653182}. Best is trial 0 with value: 0.5473045674132632.\u001b[0m\n",
      "47it [00:00, 258703.79it/s]\n",
      "\u001b[32m[I 2023-06-28 01:00:05,475]\u001b[0m Trial 3 finished with value: 0.5411012296881862 and parameters: {'n_estimators': 2, 'max_depth': 5, 'num_leaves': 2, 'learning_rate': 0.061873526962172694}. Best is trial 0 with value: 0.5473045674132632.\u001b[0m\n",
      "47it [00:00, 161716.40it/s]\n",
      "\u001b[32m[I 2023-06-28 01:00:19,422]\u001b[0m Trial 4 finished with value: 0.5645405922579836 and parameters: {'n_estimators': 25, 'max_depth': 8, 'num_leaves': 85, 'learning_rate': 0.07493192431290703}. Best is trial 4 with value: 0.5645405922579836.\u001b[0m\n",
      "47it [00:00, 249850.81it/s]\n",
      "\u001b[32m[I 2023-06-28 01:00:19,767]\u001b[0m Trial 5 finished with value: 0.5423787565091913 and parameters: {'n_estimators': 7, 'max_depth': 1, 'num_leaves': 2, 'learning_rate': 0.07668354478831974}. Best is trial 4 with value: 0.5645405922579836.\u001b[0m\n",
      "47it [00:00, 228957.36it/s]\n",
      "\u001b[32m[I 2023-06-28 01:00:26,072]\u001b[0m Trial 6 finished with value: 0.5074400840705188 and parameters: {'n_estimators': 93, 'max_depth': 2, 'num_leaves': 4, 'learning_rate': 0.09147403757446473}. Best is trial 4 with value: 0.5645405922579836.\u001b[0m\n",
      "47it [00:00, 185623.62it/s]\n",
      "\u001b[32m[I 2023-06-28 01:00:33,291]\u001b[0m Trial 7 finished with value: 0.5680085011606751 and parameters: {'n_estimators': 34, 'max_depth': 9, 'num_leaves': 9, 'learning_rate': 0.04731619166491048}. Best is trial 7 with value: 0.5680085011606751.\u001b[0m\n",
      "47it [00:00, 221248.36it/s]\n",
      "\u001b[32m[I 2023-06-28 01:00:33,980]\u001b[0m Trial 8 finished with value: 0.5588642637555682 and parameters: {'n_estimators': 19, 'max_depth': 1, 'num_leaves': 2, 'learning_rate': 0.02381986790564101}. Best is trial 7 with value: 0.5680085011606751.\u001b[0m\n",
      "47it [00:00, 217345.41it/s]\n",
      "\u001b[32m[I 2023-06-28 01:00:34,154]\u001b[0m Trial 9 finished with value: 0.5251592007026791 and parameters: {'n_estimators': 3, 'max_depth': 6, 'num_leaves': 2, 'learning_rate': 0.09241077709051455}. Best is trial 7 with value: 0.5680085011606751.\u001b[0m\n",
      "47it [00:00, 141414.84it/s]\n",
      "\u001b[32m[I 2023-06-28 01:02:16,650]\u001b[0m Trial 10 finished with value: 0.544785588807328 and parameters: {'n_estimators': 80, 'max_depth': 14, 'num_leaves': 8179, 'learning_rate': 0.037009476827779414}. Best is trial 7 with value: 0.5680085011606751.\u001b[0m\n",
      "47it [00:00, 235241.39it/s]\n",
      "\u001b[32m[I 2023-06-28 01:02:19,671]\u001b[0m Trial 11 finished with value: 0.5356664470794906 and parameters: {'n_estimators': 31, 'max_depth': 3, 'num_leaves': 6, 'learning_rate': 0.000275887592298886}. Best is trial 7 with value: 0.5680085011606751.\u001b[0m\n",
      "47it [00:00, 152579.17it/s]\n",
      "\u001b[32m[I 2023-06-28 01:02:38,908]\u001b[0m Trial 12 finished with value: 0.5801203024029111 and parameters: {'n_estimators': 27, 'max_depth': 10, 'num_leaves': 74, 'learning_rate': 0.07082144097361838}. Best is trial 12 with value: 0.5801203024029111.\u001b[0m\n",
      "47it [00:00, 198722.06it/s]\n",
      "\u001b[32m[I 2023-06-28 01:02:39,726]\u001b[0m Trial 13 finished with value: 0.5646519543258673 and parameters: {'n_estimators': 1, 'max_depth': 16, 'num_leaves': 898, 'learning_rate': 0.06699346518539691}. Best is trial 12 with value: 0.5801203024029111.\u001b[0m\n",
      "47it [00:00, 205560.26it/s]\n",
      "\u001b[32m[I 2023-06-28 01:02:42,490]\u001b[0m Trial 14 finished with value: 0.5220881171968129 and parameters: {'n_estimators': 39, 'max_depth': 3, 'num_leaves': 3, 'learning_rate': 0.05027292960989142}. Best is trial 12 with value: 0.5801203024029111.\u001b[0m\n",
      "47it [00:00, 179865.23it/s]\n",
      "\u001b[32m[I 2023-06-28 01:02:49,198]\u001b[0m Trial 15 finished with value: 0.5509355982182069 and parameters: {'n_estimators': 19, 'max_depth': 10, 'num_leaves': 16, 'learning_rate': 0.017442547862902363}. Best is trial 12 with value: 0.5801203024029111.\u001b[0m\n",
      "47it [00:00, 213577.78it/s]\n",
      "\u001b[32m[I 2023-06-28 01:02:50,190]\u001b[0m Trial 16 finished with value: 0.5472606499780414 and parameters: {'n_estimators': 14, 'max_depth': 2, 'num_leaves': 3, 'learning_rate': 0.043487040471051355}. Best is trial 12 with value: 0.5801203024029111.\u001b[0m\n",
      "47it [00:00, 209492.34it/s]\n",
      "\u001b[32m[I 2023-06-28 01:02:58,224]\u001b[0m Trial 17 finished with value: 0.5366420415333458 and parameters: {'n_estimators': 49, 'max_depth': 4, 'num_leaves': 9, 'learning_rate': 0.060273952913485446}. Best is trial 12 with value: 0.5801203024029111.\u001b[0m\n",
      "47it [00:00, 236653.41it/s]\n",
      "\u001b[32m[I 2023-06-28 01:03:05,023]\u001b[0m Trial 18 finished with value: 0.5634097183010226 and parameters: {'n_estimators': 12, 'max_depth': 9, 'num_leaves': 40, 'learning_rate': 0.07931307586238051}. Best is trial 12 with value: 0.5801203024029111.\u001b[0m\n",
      "47it [00:00, 162650.40it/s]\n",
      "\u001b[32m[I 2023-06-28 01:03:56,608]\u001b[0m Trial 19 finished with value: 0.5190342869690696 and parameters: {'n_estimators': 59, 'max_depth': 12, 'num_leaves': 139, 'learning_rate': 0.08414218772414922}. Best is trial 12 with value: 0.5801203024029111.\u001b[0m\n",
      "47it [00:00, 243674.03it/s]\n",
      "\u001b[32m[I 2023-06-28 01:03:57,312]\u001b[0m Trial 20 finished with value: 0.5477092352092352 and parameters: {'n_estimators': 10, 'max_depth': 2, 'num_leaves': 4, 'learning_rate': 0.06802234803324216}. Best is trial 12 with value: 0.5801203024029111.\u001b[0m\n",
      "47it [00:00, 250485.75it/s]\n",
      "\u001b[32m[I 2023-06-28 01:03:58,722]\u001b[0m Trial 21 finished with value: 0.5603386347951566 and parameters: {'n_estimators': 2, 'max_depth': 16, 'num_leaves': 648, 'learning_rate': 0.062285256178966644}. Best is trial 12 with value: 0.5801203024029111.\u001b[0m\n",
      "47it [00:00, 198722.06it/s]\n",
      "\u001b[32m[I 2023-06-28 01:03:59,224]\u001b[0m Trial 22 finished with value: 0.5610287659200703 and parameters: {'n_estimators': 1, 'max_depth': 16, 'num_leaves': 580, 'learning_rate': 0.054756660939839184}. Best is trial 12 with value: 0.5801203024029111.\u001b[0m\n",
      "47it [00:00, 197923.98it/s]\n",
      "\u001b[32m[I 2023-06-28 01:03:59,490]\u001b[0m Trial 23 finished with value: 0.5646519543258673 and parameters: {'n_estimators': 1, 'max_depth': 9, 'num_leaves': 17, 'learning_rate': 0.07062416260577312}. Best is trial 12 with value: 0.5801203024029111.\u001b[0m\n",
      "47it [00:00, 182361.04it/s]\n",
      "\u001b[32m[I 2023-06-28 01:04:08,689]\u001b[0m Trial 24 finished with value: 0.5707768680594768 and parameters: {'n_estimators': 26, 'max_depth': 8, 'num_leaves': 17, 'learning_rate': 0.04410964020887916}. Best is trial 12 with value: 0.5801203024029111.\u001b[0m\n",
      "47it [00:00, 87149.55it/s]\n",
      "\u001b[32m[I 2023-06-28 01:04:19,472]\u001b[0m Trial 25 finished with value: 0.563177583286279 and parameters: {'n_estimators': 31, 'max_depth': 6, 'num_leaves': 25, 'learning_rate': 0.03910723444590632}. Best is trial 12 with value: 0.5801203024029111.\u001b[0m\n",
      "47it [00:00, 230026.01it/s]\n",
      "\u001b[32m[I 2023-06-28 01:04:27,465]\u001b[0m Trial 26 finished with value: 0.5350280757889454 and parameters: {'n_estimators': 59, 'max_depth': 4, 'num_leaves': 7, 'learning_rate': 0.025446194891698738}. Best is trial 12 with value: 0.5801203024029111.\u001b[0m\n",
      "47it [00:00, 183720.68it/s]\n",
      "\u001b[32m[I 2023-06-28 01:04:32,800]\u001b[0m Trial 27 finished with value: 0.564937417654809 and parameters: {'n_estimators': 20, 'max_depth': 7, 'num_leaves': 13, 'learning_rate': 0.04652307853102546}. Best is trial 12 with value: 0.5801203024029111.\u001b[0m\n",
      "47it [00:00, 134929.70it/s]\n",
      "\u001b[32m[I 2023-06-28 01:05:06,865]\u001b[0m Trial 28 finished with value: 0.5469845975280758 and parameters: {'n_estimators': 42, 'max_depth': 11, 'num_leaves': 160, 'learning_rate': 0.054813574585441706}. Best is trial 12 with value: 0.5801203024029111.\u001b[0m\n",
      "47it [00:00, 200541.49it/s]\n",
      "\u001b[32m[I 2023-06-28 01:05:11,103]\u001b[0m Trial 29 finished with value: 0.5568715101323798 and parameters: {'n_estimators': 13, 'max_depth': 7, 'num_leaves': 24, 'learning_rate': 0.02881958713572769}. Best is trial 12 with value: 0.5801203024029111.\u001b[0m\n"
     ]
    },
    {
     "name": "stderr",
     "output_type": "stream",
     "text": [
      "47it [00:00, 233016.89it/s]\n",
      "\u001b[32m[I 2023-06-28 01:05:12,435]\u001b[0m Trial 30 finished with value: 0.5478300081560952 and parameters: {'n_estimators': 9, 'max_depth': 4, 'num_leaves': 10, 'learning_rate': 0.013885391098393103}. Best is trial 12 with value: 0.5801203024029111.\u001b[0m\n",
      "47it [00:00, 224013.96it/s]\n",
      "\u001b[32m[I 2023-06-28 01:05:18,353]\u001b[0m Trial 31 finished with value: 0.5516523935002197 and parameters: {'n_estimators': 21, 'max_depth': 7, 'num_leaves': 13, 'learning_rate': 0.041351717272835806}. Best is trial 12 with value: 0.5801203024029111.\u001b[0m\n",
      "47it [00:00, 239820.30it/s]\n",
      "\u001b[32m[I 2023-06-28 01:05:22,453]\u001b[0m Trial 32 finished with value: 0.5385571554049815 and parameters: {'n_estimators': 31, 'max_depth': 5, 'num_leaves': 5, 'learning_rate': 0.04610631175780842}. Best is trial 12 with value: 0.5801203024029111.\u001b[0m\n",
      "47it [00:00, 200134.30it/s]\n",
      "\u001b[32m[I 2023-06-28 01:05:28,519]\u001b[0m Trial 33 finished with value: 0.5458811719681285 and parameters: {'n_estimators': 15, 'max_depth': 8, 'num_leaves': 23, 'learning_rate': 0.03445445837350763}. Best is trial 12 with value: 0.5801203024029111.\u001b[0m\n",
      "47it [00:00, 202811.00it/s]\n",
      "\u001b[32m[I 2023-06-28 01:05:31,455]\u001b[0m Trial 34 finished with value: 0.5580094422485727 and parameters: {'n_estimators': 5, 'max_depth': 12, 'num_leaves': 46, 'learning_rate': 0.05457912290162837}. Best is trial 12 with value: 0.5801203024029111.\u001b[0m\n",
      "47it [00:00, 172017.70it/s]\n",
      "\u001b[32m[I 2023-06-28 01:05:45,926]\u001b[0m Trial 35 finished with value: 0.5531879352531526 and parameters: {'n_estimators': 65, 'max_depth': 6, 'num_leaves': 11, 'learning_rate': 0.047030747142668285}. Best is trial 12 with value: 0.5801203024029111.\u001b[0m\n",
      "47it [00:00, 219035.88it/s]\n",
      "\u001b[32m[I 2023-06-28 01:05:58,340]\u001b[0m Trial 36 finished with value: 0.5580957086391869 and parameters: {'n_estimators': 24, 'max_depth': 8, 'num_leaves': 33, 'learning_rate': 0.06044739366911449}. Best is trial 12 with value: 0.5801203024029111.\u001b[0m\n",
      "47it [00:00, 245800.86it/s]\n",
      "\u001b[32m[I 2023-06-28 01:06:00,689]\u001b[0m Trial 37 finished with value: 0.5316715289541376 and parameters: {'n_estimators': 34, 'max_depth': 5, 'num_leaves': 3, 'learning_rate': 0.04990324713325787}. Best is trial 12 with value: 0.5801203024029111.\u001b[0m\n",
      "47it [00:00, 165936.27it/s]\n",
      "\u001b[32m[I 2023-06-28 01:06:10,574]\u001b[0m Trial 38 finished with value: 0.5681379007465964 and parameters: {'n_estimators': 17, 'max_depth': 10, 'num_leaves': 65, 'learning_rate': 0.03570874795753608}. Best is trial 12 with value: 0.5801203024029111.\u001b[0m\n",
      "47it [00:00, 216153.82it/s]\n",
      "\u001b[32m[I 2023-06-28 01:06:15,922]\u001b[0m Trial 39 finished with value: 0.5543862538427756 and parameters: {'n_estimators': 8, 'max_depth': 13, 'num_leaves': 75, 'learning_rate': 0.03141638138227377}. Best is trial 12 with value: 0.5801203024029111.\u001b[0m\n",
      "47it [00:00, 245800.86it/s]\n",
      "\u001b[32m[I 2023-06-28 01:06:23,048]\u001b[0m Trial 40 finished with value: 0.5561468724512203 and parameters: {'n_estimators': 16, 'max_depth': 9, 'num_leaves': 75, 'learning_rate': 0.02095473260314195}. Best is trial 12 with value: 0.5801203024029111.\u001b[0m\n",
      "47it [00:00, 155344.59it/s]\n",
      "\u001b[32m[I 2023-06-28 01:06:55,500]\u001b[0m Trial 41 finished with value: 0.5474771001944915 and parameters: {'n_estimators': 45, 'max_depth': 10, 'num_leaves': 125, 'learning_rate': 0.041939094764705524}. Best is trial 12 with value: 0.5801203024029111.\u001b[0m\n",
      "47it [00:00, 218066.69it/s]\n",
      "\u001b[32m[I 2023-06-28 01:06:59,912]\u001b[0m Trial 42 finished with value: 0.5626944914988393 and parameters: {'n_estimators': 24, 'max_depth': 7, 'num_leaves': 8, 'learning_rate': 0.037824220043134786}. Best is trial 12 with value: 0.5801203024029111.\u001b[0m\n",
      "47it [00:00, 163595.26it/s]\n",
      "\u001b[32m[I 2023-06-28 01:07:26,700]\u001b[0m Trial 43 finished with value: 0.5444060166886254 and parameters: {'n_estimators': 27, 'max_depth': 14, 'num_leaves': 250, 'learning_rate': 0.03265734957655489}. Best is trial 12 with value: 0.5801203024029111.\u001b[0m\n",
      "47it [00:00, 195761.95it/s]\n",
      "\u001b[32m[I 2023-06-28 01:07:38,517]\u001b[0m Trial 44 finished with value: 0.5479084321475626 and parameters: {'n_estimators': 18, 'max_depth': 11, 'num_leaves': 33, 'learning_rate': 0.046207636855985085}. Best is trial 12 with value: 0.5801203024029111.\u001b[0m\n",
      "47it [00:00, 173379.32it/s]\n",
      "\u001b[32m[I 2023-06-28 01:08:01,949]\u001b[0m Trial 45 finished with value: 0.5564048873831482 and parameters: {'n_estimators': 98, 'max_depth': 5, 'num_leaves': 18, 'learning_rate': 0.010428607566470412}. Best is trial 12 with value: 0.5801203024029111.\u001b[0m\n",
      "47it [00:00, 204706.43it/s]\n",
      "\u001b[32m[I 2023-06-28 01:08:03,665]\u001b[0m Trial 46 finished with value: 0.5625384277558191 and parameters: {'n_estimators': 6, 'max_depth': 8, 'num_leaves': 13, 'learning_rate': 0.09695436308591557}. Best is trial 12 with value: 0.5801203024029111.\u001b[0m\n",
      "47it [00:00, 221000.32it/s]\n",
      "\u001b[32m[I 2023-06-28 01:08:06,570]\u001b[0m Trial 47 finished with value: 0.5529550159984943 and parameters: {'n_estimators': 11, 'max_depth': 6, 'num_leaves': 14, 'learning_rate': 0.057935403236230656}. Best is trial 12 with value: 0.5801203024029111.\u001b[0m\n",
      "47it [00:00, 224780.26it/s]\n",
      "\u001b[32m[I 2023-06-28 01:08:20,328]\u001b[0m Trial 48 finished with value: 0.5419560511951816 and parameters: {'n_estimators': 21, 'max_depth': 10, 'num_leaves': 58, 'learning_rate': 0.050362309101393846}. Best is trial 12 with value: 0.5801203024029111.\u001b[0m\n",
      "47it [00:00, 155467.10it/s]\n",
      "\u001b[32m[I 2023-06-28 01:08:58,979]\u001b[0m Trial 49 finished with value: 0.5101394378568291 and parameters: {'n_estimators': 37, 'max_depth': 14, 'num_leaves': 58, 'learning_rate': 0.0838839192144869}. Best is trial 12 with value: 0.5801203024029111.\u001b[0m\n",
      "47it [00:00, 176483.70it/s]\n",
      "\u001b[32m[I 2023-06-28 01:09:16,342]\u001b[0m Trial 50 finished with value: 0.5777393500219586 and parameters: {'n_estimators': 71, 'max_depth': 8, 'num_leaves': 11, 'learning_rate': 0.06388535711455232}. Best is trial 12 with value: 0.5801203024029111.\u001b[0m\n",
      "47it [00:00, 199728.76it/s]\n",
      "\u001b[32m[I 2023-06-28 01:09:27,059]\u001b[0m Trial 51 finished with value: 0.5152652299391429 and parameters: {'n_estimators': 74, 'max_depth': 9, 'num_leaves': 6, 'learning_rate': 0.07296122588178464}. Best is trial 12 with value: 0.5801203024029111.\u001b[0m\n",
      "47it [00:00, 207507.67it/s]\n",
      "\u001b[32m[I 2023-06-28 01:09:38,787]\u001b[0m Trial 52 finished with value: 0.5528679653679653 and parameters: {'n_estimators': 49, 'max_depth': 7, 'num_leaves': 11, 'learning_rate': 0.06700292930019867}. Best is trial 12 with value: 0.5801203024029111.\u001b[0m\n",
      "47it [00:00, 180194.05it/s]\n",
      "\u001b[32m[I 2023-06-28 01:09:50,540]\u001b[0m Trial 53 finished with value: 0.5600719932241671 and parameters: {'n_estimators': 26, 'max_depth': 10, 'num_leaves': 20, 'learning_rate': 0.0640665790725912}. Best is trial 12 with value: 0.5801203024029111.\u001b[0m\n",
      "47it [00:00, 149796.57it/s]\n",
      "\u001b[32m[I 2023-06-28 01:10:38,485]\u001b[0m Trial 54 finished with value: 0.5210529205094422 and parameters: {'n_estimators': 52, 'max_depth': 12, 'num_leaves': 104, 'learning_rate': 0.07798521774586374}. Best is trial 12 with value: 0.5801203024029111.\u001b[0m\n",
      "47it [00:00, 221995.82it/s]\n",
      "\u001b[32m[I 2023-06-28 01:10:52,851]\u001b[0m Trial 55 finished with value: 0.5373321726582596 and parameters: {'n_estimators': 76, 'max_depth': 8, 'num_leaves': 8, 'learning_rate': 0.057721577867866976}. Best is trial 12 with value: 0.5801203024029111.\u001b[0m\n",
      "47it [00:00, 182699.06it/s]\n",
      "\u001b[32m[I 2023-06-28 01:11:01,401]\u001b[0m Trial 56 finished with value: 0.5698200953635737 and parameters: {'n_estimators': 36, 'max_depth': 6, 'num_leaves': 12, 'learning_rate': 0.035098861816502944}. Best is trial 12 with value: 0.5801203024029111.\u001b[0m\n",
      "47it [00:00, 218308.18it/s]\n",
      "\u001b[32m[I 2023-06-28 01:11:08,006]\u001b[0m Trial 57 finished with value: 0.5624090281698978 and parameters: {'n_estimators': 40, 'max_depth': 4, 'num_leaves': 11, 'learning_rate': 0.027663221180500644}. Best is trial 12 with value: 0.5801203024029111.\u001b[0m\n",
      "47it [00:00, 182192.50it/s]\n",
      "\u001b[32m[I 2023-06-28 01:11:18,954]\u001b[0m Trial 58 finished with value: 0.541800771692076 and parameters: {'n_estimators': 61, 'max_depth': 6, 'num_leaves': 8, 'learning_rate': 0.03469219515687777}. Best is trial 12 with value: 0.5801203024029111.\u001b[0m\n",
      "47it [00:00, 163054.00it/s]\n",
      "\u001b[32m[I 2023-06-28 01:11:54,403]\u001b[0m Trial 59 finished with value: 0.5538341489428447 and parameters: {'n_estimators': 34, 'max_depth': 14, 'num_leaves': 193, 'learning_rate': 0.03984387116598875}. Best is trial 12 with value: 0.5801203024029111.\u001b[0m\n"
     ]
    },
    {
     "name": "stderr",
     "output_type": "stream",
     "text": [
      "47it [00:00, 160924.32it/s]\n",
      "\u001b[32m[I 2023-06-28 01:12:55,794]\u001b[0m Trial 60 finished with value: 0.5479946985381768 and parameters: {'n_estimators': 85, 'max_depth': 11, 'num_leaves': 34, 'learning_rate': 0.022310331207788157}. Best is trial 12 with value: 0.5801203024029111.\u001b[0m\n",
      "47it [00:00, 218308.18it/s]\n",
      "\u001b[32m[I 2023-06-28 01:13:00,916]\u001b[0m Trial 61 finished with value: 0.5583811719681285 and parameters: {'n_estimators': 17, 'max_depth': 7, 'num_leaves': 15, 'learning_rate': 0.04343908514975574}. Best is trial 12 with value: 0.5801203024029111.\u001b[0m\n",
      "47it [00:00, 194602.46it/s]\n",
      "\u001b[32m[I 2023-06-28 01:13:16,731]\u001b[0m Trial 62 finished with value: 0.5529463893594329 and parameters: {'n_estimators': 29, 'max_depth': 9, 'num_leaves': 28, 'learning_rate': 0.05055573078261844}. Best is trial 12 with value: 0.5801203024029111.\u001b[0m\n",
      "47it [00:00, 225810.18it/s]\n",
      "\u001b[32m[I 2023-06-28 01:13:23,589]\u001b[0m Trial 63 finished with value: 0.5576047744526006 and parameters: {'n_estimators': 21, 'max_depth': 6, 'num_leaves': 32, 'learning_rate': 0.03573532076290019}. Best is trial 12 with value: 0.5801203024029111.\u001b[0m\n",
      "47it [00:00, 245494.75it/s]\n",
      "\u001b[32m[I 2023-06-28 01:13:25,434]\u001b[0m Trial 64 finished with value: 0.546415239350022 and parameters: {'n_estimators': 13, 'max_depth': 8, 'num_leaves': 6, 'learning_rate': 0.047308371174820646}. Best is trial 12 with value: 0.5801203024029111.\u001b[0m\n",
      "47it [00:00, 248904.40it/s]\n",
      "\u001b[32m[I 2023-06-28 01:13:25,782]\u001b[0m Trial 65 finished with value: 0.5385649978041284 and parameters: {'n_estimators': 3, 'max_depth': 10, 'num_leaves': 4, 'learning_rate': 0.06382412788351183}. Best is trial 12 with value: 0.5801203024029111.\u001b[0m\n",
      "47it [00:00, 182868.54it/s]\n",
      "\u001b[32m[I 2023-06-28 01:13:32,622]\u001b[0m Trial 66 finished with value: 0.5207345191040843 and parameters: {'n_estimators': 55, 'max_depth': 12, 'num_leaves': 5, 'learning_rate': 0.07361048658970541}. Best is trial 12 with value: 0.5801203024029111.\u001b[0m\n",
      "47it [00:00, 211288.63it/s]\n",
      "\u001b[32m[I 2023-06-28 01:13:41,663]\u001b[0m Trial 67 finished with value: 0.5661969069577765 and parameters: {'n_estimators': 44, 'max_depth': 7, 'num_leaves': 9, 'learning_rate': 0.030459770107780705}. Best is trial 12 with value: 0.5801203024029111.\u001b[0m\n",
      "47it [00:00, 221746.11it/s]\n",
      "\u001b[32m[I 2023-06-28 01:13:51,696]\u001b[0m Trial 68 finished with value: 0.5563625384277558 and parameters: {'n_estimators': 43, 'max_depth': 8, 'num_leaves': 10, 'learning_rate': 0.028173704839721814}. Best is trial 12 with value: 0.5801203024029111.\u001b[0m\n",
      "47it [00:00, 148779.09it/s]\n",
      "\u001b[32m[I 2023-06-28 01:13:59,580]\u001b[0m Trial 69 finished with value: 0.5044207603990213 and parameters: {'n_estimators': 67, 'max_depth': 3, 'num_leaves': 8, 'learning_rate': 0.08187349286182849}. Best is trial 12 with value: 0.5801203024029111.\u001b[0m\n",
      "47it [00:00, 220505.91it/s]\n",
      "\u001b[32m[I 2023-06-28 01:14:01,027]\u001b[0m Trial 70 finished with value: 0.5454929732103646 and parameters: {'n_estimators': 38, 'max_depth': 5, 'num_leaves': 2, 'learning_rate': 0.037918049463632794}. Best is trial 12 with value: 0.5801203024029111.\u001b[0m\n",
      "47it [00:00, 202602.56it/s]\n",
      "\u001b[32m[I 2023-06-28 01:14:11,524]\u001b[0m Trial 71 finished with value: 0.5484174038521864 and parameters: {'n_estimators': 24, 'max_depth': 9, 'num_leaves': 21, 'learning_rate': 0.032755634494700654}. Best is trial 12 with value: 0.5801203024029111.\u001b[0m\n",
      "47it [00:00, 225551.82it/s]\n",
      "\u001b[32m[I 2023-06-28 01:14:18,092]\u001b[0m Trial 72 finished with value: 0.5669215446389361 and parameters: {'n_estimators': 32, 'max_depth': 7, 'num_leaves': 9, 'learning_rate': 0.04355949025599714}. Best is trial 12 with value: 0.5801203024029111.\u001b[0m\n",
      "47it [00:00, 223252.87it/s]\n",
      "\u001b[32m[I 2023-06-28 01:14:23,441]\u001b[0m Trial 73 finished with value: 0.5540333458811719 and parameters: {'n_estimators': 32, 'max_depth': 7, 'num_leaves': 7, 'learning_rate': 0.04377847376554417}. Best is trial 12 with value: 0.5801203024029111.\u001b[0m\n",
      "47it [00:00, 184063.76it/s]\n",
      "\u001b[32m[I 2023-06-28 01:14:32,632]\u001b[0m Trial 74 finished with value: 0.5632983562331388 and parameters: {'n_estimators': 48, 'max_depth': 6, 'num_leaves': 9, 'learning_rate': 0.03094135954530848}. Best is trial 12 with value: 0.5801203024029111.\u001b[0m\n",
      "47it [00:00, 189550.28it/s]\n",
      "\u001b[32m[I 2023-06-28 01:14:54,422]\u001b[0m Trial 75 finished with value: 0.5570181629964239 and parameters: {'n_estimators': 28, 'max_depth': 11, 'num_leaves': 51, 'learning_rate': 0.05290628434672384}. Best is trial 12 with value: 0.5801203024029111.\u001b[0m\n",
      "47it [00:00, 166919.80it/s]\n",
      "\u001b[32m[I 2023-06-28 01:15:04,921]\u001b[0m Trial 76 finished with value: 0.5487193362193362 and parameters: {'n_estimators': 38, 'max_depth': 9, 'num_leaves': 12, 'learning_rate': 0.07009333107552583}. Best is trial 12 with value: 0.5801203024029111.\u001b[0m\n",
      "47it [00:00, 163459.61it/s]\n",
      "\u001b[32m[I 2023-06-28 01:15:36,903]\u001b[0m Trial 77 finished with value: 0.539877031181379 and parameters: {'n_estimators': 33, 'max_depth': 13, 'num_leaves': 1546, 'learning_rate': 0.024345522195142046}. Best is trial 12 with value: 0.5801203024029111.\u001b[0m\n",
      "47it [00:00, 180855.31it/s]\n",
      "\u001b[32m[I 2023-06-28 01:15:56,774]\u001b[0m Trial 78 finished with value: 0.5425944224857269 and parameters: {'n_estimators': 54, 'max_depth': 10, 'num_leaves': 16, 'learning_rate': 0.04050050698381524}. Best is trial 12 with value: 0.5801203024029111.\u001b[0m\n",
      "47it [00:00, 191576.57it/s]\n",
      "\u001b[32m[I 2023-06-28 01:16:01,481]\u001b[0m Trial 79 finished with value: 0.557000909718301 and parameters: {'n_estimators': 22, 'max_depth': 8, 'num_leaves': 9, 'learning_rate': 0.0890450276066341}. Best is trial 12 with value: 0.5801203024029111.\u001b[0m\n",
      "47it [00:00, 195761.95it/s]\n",
      "\u001b[32m[I 2023-06-28 01:16:11,813]\u001b[0m Trial 80 finished with value: 0.5663176799046366 and parameters: {'n_estimators': 46, 'max_depth': 7, 'num_leaves': 10, 'learning_rate': 0.020182230113616667}. Best is trial 12 with value: 0.5801203024029111.\u001b[0m\n",
      "47it [00:00, 196151.53it/s]\n",
      "\u001b[32m[I 2023-06-28 01:16:22,937]\u001b[0m Trial 81 finished with value: 0.5682155404981493 and parameters: {'n_estimators': 44, 'max_depth': 7, 'num_leaves': 12, 'learning_rate': 0.018225682453991664}. Best is trial 12 with value: 0.5801203024029111.\u001b[0m\n",
      "47it [00:00, 149910.49it/s]\n",
      "\u001b[32m[I 2023-06-28 01:16:38,848]\u001b[0m Trial 82 finished with value: 0.5680085011606751 and parameters: {'n_estimators': 69, 'max_depth': 8, 'num_leaves': 10, 'learning_rate': 0.018730679006401352}. Best is trial 12 with value: 0.5801203024029111.\u001b[0m\n",
      "47it [00:00, 251765.37it/s]\n",
      "\u001b[32m[I 2023-06-28 01:16:53,821]\u001b[0m Trial 83 finished with value: 0.5447244180939833 and parameters: {'n_estimators': 87, 'max_depth': 5, 'num_leaves': 9, 'learning_rate': 0.002553113200333943}. Best is trial 12 with value: 0.5801203024029111.\u001b[0m\n",
      "47it [00:00, 194219.00it/s]\n",
      "\u001b[32m[I 2023-06-28 01:17:02,288]\u001b[0m Trial 84 finished with value: 0.546924211054646 and parameters: {'n_estimators': 28, 'max_depth': 9, 'num_leaves': 14, 'learning_rate': 0.012370522656425183}. Best is trial 12 with value: 0.5801203024029111.\u001b[0m\n",
      "47it [00:00, 193646.65it/s]\n",
      "\u001b[32m[I 2023-06-28 01:17:04,640]\u001b[0m Trial 85 finished with value: 0.5552410753497711 and parameters: {'n_estimators': 63, 'max_depth': 1, 'num_leaves': 5, 'learning_rate': 0.015940503087971094}. Best is trial 12 with value: 0.5801203024029111.\u001b[0m\n",
      "47it [00:00, 219523.71it/s]\n",
      "\u001b[32m[I 2023-06-28 01:17:11,060]\u001b[0m Trial 86 finished with value: 0.5337340799297322 and parameters: {'n_estimators': 69, 'max_depth': 13, 'num_leaves': 4, 'learning_rate': 0.018277529847306177}. Best is trial 12 with value: 0.5801203024029111.\u001b[0m\n",
      "47it [00:00, 252733.70it/s]\n",
      "\u001b[32m[I 2023-06-28 01:17:14,005]\u001b[0m Trial 87 finished with value: 0.5648589936633415 and parameters: {'n_estimators': 18, 'max_depth': 8, 'num_leaves': 7, 'learning_rate': 0.025980751247791554}. Best is trial 12 with value: 0.5801203024029111.\u001b[0m\n",
      "47it [00:00, 174299.11it/s]\n",
      "\u001b[32m[I 2023-06-28 01:17:27,984]\u001b[0m Trial 88 finished with value: 0.5496416023589937 and parameters: {'n_estimators': 36, 'max_depth': 11, 'num_leaves': 18, 'learning_rate': 0.002523177560649178}. Best is trial 12 with value: 0.5801203024029111.\u001b[0m\n",
      "47it [00:00, 157202.78it/s]\n",
      "\u001b[32m[I 2023-06-28 01:18:11,577]\u001b[0m Trial 89 finished with value: 0.5643335529205095 and parameters: {'n_estimators': 99, 'max_depth': 10, 'num_leaves': 20, 'learning_rate': 0.00844954885773503}. Best is trial 12 with value: 0.5801203024029111.\u001b[0m\n"
     ]
    },
    {
     "name": "stderr",
     "output_type": "stream",
     "text": [
      "47it [00:00, 172167.94it/s]\n",
      "\u001b[32m[I 2023-06-28 01:18:26,120]\u001b[0m Trial 90 finished with value: 0.5287917999874522 and parameters: {'n_estimators': 57, 'max_depth': 6, 'num_leaves': 13, 'learning_rate': 0.04422347470208776}. Best is trial 12 with value: 0.5801203024029111.\u001b[0m\n",
      "47it [00:00, 174917.74it/s]\n",
      "\u001b[32m[I 2023-06-28 01:18:38,458]\u001b[0m Trial 91 finished with value: 0.563298356233139 and parameters: {'n_estimators': 48, 'max_depth': 7, 'num_leaves': 12, 'learning_rate': 0.019992453031140403}. Best is trial 12 with value: 0.5801203024029111.\u001b[0m\n",
      "47it [00:00, 141618.02it/s]\n",
      "\u001b[32m[I 2023-06-28 01:18:58,487]\u001b[0m Trial 92 finished with value: 0.5601927661710271 and parameters: {'n_estimators': 76, 'max_depth': 8, 'num_leaves': 12, 'learning_rate': 0.014038994624486809}. Best is trial 12 with value: 0.5801203024029111.\u001b[0m\n",
      "47it [00:00, 199526.61it/s]\n",
      "\u001b[32m[I 2023-06-28 01:19:07,868]\u001b[0m Trial 93 finished with value: 0.5578290670681976 and parameters: {'n_estimators': 41, 'max_depth': 9, 'num_leaves': 10, 'learning_rate': 0.016681898685828964}. Best is trial 12 with value: 0.5801203024029111.\u001b[0m\n",
      "47it [00:00, 155344.59it/s]\n",
      "\u001b[32m[I 2023-06-28 01:19:39,339]\u001b[0m Trial 94 finished with value: 0.5574753748666792 and parameters: {'n_estimators': 30, 'max_depth': 15, 'num_leaves': 337, 'learning_rate': 0.02261997402290066}. Best is trial 12 with value: 0.5801203024029111.\u001b[0m\n",
      "47it [00:00, 213577.78it/s]\n",
      "\u001b[32m[I 2023-06-28 01:19:51,058]\u001b[0m Trial 95 finished with value: 0.5405836313445009 and parameters: {'n_estimators': 25, 'max_depth': 10, 'num_leaves': 96, 'learning_rate': 0.008119892507795295}. Best is trial 12 with value: 0.5801203024029111.\u001b[0m\n",
      "47it [00:00, 189550.28it/s]\n",
      "\u001b[32m[I 2023-06-28 01:20:01,695]\u001b[0m Trial 96 finished with value: 0.5662314135140223 and parameters: {'n_estimators': 15, 'max_depth': 11, 'num_leaves': 88, 'learning_rate': 0.04932096913710061}. Best is trial 12 with value: 0.5801203024029111.\u001b[0m\n",
      "47it [00:00, 155222.27it/s]\n",
      "\u001b[32m[I 2023-06-28 01:20:31,283]\u001b[0m Trial 97 finished with value: 0.5598727962858397 and parameters: {'n_estimators': 45, 'max_depth': 12, 'num_leaves': 26, 'learning_rate': 0.036017263078802375}. Best is trial 12 with value: 0.5801203024029111.\u001b[0m\n",
      "47it [00:00, 169067.14it/s]\n",
      "\u001b[32m[I 2023-06-28 01:20:39,220]\u001b[0m Trial 98 finished with value: 0.5614867620302403 and parameters: {'n_estimators': 34, 'max_depth': 7, 'num_leaves': 11, 'learning_rate': 0.019407621842188548}. Best is trial 12 with value: 0.5801203024029111.\u001b[0m\n",
      "47it [00:00, 163731.14it/s]\n",
      "\u001b[32m[I 2023-06-28 01:20:50,487]\u001b[0m Trial 99 finished with value: 0.5492886943973901 and parameters: {'n_estimators': 50, 'max_depth': 6, 'num_leaves': 11, 'learning_rate': 0.04156238827095206}. Best is trial 12 with value: 0.5801203024029111.\u001b[0m\n"
     ]
    },
    {
     "name": "stdout",
     "output_type": "stream",
     "text": [
      "FrozenTrial(number=12, values=[0.5801203024029111], datetime_start=datetime.datetime(2023, 6, 28, 1, 2, 19, 672508), datetime_complete=datetime.datetime(2023, 6, 28, 1, 2, 38, 908478), params={'n_estimators': 27, 'max_depth': 10, 'num_leaves': 74, 'learning_rate': 0.07082144097361838}, distributions={'n_estimators': IntLogUniformDistribution(high=100.0, low=1, step=1), 'max_depth': IntLogUniformDistribution(high=16, low=1, step=1), 'num_leaves': IntLogUniformDistribution(high=516.0, low=2, step=1), 'learning_rate': UniformDistribution(high=0.1, low=0.0001)}, user_attrs={}, system_attrs={}, intermediate_values={}, trial_id=12, state=TrialState.COMPLETE, value=None)\n"
     ]
    }
   ],
   "source": [
    "import optuna\n",
    "from optuna.visualization import plot_contour\n",
    "from optuna.visualization import plot_edf\n",
    "from optuna.visualization import plot_intermediate_values\n",
    "from optuna.visualization import plot_optimization_history\n",
    "from optuna.visualization import plot_parallel_coordinate\n",
    "from optuna.visualization import plot_param_importances\n",
    "from optuna.visualization import plot_slice\n",
    "\n",
    "def objective(trial):\n",
    "    n_estimators = trial.suggest_int(\"n_estimators\", 1, 1e2, log=True)\n",
    "    max_depth = trial.suggest_int(\"max_depth\", 1, 16, log=True)\n",
    "    num_leaves = trial.suggest_int(\"num_leaves\", 2, 4 + 2**(max_depth)/2, log=True)\n",
    "#    grow_policy = trial.suggest_categorical(\"grow_policy\", ['depthwise', 'lossguide'])\n",
    "    learning_rate = trial.suggest_float(\"learning_rate\", 1e-4, 1e-1, log=False)\n",
    "#    class_weight = trial.suggest_categorical(\"class_weigh\", ['balanced', None])\n",
    "    \n",
    "    model_o = LGBMClassifier(random_state=0, objective='multiclass',\\\n",
    "                             n_estimators=n_estimators,\\\n",
    "                             max_depth=max_depth,\\\n",
    "                             num_leaves=num_leaves,\\\n",
    "                             learning_rate=learning_rate,\\\n",
    "                             #class_weight=class_weight,\\\n",
    "                             n_jobs=-1)\n",
    "    model_o.fit(X_train, y_train)\n",
    "    \n",
    "    probs = model_o.predict_proba(X_test)\n",
    "    unique_labels = np.array(list(((set(y_train)))))\n",
    "\n",
    "    top_10 = np.array(get_top_n(probs, 10))\n",
    "    preds_10 = unique_labels[top_10].tolist()\n",
    "\n",
    "    recalls = []\n",
    "    for i, pred in tqdm(enumerate(preds_10)):\n",
    "        recall = recall_k(pred, y_test[i])\n",
    "        if recall != None:\n",
    "            recalls.append(recall)\n",
    "\n",
    "    return np.mean(recalls)\n",
    "\n",
    "study = optuna.create_study(direction=\"maximize\")\n",
    "study.optimize(objective, n_trials=100)\n",
    "print(study.best_trial)"
   ]
  },
  {
   "cell_type": "code",
   "execution_count": null,
   "id": "9f26c759",
   "metadata": {},
   "outputs": [],
   "source": [
    " LGBMClassifier(random_state=0, objective='multiclass',\\\n",
    "                             n_estimators=27,\\\n",
    "                             max_depth=10,\\\n",
    "                             num_leaves=74,\\\n",
    "                             learning_rate=0.0708,\\\n",
    "                             n_jobs=-1)"
   ]
  },
  {
   "cell_type": "code",
   "execution_count": 708,
   "id": "f380b166",
   "metadata": {},
   "outputs": [],
   "source": [
    "import pickle\n",
    "\n",
    "with open('lgbm_study.pickle', 'wb') as handle:\n",
    "    pickle.dump(study, handle, protocol=pickle.HIGHEST_PROTOCOL)"
   ]
  },
  {
   "cell_type": "code",
   "execution_count": 709,
   "id": "423e69b8",
   "metadata": {},
   "outputs": [
    {
     "data": {
      "text/plain": [
       "0.24137931034482754"
      ]
     },
     "execution_count": 709,
     "metadata": {},
     "output_type": "execute_result"
    }
   ],
   "source": [
    "(0.58 - 0.44)/0.58"
   ]
  },
  {
   "cell_type": "markdown",
   "id": "2db4b3a5",
   "metadata": {},
   "source": [
    "### Global action recognition test"
   ]
  },
  {
   "cell_type": "markdown",
   "id": "edb86e47",
   "metadata": {},
   "source": [
    "Preparing the input:"
   ]
  },
  {
   "cell_type": "code",
   "execution_count": 96,
   "id": "1ff9cf53",
   "metadata": {},
   "outputs": [
    {
     "name": "stderr",
     "output_type": "stream",
     "text": [
      "\r",
      "0it [00:00, ?it/s]"
     ]
    },
    {
     "name": "stdout",
     "output_type": "stream",
     "text": [
      "63\n",
      "63 12\n"
     ]
    },
    {
     "name": "stderr",
     "output_type": "stream",
     "text": [
      "\r",
      "1it [00:00,  1.17it/s]"
     ]
    },
    {
     "name": "stdout",
     "output_type": "stream",
     "text": [
      "23\n",
      "23 4\n"
     ]
    },
    {
     "name": "stderr",
     "output_type": "stream",
     "text": [
      "\r",
      "2it [00:01,  1.90it/s]"
     ]
    },
    {
     "name": "stdout",
     "output_type": "stream",
     "text": [
      "23\n",
      "23 4\n"
     ]
    },
    {
     "name": "stderr",
     "output_type": "stream",
     "text": [
      "\r",
      "3it [00:01,  2.36it/s]"
     ]
    },
    {
     "name": "stdout",
     "output_type": "stream",
     "text": [
      "59\n",
      "59 11\n"
     ]
    },
    {
     "name": "stderr",
     "output_type": "stream",
     "text": [
      "\r",
      "4it [00:02,  1.76it/s]"
     ]
    },
    {
     "name": "stdout",
     "output_type": "stream",
     "text": [
      "102\n",
      "102 20\n"
     ]
    },
    {
     "name": "stderr",
     "output_type": "stream",
     "text": [
      "\r",
      "5it [00:03,  1.09it/s]"
     ]
    },
    {
     "name": "stdout",
     "output_type": "stream",
     "text": [
      "25\n",
      "25 5\n"
     ]
    },
    {
     "name": "stderr",
     "output_type": "stream",
     "text": [
      "\r",
      "6it [00:04,  1.35it/s]"
     ]
    },
    {
     "name": "stdout",
     "output_type": "stream",
     "text": [
      "50\n",
      "50 10\n"
     ]
    },
    {
     "name": "stderr",
     "output_type": "stream",
     "text": [
      "\r",
      "7it [00:04,  1.31it/s]"
     ]
    },
    {
     "name": "stdout",
     "output_type": "stream",
     "text": [
      "38\n",
      "38 7\n"
     ]
    },
    {
     "name": "stderr",
     "output_type": "stream",
     "text": [
      "\r",
      "8it [00:05,  1.38it/s]"
     ]
    },
    {
     "name": "stdout",
     "output_type": "stream",
     "text": [
      "47\n",
      "47 9\n"
     ]
    },
    {
     "name": "stderr",
     "output_type": "stream",
     "text": [
      "\r",
      "9it [00:06,  1.35it/s]"
     ]
    },
    {
     "name": "stdout",
     "output_type": "stream",
     "text": [
      "25\n",
      "25 5\n"
     ]
    },
    {
     "name": "stderr",
     "output_type": "stream",
     "text": [
      "\r",
      "10it [00:06,  1.55it/s]"
     ]
    },
    {
     "name": "stdout",
     "output_type": "stream",
     "text": [
      "36\n",
      "36 7\n"
     ]
    },
    {
     "name": "stderr",
     "output_type": "stream",
     "text": [
      "\r",
      "11it [00:07,  1.60it/s]"
     ]
    },
    {
     "name": "stdout",
     "output_type": "stream",
     "text": [
      "16\n",
      "16 3\n"
     ]
    },
    {
     "name": "stderr",
     "output_type": "stream",
     "text": [
      "\r",
      "12it [00:07,  1.94it/s]"
     ]
    },
    {
     "name": "stdout",
     "output_type": "stream",
     "text": [
      "54\n",
      "54 10\n"
     ]
    },
    {
     "name": "stderr",
     "output_type": "stream",
     "text": [
      "\r",
      "13it [00:08,  1.63it/s]"
     ]
    },
    {
     "name": "stdout",
     "output_type": "stream",
     "text": [
      "30\n",
      "30 6\n"
     ]
    },
    {
     "name": "stderr",
     "output_type": "stream",
     "text": [
      "\r",
      "14it [00:08,  1.76it/s]"
     ]
    },
    {
     "name": "stdout",
     "output_type": "stream",
     "text": [
      "22\n",
      "22 4\n"
     ]
    },
    {
     "name": "stderr",
     "output_type": "stream",
     "text": [
      "\r",
      "15it [00:09,  1.99it/s]"
     ]
    },
    {
     "name": "stdout",
     "output_type": "stream",
     "text": [
      "24\n",
      "24 4\n"
     ]
    },
    {
     "name": "stderr",
     "output_type": "stream",
     "text": [
      "\r",
      "16it [00:09,  2.20it/s]"
     ]
    },
    {
     "name": "stdout",
     "output_type": "stream",
     "text": [
      "24\n",
      "24 4\n"
     ]
    },
    {
     "name": "stderr",
     "output_type": "stream",
     "text": [
      "\r",
      "17it [00:09,  2.42it/s]"
     ]
    },
    {
     "name": "stdout",
     "output_type": "stream",
     "text": [
      "42\n",
      "42 8\n"
     ]
    },
    {
     "name": "stderr",
     "output_type": "stream",
     "text": [
      "\r",
      "18it [00:10,  2.19it/s]"
     ]
    },
    {
     "name": "stdout",
     "output_type": "stream",
     "text": [
      "41\n",
      "41 8\n"
     ]
    },
    {
     "name": "stderr",
     "output_type": "stream",
     "text": [
      "\r",
      "19it [00:11,  2.01it/s]"
     ]
    },
    {
     "name": "stdout",
     "output_type": "stream",
     "text": [
      "97\n",
      "97 19\n"
     ]
    },
    {
     "name": "stderr",
     "output_type": "stream",
     "text": [
      "\r",
      "20it [00:12,  1.36it/s]"
     ]
    },
    {
     "name": "stdout",
     "output_type": "stream",
     "text": [
      "58\n",
      "58 11\n"
     ]
    },
    {
     "name": "stderr",
     "output_type": "stream",
     "text": [
      "\r",
      "21it [00:13,  1.33it/s]"
     ]
    },
    {
     "name": "stdout",
     "output_type": "stream",
     "text": [
      "34\n",
      "34 6\n"
     ]
    },
    {
     "name": "stderr",
     "output_type": "stream",
     "text": [
      "\r",
      "22it [00:13,  1.51it/s]"
     ]
    },
    {
     "name": "stdout",
     "output_type": "stream",
     "text": [
      "38\n",
      "38 7\n"
     ]
    },
    {
     "name": "stderr",
     "output_type": "stream",
     "text": [
      "\r",
      "23it [00:14,  1.58it/s]"
     ]
    },
    {
     "name": "stdout",
     "output_type": "stream",
     "text": [
      "83\n",
      "83 16\n"
     ]
    },
    {
     "name": "stderr",
     "output_type": "stream",
     "text": [
      "\r",
      "24it [00:15,  1.27it/s]"
     ]
    },
    {
     "name": "stdout",
     "output_type": "stream",
     "text": [
      "23\n",
      "23 4\n"
     ]
    },
    {
     "name": "stderr",
     "output_type": "stream",
     "text": [
      "\r",
      "25it [00:15,  1.54it/s]"
     ]
    },
    {
     "name": "stdout",
     "output_type": "stream",
     "text": [
      "31\n",
      "31 6\n"
     ]
    },
    {
     "name": "stderr",
     "output_type": "stream",
     "text": [
      "\r",
      "26it [00:16,  1.68it/s]"
     ]
    },
    {
     "name": "stdout",
     "output_type": "stream",
     "text": [
      "23\n",
      "23 4\n"
     ]
    },
    {
     "name": "stderr",
     "output_type": "stream",
     "text": [
      "\r",
      "27it [00:16,  1.94it/s]"
     ]
    },
    {
     "name": "stdout",
     "output_type": "stream",
     "text": [
      "54\n",
      "54 10\n"
     ]
    },
    {
     "name": "stderr",
     "output_type": "stream",
     "text": [
      "\r",
      "28it [00:17,  1.71it/s]"
     ]
    },
    {
     "name": "stdout",
     "output_type": "stream",
     "text": [
      "40\n",
      "40 8\n"
     ]
    },
    {
     "name": "stderr",
     "output_type": "stream",
     "text": [
      "\r",
      "29it [00:17,  1.72it/s]"
     ]
    },
    {
     "name": "stdout",
     "output_type": "stream",
     "text": [
      "71\n",
      "71 14\n"
     ]
    },
    {
     "name": "stderr",
     "output_type": "stream",
     "text": [
      "\r",
      "30it [00:18,  1.42it/s]"
     ]
    },
    {
     "name": "stdout",
     "output_type": "stream",
     "text": [
      "31\n",
      "31 6\n"
     ]
    },
    {
     "name": "stderr",
     "output_type": "stream",
     "text": [
      "\r",
      "31it [00:19,  1.60it/s]"
     ]
    },
    {
     "name": "stdout",
     "output_type": "stream",
     "text": [
      "75\n",
      "75 15\n"
     ]
    },
    {
     "name": "stderr",
     "output_type": "stream",
     "text": [
      "\r",
      "32it [00:20,  1.34it/s]"
     ]
    },
    {
     "name": "stdout",
     "output_type": "stream",
     "text": [
      "70\n",
      "70 14\n"
     ]
    },
    {
     "name": "stderr",
     "output_type": "stream",
     "text": [
      "\r",
      "33it [00:21,  1.25it/s]"
     ]
    },
    {
     "name": "stdout",
     "output_type": "stream",
     "text": [
      "37\n",
      "37 7\n"
     ]
    },
    {
     "name": "stderr",
     "output_type": "stream",
     "text": [
      "\r",
      "34it [00:21,  1.41it/s]"
     ]
    },
    {
     "name": "stdout",
     "output_type": "stream",
     "text": [
      "42\n",
      "42 8\n"
     ]
    },
    {
     "name": "stderr",
     "output_type": "stream",
     "text": [
      "\r",
      "35it [00:22,  1.47it/s]"
     ]
    },
    {
     "name": "stdout",
     "output_type": "stream",
     "text": [
      "65\n",
      "65 13\n"
     ]
    },
    {
     "name": "stderr",
     "output_type": "stream",
     "text": [
      "\r",
      "36it [00:23,  1.36it/s]"
     ]
    },
    {
     "name": "stdout",
     "output_type": "stream",
     "text": [
      "17\n",
      "17 3\n"
     ]
    },
    {
     "name": "stderr",
     "output_type": "stream",
     "text": [
      "\r",
      "37it [00:23,  1.71it/s]"
     ]
    },
    {
     "name": "stdout",
     "output_type": "stream",
     "text": [
      "26\n",
      "26 5\n"
     ]
    },
    {
     "name": "stderr",
     "output_type": "stream",
     "text": [
      "\r",
      "38it [00:23,  1.94it/s]"
     ]
    },
    {
     "name": "stdout",
     "output_type": "stream",
     "text": [
      "21\n",
      "21 4\n"
     ]
    },
    {
     "name": "stderr",
     "output_type": "stream",
     "text": [
      "\r",
      "39it [00:24,  2.24it/s]"
     ]
    },
    {
     "name": "stdout",
     "output_type": "stream",
     "text": [
      "34\n",
      "34 6\n"
     ]
    },
    {
     "name": "stderr",
     "output_type": "stream",
     "text": [
      "\r",
      "40it [00:24,  2.13it/s]"
     ]
    },
    {
     "name": "stdout",
     "output_type": "stream",
     "text": [
      "59\n",
      "59 11\n"
     ]
    },
    {
     "name": "stderr",
     "output_type": "stream",
     "text": [
      "\r",
      "41it [00:25,  1.75it/s]"
     ]
    },
    {
     "name": "stdout",
     "output_type": "stream",
     "text": [
      "26\n",
      "26 5\n"
     ]
    },
    {
     "name": "stderr",
     "output_type": "stream",
     "text": [
      "\r",
      "42it [00:25,  1.98it/s]"
     ]
    },
    {
     "name": "stdout",
     "output_type": "stream",
     "text": [
      "67\n",
      "67 13\n"
     ]
    },
    {
     "name": "stderr",
     "output_type": "stream",
     "text": [
      "\r",
      "43it [00:26,  1.58it/s]"
     ]
    },
    {
     "name": "stdout",
     "output_type": "stream",
     "text": [
      "31\n",
      "31 6\n"
     ]
    },
    {
     "name": "stderr",
     "output_type": "stream",
     "text": [
      "\r",
      "44it [00:27,  1.77it/s]"
     ]
    },
    {
     "name": "stdout",
     "output_type": "stream",
     "text": [
      "26\n",
      "26 5\n"
     ]
    },
    {
     "name": "stderr",
     "output_type": "stream",
     "text": [
      "\r",
      "45it [00:27,  2.00it/s]"
     ]
    },
    {
     "name": "stdout",
     "output_type": "stream",
     "text": [
      "71\n",
      "71 14\n"
     ]
    },
    {
     "name": "stderr",
     "output_type": "stream",
     "text": [
      "\r",
      "46it [00:28,  1.61it/s]"
     ]
    },
    {
     "name": "stdout",
     "output_type": "stream",
     "text": [
      "23\n",
      "23 4\n"
     ]
    },
    {
     "name": "stderr",
     "output_type": "stream",
     "text": [
      "\r",
      "47it [00:28,  1.88it/s]"
     ]
    },
    {
     "name": "stdout",
     "output_type": "stream",
     "text": [
      "17\n",
      "17 3\n"
     ]
    },
    {
     "name": "stderr",
     "output_type": "stream",
     "text": [
      "\r",
      "48it [00:28,  2.22it/s]"
     ]
    },
    {
     "name": "stdout",
     "output_type": "stream",
     "text": [
      "45\n",
      "45 9\n"
     ]
    },
    {
     "name": "stderr",
     "output_type": "stream",
     "text": [
      "\r",
      "49it [00:29,  1.89it/s]"
     ]
    },
    {
     "name": "stdout",
     "output_type": "stream",
     "text": [
      "52\n",
      "52 10\n"
     ]
    },
    {
     "name": "stderr",
     "output_type": "stream",
     "text": [
      "\r",
      "50it [00:30,  1.67it/s]"
     ]
    },
    {
     "name": "stdout",
     "output_type": "stream",
     "text": [
      "20\n",
      "20 4\n"
     ]
    },
    {
     "name": "stderr",
     "output_type": "stream",
     "text": [
      "\r",
      "51it [00:30,  1.98it/s]"
     ]
    },
    {
     "name": "stdout",
     "output_type": "stream",
     "text": [
      "20\n",
      "20 4\n"
     ]
    },
    {
     "name": "stderr",
     "output_type": "stream",
     "text": [
      "\r",
      "52it [00:30,  2.29it/s]"
     ]
    },
    {
     "name": "stdout",
     "output_type": "stream",
     "text": [
      "58\n",
      "58 11\n"
     ]
    },
    {
     "name": "stderr",
     "output_type": "stream",
     "text": [
      "\r",
      "53it [00:31,  1.87it/s]"
     ]
    },
    {
     "name": "stdout",
     "output_type": "stream",
     "text": [
      "36\n",
      "36 7\n"
     ]
    },
    {
     "name": "stderr",
     "output_type": "stream",
     "text": [
      "\r",
      "54it [00:32,  1.91it/s]"
     ]
    },
    {
     "name": "stdout",
     "output_type": "stream",
     "text": [
      "60\n",
      "60 12\n"
     ]
    },
    {
     "name": "stderr",
     "output_type": "stream",
     "text": [
      "\r",
      "55it [00:32,  1.67it/s]"
     ]
    },
    {
     "name": "stdout",
     "output_type": "stream",
     "text": [
      "105\n",
      "105 21\n"
     ]
    },
    {
     "name": "stderr",
     "output_type": "stream",
     "text": [
      "\r",
      "56it [00:34,  1.21it/s]"
     ]
    },
    {
     "name": "stdout",
     "output_type": "stream",
     "text": [
      "25\n",
      "25 5\n"
     ]
    },
    {
     "name": "stderr",
     "output_type": "stream",
     "text": [
      "\r",
      "57it [00:34,  1.47it/s]"
     ]
    },
    {
     "name": "stdout",
     "output_type": "stream",
     "text": [
      "36\n",
      "36 7\n"
     ]
    },
    {
     "name": "stderr",
     "output_type": "stream",
     "text": [
      "\r",
      "58it [00:35,  1.61it/s]"
     ]
    },
    {
     "name": "stdout",
     "output_type": "stream",
     "text": [
      "31\n",
      "31 6\n"
     ]
    },
    {
     "name": "stderr",
     "output_type": "stream",
     "text": [
      "\r",
      "59it [00:35,  1.81it/s]"
     ]
    },
    {
     "name": "stdout",
     "output_type": "stream",
     "text": [
      "41\n",
      "41 8\n"
     ]
    },
    {
     "name": "stderr",
     "output_type": "stream",
     "text": [
      "\r",
      "60it [00:36,  1.82it/s]"
     ]
    },
    {
     "name": "stdout",
     "output_type": "stream",
     "text": [
      "21\n",
      "21 4\n"
     ]
    },
    {
     "name": "stderr",
     "output_type": "stream",
     "text": [
      "\r",
      "61it [00:36,  2.14it/s]"
     ]
    },
    {
     "name": "stdout",
     "output_type": "stream",
     "text": [
      "19\n",
      "19 3\n"
     ]
    },
    {
     "name": "stderr",
     "output_type": "stream",
     "text": [
      "\r",
      "62it [00:36,  2.44it/s]"
     ]
    },
    {
     "name": "stdout",
     "output_type": "stream",
     "text": [
      "52\n",
      "52 10\n"
     ]
    },
    {
     "name": "stderr",
     "output_type": "stream",
     "text": [
      "\r",
      "63it [00:37,  2.05it/s]"
     ]
    },
    {
     "name": "stdout",
     "output_type": "stream",
     "text": [
      "122\n",
      "122 24\n"
     ]
    },
    {
     "name": "stderr",
     "output_type": "stream",
     "text": [
      "\r",
      "64it [00:38,  1.22it/s]"
     ]
    },
    {
     "name": "stdout",
     "output_type": "stream",
     "text": [
      "57\n",
      "57 11\n"
     ]
    },
    {
     "name": "stderr",
     "output_type": "stream",
     "text": [
      "\r",
      "65it [00:39,  1.25it/s]"
     ]
    },
    {
     "name": "stdout",
     "output_type": "stream",
     "text": [
      "56\n",
      "56 11\n"
     ]
    },
    {
     "name": "stderr",
     "output_type": "stream",
     "text": [
      "\r",
      "66it [00:40,  1.27it/s]"
     ]
    },
    {
     "name": "stdout",
     "output_type": "stream",
     "text": [
      "57\n",
      "57 11\n"
     ]
    },
    {
     "name": "stderr",
     "output_type": "stream",
     "text": [
      "67it [00:41,  1.63it/s]\n",
      "0it [00:00, ?it/s]"
     ]
    },
    {
     "name": "stdout",
     "output_type": "stream",
     "text": [
      "65\n",
      "65 13\n"
     ]
    },
    {
     "name": "stderr",
     "output_type": "stream",
     "text": [
      "\r",
      "1it [00:00,  1.26it/s]"
     ]
    },
    {
     "name": "stdout",
     "output_type": "stream",
     "text": [
      "78\n",
      "78 15\n"
     ]
    },
    {
     "name": "stderr",
     "output_type": "stream",
     "text": [
      "\r",
      "2it [00:01,  1.10it/s]"
     ]
    },
    {
     "name": "stdout",
     "output_type": "stream",
     "text": [
      "24\n",
      "24 4\n"
     ]
    },
    {
     "name": "stderr",
     "output_type": "stream",
     "text": [
      "\r",
      "3it [00:02,  1.57it/s]"
     ]
    },
    {
     "name": "stdout",
     "output_type": "stream",
     "text": [
      "38\n",
      "38 7\n"
     ]
    },
    {
     "name": "stderr",
     "output_type": "stream",
     "text": [
      "\r",
      "4it [00:02,  1.74it/s]"
     ]
    },
    {
     "name": "stdout",
     "output_type": "stream",
     "text": [
      "25\n",
      "25 5\n"
     ]
    },
    {
     "name": "stderr",
     "output_type": "stream",
     "text": [
      "\r",
      "5it [00:02,  2.10it/s]"
     ]
    },
    {
     "name": "stdout",
     "output_type": "stream",
     "text": [
      "159\n",
      "159 31\n"
     ]
    },
    {
     "name": "stderr",
     "output_type": "stream",
     "text": [
      "\r",
      "6it [00:04,  1.02it/s]"
     ]
    },
    {
     "name": "stdout",
     "output_type": "stream",
     "text": [
      "97\n",
      "97 19\n"
     ]
    },
    {
     "name": "stderr",
     "output_type": "stream",
     "text": [
      "\r",
      "7it [00:06,  1.06s/it]"
     ]
    },
    {
     "name": "stdout",
     "output_type": "stream",
     "text": [
      "57\n",
      "57 11\n"
     ]
    },
    {
     "name": "stderr",
     "output_type": "stream",
     "text": [
      "\r",
      "8it [00:06,  1.06it/s]"
     ]
    },
    {
     "name": "stdout",
     "output_type": "stream",
     "text": [
      "37\n",
      "37 7\n"
     ]
    },
    {
     "name": "stderr",
     "output_type": "stream",
     "text": [
      "\r",
      "9it [00:07,  1.26it/s]"
     ]
    },
    {
     "name": "stdout",
     "output_type": "stream",
     "text": [
      "63\n",
      "63 12\n"
     ]
    },
    {
     "name": "stderr",
     "output_type": "stream",
     "text": [
      "11it [00:08,  1.69it/s]"
     ]
    },
    {
     "name": "stdout",
     "output_type": "stream",
     "text": [
      "11\n",
      "11 2\n",
      "26\n",
      "26 5\n"
     ]
    },
    {
     "name": "stderr",
     "output_type": "stream",
     "text": [
      "\r",
      "12it [00:08,  1.97it/s]"
     ]
    },
    {
     "name": "stdout",
     "output_type": "stream",
     "text": [
      "75\n",
      "75 15\n"
     ]
    },
    {
     "name": "stderr",
     "output_type": "stream",
     "text": [
      "\r",
      "13it [00:09,  1.61it/s]"
     ]
    },
    {
     "name": "stdout",
     "output_type": "stream",
     "text": [
      "40\n",
      "40 8\n"
     ]
    },
    {
     "name": "stderr",
     "output_type": "stream",
     "text": [
      "15it [00:10,  2.17it/s]"
     ]
    },
    {
     "name": "stdout",
     "output_type": "stream",
     "text": [
      "15\n",
      "15 3\n",
      "12\n",
      "12 2\n"
     ]
    },
    {
     "name": "stderr",
     "output_type": "stream",
     "text": [
      "\r",
      "16it [00:10,  2.69it/s]"
     ]
    },
    {
     "name": "stdout",
     "output_type": "stream",
     "text": [
      "67\n",
      "67 13\n"
     ]
    },
    {
     "name": "stderr",
     "output_type": "stream",
     "text": [
      "\r",
      "17it [00:10,  2.02it/s]"
     ]
    },
    {
     "name": "stdout",
     "output_type": "stream",
     "text": [
      "36\n",
      "36 7\n"
     ]
    },
    {
     "name": "stderr",
     "output_type": "stream",
     "text": [
      "\r",
      "18it [00:11,  2.07it/s]"
     ]
    },
    {
     "name": "stdout",
     "output_type": "stream",
     "text": [
      "54\n",
      "54 10\n"
     ]
    },
    {
     "name": "stderr",
     "output_type": "stream",
     "text": [
      "\r",
      "19it [00:12,  1.85it/s]"
     ]
    },
    {
     "name": "stdout",
     "output_type": "stream",
     "text": [
      "24\n",
      "24 4\n"
     ]
    },
    {
     "name": "stderr",
     "output_type": "stream",
     "text": [
      "\r",
      "20it [00:12,  2.12it/s]"
     ]
    },
    {
     "name": "stdout",
     "output_type": "stream",
     "text": [
      "51\n",
      "51 10\n"
     ]
    },
    {
     "name": "stderr",
     "output_type": "stream",
     "text": [
      "\r",
      "21it [00:13,  1.92it/s]"
     ]
    },
    {
     "name": "stdout",
     "output_type": "stream",
     "text": [
      "63\n",
      "63 12\n"
     ]
    },
    {
     "name": "stderr",
     "output_type": "stream",
     "text": [
      "\r",
      "22it [00:13,  1.64it/s]"
     ]
    },
    {
     "name": "stdout",
     "output_type": "stream",
     "text": [
      "56\n",
      "56 11\n"
     ]
    },
    {
     "name": "stderr",
     "output_type": "stream",
     "text": [
      "\r",
      "23it [00:14,  1.57it/s]"
     ]
    },
    {
     "name": "stdout",
     "output_type": "stream",
     "text": [
      "77\n",
      "77 15\n"
     ]
    },
    {
     "name": "stderr",
     "output_type": "stream",
     "text": [
      "\r",
      "24it [00:15,  1.40it/s]"
     ]
    },
    {
     "name": "stdout",
     "output_type": "stream",
     "text": [
      "109\n",
      "109 21\n"
     ]
    },
    {
     "name": "stderr",
     "output_type": "stream",
     "text": [
      "\r",
      "25it [00:16,  1.11it/s]"
     ]
    },
    {
     "name": "stdout",
     "output_type": "stream",
     "text": [
      "42\n",
      "42 8\n"
     ]
    },
    {
     "name": "stderr",
     "output_type": "stream",
     "text": [
      "\r",
      "26it [00:17,  1.26it/s]"
     ]
    },
    {
     "name": "stdout",
     "output_type": "stream",
     "text": [
      "27\n",
      "27 5\n"
     ]
    },
    {
     "name": "stderr",
     "output_type": "stream",
     "text": [
      "\r",
      "27it [00:17,  1.54it/s]"
     ]
    },
    {
     "name": "stdout",
     "output_type": "stream",
     "text": [
      "17\n",
      "17 3\n"
     ]
    },
    {
     "name": "stderr",
     "output_type": "stream",
     "text": [
      "\r",
      "28it [00:17,  1.94it/s]"
     ]
    },
    {
     "name": "stdout",
     "output_type": "stream",
     "text": [
      "91\n",
      "91 18\n"
     ]
    },
    {
     "name": "stderr",
     "output_type": "stream",
     "text": [
      "30it [00:19,  1.88it/s]"
     ]
    },
    {
     "name": "stdout",
     "output_type": "stream",
     "text": [
      "12\n",
      "12 2\n",
      "15\n",
      "15 3\n"
     ]
    },
    {
     "name": "stderr",
     "output_type": "stream",
     "text": [
      "32it [00:19,  2.85it/s]"
     ]
    },
    {
     "name": "stdout",
     "output_type": "stream",
     "text": [
      "12\n",
      "12 2\n",
      "61\n",
      "61 12\n"
     ]
    },
    {
     "name": "stderr",
     "output_type": "stream",
     "text": [
      "\r",
      "33it [00:20,  2.13it/s]"
     ]
    },
    {
     "name": "stdout",
     "output_type": "stream",
     "text": [
      "7\n",
      "7 1\n",
      "47\n",
      "47 9\n"
     ]
    },
    {
     "name": "stderr",
     "output_type": "stream",
     "text": [
      "\r",
      "35it [00:20,  2.44it/s]"
     ]
    },
    {
     "name": "stdout",
     "output_type": "stream",
     "text": [
      "31\n",
      "31 6\n"
     ]
    },
    {
     "name": "stderr",
     "output_type": "stream",
     "text": [
      "\r",
      "36it [00:21,  2.48it/s]"
     ]
    },
    {
     "name": "stdout",
     "output_type": "stream",
     "text": [
      "21\n",
      "21 4\n"
     ]
    },
    {
     "name": "stderr",
     "output_type": "stream",
     "text": [
      "38it [00:21,  3.30it/s]"
     ]
    },
    {
     "name": "stdout",
     "output_type": "stream",
     "text": [
      "11\n",
      "11 2\n",
      "21\n",
      "21 4\n"
     ]
    },
    {
     "name": "stderr",
     "output_type": "stream",
     "text": [
      "\r",
      "39it [00:21,  3.44it/s]"
     ]
    },
    {
     "name": "stdout",
     "output_type": "stream",
     "text": [
      "23\n",
      "23 4\n"
     ]
    },
    {
     "name": "stderr",
     "output_type": "stream",
     "text": [
      "\r",
      "40it [00:22,  3.48it/s]"
     ]
    },
    {
     "name": "stdout",
     "output_type": "stream",
     "text": [
      "32\n",
      "32 6\n"
     ]
    },
    {
     "name": "stderr",
     "output_type": "stream",
     "text": [
      "\r",
      "41it [00:22,  3.17it/s]"
     ]
    },
    {
     "name": "stdout",
     "output_type": "stream",
     "text": [
      "23\n",
      "23 4\n"
     ]
    },
    {
     "name": "stderr",
     "output_type": "stream",
     "text": [
      "\r",
      "42it [00:22,  3.26it/s]"
     ]
    },
    {
     "name": "stdout",
     "output_type": "stream",
     "text": [
      "58\n",
      "58 11\n"
     ]
    },
    {
     "name": "stderr",
     "output_type": "stream",
     "text": [
      "\r",
      "43it [00:23,  2.39it/s]"
     ]
    },
    {
     "name": "stdout",
     "output_type": "stream",
     "text": [
      "19\n",
      "19 3\n"
     ]
    },
    {
     "name": "stderr",
     "output_type": "stream",
     "text": [
      "44it [00:23,  1.85it/s]\n",
      "0it [00:00, ?it/s]"
     ]
    },
    {
     "name": "stdout",
     "output_type": "stream",
     "text": [
      "24\n",
      "24 4\n"
     ]
    },
    {
     "name": "stderr",
     "output_type": "stream",
     "text": [
      "\r",
      "1it [00:00,  4.56it/s]"
     ]
    },
    {
     "name": "stdout",
     "output_type": "stream",
     "text": [
      "138\n",
      "138 27\n"
     ]
    },
    {
     "name": "stderr",
     "output_type": "stream",
     "text": [
      "\r",
      "2it [00:01,  1.19it/s]"
     ]
    },
    {
     "name": "stdout",
     "output_type": "stream",
     "text": [
      "91\n",
      "91 18\n"
     ]
    },
    {
     "name": "stderr",
     "output_type": "stream",
     "text": [
      "4it [00:02,  1.70it/s]"
     ]
    },
    {
     "name": "stdout",
     "output_type": "stream",
     "text": [
      "19\n",
      "19 3\n",
      "57\n",
      "57 11\n"
     ]
    },
    {
     "name": "stderr",
     "output_type": "stream",
     "text": [
      "\r",
      "5it [00:03,  1.77it/s]"
     ]
    },
    {
     "name": "stdout",
     "output_type": "stream",
     "text": [
      "30\n",
      "30 6\n"
     ]
    },
    {
     "name": "stderr",
     "output_type": "stream",
     "text": [
      "\r",
      "6it [00:03,  2.15it/s]"
     ]
    },
    {
     "name": "stdout",
     "output_type": "stream",
     "text": [
      "36\n",
      "36 7\n"
     ]
    },
    {
     "name": "stderr",
     "output_type": "stream",
     "text": [
      "\r",
      "7it [00:03,  2.36it/s]"
     ]
    },
    {
     "name": "stdout",
     "output_type": "stream",
     "text": [
      "42\n",
      "42 8\n"
     ]
    },
    {
     "name": "stderr",
     "output_type": "stream",
     "text": [
      "\r",
      "8it [00:04,  2.42it/s]"
     ]
    },
    {
     "name": "stdout",
     "output_type": "stream",
     "text": [
      "27\n",
      "27 5\n"
     ]
    },
    {
     "name": "stderr",
     "output_type": "stream",
     "text": [
      "\r",
      "9it [00:04,  2.78it/s]"
     ]
    },
    {
     "name": "stdout",
     "output_type": "stream",
     "text": [
      "104\n",
      "104 20\n"
     ]
    },
    {
     "name": "stderr",
     "output_type": "stream",
     "text": [
      "\r",
      "10it [00:05,  1.81it/s]"
     ]
    },
    {
     "name": "stdout",
     "output_type": "stream",
     "text": [
      "38\n",
      "38 7\n"
     ]
    },
    {
     "name": "stderr",
     "output_type": "stream",
     "text": [
      "12it [00:05,  2.57it/s]"
     ]
    },
    {
     "name": "stdout",
     "output_type": "stream",
     "text": [
      "17\n",
      "17 3\n",
      "47\n",
      "47 9\n"
     ]
    },
    {
     "name": "stderr",
     "output_type": "stream",
     "text": [
      "\r",
      "13it [00:06,  2.50it/s]"
     ]
    },
    {
     "name": "stdout",
     "output_type": "stream",
     "text": [
      "72\n",
      "72 14\n"
     ]
    },
    {
     "name": "stderr",
     "output_type": "stream",
     "text": [
      "\r",
      "14it [00:06,  2.09it/s]"
     ]
    },
    {
     "name": "stdout",
     "output_type": "stream",
     "text": [
      "41\n",
      "41 8\n"
     ]
    },
    {
     "name": "stderr",
     "output_type": "stream",
     "text": [
      "\r",
      "15it [00:07,  2.22it/s]"
     ]
    },
    {
     "name": "stdout",
     "output_type": "stream",
     "text": [
      "83\n",
      "83 16\n"
     ]
    },
    {
     "name": "stderr",
     "output_type": "stream",
     "text": [
      "\r",
      "16it [00:08,  1.85it/s]"
     ]
    },
    {
     "name": "stdout",
     "output_type": "stream",
     "text": [
      "141\n",
      "141 28\n"
     ]
    },
    {
     "name": "stderr",
     "output_type": "stream",
     "text": [
      "\r",
      "17it [00:09,  1.30it/s]"
     ]
    },
    {
     "name": "stdout",
     "output_type": "stream",
     "text": [
      "77\n",
      "77 15\n"
     ]
    },
    {
     "name": "stderr",
     "output_type": "stream",
     "text": [
      "\r",
      "18it [00:10,  1.33it/s]"
     ]
    },
    {
     "name": "stdout",
     "output_type": "stream",
     "text": [
      "110\n",
      "110 22\n"
     ]
    },
    {
     "name": "stderr",
     "output_type": "stream",
     "text": [
      "\r",
      "19it [00:11,  1.19it/s]"
     ]
    },
    {
     "name": "stdout",
     "output_type": "stream",
     "text": [
      "62\n",
      "62 12\n"
     ]
    },
    {
     "name": "stderr",
     "output_type": "stream",
     "text": [
      "\r",
      "20it [00:11,  1.33it/s]"
     ]
    },
    {
     "name": "stdout",
     "output_type": "stream",
     "text": [
      "84\n",
      "84 16\n"
     ]
    },
    {
     "name": "stderr",
     "output_type": "stream",
     "text": [
      "\r",
      "21it [00:12,  1.32it/s]"
     ]
    },
    {
     "name": "stdout",
     "output_type": "stream",
     "text": [
      "174\n",
      "174 34\n"
     ]
    },
    {
     "name": "stderr",
     "output_type": "stream",
     "text": [
      "\r",
      "22it [00:14,  1.02s/it]"
     ]
    },
    {
     "name": "stdout",
     "output_type": "stream",
     "text": [
      "60\n",
      "60 12\n"
     ]
    },
    {
     "name": "stderr",
     "output_type": "stream",
     "text": [
      "\r",
      "23it [00:14,  1.12it/s]"
     ]
    },
    {
     "name": "stdout",
     "output_type": "stream",
     "text": [
      "185\n",
      "185 37\n"
     ]
    },
    {
     "name": "stderr",
     "output_type": "stream",
     "text": [
      "\r",
      "24it [00:16,  1.19s/it]"
     ]
    },
    {
     "name": "stdout",
     "output_type": "stream",
     "text": [
      "62\n",
      "62 12\n"
     ]
    },
    {
     "name": "stderr",
     "output_type": "stream",
     "text": [
      "\r",
      "25it [00:17,  1.00s/it]"
     ]
    },
    {
     "name": "stdout",
     "output_type": "stream",
     "text": [
      "102\n",
      "102 20\n"
     ]
    },
    {
     "name": "stderr",
     "output_type": "stream",
     "text": [
      "\r",
      "26it [00:18,  1.01it/s]"
     ]
    },
    {
     "name": "stdout",
     "output_type": "stream",
     "text": [
      "41\n",
      "41 8\n"
     ]
    },
    {
     "name": "stderr",
     "output_type": "stream",
     "text": [
      "\r",
      "27it [00:18,  1.24it/s]"
     ]
    },
    {
     "name": "stdout",
     "output_type": "stream",
     "text": [
      "42\n",
      "42 8\n"
     ]
    },
    {
     "name": "stderr",
     "output_type": "stream",
     "text": [
      "\r",
      "28it [00:18,  1.46it/s]"
     ]
    },
    {
     "name": "stdout",
     "output_type": "stream",
     "text": [
      "57\n",
      "57 11\n"
     ]
    },
    {
     "name": "stderr",
     "output_type": "stream",
     "text": [
      "\r",
      "29it [00:19,  1.56it/s]"
     ]
    },
    {
     "name": "stdout",
     "output_type": "stream",
     "text": [
      "174\n",
      "174 34\n"
     ]
    },
    {
     "name": "stderr",
     "output_type": "stream",
     "text": [
      "31it [00:21,  1.41it/s]"
     ]
    },
    {
     "name": "stdout",
     "output_type": "stream",
     "text": [
      "18\n",
      "18 3\n",
      "92\n",
      "92 18\n"
     ]
    },
    {
     "name": "stderr",
     "output_type": "stream",
     "text": [
      "\r",
      "32it [00:22,  1.30it/s]"
     ]
    },
    {
     "name": "stdout",
     "output_type": "stream",
     "text": [
      "201\n",
      "201 40\n"
     ]
    },
    {
     "name": "stderr",
     "output_type": "stream",
     "text": [
      "\r",
      "33it [00:24,  1.13s/it]"
     ]
    },
    {
     "name": "stdout",
     "output_type": "stream",
     "text": [
      "63\n",
      "63 12\n"
     ]
    },
    {
     "name": "stderr",
     "output_type": "stream",
     "text": [
      "\r",
      "34it [00:24,  1.03it/s]"
     ]
    },
    {
     "name": "stdout",
     "output_type": "stream",
     "text": [
      "38\n",
      "38 7\n"
     ]
    },
    {
     "name": "stderr",
     "output_type": "stream",
     "text": [
      "\r",
      "35it [00:25,  1.26it/s]"
     ]
    },
    {
     "name": "stdout",
     "output_type": "stream",
     "text": [
      "25\n",
      "25 5\n"
     ]
    },
    {
     "name": "stderr",
     "output_type": "stream",
     "text": [
      "\r",
      "36it [00:25,  1.59it/s]"
     ]
    },
    {
     "name": "stdout",
     "output_type": "stream",
     "text": [
      "34\n",
      "34 6\n"
     ]
    },
    {
     "name": "stderr",
     "output_type": "stream",
     "text": [
      "38it [00:25,  2.43it/s]"
     ]
    },
    {
     "name": "stdout",
     "output_type": "stream",
     "text": [
      "11\n",
      "11 2\n",
      "40\n",
      "40 8\n"
     ]
    },
    {
     "name": "stderr",
     "output_type": "stream",
     "text": [
      "40it [00:26,  2.91it/s]"
     ]
    },
    {
     "name": "stdout",
     "output_type": "stream",
     "text": [
      "18\n",
      "18 3\n",
      "90\n",
      "90 18\n"
     ]
    },
    {
     "name": "stderr",
     "output_type": "stream",
     "text": [
      "42it [00:27,  2.45it/s]"
     ]
    },
    {
     "name": "stdout",
     "output_type": "stream",
     "text": [
      "14\n",
      "14 2\n",
      "23\n",
      "23 4\n"
     ]
    },
    {
     "name": "stderr",
     "output_type": "stream",
     "text": [
      "\r",
      "43it [00:27,  2.87it/s]"
     ]
    },
    {
     "name": "stdout",
     "output_type": "stream",
     "text": [
      "69\n",
      "69 13\n"
     ]
    },
    {
     "name": "stderr",
     "output_type": "stream",
     "text": [
      "\r",
      "44it [00:28,  2.27it/s]"
     ]
    },
    {
     "name": "stdout",
     "output_type": "stream",
     "text": [
      "116\n",
      "116 23\n"
     ]
    },
    {
     "name": "stderr",
     "output_type": "stream",
     "text": [
      "\r",
      "45it [00:29,  1.58it/s]"
     ]
    },
    {
     "name": "stdout",
     "output_type": "stream",
     "text": [
      "47\n",
      "47 9\n"
     ]
    },
    {
     "name": "stderr",
     "output_type": "stream",
     "text": [
      "\r",
      "46it [00:29,  1.73it/s]"
     ]
    },
    {
     "name": "stdout",
     "output_type": "stream",
     "text": [
      "102\n",
      "102 20\n"
     ]
    },
    {
     "name": "stderr",
     "output_type": "stream",
     "text": [
      "47it [00:30,  1.53it/s]\n",
      "0it [00:00, ?it/s]"
     ]
    },
    {
     "name": "stdout",
     "output_type": "stream",
     "text": [
      "60\n",
      "60 12\n"
     ]
    },
    {
     "name": "stderr",
     "output_type": "stream",
     "text": [
      "\r",
      "1it [00:00,  1.29it/s]"
     ]
    },
    {
     "name": "stdout",
     "output_type": "stream",
     "text": [
      "38\n",
      "38 7\n"
     ]
    },
    {
     "name": "stderr",
     "output_type": "stream",
     "text": [
      "\r",
      "2it [00:01,  1.65it/s]"
     ]
    },
    {
     "name": "stdout",
     "output_type": "stream",
     "text": [
      "37\n",
      "37 7\n"
     ]
    },
    {
     "name": "stderr",
     "output_type": "stream",
     "text": [
      "\r",
      "3it [00:01,  1.80it/s]"
     ]
    },
    {
     "name": "stdout",
     "output_type": "stream",
     "text": [
      "28\n",
      "28 5\n"
     ]
    },
    {
     "name": "stderr",
     "output_type": "stream",
     "text": [
      "\r",
      "4it [00:02,  2.03it/s]"
     ]
    },
    {
     "name": "stdout",
     "output_type": "stream",
     "text": [
      "19\n",
      "19 3\n"
     ]
    },
    {
     "name": "stderr",
     "output_type": "stream",
     "text": [
      "\r",
      "5it [00:02,  2.46it/s]"
     ]
    },
    {
     "name": "stdout",
     "output_type": "stream",
     "text": [
      "16\n",
      "16 3\n"
     ]
    },
    {
     "name": "stderr",
     "output_type": "stream",
     "text": [
      "\r",
      "6it [00:02,  2.91it/s]"
     ]
    },
    {
     "name": "stdout",
     "output_type": "stream",
     "text": [
      "26\n",
      "26 5\n"
     ]
    },
    {
     "name": "stderr",
     "output_type": "stream",
     "text": [
      "\r",
      "7it [00:02,  2.93it/s]"
     ]
    },
    {
     "name": "stdout",
     "output_type": "stream",
     "text": [
      "24\n",
      "24 4\n"
     ]
    },
    {
     "name": "stderr",
     "output_type": "stream",
     "text": [
      "\r",
      "8it [00:03,  3.01it/s]"
     ]
    },
    {
     "name": "stdout",
     "output_type": "stream",
     "text": [
      "42\n",
      "42 8\n"
     ]
    },
    {
     "name": "stderr",
     "output_type": "stream",
     "text": [
      "10it [00:04,  3.00it/s]"
     ]
    },
    {
     "name": "stdout",
     "output_type": "stream",
     "text": [
      "13\n",
      "13 2\n",
      "115\n",
      "115 23\n"
     ]
    },
    {
     "name": "stderr",
     "output_type": "stream",
     "text": [
      "\r",
      "11it [00:05,  1.37it/s]"
     ]
    },
    {
     "name": "stdout",
     "output_type": "stream",
     "text": [
      "23\n",
      "23 4\n"
     ]
    },
    {
     "name": "stderr",
     "output_type": "stream",
     "text": [
      "\r",
      "12it [00:05,  1.65it/s]"
     ]
    },
    {
     "name": "stdout",
     "output_type": "stream",
     "text": [
      "27\n",
      "27 5\n"
     ]
    },
    {
     "name": "stderr",
     "output_type": "stream",
     "text": [
      "14it [00:06,  2.42it/s]"
     ]
    },
    {
     "name": "stdout",
     "output_type": "stream",
     "text": [
      "11\n",
      "11 2\n",
      "82\n",
      "82 16\n"
     ]
    },
    {
     "name": "stderr",
     "output_type": "stream",
     "text": [
      "\r",
      "15it [00:07,  1.66it/s]"
     ]
    },
    {
     "name": "stdout",
     "output_type": "stream",
     "text": [
      "134\n",
      "134 26\n"
     ]
    },
    {
     "name": "stderr",
     "output_type": "stream",
     "text": [
      "17it [00:09,  1.45it/s]"
     ]
    },
    {
     "name": "stdout",
     "output_type": "stream",
     "text": [
      "8\n",
      "8 1\n",
      "60\n",
      "60 12\n"
     ]
    },
    {
     "name": "stderr",
     "output_type": "stream",
     "text": [
      "\r",
      "18it [00:10,  1.40it/s]"
     ]
    },
    {
     "name": "stdout",
     "output_type": "stream",
     "text": [
      "20\n",
      "20 4\n"
     ]
    },
    {
     "name": "stderr",
     "output_type": "stream",
     "text": [
      "\r",
      "19it [00:10,  1.71it/s]"
     ]
    },
    {
     "name": "stdout",
     "output_type": "stream",
     "text": [
      "110\n",
      "110 22\n"
     ]
    },
    {
     "name": "stderr",
     "output_type": "stream",
     "text": [
      "\r",
      "20it [00:11,  1.18it/s]"
     ]
    },
    {
     "name": "stdout",
     "output_type": "stream",
     "text": [
      "16\n",
      "16 3\n"
     ]
    },
    {
     "name": "stderr",
     "output_type": "stream",
     "text": [
      "22it [00:12,  1.96it/s]"
     ]
    },
    {
     "name": "stdout",
     "output_type": "stream",
     "text": [
      "9\n",
      "9 1\n",
      "78\n",
      "78 15\n"
     ]
    },
    {
     "name": "stderr",
     "output_type": "stream",
     "text": [
      "\r",
      "23it [00:13,  1.42it/s]"
     ]
    },
    {
     "name": "stdout",
     "output_type": "stream",
     "text": [
      "159\n",
      "159 31\n"
     ]
    },
    {
     "name": "stderr",
     "output_type": "stream",
     "text": [
      "\r",
      "24it [00:15,  1.20s/it]"
     ]
    },
    {
     "name": "stdout",
     "output_type": "stream",
     "text": [
      "19\n",
      "19 3\n"
     ]
    },
    {
     "name": "stderr",
     "output_type": "stream",
     "text": [
      "26it [00:16,  1.46it/s]"
     ]
    },
    {
     "name": "stdout",
     "output_type": "stream",
     "text": [
      "8\n",
      "8 1\n",
      "112\n",
      "112 22\n"
     ]
    },
    {
     "name": "stderr",
     "output_type": "stream",
     "text": [
      "\r",
      "27it [00:17,  1.02it/s]"
     ]
    },
    {
     "name": "stdout",
     "output_type": "stream",
     "text": [
      "49\n",
      "49 9\n"
     ]
    },
    {
     "name": "stderr",
     "output_type": "stream",
     "text": [
      "29it [00:18,  1.43it/s]"
     ]
    },
    {
     "name": "stdout",
     "output_type": "stream",
     "text": [
      "12\n",
      "12 2\n",
      "15\n",
      "15 3\n"
     ]
    },
    {
     "name": "stderr",
     "output_type": "stream",
     "text": [
      "31it [00:19,  2.25it/s]"
     ]
    },
    {
     "name": "stdout",
     "output_type": "stream",
     "text": [
      "11\n",
      "11 2\n",
      "22\n",
      "22 4\n"
     ]
    },
    {
     "name": "stderr",
     "output_type": "stream",
     "text": [
      "33it [00:19,  3.11it/s]"
     ]
    },
    {
     "name": "stdout",
     "output_type": "stream",
     "text": [
      "8\n",
      "8 1\n",
      "27\n",
      "27 5\n"
     ]
    },
    {
     "name": "stderr",
     "output_type": "stream",
     "text": [
      "\r",
      "34it [00:20,  2.92it/s]"
     ]
    },
    {
     "name": "stdout",
     "output_type": "stream",
     "text": [
      "39\n",
      "39 7\n"
     ]
    },
    {
     "name": "stderr",
     "output_type": "stream",
     "text": [
      "\r",
      "35it [00:20,  2.20it/s]"
     ]
    },
    {
     "name": "stdout",
     "output_type": "stream",
     "text": [
      "113\n",
      "113 22\n"
     ]
    },
    {
     "name": "stderr",
     "output_type": "stream",
     "text": [
      "\r",
      "36it [00:22,  1.30it/s]"
     ]
    },
    {
     "name": "stdout",
     "output_type": "stream",
     "text": [
      "20\n",
      "20 4\n"
     ]
    },
    {
     "name": "stderr",
     "output_type": "stream",
     "text": [
      "\r",
      "37it [00:22,  1.63it/s]"
     ]
    },
    {
     "name": "stdout",
     "output_type": "stream",
     "text": [
      "15\n",
      "15 3\n"
     ]
    },
    {
     "name": "stderr",
     "output_type": "stream",
     "text": [
      "\r",
      "38it [00:22,  2.04it/s]"
     ]
    },
    {
     "name": "stdout",
     "output_type": "stream",
     "text": [
      "36\n",
      "36 7\n"
     ]
    },
    {
     "name": "stderr",
     "output_type": "stream",
     "text": [
      "\r",
      "39it [00:23,  2.07it/s]"
     ]
    },
    {
     "name": "stdout",
     "output_type": "stream",
     "text": [
      "62\n",
      "62 12\n"
     ]
    },
    {
     "name": "stderr",
     "output_type": "stream",
     "text": [
      "\r",
      "40it [00:23,  1.73it/s]"
     ]
    },
    {
     "name": "stdout",
     "output_type": "stream",
     "text": [
      "37\n",
      "37 7\n"
     ]
    },
    {
     "name": "stderr",
     "output_type": "stream",
     "text": [
      "\r",
      "41it [00:24,  1.78it/s]"
     ]
    },
    {
     "name": "stdout",
     "output_type": "stream",
     "text": [
      "55\n",
      "55 11\n"
     ]
    },
    {
     "name": "stderr",
     "output_type": "stream",
     "text": [
      "43it [00:25,  2.09it/s]"
     ]
    },
    {
     "name": "stdout",
     "output_type": "stream",
     "text": [
      "14\n",
      "14 2\n",
      "23\n",
      "23 4\n"
     ]
    },
    {
     "name": "stderr",
     "output_type": "stream",
     "text": [
      "\r",
      "44it [00:25,  2.33it/s]"
     ]
    },
    {
     "name": "stdout",
     "output_type": "stream",
     "text": [
      "67\n",
      "67 13\n"
     ]
    },
    {
     "name": "stderr",
     "output_type": "stream",
     "text": [
      "46it [00:26,  2.18it/s]"
     ]
    },
    {
     "name": "stdout",
     "output_type": "stream",
     "text": [
      "13\n",
      "13 2\n",
      "26\n",
      "26 5\n"
     ]
    },
    {
     "name": "stderr",
     "output_type": "stream",
     "text": [
      "\r",
      "47it [00:27,  2.33it/s]"
     ]
    },
    {
     "name": "stdout",
     "output_type": "stream",
     "text": [
      "19\n",
      "19 3\n"
     ]
    },
    {
     "name": "stderr",
     "output_type": "stream",
     "text": [
      "49it [00:27,  3.10it/s]"
     ]
    },
    {
     "name": "stdout",
     "output_type": "stream",
     "text": [
      "13\n",
      "13 2\n",
      "21\n",
      "21 4\n"
     ]
    },
    {
     "name": "stderr",
     "output_type": "stream",
     "text": [
      "\r",
      "50it [00:27,  3.17it/s]"
     ]
    },
    {
     "name": "stdout",
     "output_type": "stream",
     "text": [
      "25\n",
      "25 5\n"
     ]
    },
    {
     "name": "stderr",
     "output_type": "stream",
     "text": [
      "\r",
      "51it [00:28,  3.06it/s]"
     ]
    },
    {
     "name": "stdout",
     "output_type": "stream",
     "text": [
      "28\n",
      "28 5\n"
     ]
    },
    {
     "name": "stderr",
     "output_type": "stream",
     "text": [
      "\r",
      "52it [00:28,  2.84it/s]"
     ]
    },
    {
     "name": "stdout",
     "output_type": "stream",
     "text": [
      "26\n",
      "26 5\n"
     ]
    },
    {
     "name": "stderr",
     "output_type": "stream",
     "text": [
      "\r",
      "53it [00:29,  2.82it/s]"
     ]
    },
    {
     "name": "stdout",
     "output_type": "stream",
     "text": [
      "99\n",
      "99 19\n"
     ]
    },
    {
     "name": "stderr",
     "output_type": "stream",
     "text": [
      "\r",
      "54it [00:30,  1.55it/s]"
     ]
    },
    {
     "name": "stdout",
     "output_type": "stream",
     "text": [
      "30\n",
      "30 6\n"
     ]
    },
    {
     "name": "stderr",
     "output_type": "stream",
     "text": [
      "\r",
      "55it [00:30,  1.75it/s]"
     ]
    },
    {
     "name": "stdout",
     "output_type": "stream",
     "text": [
      "105\n",
      "105 21\n"
     ]
    },
    {
     "name": "stderr",
     "output_type": "stream",
     "text": [
      "\r",
      "56it [00:32,  1.24it/s]"
     ]
    },
    {
     "name": "stdout",
     "output_type": "stream",
     "text": [
      "19\n",
      "19 3\n"
     ]
    },
    {
     "name": "stderr",
     "output_type": "stream",
     "text": [
      "\r",
      "57it [00:32,  1.57it/s]"
     ]
    },
    {
     "name": "stdout",
     "output_type": "stream",
     "text": [
      "36\n",
      "36 7\n"
     ]
    },
    {
     "name": "stderr",
     "output_type": "stream",
     "text": [
      "\r",
      "58it [00:32,  1.70it/s]"
     ]
    },
    {
     "name": "stdout",
     "output_type": "stream",
     "text": [
      "39\n",
      "39 7\n"
     ]
    },
    {
     "name": "stderr",
     "output_type": "stream",
     "text": [
      "\r",
      "59it [00:33,  1.74it/s]"
     ]
    },
    {
     "name": "stdout",
     "output_type": "stream",
     "text": [
      "117\n",
      "117 23\n"
     ]
    },
    {
     "name": "stderr",
     "output_type": "stream",
     "text": [
      "\r",
      "60it [00:34,  1.16it/s]"
     ]
    },
    {
     "name": "stdout",
     "output_type": "stream",
     "text": [
      "46\n",
      "46 9\n"
     ]
    },
    {
     "name": "stderr",
     "output_type": "stream",
     "text": [
      "\r",
      "61it [00:35,  1.28it/s]"
     ]
    },
    {
     "name": "stdout",
     "output_type": "stream",
     "text": [
      "45\n",
      "45 9\n"
     ]
    },
    {
     "name": "stderr",
     "output_type": "stream",
     "text": [
      "\r",
      "62it [00:36,  1.37it/s]"
     ]
    },
    {
     "name": "stdout",
     "output_type": "stream",
     "text": [
      "111\n",
      "111 22\n"
     ]
    },
    {
     "name": "stderr",
     "output_type": "stream",
     "text": [
      "\r",
      "63it [00:37,  1.03it/s]"
     ]
    },
    {
     "name": "stdout",
     "output_type": "stream",
     "text": [
      "46\n",
      "46 9\n"
     ]
    },
    {
     "name": "stderr",
     "output_type": "stream",
     "text": [
      "\r",
      "64it [00:38,  1.17it/s]"
     ]
    },
    {
     "name": "stdout",
     "output_type": "stream",
     "text": [
      "140\n",
      "140 28\n"
     ]
    },
    {
     "name": "stderr",
     "output_type": "stream",
     "text": [
      "\r",
      "65it [00:40,  1.14s/it]"
     ]
    },
    {
     "name": "stdout",
     "output_type": "stream",
     "text": [
      "34\n",
      "34 6\n"
     ]
    },
    {
     "name": "stderr",
     "output_type": "stream",
     "text": [
      "66it [00:40,  1.63it/s]\n"
     ]
    }
   ],
   "source": [
    "chunk_size = 5\n",
    "\n",
    "V_t = {filmname:[] for filmname in global_test_filmnames} \n",
    "\n",
    "for filmname in global_test_filmnames:\n",
    "    film = videos[filmname]\n",
    "    film_embs = []\n",
    "    for scene_idx, scene in tqdm(enumerate(film)):\n",
    "        scene_embs = []\n",
    "        print(len(scene))\n",
    "        chunk_number = int(len(scene)/chunk_size)\n",
    "        \n",
    "        video_chunks = np.array_split(scene, chunk_number)\n",
    "        print(len(scene), chunk_number)\n",
    "        for chunk in video_chunks:\n",
    "            chunk_embs = []\n",
    "#            print(len(chunk))\n",
    "            for frame in chunk:\n",
    "                vit_inputs = image_processor(frame, return_tensors=\"pt\").to('cuda:0')\n",
    "                \n",
    "                with torch.no_grad():\n",
    "                    vit_outputs = vit_model(**vit_inputs)\n",
    "                vit_embedding = vit_outputs.pooler_output\n",
    "                chunk_embs.append(vit_embedding)\n",
    "            chunk_embs = torch.stack(chunk_embs)\n",
    "            \n",
    "            V_emb = torch.mean(chunk_embs, axis=0).detach().cpu()\n",
    "            ext_emb = torch.cat([V_emb.squeeze(), T[filmname][scene_idx].squeeze()], axis=0) #A[filmname][i]\n",
    "            \n",
    "            scene_embs.append(ext_emb)\n",
    "        film_embs.append(scene_embs)\n",
    "    V_t[filmname].append(film_embs)"
   ]
  },
  {
   "cell_type": "code",
   "execution_count": 97,
   "id": "cf956277",
   "metadata": {},
   "outputs": [],
   "source": [
    "V_t = {filmname:V_t[filmname][0] for filmname in global_test_filmnames}"
   ]
  },
  {
   "cell_type": "code",
   "execution_count": 98,
   "id": "81b525e1",
   "metadata": {},
   "outputs": [
    {
     "data": {
      "text/plain": [
       "(67, 12, 1536)"
      ]
     },
     "execution_count": 98,
     "metadata": {},
     "output_type": "execute_result"
    }
   ],
   "source": [
    "len(V_t['Bagman']), len(V_t['Bagman'][0]), len(V_t['Bagman'][0][0])"
   ]
  },
  {
   "cell_type": "markdown",
   "id": "5266b388",
   "metadata": {},
   "source": [
    "Preparing the tracking data:"
   ]
  },
  {
   "cell_type": "code",
   "execution_count": 99,
   "id": "fe42b30a",
   "metadata": {},
   "outputs": [],
   "source": [
    "def get_chunk_entities(graphen_tr, global_test_filmnames):\n",
    "    graphen_tr_ch = {filmname:[] for filmname in global_test_filmnames}\n",
    "    for filmname in global_test_filmnames:\n",
    "        film_data = graphen_tr[filmname]\n",
    "        film_chars = []\n",
    "        for scene_data in tqdm(film_data):\n",
    "            print('Scene data', len(scene_data))\n",
    "            if len(list(scene_data.keys())) > 0 and list(scene_data.keys()) != ['']:\n",
    "                sample_key = list(scene_data.keys())[-1]\n",
    "                print('Sample len', len(scene_data[sample_key]), sample_key)\n",
    "                chunk_number = int(len(scene_data[sample_key])/chunk_size)\n",
    "                tr_chunks = {entity:np.array_split(scene_data[entity], chunk_number) for entity in scene_data} \n",
    "                chunk_entites = []\n",
    "                print(chunk_number, len(tr_chunks[sample_key]))\n",
    "                for chunk_idx in range(chunk_number):\n",
    "                    chunk_cnts = dict()\n",
    "                    for entity in tr_chunks:\n",
    "                        score = sum([1 if len(tr_chunks[entity][chunk_idx][i]['pose_box']) != 0 else 0 for i in range(len(tr_chunks[entity][chunk_idx]))])\n",
    "                        if score > 0 and entity != '':\n",
    "                            chunk_cnts[entity] = score \n",
    "#                    print(chunk_cnts)\n",
    "                    keys = sorted(chunk_cnts)[::-1][:2]\n",
    "#                    print(keys)\n",
    "                    chunk_entites.append(keys)\n",
    "                film_chars.append(chunk_entites)\n",
    "            else:\n",
    "                film_chars.append([])\n",
    "        graphen_tr_ch[filmname] = film_chars\n",
    "    return graphen_tr_ch"
   ]
  },
  {
   "cell_type": "code",
   "execution_count": 68,
   "id": "35758d4e",
   "metadata": {},
   "outputs": [
    {
     "data": {
      "text/plain": [
       "(4, 59)"
      ]
     },
     "execution_count": 68,
     "metadata": {},
     "output_type": "execute_result"
    }
   ],
   "source": [
    "len(graphen_tr['Bagman'][3]), len(graphen_tr['Bagman'][3]['jack'])"
   ]
  },
  {
   "cell_type": "code",
   "execution_count": 45,
   "id": "35ce7c1b",
   "metadata": {},
   "outputs": [
    {
     "data": {
      "text/plain": [
       "59"
      ]
     },
     "execution_count": 45,
     "metadata": {},
     "output_type": "execute_result"
    }
   ],
   "source": [
    "len(evg_tr['Bagman'][3]['jack'])"
   ]
  },
  {
   "cell_type": "code",
   "execution_count": 912,
   "id": "8c6a9707",
   "metadata": {},
   "outputs": [
    {
     "data": {
      "text/plain": [
       "['gus_boulis', 'jack', '', 'senator_bob']"
      ]
     },
     "execution_count": 912,
     "metadata": {},
     "output_type": "execute_result"
    }
   ],
   "source": [
    "list(graphen_tr['Bagman'][3].keys())"
   ]
  },
  {
   "cell_type": "code",
   "execution_count": 943,
   "id": "d655b8ef",
   "metadata": {},
   "outputs": [
    {
     "data": {
      "text/plain": [
       "(59, 59, 59)"
      ]
     },
     "execution_count": 943,
     "metadata": {},
     "output_type": "execute_result"
    }
   ],
   "source": [
    "len(graphen_tr['Bagman'][3]['jack']), len(graphen_tr['Bagman'][3]['senator_bob']), len(graphen_tr['Bagman'][3]['gus_boulis'])"
   ]
  },
  {
   "cell_type": "code",
   "execution_count": 944,
   "id": "876a1d97",
   "metadata": {},
   "outputs": [
    {
     "data": {
      "text/plain": [
       "(59, 59, 59)"
      ]
     },
     "execution_count": 944,
     "metadata": {},
     "output_type": "execute_result"
    }
   ],
   "source": [
    "len(evg_tr['Bagman'][3]['jack']), len(evg_tr['Bagman'][3]['senator_bob']), len(evg_tr['Bagman'][3]['gus_boulis'])"
   ]
  },
  {
   "cell_type": "code",
   "execution_count": 915,
   "id": "c30975ec",
   "metadata": {},
   "outputs": [
    {
     "data": {
      "text/plain": [
       "4"
      ]
     },
     "execution_count": 915,
     "metadata": {},
     "output_type": "execute_result"
    }
   ],
   "source": [
    "len(graphen_tr_ch['Bagman'][1])"
   ]
  },
  {
   "cell_type": "code",
   "execution_count": 102,
   "id": "c2cc1792",
   "metadata": {},
   "outputs": [
    {
     "name": "stderr",
     "output_type": "stream",
     "text": [
      "100%|██████████| 67/67 [00:00<00:00, 1236.90it/s]\n"
     ]
    },
    {
     "name": "stdout",
     "output_type": "stream",
     "text": [
      "Scene data 2\n",
      "Sample len 63 \n",
      "12 12\n",
      "Scene data 4\n",
      "Sample len 23 mr_sprague\n",
      "4 4\n",
      "Scene data 5\n",
      "Sample len 23 gus_boulis\n",
      "4 4\n",
      "Scene data 4\n",
      "Sample len 59 senator_bob\n",
      "11 11\n",
      "Scene data 8\n",
      "Sample len 102 bill\n",
      "20 20\n",
      "Scene data 6\n",
      "Sample len 25 tom_delay\n",
      "5 5\n",
      "Scene data 4\n",
      "Sample len 50 senator_bob\n",
      "10 10\n",
      "Scene data 5\n",
      "Sample len 38 chief_poncho\n",
      "7 7\n",
      "Scene data 10\n",
      "Sample len 47 pam\n",
      "9 9\n",
      "Scene data 4\n",
      "Sample len 25 manny\n",
      "5 5\n",
      "Scene data 4\n",
      "Sample len 36 mike\n",
      "7 7\n",
      "Scene data 4\n",
      "Sample len 16 \n",
      "3 3\n",
      "Scene data 4\n",
      "Sample len 54 gus_boulis\n",
      "10 10\n",
      "Scene data 6\n",
      "Sample len 30 jack\n",
      "6 6\n",
      "Scene data 5\n",
      "Sample len 22 adam\n",
      "4 4\n",
      "Scene data 11\n",
      "Sample len 24 grover\n",
      "4 4\n",
      "Scene data 6\n",
      "Sample len 24 \n",
      "4 4\n",
      "Scene data 5\n",
      "Sample len 42 gus_boulis\n",
      "8 8\n",
      "Scene data 3\n",
      "Sample len 41 pam\n",
      "8 8\n",
      "Scene data 10\n",
      "Sample len 97 mr_sprague\n",
      "19 19\n",
      "Scene data 4\n",
      "Sample len 58 gus_boulis\n",
      "11 11\n",
      "Scene data 6\n",
      "Sample len 34 gus_boulis\n",
      "6 6\n",
      "Scene data 3\n",
      "Sample len 38 adam\n",
      "7 7\n",
      "Scene data 6\n",
      "Sample len 83 gus_boulis\n",
      "16 16\n",
      "Scene data 5\n",
      "Sample len 23 senator_bob\n",
      "4 4\n",
      "Scene data 5\n",
      "Sample len 31 gus_boulis\n",
      "6 6\n",
      "Scene data 3\n",
      "Sample len 23 \n",
      "4 4\n",
      "Scene data 7\n",
      "Sample len 54 \n",
      "10 10\n",
      "Scene data 2\n",
      "Sample len 40 \n",
      "8 8\n",
      "Scene data 7\n",
      "Sample len 71 mike\n",
      "14 14\n",
      "Scene data 6\n",
      "Sample len 31 jack\n",
      "6 6\n",
      "Scene data 3\n",
      "Sample len 75 manny\n",
      "15 15\n",
      "Scene data 6\n",
      "Sample len 70 jack\n",
      "14 14\n",
      "Scene data 5\n",
      "Sample len 37 \n",
      "7 7\n",
      "Scene data 3\n",
      "Sample len 42 \n",
      "8 8\n",
      "Scene data 5\n",
      "Sample len 65 bill\n",
      "13 13\n",
      "Scene data 3\n",
      "Sample len 17 gus_boulis\n",
      "3 3\n",
      "Scene data 4\n",
      "Sample len 26 \n",
      "5 5\n",
      "Scene data 3\n",
      "Sample len 21 \n",
      "4 4\n",
      "Scene data 4\n",
      "Sample len 34 senator_bob\n",
      "6 6\n",
      "Scene data 5\n",
      "Sample len 59 pam\n",
      "11 11\n",
      "Scene data 4\n",
      "Sample len 26 bill\n",
      "5 5\n",
      "Scene data 4\n",
      "Sample len 67 mike\n",
      "13 13\n",
      "Scene data 6\n",
      "Sample len 31 gus_boulis\n",
      "6 6\n",
      "Scene data 2\n",
      "Sample len 26 \n",
      "5 5\n",
      "Scene data 5\n",
      "Sample len 71 mike\n",
      "14 14\n",
      "Scene data 5\n",
      "Sample len 23 senator_bob\n",
      "4 4\n",
      "Scene data 2\n",
      "Sample len 17 \n",
      "3 3\n",
      "Scene data 7\n",
      "Sample len 45 mike\n",
      "9 9\n",
      "Scene data 4\n",
      "Sample len 52 mike\n",
      "10 10\n",
      "Scene data 4\n",
      "Sample len 20 jack\n",
      "4 4\n",
      "Scene data 3\n",
      "Sample len 20 mike\n",
      "4 4\n",
      "Scene data 8\n",
      "Sample len 58 emily\n",
      "11 11\n",
      "Scene data 2\n",
      "Sample len 36 jack\n",
      "7 7\n",
      "Scene data 7\n",
      "Sample len 60 reverend_mueller\n",
      "12 12\n",
      "Scene data 3\n",
      "Sample len 105 jack\n",
      "21 21\n",
      "Scene data 5\n",
      "Sample len 25 grover\n",
      "5 5\n",
      "Scene data 6\n",
      "Sample len 36 ralph\n",
      "7 7\n",
      "Scene data 3\n",
      "Sample len 31 \n",
      "6 6\n",
      "Scene data 4\n",
      "Sample len 41 \n",
      "8 8\n",
      "Scene data 5\n",
      "Sample len 21 chris\n",
      "4 4\n",
      "Scene data 5\n",
      "Sample len 19 gus_boulis\n",
      "3 3\n",
      "Scene data 6\n",
      "Sample len 52 mike\n",
      "10 10\n",
      "Scene data 7\n",
      "Sample len 122 mr_sprague\n",
      "24 24\n",
      "Scene data 7\n",
      "Sample len 57 ralph\n",
      "11 11\n",
      "Scene data 3\n",
      "Sample len 56 \n",
      "11 11\n",
      "Scene data 6\n",
      "Sample len 57 mr_sprague\n",
      "11 11\n"
     ]
    },
    {
     "name": "stderr",
     "output_type": "stream",
     "text": [
      "100%|██████████| 44/44 [00:00<00:00, 1458.65it/s]\n"
     ]
    },
    {
     "name": "stdout",
     "output_type": "stream",
     "text": [
      "Scene data 3\n",
      "Sample len 65 mike\n",
      "13 13\n",
      "Scene data 3\n",
      "Sample len 78 officer2\n",
      "15 15\n",
      "Scene data 2\n",
      "Sample len 24 woman1\n",
      "4 4\n",
      "Scene data 1\n",
      "Scene data 2\n",
      "Sample len 25 officer1\n",
      "5 5\n",
      "Scene data 7\n",
      "Sample len 159 margaret\n",
      "31 31\n",
      "Scene data 5\n",
      "Sample len 97 torgo\n",
      "19 19\n",
      "Scene data 5\n",
      "Sample len 57 debbie\n",
      "11 11\n",
      "Scene data 5\n",
      "Sample len 37 margaret\n",
      "7 7\n",
      "Scene data 3\n",
      "Sample len 63 margaret\n",
      "12 12\n",
      "Scene data 3\n",
      "Sample len 11 margaret\n",
      "2 2\n",
      "Scene data 3\n",
      "Sample len 26 torgo\n",
      "5 5\n",
      "Scene data 5\n",
      "Sample len 75 officer1\n",
      "15 15\n",
      "Scene data 3\n",
      "Sample len 40 \n",
      "8 8\n",
      "Scene data 3\n",
      "Sample len 15 \n",
      "3 3\n",
      "Scene data 3\n",
      "Sample len 12 wife3\n",
      "2 2\n",
      "Scene data 4\n",
      "Sample len 67 \n",
      "13 13\n",
      "Scene data 5\n",
      "Sample len 36 wife2\n",
      "7 7\n",
      "Scene data 1\n",
      "Scene data 4\n",
      "Sample len 24 wife6\n",
      "4 4\n",
      "Scene data 4\n",
      "Sample len 51 man1\n",
      "10 10\n",
      "Scene data 4\n",
      "Sample len 63 \n",
      "12 12\n",
      "Scene data 5\n",
      "Sample len 56 officer2\n",
      "11 11\n",
      "Scene data 5\n",
      "Sample len 77 wife3\n",
      "15 15\n",
      "Scene data 2\n",
      "Sample len 109 master\n",
      "21 21\n",
      "Scene data 3\n",
      "Sample len 42 \n",
      "8 8\n",
      "Scene data 1\n",
      "Scene data 2\n",
      "Sample len 17 wife1\n",
      "3 3\n",
      "Scene data 6\n",
      "Sample len 91 \n",
      "18 18\n",
      "Scene data 2\n",
      "Sample len 12 \n",
      "2 2\n",
      "Scene data 3\n",
      "Sample len 15 wife1\n",
      "3 3\n",
      "Scene data 2\n",
      "Sample len 12 \n",
      "2 2\n",
      "Scene data 5\n",
      "Sample len 61 master\n",
      "12 12\n",
      "Scene data 2\n",
      "Sample len 7 \n",
      "1 1\n",
      "Scene data 3\n",
      "Sample len 47 \n",
      "9 9\n",
      "Scene data 2\n",
      "Sample len 31 debbie\n",
      "6 6\n",
      "Scene data 4\n",
      "Sample len 21 \n",
      "4 4\n",
      "Scene data 2\n",
      "Sample len 11 mike\n",
      "2 2\n",
      "Scene data 5\n",
      "Sample len 21 wife2\n",
      "4 4\n",
      "Scene data 3\n",
      "Sample len 23 debbie\n",
      "4 4\n",
      "Scene data 3\n",
      "Sample len 32 officer2\n",
      "6 6\n",
      "Scene data 2\n",
      "Sample len 23 master\n",
      "4 4\n",
      "Scene data 1\n",
      "Sample len 58 woman3\n",
      "11 11\n",
      "Scene data 5\n",
      "Sample len 19 wife4\n",
      "3 3\n"
     ]
    },
    {
     "name": "stderr",
     "output_type": "stream",
     "text": [
      "100%|██████████| 47/47 [00:00<00:00, 1206.07it/s]\n"
     ]
    },
    {
     "name": "stdout",
     "output_type": "stream",
     "text": [
      "Scene data 0\n",
      "Scene data 3\n",
      "Sample len 138 \n",
      "27 27\n",
      "Scene data 3\n",
      "Sample len 91 beautiful_dancer\n",
      "18 18\n",
      "Scene data 3\n",
      "Sample len 19 \n",
      "3 3\n",
      "Scene data 4\n",
      "Sample len 57 ugly_dancer\n",
      "11 11\n",
      "Scene data 5\n",
      "Sample len 30 prince_ken_arok\n",
      "6 6\n",
      "Scene data 4\n",
      "Sample len 36 george\n",
      "7 7\n",
      "Scene data 3\n",
      "Sample len 42 ugly_dancer\n",
      "8 8\n",
      "Scene data 3\n",
      "Sample len 27 beautiful_dancer\n",
      "5 5\n",
      "Scene data 5\n",
      "Sample len 104 harold\n",
      "20 20\n",
      "Scene data 4\n",
      "Sample len 38 prince_ken_arok\n",
      "7 7\n",
      "Scene data 2\n",
      "Sample len 17 prince_ken_arok\n",
      "3 3\n",
      "Scene data 3\n",
      "Sample len 47 \n",
      "9 9\n",
      "Scene data 2\n",
      "Sample len 72 princess_lala\n",
      "14 14\n",
      "Scene data 4\n",
      "Sample len 41 \n",
      "8 8\n",
      "Scene data 4\n",
      "Sample len 83 \n",
      "16 16\n",
      "Scene data 4\n",
      "Sample len 141 princess_lala\n",
      "28 28\n",
      "Scene data 5\n",
      "Sample len 77 \n",
      "15 15\n",
      "Scene data 2\n",
      "Sample len 110 george\n",
      "22 22\n",
      "Scene data 2\n",
      "Sample len 62 ugly_dancer\n",
      "12 12\n",
      "Scene data 6\n",
      "Sample len 84 \n",
      "16 16\n",
      "Scene data 5\n",
      "Sample len 174 employment_manager\n",
      "34 34\n",
      "Scene data 3\n",
      "Sample len 60 \n",
      "12 12\n",
      "Scene data 2\n",
      "Sample len 185 george\n",
      "37 37\n",
      "Scene data 4\n",
      "Sample len 62 \n",
      "12 12\n",
      "Scene data 4\n",
      "Sample len 102 \n",
      "20 20\n",
      "Scene data 3\n",
      "Sample len 41 \n",
      "8 8\n",
      "Scene data 3\n",
      "Sample len 42 princess_lala\n",
      "8 8\n",
      "Scene data 3\n",
      "Sample len 57 harold\n",
      "11 11\n",
      "Scene data 5\n",
      "Sample len 174 \n",
      "34 34\n",
      "Scene data 3\n",
      "Sample len 18 george\n",
      "3 3\n",
      "Scene data 2\n",
      "Sample len 92 \n",
      "18 18\n",
      "Scene data 3\n",
      "Sample len 201 beautiful_dancer\n",
      "40 40\n",
      "Scene data 4\n",
      "Sample len 63 prince_ken_arok\n",
      "12 12\n",
      "Scene data 2\n",
      "Sample len 38 princess_lala\n",
      "7 7\n",
      "Scene data 3\n",
      "Sample len 25 prince_ken_arok\n",
      "5 5\n",
      "Scene data 5\n",
      "Sample len 34 ugly_dancer\n",
      "6 6\n",
      "Scene data 1\n",
      "Scene data 3\n",
      "Sample len 40 jane\n",
      "8 8\n",
      "Scene data 1\n",
      "Sample len 18 george\n",
      "3 3\n",
      "Scene data 4\n",
      "Sample len 90 \n",
      "18 18\n",
      "Scene data 3\n",
      "Sample len 14 \n",
      "2 2\n",
      "Scene data 2\n",
      "Sample len 23 harold\n",
      "4 4\n",
      "Scene data 5\n",
      "Sample len 69 king_kamayana\n",
      "13 13\n",
      "Scene data 2\n",
      "Sample len 116 george\n",
      "23 23\n",
      "Scene data 3\n",
      "Sample len 47 \n",
      "9 9\n",
      "Scene data 3\n",
      "Sample len 102 jane\n",
      "20 20\n"
     ]
    },
    {
     "name": "stderr",
     "output_type": "stream",
     "text": [
      "100%|██████████| 66/66 [00:00<00:00, 1333.72it/s]"
     ]
    },
    {
     "name": "stdout",
     "output_type": "stream",
     "text": [
      "Scene data 6\n",
      "Sample len 60 young_eisenheim\n",
      "12 12\n",
      "Scene data 3\n",
      "Sample len 38 \n",
      "7 7\n",
      "Scene data 3\n",
      "Sample len 37 young_eisenheim\n",
      "7 7\n",
      "Scene data 4\n",
      "Sample len 28 willigut\n",
      "5 5\n",
      "Scene data 4\n",
      "Sample len 19 \n",
      "3 3\n",
      "Scene data 4\n",
      "Sample len 16 young_eisenheim\n",
      "3 3\n",
      "Scene data 3\n",
      "Sample len 26 young_sophie\n",
      "5 5\n",
      "Scene data 3\n",
      "Sample len 24 young_sophie\n",
      "4 4\n",
      "Scene data 3\n",
      "Sample len 42 young_eisenheim\n",
      "8 8\n",
      "Scene data 1\n",
      "Scene data 6\n",
      "Sample len 115 doctor\n",
      "23 23\n",
      "Scene data 3\n",
      "Sample len 23 eisenheim\n",
      "4 4\n",
      "Scene data 4\n",
      "Sample len 27 willigut\n",
      "5 5\n",
      "Scene data 3\n",
      "Sample len 11 inspector_uhi\n",
      "2 2\n",
      "Scene data 5\n",
      "Sample len 82 eisenheim\n",
      "16 16\n",
      "Scene data 8\n",
      "Sample len 134 sophie\n",
      "26 26\n",
      "Scene data 3\n",
      "Sample len 8 doctor\n",
      "1 1\n",
      "Scene data 7\n",
      "Sample len 60 willigut\n",
      "12 12\n",
      "Scene data 3\n",
      "Sample len 20 eisenheim\n",
      "4 4\n",
      "Scene data 5\n",
      "Sample len 110 prince_leopold\n",
      "22 22\n",
      "Scene data 2\n",
      "Sample len 16 \n",
      "3 3\n",
      "Scene data 3\n",
      "Sample len 9 eisenheim\n",
      "1 1\n",
      "Scene data 4\n",
      "Sample len 78 \n",
      "15 15\n",
      "Scene data 8\n",
      "Sample len 159 travelling_magician\n",
      "31 31\n",
      "Scene data 4\n",
      "Sample len 19 eisenheim\n",
      "3 3\n",
      "Scene data 2\n",
      "Sample len 8 eisenheim\n",
      "1 1\n",
      "Scene data 4\n",
      "Sample len 112 \n",
      "22 22\n",
      "Scene data 3\n",
      "Sample len 49 sophie\n",
      "9 9\n",
      "Scene data 1\n",
      "Scene data 2\n",
      "Sample len 15 eisenheim\n",
      "3 3\n",
      "Scene data 2\n",
      "Sample len 11 \n",
      "2 2\n",
      "Scene data 3\n",
      "Sample len 22 willigut\n",
      "4 4\n",
      "Scene data 2\n",
      "Sample len 8 inspector_uhi\n",
      "1 1\n",
      "Scene data 5\n",
      "Sample len 27 inspector_uhi\n",
      "5 5\n",
      "Scene data 3\n",
      "Sample len 39 prince_leopold\n",
      "7 7\n",
      "Scene data 5\n",
      "Sample len 113 \n",
      "22 22\n",
      "Scene data 2\n",
      "Sample len 20 eisenheim\n",
      "4 4\n",
      "Scene data 1\n",
      "Scene data 4\n",
      "Sample len 36 doctor\n",
      "7 7\n",
      "Scene data 4\n",
      "Sample len 62 \n",
      "12 12\n",
      "Scene data 4\n",
      "Sample len 37 jurka\n",
      "7 7\n",
      "Scene data 5\n",
      "Sample len 55 prince_leopold\n",
      "11 11\n",
      "Scene data 3\n",
      "Sample len 14 eisenheim\n",
      "2 2\n",
      "Scene data 3\n",
      "Sample len 23 willigut\n",
      "4 4\n",
      "Scene data 5\n",
      "Sample len 67 doctor\n",
      "13 13\n",
      "Scene data 3\n",
      "Sample len 13 inspector_uhi\n",
      "2 2\n",
      "Scene data 5\n",
      "Sample len 26 \n",
      "5 5\n",
      "Scene data 5\n",
      "Sample len 19 jurka\n",
      "3 3\n",
      "Scene data 3\n",
      "Sample len 13 inspector_uhi\n",
      "2 2\n",
      "Scene data 4\n",
      "Sample len 21 inspector_uhi\n",
      "4 4\n",
      "Scene data 3\n",
      "Sample len 25 eisenheim\n",
      "5 5\n",
      "Scene data 4\n",
      "Sample len 28 doctor\n",
      "5 5\n",
      "Scene data 5\n",
      "Sample len 26 prince_leopold\n",
      "5 5\n",
      "Scene data 2\n",
      "Sample len 99 eisenheim\n",
      "19 19\n",
      "Scene data 3\n",
      "Sample len 30 eisenheim\n",
      "6 6\n",
      "Scene data 6\n",
      "Sample len 105 \n",
      "21 21\n",
      "Scene data 2\n",
      "Sample len 19 inspector_uhi\n",
      "3 3\n",
      "Scene data 3\n",
      "Sample len 36 \n",
      "7 7\n",
      "Scene data 5\n",
      "Sample len 39 willigut\n",
      "7 7\n",
      "Scene data 6\n",
      "Sample len 117 prince_leopold\n",
      "23 23\n",
      "Scene data 2\n",
      "Sample len 46 \n",
      "9 9\n",
      "Scene data 2\n",
      "Sample len 45 inspector_uhi\n",
      "9 9\n",
      "Scene data 3\n",
      "Sample len 111 \n",
      "22 22\n",
      "Scene data 3\n",
      "Sample len 46 \n",
      "9 9\n",
      "Scene data 5\n",
      "Sample len 140 eisenheim\n",
      "28 28\n",
      "Scene data 3\n",
      "Sample len 34 sophie\n",
      "6 6\n"
     ]
    },
    {
     "name": "stderr",
     "output_type": "stream",
     "text": [
      "\n"
     ]
    }
   ],
   "source": [
    "graphen_tr_ch = get_chunk_entities(graphen_tr, global_test_filmnames)"
   ]
  },
  {
   "cell_type": "code",
   "execution_count": 103,
   "id": "59e5000b",
   "metadata": {},
   "outputs": [
    {
     "name": "stderr",
     "output_type": "stream",
     "text": [
      "100%|██████████| 67/67 [00:00<00:00, 1046.62it/s]\n"
     ]
    },
    {
     "name": "stdout",
     "output_type": "stream",
     "text": [
      "Scene data 1\n",
      "Sample len 63 jack\n",
      "12 12\n",
      "Scene data 4\n",
      "Sample len 23 gus_boulis\n",
      "4 4\n",
      "Scene data 6\n",
      "Sample len 23 pam\n",
      "4 4\n",
      "Scene data 4\n",
      "Sample len 59 gus_boulis\n",
      "11 11\n",
      "Scene data 11\n",
      "Sample len 102 mr_sprague\n",
      "20 20\n",
      "Scene data 7\n",
      "Sample len 25 tom_delay\n",
      "5 5\n",
      "Scene data 4\n",
      "Sample len 50 gus_boulis\n",
      "10 10\n",
      "Scene data 7\n",
      "Sample len 38 art\n",
      "7 7\n",
      "Scene data 15\n",
      "Sample len 47 mr_sprague\n",
      "9 9\n",
      "Scene data 5\n",
      "Sample len 25 jack\n",
      "5 5\n",
      "Scene data 7\n",
      "Sample len 36 jack\n",
      "7 7\n",
      "Scene data 4\n",
      "Sample len 16 art\n",
      "3 3\n",
      "Scene data 4\n",
      "Sample len 54 gus_boulis\n",
      "10 10\n",
      "Scene data 6\n",
      "Sample len 30 chris\n",
      "6 6\n",
      "Scene data 5\n",
      "Sample len 22 jack\n",
      "4 4\n",
      "Scene data 13\n",
      "Sample len 24 chris\n",
      "4 4\n",
      "Scene data 10\n",
      "Sample len 24 tom_delay\n",
      "4 4\n",
      "Scene data 8\n",
      "Sample len 42 mr_sprague\n",
      "8 8\n",
      "Scene data 6\n",
      "Sample len 41 emily\n",
      "8 8\n",
      "Scene data 14\n",
      "Sample len 97 mr_sprague\n",
      "19 19\n",
      "Scene data 6\n",
      "Sample len 58 mr_sprague\n",
      "11 11\n",
      "Scene data 6\n",
      "Sample len 34 tom_delay\n",
      "6 6\n",
      "Scene data 4\n",
      "Sample len 38 gus_boulis\n",
      "7 7\n",
      "Scene data 8\n",
      "Sample len 83 chris\n",
      "16 16\n",
      "Scene data 6\n",
      "Sample len 23 art\n",
      "4 4\n",
      "Scene data 7\n",
      "Sample len 31 pam\n",
      "6 6\n",
      "Scene data 2\n",
      "Sample len 23 jack\n",
      "4 4\n",
      "Scene data 7\n",
      "Sample len 54 tom_delay\n",
      "10 10\n",
      "Scene data 3\n",
      "Sample len 40 jack\n",
      "8 8\n",
      "Scene data 10\n",
      "Sample len 71 chris\n",
      "14 14\n",
      "Scene data 8\n",
      "Sample len 31 jack\n",
      "6 6\n",
      "Scene data 4\n",
      "Sample len 75 gus_boulis\n",
      "15 15\n",
      "Scene data 5\n",
      "Sample len 70 chris\n",
      "14 14\n",
      "Scene data 6\n",
      "Sample len 37 jack\n",
      "7 7\n",
      "Scene data 4\n",
      "Sample len 42 gus_boulis\n",
      "8 8\n",
      "Scene data 10\n",
      "Sample len 65 chris\n",
      "13 13\n",
      "Scene data 4\n",
      "Sample len 17 gus_boulis\n",
      "3 3\n",
      "Scene data 7\n",
      "Sample len 26 chris\n",
      "5 5\n",
      "Scene data 3\n",
      "Sample len 21 pam\n",
      "4 4\n",
      "Scene data 7\n",
      "Sample len 34 emily\n",
      "6 6\n",
      "Scene data 6\n",
      "Sample len 59 pam\n",
      "11 11\n",
      "Scene data 4\n",
      "Sample len 26 gus_boulis\n",
      "5 5\n",
      "Scene data 8\n",
      "Sample len 67 mr_sprague\n",
      "13 13\n",
      "Scene data 7\n",
      "Sample len 31 chris\n",
      "6 6\n",
      "Scene data 3\n",
      "Sample len 26 gus_boulis\n",
      "5 5\n",
      "Scene data 5\n",
      "Sample len 71 mike\n",
      "14 14\n",
      "Scene data 7\n",
      "Sample len 23 mr_sprague\n",
      "4 4\n",
      "Scene data 2\n",
      "Sample len 17 emily\n",
      "3 3\n",
      "Scene data 12\n",
      "Sample len 45 emily\n",
      "9 9\n",
      "Scene data 4\n",
      "Sample len 52 gus_boulis\n",
      "10 10\n",
      "Scene data 4\n",
      "Sample len 20 gus_boulis\n",
      "4 4\n",
      "Scene data 4\n",
      "Sample len 20 gus_boulis\n",
      "4 4\n",
      "Scene data 9\n",
      "Sample len 58 mr_sprague\n",
      "11 11\n",
      "Scene data 4\n",
      "Sample len 36 gus_boulis\n",
      "7 7\n",
      "Scene data 8\n",
      "Sample len 60 chris\n",
      "12 12\n",
      "Scene data 4\n",
      "Sample len 105 emily\n",
      "21 21\n",
      "Scene data 10\n",
      "Sample len 25 tom_delay\n",
      "5 5\n",
      "Scene data 9\n",
      "Sample len 36 chris\n",
      "7 7\n",
      "Scene data 6\n",
      "Sample len 31 jack\n",
      "6 6\n",
      "Scene data 8\n",
      "Sample len 41 tom_delay\n",
      "8 8\n",
      "Scene data 9\n",
      "Sample len 21 chris\n",
      "4 4\n",
      "Scene data 5\n",
      "Sample len 19 chris\n",
      "3 3\n",
      "Scene data 7\n",
      "Sample len 52 pam\n",
      "10 10\n",
      "Scene data 14\n",
      "Sample len 122 mr_sprague\n",
      "24 24\n",
      "Scene data 8\n",
      "Sample len 57 pam\n",
      "11 11\n",
      "Scene data 4\n",
      "Sample len 56 gus_boulis\n",
      "11 11\n",
      "Scene data 8\n",
      "Sample len 57 mr_sprague\n",
      "11 11\n"
     ]
    },
    {
     "name": "stderr",
     "output_type": "stream",
     "text": [
      "100%|██████████| 44/44 [00:00<00:00, 1229.21it/s]\n"
     ]
    },
    {
     "name": "stdout",
     "output_type": "stream",
     "text": [
      "Scene data 5\n",
      "Sample len 65 debbie\n",
      "13 13\n",
      "Scene data 2\n",
      "Sample len 78 officer1\n",
      "15 15\n",
      "Scene data 4\n",
      "Sample len 24 man1\n",
      "4 4\n",
      "Scene data 0\n",
      "Scene data 3\n",
      "Sample len 25 woman1\n",
      "5 5\n",
      "Scene data 10\n",
      "Sample len 159 wife1\n",
      "31 31\n",
      "Scene data 10\n",
      "Sample len 97 debbie\n",
      "19 19\n",
      "Scene data 10\n",
      "Sample len 57 debbie\n",
      "11 11\n",
      "Scene data 7\n",
      "Sample len 37 debbie\n",
      "7 7\n",
      "Scene data 5\n",
      "Sample len 63 torgo\n",
      "12 12\n",
      "Scene data 2\n",
      "Sample len 11 margaret\n",
      "2 2\n",
      "Scene data 3\n",
      "Sample len 26 wife1\n",
      "5 5\n",
      "Scene data 9\n",
      "Sample len 75 debbie\n",
      "15 15\n",
      "Scene data 7\n",
      "Sample len 40 debbie\n",
      "8 8\n",
      "Scene data 4\n",
      "Sample len 15 officer2\n",
      "3 3\n",
      "Scene data 6\n",
      "Sample len 12 debbie\n",
      "2 2\n",
      "Scene data 10\n",
      "Sample len 67 wife3\n",
      "13 13\n",
      "Scene data 4\n",
      "Sample len 36 wife2\n",
      "7 7\n",
      "Scene data 0\n",
      "Scene data 6\n",
      "Sample len 24 wife3\n",
      "4 4\n",
      "Scene data 6\n",
      "Sample len 51 debbie\n",
      "10 10\n",
      "Scene data 6\n",
      "Sample len 63 wife5\n",
      "12 12\n",
      "Scene data 8\n",
      "Sample len 56 debbie\n",
      "11 11\n",
      "Scene data 9\n",
      "Sample len 77 debbie\n",
      "15 15\n",
      "Scene data 5\n",
      "Sample len 109 torgo\n",
      "21 21\n",
      "Scene data 2\n",
      "Sample len 42 wife2\n",
      "8 8\n",
      "Scene data 1\n",
      "Sample len 27 master\n",
      "5 5\n",
      "Scene data 5\n",
      "Sample len 17 wife1\n",
      "3 3\n",
      "Scene data 9\n",
      "Sample len 91 debbie\n",
      "18 18\n",
      "Scene data 1\n",
      "Sample len 12 margaret\n",
      "2 2\n",
      "Scene data 2\n",
      "Sample len 15 master\n",
      "3 3\n",
      "Scene data 3\n",
      "Sample len 12 wife2\n",
      "2 2\n",
      "Scene data 6\n",
      "Sample len 61 torgo\n",
      "12 12\n",
      "Scene data 1\n",
      "Sample len 7 mike\n",
      "1 1\n",
      "Scene data 3\n",
      "Sample len 47 master\n",
      "9 9\n",
      "Scene data 2\n",
      "Sample len 31 debbie\n",
      "6 6\n",
      "Scene data 3\n",
      "Sample len 21 master\n",
      "4 4\n",
      "Scene data 2\n",
      "Sample len 11 \n",
      "2 2\n",
      "Scene data 6\n",
      "Sample len 21 officer2\n",
      "4 4\n",
      "Scene data 3\n",
      "Sample len 23 wife2\n",
      "4 4\n",
      "Scene data 3\n",
      "Sample len 32 officer1\n",
      "6 6\n",
      "Scene data 1\n",
      "Sample len 23 master\n",
      "4 4\n",
      "Scene data 3\n",
      "Sample len 58 woman3\n",
      "11 11\n",
      "Scene data 10\n",
      "Sample len 19 debbie\n",
      "3 3\n"
     ]
    },
    {
     "name": "stderr",
     "output_type": "stream",
     "text": [
      "100%|██████████| 47/47 [00:00<00:00, 730.04it/s]\n"
     ]
    },
    {
     "name": "stdout",
     "output_type": "stream",
     "text": [
      "Scene data 0\n",
      "Scene data 11\n",
      "Sample len 138 ugly_dancer\n",
      "27 27\n",
      "Scene data 11\n",
      "Sample len 91 ugly_dancer\n",
      "18 18\n",
      "Scene data 4\n",
      "Sample len 19 george\n",
      "3 3\n",
      "Scene data 7\n",
      "Sample len 57 ugly_dancer\n",
      "11 11\n",
      "Scene data 6\n",
      "Sample len 30 beautiful_dancer\n",
      "6 6\n",
      "Scene data 7\n",
      "Sample len 36 ugly_dancer\n",
      "7 7\n",
      "Scene data 6\n",
      "Sample len 42 ugly_dancer\n",
      "8 8\n",
      "Scene data 6\n",
      "Sample len 27 ugly_dancer\n",
      "5 5\n",
      "Scene data 7\n",
      "Sample len 104 ugly_dancer\n",
      "20 20\n",
      "Scene data 9\n",
      "Sample len 38 ugly_dancer\n",
      "7 7\n",
      "Scene data 6\n",
      "Sample len 17 ugly_dancer\n",
      "3 3\n",
      "Scene data 9\n",
      "Sample len 47 ugly_dancer\n",
      "9 9\n",
      "Scene data 9\n",
      "Sample len 72 ugly_dancer\n",
      "14 14\n",
      "Scene data 6\n",
      "Sample len 41 ugly_dancer\n",
      "8 8\n",
      "Scene data 9\n",
      "Sample len 83 ugly_dancer\n",
      "16 16\n",
      "Scene data 10\n",
      "Sample len 141 ugly_dancer\n",
      "28 28\n",
      "Scene data 10\n",
      "Sample len 77 ugly_dancer\n",
      "15 15\n",
      "Scene data 9\n",
      "Sample len 110 ugly_dancer\n",
      "22 22\n",
      "Scene data 7\n",
      "Sample len 62 ugly_dancer\n",
      "12 12\n",
      "Scene data 10\n",
      "Sample len 84 ugly_dancer\n",
      "16 16\n",
      "Scene data 10\n",
      "Sample len 174 ugly_dancer\n",
      "34 34\n",
      "Scene data 6\n",
      "Sample len 60 ugly_dancer\n",
      "12 12\n",
      "Scene data 10\n",
      "Sample len 185 ugly_dancer\n",
      "37 37\n",
      "Scene data 9\n",
      "Sample len 62 ugly_dancer\n",
      "12 12\n",
      "Scene data 9\n",
      "Sample len 102 ugly_dancer\n",
      "20 20\n",
      "Scene data 7\n",
      "Sample len 41 ugly_dancer\n",
      "8 8\n",
      "Scene data 7\n",
      "Sample len 42 ugly_dancer\n",
      "8 8\n",
      "Scene data 8\n",
      "Sample len 57 ugly_dancer\n",
      "11 11\n",
      "Scene data 11\n",
      "Sample len 174 ugly_dancer\n",
      "34 34\n",
      "Scene data 5\n",
      "Sample len 18 beautiful_dancer\n",
      "3 3\n",
      "Scene data 6\n",
      "Sample len 92 jane\n",
      "18 18\n",
      "Scene data 9\n",
      "Sample len 201 ugly_dancer\n",
      "40 40\n",
      "Scene data 7\n",
      "Sample len 63 ugly_dancer\n",
      "12 12\n",
      "Scene data 8\n",
      "Sample len 38 ugly_dancer\n",
      "7 7\n",
      "Scene data 6\n",
      "Sample len 25 ugly_dancer\n",
      "5 5\n",
      "Scene data 8\n",
      "Sample len 34 ugly_dancer\n",
      "6 6\n",
      "Scene data 1\n",
      "Scene data 7\n",
      "Sample len 40 ugly_dancer\n",
      "8 8\n",
      "Scene data 2\n",
      "Sample len 18 george\n",
      "3 3\n",
      "Scene data 10\n",
      "Sample len 90 ugly_dancer\n",
      "18 18\n",
      "Scene data 6\n",
      "Sample len 14 ugly_dancer\n",
      "2 2\n",
      "Scene data 2\n",
      "Sample len 23 ugly_dancer\n",
      "4 4\n",
      "Scene data 9\n",
      "Sample len 69 ugly_dancer\n",
      "13 13\n",
      "Scene data 8\n",
      "Sample len 116 ugly_dancer\n",
      "23 23\n",
      "Scene data 5\n",
      "Sample len 47 ugly_dancer\n",
      "9 9\n",
      "Scene data 9\n",
      "Sample len 102 ugly_dancer\n",
      "20 20\n"
     ]
    },
    {
     "name": "stderr",
     "output_type": "stream",
     "text": [
      "\r",
      "  0%|          | 0/66 [00:00<?, ?it/s]"
     ]
    },
    {
     "name": "stdout",
     "output_type": "stream",
     "text": [
      "Scene data 8\n",
      "Sample len 60 josef\n",
      "12 12\n",
      "Scene data 3\n",
      "Sample len 38 inspector_uhi\n",
      "7 7\n",
      "Scene data 3\n",
      "Sample len 37 travelling_magician\n",
      "7 7\n",
      "Scene data 4\n",
      "Sample len 28 young_sophie\n",
      "5 5\n",
      "Scene data 3\n",
      "Sample len 19 young_sophie\n",
      "3 3\n",
      "Scene data 3\n",
      "Sample len 16 young_sophie\n",
      "3 3\n",
      "Scene data 2\n",
      "Sample len 26 young_sophie\n",
      "5 5\n",
      "Scene data 2\n",
      "Sample len 24 young_sophie\n",
      "4 4\n",
      "Scene data 4\n",
      "Sample len 42 eisenheim\n",
      "8 8\n",
      "Scene data 1\n",
      "Sample len 13 willigut\n",
      "2 2\n",
      "Scene data 10\n",
      "Sample len 115 jurka\n",
      "23 23\n",
      "Scene data 4\n",
      "Sample len 23 eisenheim\n",
      "4 4\n",
      "Scene data 4\n",
      "Sample len 27 willigut\n",
      "5 5\n",
      "Scene data 3\n",
      "Sample len 11 doctor\n",
      "2 2\n",
      "Scene data 5\n",
      "Sample len 82 josef\n",
      "16 16\n",
      "Scene data 9\n",
      "Sample len 134 josef\n",
      "26 26\n",
      "Scene data 2\n",
      "Sample len 8 doctor\n",
      "1 1\n",
      "Scene data 10\n",
      "Sample len 60 josef\n",
      "12 12\n",
      "Scene data 2\n",
      "Sample len 20 josef\n",
      "4 4\n",
      "Scene data 6\n",
      "Sample len 110 josef\n",
      "22 22\n",
      "Scene data 1\n",
      "Sample len 16 inspector_uhi\n",
      "3 3\n",
      "Scene data 4\n",
      "Sample len 9 prince_leopold\n",
      "1 1\n",
      "Scene data 6\n",
      "Sample len 78 jurka\n",
      "15 15\n",
      "Scene data 8\n",
      "Sample len 159 inspector_uhi\n",
      "31 31\n",
      "Scene data 4\n",
      "Sample len 19 eisenheim\n",
      "3 3\n",
      "Scene data 2\n",
      "Sample len 8 \n",
      "1 1\n",
      "Scene data 5\n",
      "Sample len 112 inspector_uhi\n",
      "22 22\n",
      "Scene data 2\n",
      "Sample len 49 sophie\n",
      "9 9\n",
      "Scene data 1\n",
      "Sample len 12 eisenheim\n",
      "2 2\n",
      "Scene data 3\n",
      "Sample len 15 josef\n",
      "3 3\n",
      "Scene data 1\n",
      "Sample len 11 eisenheim\n",
      "2 2\n",
      "Scene data 4\n",
      "Sample len 22 doctor\n",
      "4 4\n",
      "Scene data 2\n",
      "Sample len 8 inspector_uhi\n",
      "1 1\n",
      "Scene data 4\n",
      "Sample len 27 doctor\n",
      "5 5\n",
      "Scene data 3\n",
      "Sample len 39 inspector_uhi\n",
      "7 7\n",
      "Scene data 5\n",
      "Sample len 113 eisenheim\n",
      "22 22\n",
      "Scene data 2\n",
      "Sample len 20 prince_leopold\n",
      "4 4\n",
      "Scene data 0\n",
      "Scene data 5\n",
      "Sample len 36 josef\n",
      "7 7\n",
      "Scene data 6\n",
      "Sample len 62 jurka\n",
      "12 12\n",
      "Scene data 5\n",
      "Sample len 37 jurka\n",
      "7 7\n",
      "Scene data 7\n",
      "Sample len 55 jurka\n",
      "11 11\n",
      "Scene data 3\n",
      "Sample len 14 doctor\n",
      "2 2\n",
      "Scene data 3\n",
      "Sample len 23 eisenheim\n",
      "4 4\n",
      "Scene data 9\n",
      "Sample len 67 jurka\n",
      "13"
     ]
    },
    {
     "name": "stderr",
     "output_type": "stream",
     "text": [
      "\r",
      "100%|██████████| 66/66 [00:00<00:00, 1250.84it/s]"
     ]
    },
    {
     "name": "stdout",
     "output_type": "stream",
     "text": [
      " 13\n",
      "Scene data 3\n",
      "Sample len 13 inspector_uhi\n",
      "2 2\n",
      "Scene data 7\n",
      "Sample len 26 inspector_uhi\n",
      "5 5\n",
      "Scene data 5\n",
      "Sample len 19 jurka\n",
      "3 3\n",
      "Scene data 3\n",
      "Sample len 13 inspector_uhi\n",
      "2 2\n",
      "Scene data 5\n",
      "Sample len 21 jurka\n",
      "4 4\n",
      "Scene data 4\n",
      "Sample len 25 jurka\n",
      "5 5\n",
      "Scene data 5\n",
      "Sample len 28 inspector_uhi\n",
      "5 5\n",
      "Scene data 5\n",
      "Sample len 26 inspector_uhi\n",
      "5 5\n",
      "Scene data 5\n",
      "Sample len 99 jurka\n",
      "19 19\n",
      "Scene data 3\n",
      "Sample len 30 inspector_uhi\n",
      "6 6\n",
      "Scene data 10\n",
      "Sample len 105 jurka\n",
      "21 21\n",
      "Scene data 2\n",
      "Sample len 19 inspector_uhi\n",
      "3 3\n",
      "Scene data 3\n",
      "Sample len 36 eisenheim\n",
      "7 7\n",
      "Scene data 6\n",
      "Sample len 39 josef\n",
      "7 7\n",
      "Scene data 10\n",
      "Sample len 117 jurka\n",
      "23 23\n",
      "Scene data 2\n",
      "Sample len 46 inspector_uhi\n",
      "9 9\n",
      "Scene data 2\n",
      "Sample len 45 inspector_uhi\n",
      "9 9\n",
      "Scene data 3\n",
      "Sample len 111 inspector_uhi\n",
      "22 22\n",
      "Scene data 4\n",
      "Sample len 46 \n",
      "9 9\n",
      "Scene data 7\n",
      "Sample len 140 inspector_uhi\n",
      "28 28\n",
      "Scene data 4\n",
      "Sample len 34 inspector_uhi\n",
      "6 6\n"
     ]
    },
    {
     "name": "stderr",
     "output_type": "stream",
     "text": [
      "\n"
     ]
    }
   ],
   "source": [
    "evg_tr_ch = get_chunk_entities(evg_tr, global_test_filmnames)"
   ]
  },
  {
   "cell_type": "code",
   "execution_count": 71,
   "id": "f7d1b5b3",
   "metadata": {},
   "outputs": [
    {
     "data": {
      "text/plain": [
       "19"
      ]
     },
     "execution_count": 71,
     "metadata": {},
     "output_type": "execute_result"
    }
   ],
   "source": [
    "len(V_t['Bagman'][3])"
   ]
  },
  {
   "cell_type": "code",
   "execution_count": 72,
   "id": "ad11c3dc",
   "metadata": {},
   "outputs": [
    {
     "data": {
      "text/plain": [
       "[['jack', 'gus_boulis'],\n",
       " ['jack'],\n",
       " ['jack'],\n",
       " ['jack'],\n",
       " ['jack'],\n",
       " ['jack'],\n",
       " ['senator_bob'],\n",
       " ['senator_bob'],\n",
       " ['senator_bob'],\n",
       " ['senator_bob'],\n",
       " ['senator_bob', 'jack'],\n",
       " ['jack'],\n",
       " ['jack'],\n",
       " ['jack'],\n",
       " ['jack'],\n",
       " ['jack'],\n",
       " ['jack'],\n",
       " ['jack'],\n",
       " ['jack']]"
      ]
     },
     "execution_count": 72,
     "metadata": {},
     "output_type": "execute_result"
    }
   ],
   "source": [
    "evg_tr_ch['Bagman'][3]"
   ]
  },
  {
   "cell_type": "code",
   "execution_count": 73,
   "id": "b04f1326",
   "metadata": {},
   "outputs": [
    {
     "data": {
      "text/plain": [
       "[['jack', 'gus_boulis'],\n",
       " ['jack'],\n",
       " ['jack'],\n",
       " ['jack', 'gus_boulis'],\n",
       " ['jack'],\n",
       " ['jack'],\n",
       " ['senator_bob', 'jack'],\n",
       " ['jack', 'gus_boulis'],\n",
       " ['jack', 'gus_boulis'],\n",
       " ['senator_bob', 'jack'],\n",
       " ['jack', 'gus_boulis'],\n",
       " ['jack', 'gus_boulis'],\n",
       " ['jack'],\n",
       " ['jack', 'gus_boulis'],\n",
       " ['jack', 'gus_boulis'],\n",
       " ['jack', 'gus_boulis'],\n",
       " ['jack', 'gus_boulis'],\n",
       " ['jack', 'gus_boulis'],\n",
       " ['jack', 'gus_boulis']]"
      ]
     },
     "execution_count": 73,
     "metadata": {},
     "output_type": "execute_result"
    }
   ],
   "source": [
    "graphen_tr_ch['Bagman'][3]"
   ]
  },
  {
   "cell_type": "code",
   "execution_count": null,
   "id": "dba872ed",
   "metadata": {},
   "outputs": [],
   "source": []
  },
  {
   "cell_type": "code",
   "execution_count": 105,
   "id": "cf060392",
   "metadata": {},
   "outputs": [
    {
     "data": {
      "text/plain": [
       "['Bagman', 'Manos', 'Road_To_Bali', 'The_Illusionist']"
      ]
     },
     "execution_count": 105,
     "metadata": {},
     "output_type": "execute_result"
    }
   ],
   "source": [
    "global_test_filmnames"
   ]
  },
  {
   "cell_type": "code",
   "execution_count": 153,
   "id": "f0bc43c2",
   "metadata": {},
   "outputs": [
    {
     "name": "stdout",
     "output_type": "stream",
     "text": [
      "12\n",
      "4\n",
      "4\n",
      "11\n",
      "20\n",
      "5\n",
      "10\n",
      "7\n",
      "9\n",
      "5\n",
      "7\n",
      "3\n",
      "10\n",
      "6\n",
      "4\n",
      "4\n",
      "4\n",
      "8\n",
      "8\n",
      "19\n",
      "11\n",
      "6\n",
      "7\n",
      "16\n",
      "4\n",
      "6\n",
      "4\n",
      "10\n",
      "8\n",
      "14\n",
      "6\n",
      "15\n",
      "14\n",
      "7\n",
      "8\n",
      "13\n",
      "3\n",
      "5\n",
      "4\n",
      "6\n",
      "11\n",
      "5\n",
      "13\n",
      "6\n",
      "5\n",
      "14\n",
      "4\n",
      "13\n",
      "15\n",
      "4\n",
      "7\n",
      "5\n",
      "31\n",
      "19\n",
      "11\n",
      "7\n",
      "12\n",
      "2\n",
      "5\n",
      "15\n",
      "8\n",
      "3\n",
      "2\n",
      "13\n",
      "7\n",
      "10\n",
      "4\n",
      "10\n",
      "12\n",
      "11\n",
      "15\n",
      "21\n",
      "8\n",
      "5\n",
      "3\n",
      "18\n",
      "2\n",
      "3\n",
      "2\n",
      "12\n",
      "1\n",
      "9\n",
      "6\n",
      "4\n",
      "2\n",
      "4\n",
      "4\n",
      "6\n",
      "4\n",
      "11\n",
      "3\n",
      "4\n",
      "27\n",
      "18\n",
      "3\n",
      "11\n",
      "6\n",
      "7\n",
      "8\n",
      "5\n",
      "20\n",
      "7\n",
      "3\n",
      "9\n",
      "14\n",
      "8\n",
      "16\n",
      "28\n",
      "15\n",
      "22\n",
      "12\n",
      "16\n",
      "34\n",
      "12\n",
      "37\n",
      "12\n",
      "20\n",
      "8\n",
      "8\n",
      "11\n",
      "34\n",
      "3\n",
      "18\n",
      "40\n",
      "12\n",
      "7\n",
      "5\n",
      "6\n",
      "2\n",
      "8\n",
      "3\n",
      "18\n",
      "2\n",
      "4\n",
      "13\n",
      "23\n",
      "9\n",
      "20\n",
      "12\n",
      "7\n",
      "7\n",
      "5\n",
      "3\n",
      "3\n",
      "5\n",
      "4\n",
      "8\n",
      "2\n",
      "23\n",
      "4\n",
      "5\n",
      "2\n",
      "16\n",
      "26\n",
      "1\n",
      "12\n",
      "4\n",
      "22\n",
      "3\n",
      "1\n",
      "15\n",
      "31\n",
      "3\n",
      "1\n",
      "22\n",
      "9\n",
      "2\n",
      "3\n",
      "2\n",
      "4\n",
      "1\n",
      "5\n",
      "7\n",
      "22\n",
      "4\n",
      "3\n",
      "7\n",
      "12\n",
      "7\n",
      "11\n",
      "2\n",
      "4\n",
      "13\n",
      "2\n",
      "5\n"
     ]
    }
   ],
   "source": [
    "from lightgbm import LGBMClassifier\n",
    "\n",
    "global_test_filmnames = ['Bagman', 'Manos', 'Road_To_Bali', 'The_Illusionist']\n",
    "\n",
    "film_recalls = {filmname:[] for filmname in global_test_filmnames}\n",
    "film_preds = dict()\n",
    "\n",
    "\n",
    "failed = []\n",
    "\n",
    "for test_filmname in global_test_filmnames:\n",
    "    film_preds[test_filmname] = []\n",
    "    \n",
    "    targets_film = t_raw[test_filmname]\n",
    "    recalls = []\n",
    "    for scene_idx in range(len(t_raw[test_filmname])):\n",
    "        X_test = []\n",
    "        for chunk_idx in range(len(V_t[test_filmname][scene_idx])):\n",
    "             X_test.append(V_t[test_filmname][scene_idx][chunk_idx].squeeze().numpy())  \n",
    "        print(len(X_test))\n",
    "        probs = model.predict_proba(X_test)\n",
    "        unique_labels = np.array(list(((set(y_train)))))\n",
    "        \n",
    "        top_10 = np.array(get_top_n(probs, 5))\n",
    "        preds_10 = unique_labels[top_10].tolist()\n",
    "        film_preds[test_filmname].append(preds_10)\n",
    "        \n",
    "        flat_preds = set([pred for sublist in preds_10 for pred in sublist])\n",
    "        recall = recall_k(flat_preds, targets_film[scene_idx])\n",
    "        \n",
    "        failed += list(set(targets_film[scene_idx]) - set(flat_preds))\n",
    "        \n",
    "        '''\n",
    "        print('-----')\n",
    "        print(flat_preds)\n",
    "        print(targets_film[scene_idx])\n",
    "        recall = recall_k(flat_preds, targets_film[scene_idx])\n",
    "        print(recall)\n",
    "        print('-----')\n",
    "        '''\n",
    "        if recall != None:\n",
    "            recalls.append(recall)\n",
    "        \n",
    "    film_recalls[test_filmname] = np.mean(recalls)\n",
    "    \n",
    "    '''    \n",
    "    recalls = []\n",
    "    for i, pred in tqdm(enumerate(preds_10)):\n",
    "        recall = recall_k(pred, y_test[i])\n",
    "        if recall != None:\n",
    "            recalls.append(recall)\n",
    "    \n",
    "    film_recalls[local_test_filmname] = np.mean(recalls)\n",
    "    print(local_test_filmname, film_recalls[local_test_filmname])\n",
    "    '''"
   ]
  },
  {
   "cell_type": "code",
   "execution_count": 169,
   "id": "e1758500",
   "metadata": {},
   "outputs": [
    {
     "data": {
      "text/plain": [
       "[['walk with', 22],\n",
       " ['grabs', 18],\n",
       " ['watches', 18],\n",
       " ['reassures', 15],\n",
       " ['gives to', 15],\n",
       " ['leave together', 15],\n",
       " ['shows', 14],\n",
       " ['asks', 13],\n",
       " ['yells at', 13],\n",
       " ['scolds', 12]]"
      ]
     },
     "execution_count": 169,
     "metadata": {},
     "output_type": "execute_result"
    }
   ],
   "source": [
    "[[label_2_inter[item[0]],item[1]]  for item in Counter(failed).most_common(10)]"
   ]
  },
  {
   "cell_type": "code",
   "execution_count": 170,
   "id": "353b1e11",
   "metadata": {},
   "outputs": [
    {
     "data": {
      "text/plain": [
       "['walk with',\n",
       " 'grabs',\n",
       " 'watches',\n",
       " 'reassures',\n",
       " 'gives to',\n",
       " 'leave together',\n",
       " 'shows',\n",
       " 'asks',\n",
       " 'yells at',\n",
       " 'scolds']"
      ]
     },
     "execution_count": 170,
     "metadata": {},
     "output_type": "execute_result"
    }
   ],
   "source": [
    "[label_2_inter[item[0]]  for item in Counter(failed).most_common(10)]"
   ]
  },
  {
   "cell_type": "markdown",
   "id": "2f053feb",
   "metadata": {},
   "source": [
    "### Rebuttal analysis #1"
   ]
  },
  {
   "cell_type": "code",
   "execution_count": 130,
   "id": "37ee23e9",
   "metadata": {},
   "outputs": [],
   "source": [
    "film_freq_index = dict()\n",
    "for test_filmname in global_test_filmnames:\n",
    "    film_freq_index[test_filmname] = []\n",
    "    \n",
    "    targets_film = t_raw[test_filmname]\n",
    "    for scene_idx in range(len(targets_film)):\n",
    "        scene_ints = targets_film[scene_idx]\n",
    "        freqs = [int_2_freq[scene_int] for scene_int in scene_ints]\n",
    "        mean_freqs = np.mean(freqs)\n",
    "        film_freq_index[test_filmname].append(mean_freqs)\n",
    "    film_freq_index[test_filmname] = np.array(film_freq_index[test_filmname])[~np.isnan( film_freq_index[test_filmname])]"
   ]
  },
  {
   "cell_type": "code",
   "execution_count": 133,
   "id": "75f4f47a",
   "metadata": {},
   "outputs": [
    {
     "data": {
      "text/plain": [
       "{'whiskers': [<matplotlib.lines.Line2D at 0x7ef569e00610>,\n",
       "  <matplotlib.lines.Line2D at 0x7ef569e00910>,\n",
       "  <matplotlib.lines.Line2D at 0x7ef569e16dd0>,\n",
       "  <matplotlib.lines.Line2D at 0x7ef569e1d110>,\n",
       "  <matplotlib.lines.Line2D at 0x7ef569e224d0>,\n",
       "  <matplotlib.lines.Line2D at 0x7ef569e22850>,\n",
       "  <matplotlib.lines.Line2D at 0x7ef569e2bc50>,\n",
       "  <matplotlib.lines.Line2D at 0x7ef569e2bf90>],\n",
       " 'caps': [<matplotlib.lines.Line2D at 0x7ef5f1b7f150>,\n",
       "  <matplotlib.lines.Line2D at 0x7ef569e00f10>,\n",
       "  <matplotlib.lines.Line2D at 0x7ef569e1d450>,\n",
       "  <matplotlib.lines.Line2D at 0x7ef569e1d790>,\n",
       "  <matplotlib.lines.Line2D at 0x7ef569e22b90>,\n",
       "  <matplotlib.lines.Line2D at 0x7ef569e22f10>,\n",
       "  <matplotlib.lines.Line2D at 0x7ef569e32310>,\n",
       "  <matplotlib.lines.Line2D at 0x7ef569e32650>],\n",
       " 'boxes': [<matplotlib.lines.Line2D at 0x7ef5f1bb9950>,\n",
       "  <matplotlib.lines.Line2D at 0x7ef569e169d0>,\n",
       "  <matplotlib.lines.Line2D at 0x7ef569e22190>,\n",
       "  <matplotlib.lines.Line2D at 0x7ef569e2b910>],\n",
       " 'medians': [<matplotlib.lines.Line2D at 0x7ef569e162d0>,\n",
       "  <matplotlib.lines.Line2D at 0x7ef569e1dad0>,\n",
       "  <matplotlib.lines.Line2D at 0x7ef569e2b290>,\n",
       "  <matplotlib.lines.Line2D at 0x7ef569e32990>],\n",
       " 'fliers': [<matplotlib.lines.Line2D at 0x7ef569e16610>,\n",
       "  <matplotlib.lines.Line2D at 0x7ef569e1de10>,\n",
       "  <matplotlib.lines.Line2D at 0x7ef569e2b5d0>,\n",
       "  <matplotlib.lines.Line2D at 0x7ef569e32cd0>],\n",
       " 'means': []}"
      ]
     },
     "execution_count": 133,
     "metadata": {},
     "output_type": "execute_result"
    },
    {
     "data": {
      "image/png": "[encoded data removed]",
      "text/plain": [
       "<Figure size 432x288 with 1 Axes>"
      ]
     },
     "metadata": {
      "needs_background": "light"
     },
     "output_type": "display_data"
    }
   ],
   "source": [
    "plt.boxplot([film_freq_index[filmname] for filmname in film_freq_index])"
   ]
  },
  {
   "cell_type": "code",
   "execution_count": 135,
   "id": "e0abff8e",
   "metadata": {},
   "outputs": [
    {
     "data": {
      "text/plain": [
       "[146.73464919265834,\n",
       " 135.40591546696197,\n",
       " 146.14913452560515,\n",
       " 122.99415927987357]"
      ]
     },
     "execution_count": 135,
     "metadata": {},
     "output_type": "execute_result"
    }
   ],
   "source": [
    "[np.mean(film_freq_index[filmname]) for filmname in film_freq_index]"
   ]
  },
  {
   "cell_type": "code",
   "execution_count": 136,
   "id": "30c3e1fd",
   "metadata": {},
   "outputs": [
    {
     "data": {
      "text/plain": [
       "[146.00952380952378, 119.0, 141.72727272727275, 96.5]"
      ]
     },
     "execution_count": 136,
     "metadata": {},
     "output_type": "execute_result"
    }
   ],
   "source": [
    "[np.median(film_freq_index[filmname]) for filmname in film_freq_index]"
   ]
  },
  {
   "cell_type": "code",
   "execution_count": 140,
   "id": "3e75600b",
   "metadata": {},
   "outputs": [
    {
     "data": {
      "text/plain": [
       "[47, 44, 47, 47]"
      ]
     },
     "execution_count": 140,
     "metadata": {},
     "output_type": "execute_result"
    }
   ],
   "source": [
    "[len(t_raw[test_filmname]) for test_filmname in global_test_filmnames]"
   ]
  },
  {
   "cell_type": "code",
   "execution_count": 145,
   "id": "cba01643",
   "metadata": {},
   "outputs": [
    {
     "data": {
      "text/plain": [
       "{'Bagman': 6.702127659574468,\n",
       " 'Manos': 3.8863636363636362,\n",
       " 'Road_To_Bali': 6.48936170212766,\n",
       " 'The_Illusionist': 3.893617021276596}"
      ]
     },
     "execution_count": 145,
     "metadata": {},
     "output_type": "execute_result"
    }
   ],
   "source": [
    "{test_filmname:np.mean([len(ints) for ints in t_raw[test_filmname]]) for test_filmname in global_test_filmnames}"
   ]
  },
  {
   "cell_type": "code",
   "execution_count": 138,
   "id": "a0f91d83",
   "metadata": {},
   "outputs": [
    {
     "data": {
      "text/plain": [
       "{'Bagman': [[],\n",
       "  [6, 44, 109, 99],\n",
       "  [43, 99, 15, 85],\n",
       "  [6, 99, 99, 109, 6, 62],\n",
       "  [38, 99, 38, 99, 44, 44, 44, 44, 109, 109, 108, 99, 44, 38, 99],\n",
       "  [38, 38, 38, 99, 99, 99, 111, 111],\n",
       "  [109, 99, 99],\n",
       "  [108, 99, 6, 75, 19, 104, 69],\n",
       "  [99, 54, 95, 4, 49, 97, 85, 99],\n",
       "  [6, 53, 105, 99, 77],\n",
       "  [6, 85, 99],\n",
       "  [99, 33, 92],\n",
       "  [50, 6, 111, 99],\n",
       "  [33, 108, 6, 99, 69],\n",
       "  [33, 6, 75, 6],\n",
       "  [99, 59, 59, 59, 59, 59, 59],\n",
       "  [105, 105, 19, 99, 44, 19, 19, 54, 99, 99, 99, 108],\n",
       "  [38, 108, 99, 50, 19, 99, 53],\n",
       "  [6, 33, 55, 50, 75, 6, 18],\n",
       "  [108, 6, 99, 99, 15, 76, 3],\n",
       "  [98, 99, 33, 38, 93, 31, 6, 115, 6, 99, 105, 44, 75],\n",
       "  [99, 6, 92, 36, 102, 33],\n",
       "  [33, 6, 63, 6, 99, 30, 105, 76, 66],\n",
       "  [44, 65, 18, 19, 6, 99, 64, 3, 36, 108, 92, 99, 97, 44, 44],\n",
       "  [18, 15, 99, 66, 15, 99, 75],\n",
       "  [99, 38, 109, 104, 6, 99],\n",
       "  [69, 99, 49, 6, 99],\n",
       "  [109, 54, 111, 38, 105, 18, 64, 6, 99, 109],\n",
       "  [92, 6, 99, 6, 3],\n",
       "  [6, 33, 99, 19, 6, 99, 97, 36, 36, 109, 92, 18, 44, 99, 6, 99, 15, 99, 55],\n",
       "  [6, 99, 99, 67, 6, 6, 33, 99, 66],\n",
       "  [99, 6, 99, 4],\n",
       "  [19, 85, 6, 6, 99, 6, 75, 107, 115],\n",
       "  [55, 108, 38, 113],\n",
       "  [109, 99, 75, 20, 115, 115],\n",
       "  [6, 95, 92, 44, 55, 95, 44, 99, 51],\n",
       "  [99, 111, 99],\n",
       "  [56, 92, 6, 99],\n",
       "  [30],\n",
       "  [6, 99, 57, 24, 99, 6, 99],\n",
       "  [38, 55, 55, 107, 15, 99, 115, 115, 34],\n",
       "  [6, 99, 38],\n",
       "  [6, 99, 109, 38, 8, 15, 75, 3, 6, 29, 33, 99],\n",
       "  [85, 99, 18, 3],\n",
       "  [6, 99, 99, 84, 99],\n",
       "  [99, 99, 49, 30, 6],\n",
       "  [115, 99, 97, 99, 109, 6, 106]],\n",
       " 'Manos': [[18, 99, 75, 99, 99, 18, 99, 50],\n",
       "  [105, 85, 99, 57],\n",
       "  [55, 6, 38, 99],\n",
       "  [99, 99],\n",
       "  [99, 18, 57, 55],\n",
       "  [6, 65, 44, 99, 6, 99, 99],\n",
       "  [69, 92, 99, 6, 104, 50, 109, 75],\n",
       "  [50, 75, 36, 25, 6, 33, 99],\n",
       "  [6, 109, 99, 33, 6, 17, 25, 66, 115],\n",
       "  [109, 99, 33, 6, 33, 104, 115, 49],\n",
       "  [],\n",
       "  [3, 75, 25, 2],\n",
       "  [99, 6, 6, 33, 99, 31, 6],\n",
       "  [17, 82, 99, 17, 99, 108],\n",
       "  [6, 99, 56, 85],\n",
       "  [92, 99, 57],\n",
       "  [99, 57, 99, 99, 104],\n",
       "  [109],\n",
       "  [49],\n",
       "  [69],\n",
       "  [55, 99, 94, 57],\n",
       "  [99, 108],\n",
       "  [4, 97, 115],\n",
       "  [99, 2, 85, 49, 34, 34, 34],\n",
       "  [99, 106, 33, 104],\n",
       "  [55, 49],\n",
       "  [36, 56, 34, 34, 34],\n",
       "  [109, 31, 34, 34, 34],\n",
       "  [97, 99, 49, 43],\n",
       "  [50],\n",
       "  [109, 49],\n",
       "  [50, 115],\n",
       "  [99, 66, 43, 49, 97],\n",
       "  [99, 33, 17],\n",
       "  [49, 99],\n",
       "  [99, 82, 108, 56, 57],\n",
       "  [66, 99, 28],\n",
       "  [99],\n",
       "  [108, 36, 108],\n",
       "  [99, 18, 57, 99, 99],\n",
       "  [99, 99, 57],\n",
       "  [108, 108, 91],\n",
       "  [99, 99],\n",
       "  [55, 44]],\n",
       " 'Valkaama': [[38, 99],\n",
       "  [99],\n",
       "  [109],\n",
       "  [99],\n",
       "  [99],\n",
       "  [99, 115],\n",
       "  [99],\n",
       "  [99],\n",
       "  [99],\n",
       "  [],\n",
       "  [99, 26],\n",
       "  [],\n",
       "  [99],\n",
       "  [99],\n",
       "  [99],\n",
       "  [99],\n",
       "  [],\n",
       "  [95],\n",
       "  [99, 51],\n",
       "  [],\n",
       "  [],\n",
       "  [],\n",
       "  [99],\n",
       "  [62, 99, 57, 58],\n",
       "  [99, 99],\n",
       "  [99],\n",
       "  [],\n",
       "  [99, 108],\n",
       "  [108],\n",
       "  [99],\n",
       "  [99],\n",
       "  [99, 95, 4, 57],\n",
       "  [108, 4],\n",
       "  [99],\n",
       "  [],\n",
       "  [99],\n",
       "  [],\n",
       "  [],\n",
       "  [62],\n",
       "  [99],\n",
       "  [108, 99],\n",
       "  [99],\n",
       "  [4, 34],\n",
       "  [99],\n",
       "  [99, 108]],\n",
       " 'honey': [[19, 99, 55, 50, 49, 115, 93, 111],\n",
       "  [99, 55, 104, 50, 99, 99, 19],\n",
       "  [55, 99, 99, 15, 99, 18],\n",
       "  [107, 44, 16, 33, 57, 57],\n",
       "  [104],\n",
       "  [4, 104, 51, 34, 99, 4, 106, 3],\n",
       "  [12, 3, 39, 51, 51, 51, 99, 23, 55, 51],\n",
       "  [108, 69, 36, 55],\n",
       "  [1, 95, 4, 38],\n",
       "  [95],\n",
       "  [100, 6, 54, 95],\n",
       "  [21, 95],\n",
       "  [99, 51, 99, 55, 101, 99, 0],\n",
       "  [104, 62],\n",
       "  [35, 55, 6],\n",
       "  [99, 36, 110],\n",
       "  [95, 95, 95],\n",
       "  [99, 57],\n",
       "  [55, 104, 34],\n",
       "  [23, 51, 51, 51, 55, 57, 51],\n",
       "  [],\n",
       "  [109],\n",
       "  [55]],\n",
       " 'The_Illusionist': [[115, 5],\n",
       "  [99, 6, 99, 3],\n",
       "  [92, 109],\n",
       "  [109, 36],\n",
       "  [92, 99, 43],\n",
       "  [36],\n",
       "  [108, 111, 111, 55],\n",
       "  [105, 92, 39],\n",
       "  [46, 50, 43, 43],\n",
       "  [],\n",
       "  [54, 6, 38, 38, 109, 38, 92],\n",
       "  [6, 99, 38, 92, 38, 38, 38, 67],\n",
       "  [44, 6, 74, 6],\n",
       "  [99, 99, 38],\n",
       "  [108, 115, 6, 99, 6, 19, 92],\n",
       "  [6, 38, 109, 113, 56, 99, 66, 56, 66],\n",
       "  [],\n",
       "  [54, 111, 95, 105, 99, 53, 57],\n",
       "  [12, 99, 6, 108],\n",
       "  [38, 38, 44, 6, 21, 33, 99],\n",
       "  [38, 6, 6, 99],\n",
       "  [97, 67, 53, 108],\n",
       "  [56, 6, 33, 108, 99, 99],\n",
       "  [109, 99, 99, 6, 75, 6, 6],\n",
       "  [66, 99, 6, 99, 95, 57, 85],\n",
       "  [],\n",
       "  [6, 4, 55, 60, 108],\n",
       "  [99, 99, 6],\n",
       "  [],\n",
       "  [18, 85, 6],\n",
       "  [99, 38],\n",
       "  [38, 55, 43, 109],\n",
       "  [6, 108, 75],\n",
       "  [109, 108, 99],\n",
       "  [99, 6, 12, 97],\n",
       "  [108, 107, 56, 99, 27, 115, 11, 49, 109, 36, 57],\n",
       "  [99],\n",
       "  [104],\n",
       "  [82, 50],\n",
       "  [99, 33, 44, 33, 99, 104, 104, 97, 99, 38],\n",
       "  [99, 0, 12, 97],\n",
       "  [6, 99, 113, 77, 6, 99],\n",
       "  [],\n",
       "  [56, 113, 113],\n",
       "  [109, 99, 6, 6, 99],\n",
       "  [99, 108],\n",
       "  [109, 109]],\n",
       " 'time_expired': [[99],\n",
       "  [65, 25, 99, 115],\n",
       "  [99],\n",
       "  [52, 115, 13, 99],\n",
       "  [],\n",
       "  [99],\n",
       "  [99],\n",
       "  [18],\n",
       "  [99, 30, 51],\n",
       "  [115, 99, 99, 44],\n",
       "  [69],\n",
       "  [33],\n",
       "  [],\n",
       "  [44, 109, 99],\n",
       "  [55],\n",
       "  [35, 6],\n",
       "  [49, 94, 99, 99, 38],\n",
       "  [109, 6, 14],\n",
       "  [89, 99, 93],\n",
       "  [6, 58, 84],\n",
       "  [99, 6],\n",
       "  [15, 12, 12],\n",
       "  [1, 59],\n",
       "  [99, 109],\n",
       "  [15, 15],\n",
       "  [99, 1],\n",
       "  [1, 99],\n",
       "  [],\n",
       "  [39, 99],\n",
       "  [38, 85, 3, 99],\n",
       "  [38, 85, 27, 59, 99, 99, 99],\n",
       "  [6, 99, 38],\n",
       "  [99],\n",
       "  [8, 99],\n",
       "  [99, 48],\n",
       "  [93],\n",
       "  [14],\n",
       "  [99],\n",
       "  [99, 32],\n",
       "  [99],\n",
       "  [99],\n",
       "  [99, 99, 76, 99],\n",
       "  [99],\n",
       "  [99, 44],\n",
       "  [99],\n",
       "  [69, 109, 53],\n",
       "  [60, 62, 99],\n",
       "  [99, 99],\n",
       "  [33, 99],\n",
       "  [95],\n",
       "  [15, 44, 99],\n",
       "  [99],\n",
       "  [62, 99, 51],\n",
       "  [100, 33],\n",
       "  [85, 99],\n",
       "  [99],\n",
       "  [],\n",
       "  [99],\n",
       "  [53, 115, 99, 59],\n",
       "  [99, 66, 99],\n",
       "  [99],\n",
       "  [99, 19, 93],\n",
       "  [20, 6, 99, 51],\n",
       "  [95],\n",
       "  [99, 38],\n",
       "  [99, 15],\n",
       "  [6, 99, 6],\n",
       "  [92, 99, 32],\n",
       "  [25, 94, 99],\n",
       "  [],\n",
       "  [99, 99, 44],\n",
       "  [],\n",
       "  [99, 93, 99, 99],\n",
       "  [95],\n",
       "  [108, 95]],\n",
       " 'shooters': [[],\n",
       "  [99, 108],\n",
       "  [15, 107, 99],\n",
       "  [99, 99],\n",
       "  [99],\n",
       "  [64],\n",
       "  [108, 99],\n",
       "  [108, 99, 99],\n",
       "  [95],\n",
       "  [99],\n",
       "  [64],\n",
       "  [54, 99, 99],\n",
       "  [],\n",
       "  [99, 4],\n",
       "  [99, 99],\n",
       "  [64, 12, 33],\n",
       "  [99, 54, 27],\n",
       "  [4, 63, 51, 95, 35, 53, 63, 38, 63, 55, 51],\n",
       "  [64],\n",
       "  [95, 30, 4]],\n",
       " 'SuperHero': [[102],\n",
       "  [39, 83],\n",
       "  [55],\n",
       "  [100, 109, 13, 99, 109, 99, 99],\n",
       "  [92, 13, 34, 6],\n",
       "  [62, 12, 99],\n",
       "  [99],\n",
       "  [99, 55],\n",
       "  [82, 34, 34],\n",
       "  [12, 17]],\n",
       " 'Huckleberry_Finn': [[],\n",
       "  [115],\n",
       "  [],\n",
       "  [109, 27],\n",
       "  [99],\n",
       "  [24],\n",
       "  [32],\n",
       "  [13, 24, 106],\n",
       "  [34],\n",
       "  [46],\n",
       "  [],\n",
       "  [99],\n",
       "  [2],\n",
       "  [],\n",
       "  [99],\n",
       "  [82, 6],\n",
       "  [106],\n",
       "  [53],\n",
       "  [102, 65],\n",
       "  [20],\n",
       "  [33, 20, 74],\n",
       "  [54],\n",
       "  [44, 31, 27, 55, 54],\n",
       "  [92, 39, 4, 18],\n",
       "  [20, 18],\n",
       "  [99, 96],\n",
       "  [],\n",
       "  [20, 0, 34, 33],\n",
       "  [79],\n",
       "  [106, 10],\n",
       "  [31, 24],\n",
       "  [33, 33],\n",
       "  [47, 115, 3],\n",
       "  [58],\n",
       "  [],\n",
       "  [33, 65],\n",
       "  [],\n",
       "  [],\n",
       "  [99],\n",
       "  [106, 97, 58],\n",
       "  [33, 1],\n",
       "  [18, 20],\n",
       "  [6, 2],\n",
       "  [20, 2],\n",
       "  [99, 6, 2],\n",
       "  [1, 2],\n",
       "  [6, 99, 33],\n",
       "  [4, 0, 1, 88],\n",
       "  [0, 5, 106, 83],\n",
       "  [46],\n",
       "  [65, 20],\n",
       "  [58, 59],\n",
       "  [58],\n",
       "  [80, 83],\n",
       "  [18, 82, 57, 36],\n",
       "  [32, 99, 88],\n",
       "  [16, 0, 58, 5],\n",
       "  [16, 51],\n",
       "  [10]],\n",
       " 'Road_To_Bali': [[],\n",
       "  [23, 99, 99, 43, 6, 6, 43, 99, 99, 99, 57],\n",
       "  [38, 57, 115, 108, 99, 4, 85, 108],\n",
       "  [108, 99, 115],\n",
       "  [99, 109, 67, 109, 67],\n",
       "  [6, 44, 99, 33, 6],\n",
       "  [109, 99, 4, 6, 109],\n",
       "  [33, 6, 58, 108, 99, 6, 99, 99],\n",
       "  [56, 38, 6, 99, 99, 38],\n",
       "  [108, 108, 19, 109, 99],\n",
       "  [57, 108, 108, 108, 108, 108, 99, 99, 99, 104, 104, 104, 104, 108],\n",
       "  [99, 99],\n",
       "  [99, 67, 108, 54, 44, 55, 99, 56, 99, 109],\n",
       "  [85, 99, 92, 56, 99, 36],\n",
       "  [],\n",
       "  [109, 99, 99, 109],\n",
       "  [4, 66, 38, 55, 38, 38, 109, 36],\n",
       "  [99, 59, 102, 99, 108],\n",
       "  [92, 99, 4, 61, 99],\n",
       "  [93, 38, 44],\n",
       "  [6, 75, 38, 75, 77, 111, 55, 111],\n",
       "  [99, 66, 99, 43, 99, 65, 6, 111, 43, 99],\n",
       "  [92, 99, 99, 6],\n",
       "  [99, 115, 43, 4, 56, 97, 6, 12, 99, 99, 102],\n",
       "  [108, 102, 6, 99, 31, 55, 99, 99, 115],\n",
       "  [108, 74, 108, 46, 109],\n",
       "  [44, 44, 105, 6, 99, 115, 65],\n",
       "  [36, 115, 99, 43, 109, 6],\n",
       "  [57, 99, 67, 99, 43, 92, 38, 99, 4],\n",
       "  [99, 31, 55, 23, 6, 99, 23, 109, 6],\n",
       "  [],\n",
       "  [34, 109, 99, 109, 109],\n",
       "  [99, 99, 99, 93, 43, 49, 49, 49, 49, 115, 82, 43, 99, 115, 113, 113, 99],\n",
       "  [43, 82, 85, 43, 43, 43, 43, 99, 99, 99, 43],\n",
       "  [99, 6, 66, 43, 49, 97, 108, 44, 43],\n",
       "  [99, 99, 43, 43],\n",
       "  [33, 99, 21, 105],\n",
       "  [43, 43, 43, 43],\n",
       "  [43, 99, 104, 115, 43, 104, 115],\n",
       "  [38, 99],\n",
       "  [99, 6, 99, 43, 99, 66, 99, 64, 6],\n",
       "  [6, 65, 99, 6, 99, 108],\n",
       "  [104],\n",
       "  [108, 108, 108, 108, 66, 38, 99, 38, 109, 38, 38, 97, 97],\n",
       "  [104, 99, 115, 6, 109, 115],\n",
       "  [6, 99, 82, 115, 115, 82, 57],\n",
       "  [108, 99, 4, 55, 109, 57, 99, 109, 6]],\n",
       " 'sophie': [[],\n",
       "  [15],\n",
       "  [98, 88, 65],\n",
       "  [33],\n",
       "  [32, 12],\n",
       "  [99],\n",
       "  [99, 108],\n",
       "  [99],\n",
       "  [],\n",
       "  [99],\n",
       "  [99],\n",
       "  [6, 6, 89, 12, 113, 65, 98],\n",
       "  [],\n",
       "  [],\n",
       "  [99],\n",
       "  [106, 98, 99, 106],\n",
       "  [106, 113, 106],\n",
       "  [99, 57],\n",
       "  [6, 12, 13, 12],\n",
       "  [99],\n",
       "  [1],\n",
       "  [20],\n",
       "  [99],\n",
       "  [15],\n",
       "  [99],\n",
       "  [72, 99],\n",
       "  [20, 32],\n",
       "  [32, 19, 65, 6, 20],\n",
       "  [102, 109, 15],\n",
       "  [99, 15],\n",
       "  [],\n",
       "  [30, 98],\n",
       "  [15],\n",
       "  [99, 38, 30],\n",
       "  [99, 3, 30, 15],\n",
       "  [20, 6, 99],\n",
       "  [6, 102, 38, 1, 6],\n",
       "  [20, 30, 6],\n",
       "  [33, 18, 33, 59, 20],\n",
       "  [6, 18, 28, 4, 106],\n",
       "  [15],\n",
       "  [],\n",
       "  [18, 113, 1, 13, 18, 0],\n",
       "  [25, 33, 4, 106, 20, 12, 59, 15],\n",
       "  [99, 13, 13, 12, 13, 115]],\n",
       " 'Nuclear_Family': [[99, 115, 33],\n",
       "  [],\n",
       "  [],\n",
       "  [39, 55],\n",
       "  [],\n",
       "  [55, 109],\n",
       "  [15, 66, 6],\n",
       "  [4, 85],\n",
       "  [],\n",
       "  [30, 69],\n",
       "  [15],\n",
       "  [59, 15],\n",
       "  [99, 59],\n",
       "  [109],\n",
       "  [18, 51, 6],\n",
       "  [109]],\n",
       " 'The_Big_Something': [[5],\n",
       "  [6],\n",
       "  [99],\n",
       "  [6],\n",
       "  [99, 99, 49],\n",
       "  [14],\n",
       "  [96],\n",
       "  [5],\n",
       "  [57, 6],\n",
       "  [34],\n",
       "  [64],\n",
       "  [36],\n",
       "  [99],\n",
       "  [],\n",
       "  [99],\n",
       "  [99],\n",
       "  [],\n",
       "  [99, 28],\n",
       "  [99],\n",
       "  [109],\n",
       "  [33],\n",
       "  [113, 99],\n",
       "  [99],\n",
       "  [99],\n",
       "  [36],\n",
       "  [10],\n",
       "  [99],\n",
       "  [6],\n",
       "  [99],\n",
       "  [38],\n",
       "  [],\n",
       "  [14],\n",
       "  [33],\n",
       "  [6, 98],\n",
       "  [],\n",
       "  [99],\n",
       "  [],\n",
       "  [99],\n",
       "  [],\n",
       "  [99],\n",
       "  [34],\n",
       "  [30],\n",
       "  [109],\n",
       "  [49, 38, 109],\n",
       "  [109],\n",
       "  [38, 33, 2],\n",
       "  [6],\n",
       "  [108],\n",
       "  [99],\n",
       "  [113],\n",
       "  [98],\n",
       "  [108],\n",
       "  [4, 13],\n",
       "  [111],\n",
       "  [99],\n",
       "  [2],\n",
       "  [4, 38],\n",
       "  [99],\n",
       "  [106, 52],\n",
       "  [13],\n",
       "  [],\n",
       "  [34],\n",
       "  [108],\n",
       "  [6],\n",
       "  [],\n",
       "  [99, 106, 4, 49, 99]],\n",
       " 'spiritual_contact': [[13],\n",
       "  [],\n",
       "  [99],\n",
       "  [99],\n",
       "  [6],\n",
       "  [99, 99],\n",
       "  [99, 17],\n",
       "  [99],\n",
       "  [6, 44, 6, 63],\n",
       "  [108],\n",
       "  [39, 6],\n",
       "  [6, 37],\n",
       "  [99],\n",
       "  [6, 98],\n",
       "  [6, 39],\n",
       "  [],\n",
       "  [],\n",
       "  [50, 6, 109, 115, 82],\n",
       "  [6, 102],\n",
       "  [85, 6],\n",
       "  [92, 6, 99],\n",
       "  [6, 109, 38, 20, 9],\n",
       "  [106],\n",
       "  [44],\n",
       "  [44, 44, 44, 20],\n",
       "  [13],\n",
       "  [99, 65],\n",
       "  [6, 99, 1],\n",
       "  [20, 1, 102, 17],\n",
       "  [13, 82],\n",
       "  [44, 3, 51, 99, 69],\n",
       "  [20, 1],\n",
       "  [63],\n",
       "  [99],\n",
       "  [99],\n",
       "  [44, 6, 99, 0],\n",
       "  [69],\n",
       "  [6, 99, 105]]}"
      ]
     },
     "execution_count": 138,
     "metadata": {},
     "output_type": "execute_result"
    }
   ],
   "source": [
    "t_raw"
   ]
  },
  {
   "cell_type": "code",
   "execution_count": 134,
   "id": "a9bb2496",
   "metadata": {},
   "outputs": [
    {
     "data": {
      "text/plain": [
       "{'Bagman': 0.5342783424305163,\n",
       " 'Manos': 0.4385105204872647,\n",
       " 'Road_To_Bali': 0.44841269841269843,\n",
       " 'The_Illusionist': 0.5046536796536797}"
      ]
     },
     "execution_count": 134,
     "metadata": {},
     "output_type": "execute_result"
    }
   ],
   "source": [
    "film_recalls"
   ]
  },
  {
   "cell_type": "code",
   "execution_count": 107,
   "id": "c26dc447",
   "metadata": {},
   "outputs": [
    {
     "data": {
      "text/plain": [
       "{'Bagman': 0.5342783424305163,\n",
       " 'Manos': 0.4385105204872647,\n",
       " 'Road_To_Bali': 0.44841269841269843,\n",
       " 'The_Illusionist': 0.5046536796536797}"
      ]
     },
     "execution_count": 107,
     "metadata": {},
     "output_type": "execute_result"
    }
   ],
   "source": [
    "film_recalls"
   ]
  },
  {
   "cell_type": "code",
   "execution_count": 149,
   "id": "d3393d8f",
   "metadata": {},
   "outputs": [
    {
     "data": {
      "text/plain": [
       "[0.16, 0.07, 0.023, 0.051]"
      ]
     },
     "execution_count": 149,
     "metadata": {},
     "output_type": "execute_result"
    }
   ],
   "source": [
    "[0.16, 0.07, 0.023, 0.051]"
   ]
  },
  {
   "cell_type": "code",
   "execution_count": 148,
   "id": "80933c9e",
   "metadata": {},
   "outputs": [],
   "source": [
    "import scipy"
   ]
  },
  {
   "cell_type": "code",
   "execution_count": 151,
   "id": "90c1a84c",
   "metadata": {},
   "outputs": [
    {
     "data": {
      "text/plain": [
       "(0.9774474240437474, 0.022552575956252596)"
      ]
     },
     "execution_count": 151,
     "metadata": {},
     "output_type": "execute_result"
    }
   ],
   "source": [
    "scipy.stats.pearsonr([0.16, 0.07, 0.023, 0.051], [f1(0.3,0.13), f1(0.11,0.1), f1(0.034,0.012), f1(0.072,0.043)])"
   ]
  },
  {
   "cell_type": "code",
   "execution_count": 146,
   "id": "649e2235",
   "metadata": {},
   "outputs": [],
   "source": [
    "def f1(pr, re):\n",
    "    return 2*pr*re/(pr+re)"
   ]
  },
  {
   "cell_type": "code",
   "execution_count": 147,
   "id": "e61e7edd",
   "metadata": {},
   "outputs": [
    {
     "data": {
      "text/plain": [
       "(0.1813953488372093,\n",
       " 0.10476190476190476,\n",
       " 0.01773913043478261,\n",
       " 0.053843478260869555)"
      ]
     },
     "execution_count": 147,
     "metadata": {},
     "output_type": "execute_result"
    }
   ],
   "source": [
    "f1(0.3,0.13), f1(0.11,0.1), f1(0.034,0.012), f1(0.072,0.043)"
   ]
  },
  {
   "cell_type": "markdown",
   "id": "9cccaeae",
   "metadata": {},
   "source": [
    ">Does the problem lie in action recognition or entity recognition?\n",
    "\n",
    "In order to answer this question, it is important to report recall@10 for the action recognition on the test movies:\n",
    "\n",
    "{'Bagman': 0.5342783424305163,\n",
    " 'Manos': 0.4385105204872647,\n",
    " 'Road_To_Bali': 0.44841269841269843,\n",
    " 'The_Illusionist': 0.5046536796536797}\n",
    " \n",
    "Since these results are in line with the other metrics from Table 1, the test sample do not deviate from the validation in the sense of the action recognition complexity. Next, the Figure 6 demonstrates that for the both tracking algorithms there is an explicit positive correlation between the structural precision & recall depicted in (a,b) and interaction relevance (estimating both structural and interaction correctness simultaneously, i. e. involving action recognition results). For instance, the maximum value of interaction relevance was achieved on the 'Bagman' movie having maximum structural precision & recall. At the same time, the remaining part of the test movies demostrate exactly the same dynamics: deterioration of structural metrics lead to the deterioration of interaction relevance in all of the cases. In order to characterize this relation numericaly, we computed Pearson correlaction coefficient = 0.977 (between structural F1 and interaction relevance) and corresponding p-value = 0.02. As the coefficient is close to 1 and p-value is less than \\alpha=0.05, there is enough evidence to claim that structural properties may influence the SGG quality dropdown as the correlaction between them exists. Thus, the current hypothesis regarding the considered problem is that the SGG performance can reach action recognition results (~0.4-0.5, reported at the beginning) if the entity recognition quality (involved in reconstuction of structural part) will be improved.\n",
    "\n",
    "Finally, the structural part of scene graphs generation is supposed to be dependent on the chunk size paramter controlling the number of images aggregated in one input entry during the test. However, changes in this value did not cause significant deviations nor in structural metrics, neither in interaction relevance. Such an outcome refers again to the performance bottleneck induced by entity recognition as there are no more paramters involved."
   ]
  },
  {
   "cell_type": "markdown",
   "id": "c5562d32",
   "metadata": {},
   "source": [
    ">What are the mistakes the model makes? \n",
    "\n",
    "In the action recognition part, top-10 missed interactions are the following: \n",
    "\n",
    "['walk with', 'grabs', 'watches','reassures','gives to','leave together','shows','asks','yells at','scolds']\n",
    "\n",
    "As it can be seen from the list, there are to groups of interactions: the general ones (that can be applied in most of the scenes where any charaters are presented: 'watches', 'asks', 'shows') or too specific to be inferred from the general context (e.g., 'leave together'). The nature of these errors reflects the mentioned issues with dataset annotation emhasized in the Data section and Figure 3.\n",
    "\n",
    "For the entity recognition, the applied mobileFaceNet architecture is prone to confuse similar male faces (especially in ''The Illusionist'') as well as miss some characters due to the low quality of their reference images (e.g., ''Road_to_Bali'' and, partially, ''Manos''). The possible workarounds here are to replace the face recognition model and/or replace some part of the reference images."
   ]
  },
  {
   "cell_type": "markdown",
   "id": "20dd4095",
   "metadata": {},
   "source": [
    "> Why are the results worse on \"Road\" compared with \"Illusionist\"?\n",
    "\n",
    "Despite the presence of multiple similar faces among the characters in 'Illustionist', it does not possess any low-quality reference images (the same is true true for 'Bagman' and 'Manos'). In contrast, the reference images of 'Road to Bali' are mostly limited by the ~100 pixels (~3-4 times smaller than for other movies) on the larger side and include various redundant details along with the faces of the characters."
   ]
  },
  {
   "cell_type": "code",
   "execution_count": 108,
   "id": "834f4ab8",
   "metadata": {},
   "outputs": [
    {
     "name": "stdout",
     "output_type": "stream",
     "text": [
      "Film: Bagman Scene: 0\n",
      "[[], ['jack'], ['jack'], ['jack'], ['jack'], ['jack'], ['jack'], ['jack'], ['jack'], ['jack'], ['jack'], ['jack']] \n",
      " []\n",
      "Film: Bagman Scene: 1\n",
      "[[], ['susan'], ['susan', 'mr_sprague'], ['susan', 'mr_sprague']] \n",
      " [['susan', 'mr. sprague'], ['susan', 'mr. sprague'], ['photographer', 'susan'], ['mr. sprague', 'susan']]\n",
      "Film: Bagman Scene: 2\n",
      "[['pam', 'jack'], ['mike', 'jack'], ['pam', 'mike'], ['pam', 'mike']] \n",
      " [['jack', 'sarah'], ['jack', 'mike'], ['mike', 'jack'], ['mike', 'jack']]\n",
      "Film: Bagman Scene: 3\n",
      "[['jack', 'gus_boulis'], ['jack', 'gus_boulis'], ['jack'], ['senator_bob', 'jack'], ['jack', 'gus_boulis'], ['senator_bob', 'jack'], ['jack', 'gus_boulis'], ['jack', 'gus_boulis'], ['jack', 'gus_boulis'], ['jack', 'gus_boulis'], ['jack', 'gus_boulis']] \n",
      " [['jack', 'agent patterson'], ['snake', 'jack'], ['agent patterson', 'jack'], ['jack', 'man in jail'], ['jack', 'snake'], ['jack', 'snake']]\n",
      "Film: Bagman Scene: 4\n",
      "[[], ['pam', 'gus_boulis'], ['grover'], ['jack', 'gus_boulis'], ['ralph', 'jack'], ['ralph', 'jack'], ['ralph', 'pam'], ['jack', 'gus_boulis'], ['ralph', 'pam'], ['jack', 'gus_boulis'], ['jack', 'gus_boulis'], ['jack', 'gus_boulis'], ['ralph', 'mr_sprague'], ['mr_sprague', 'jack'], ['ralph', 'jack'], ['jack', 'gus_boulis'], ['ralph', 'gus_boulis'], ['ralph', 'jack'], ['mr_sprague', 'jack'], ['ralph', 'jack']] \n",
      " [['factory_worker', 'jack'], ['jack', 'factory_worker'], ['jack', 'tom delay'], ['jack', 'tom delay'], ['office man1', 'jack'], ['jack', 'office man1'], ['jack', 'office_lady1'], ['office_lady1', 'jack'], ['tom delay', 'dancer3'], ['jack', 'dancer1'], ['jack', 'tom delay'], ['jack', 'bill'], ['jack', 'grover'], ['mike', 'grover'], ['jack', 'grover']]\n",
      "Film: Bagman Scene: 5\n",
      "[['mike', 'jack'], ['mike', 'jack'], ['tom_delay', 'mike'], ['tom_delay', 'mike'], ['tom_delay', 'mike']] \n",
      " [['flight attendant1', 'mike'], ['flight attendant1', 'jack'], ['flight attendant1', 'chief poncho'], ['tom delay', 'senator burman'], ['senator burman', 'mike'], ['mike', 'jack'], ['jack', 'mike'], ['mike', 'jack']]\n",
      "Film: Bagman Scene: 6\n",
      "[['mike'], ['senator_bob', 'mike'], ['senator_bob', 'mike'], ['mike', 'jack'], ['senator_bob', 'mike'], ['mike', 'jack'], ['mike', 'jack'], ['mike', 'jack'], ['mike', 'jack'], ['mike', 'jack']] \n",
      " [['jack', 'chief poncho'], ['jack', 'mike'], ['mike', 'jack']]\n",
      "Film: Bagman Scene: 7\n",
      "[['jack', 'gus_boulis'], ['mike'], ['mike'], ['mike', 'jack'], ['jack', 'gus_boulis'], ['jack', 'chief_poncho'], ['jack', 'chief_poncho']] \n",
      " [['jack', 'chief poncho'], ['jack', 'chief poncho'], ['jack', 'chief poncho'], ['jack', 'chief poncho'], ['chief poncho', 'jack'], ['jack', 'mike'], ['chief poncho', 'jack']]\n",
      "Film: Bagman Scene: 8\n",
      "[['ralph', 'mike'], ['senator_bob', 'scott'], ['scott', 'ralph'], ['scott', 'pam'], ['scott', 'pam'], ['senator_bob', 'scott'], ['pam', 'mike'], ['pam', 'mike'], ['mike', 'jack']] \n",
      " [['scott', 'jack'], ['mike', 'emily'], ['emily', ''], ['jack', 'scott'], ['bill', 'scott'], ['kevin', 'bill'], ['mike', 'bill'], ['woman3', 'mike']]\n",
      "Film: Bagman Scene: 9\n",
      "[['jack', 'bill'], ['jack', 'bill'], ['jack'], ['manny', 'jack'], ['jack']] \n",
      " [['jack', 'enid'], ['manny', 'jack'], ['jack', 'enid'], ['jack', 'manny'], ['enid', 'jack']]\n",
      "Film: Bagman Scene: 10\n",
      "[['manny', 'jack'], ['mike', 'manny'], ['mike', 'manny'], ['mike', 'manny'], ['mike', 'manny'], ['mike', 'manny'], ['manny', 'jack']] \n",
      " [['jack', 'manny'], ['manny', 'jack'], ['jack', 'manny']]\n",
      "Film: Bagman Scene: 11\n",
      "[['jack', 'gus_boulis'], ['jack', 'gus_boulis'], ['gus_boulis', 'art']] \n",
      " [['jack', 'art'], ['art', 'jack'], ['art', 'jack']]\n",
      "Film: Bagman Scene: 12\n",
      "[['pam', 'jack'], ['pam', 'jack'], ['pam', 'jack'], ['pam', 'jack'], ['pam', 'jack'], ['pam', 'jack'], ['pam', 'jack'], ['pam', 'jack'], ['pam', 'jack'], ['pam', 'jack']] \n",
      " [['jack', 'pam'], ['pam', 'jack'], ['pam', 'jack'], ['jack', 'pam']]\n",
      "Film: Bagman Scene: 13\n",
      "[['mike'], ['mike', 'chris'], ['senator_bob', 'gus_boulis'], ['senator_bob', 'mike'], ['senator_bob', 'mike'], ['senator_bob', 'jack']] \n",
      " [['jack', 'mike'], ['jack', 'mike'], ['mike', 'jack'], ['jack', 'mike'], ['mike', 'jack']]\n",
      "Film: Bagman Scene: 14\n",
      "[['mike', 'jack'], ['mike', 'jack'], ['mike', 'jack'], ['jack', 'adam']] \n",
      " [['mike', 'jack'], ['jack', 'mike'], ['jack', 'mike'], ['mike', 'jack']]\n",
      "Film: Bagman Scene: 15\n",
      "[['senator_bob', 'ralph'], ['senator_bob', 'ralph'], ['senator_bob', 'ralph'], ['senator_bob', 'ralph']] \n",
      " [['jack', 'ralph'], ['tom delay', 'jack'], ['ralph', 'jack'], ['grover', 'jack'], ['sarah', 'jack'], ['pam', 'jack'], ['adam', 'jack']]\n",
      "Film: Bagman Scene: 16\n",
      "[['reverend_mueller', 'pam'], ['reverend_mueller', 'pam'], ['pam', 'jack'], ['jack', 'gus_boulis']] \n",
      " [['jack', 'senator bob'], ['jack', 'ralph'], ['senator bob', 'jack'], ['grover', 'jack'], ['jack', 'grover'], ['tom delay', 'jack'], ['jack', 'tom delay'], ['tom delay', 'reverend mueller'], ['reverend mueller', 'jack'], ['karl', 'jack'], ['jack', 'senator'], ['jack', 'senator']]\n",
      "Film: Bagman Scene: 17\n",
      "[['pam', 'jack'], ['pam', 'jack'], ['pam', 'jack'], ['pam', 'jack'], ['pam', 'jack'], ['pam', 'jack'], ['pam', 'jack'], ['pam', 'jack']] \n",
      " [['jack', 'sarah'], ['pam', 'jack'], ['pam', 'jack'], ['jack', 'pam'], ['adam', 'jack'], ['jack', 'adam'], ['jack', 'adam']]\n",
      "Film: Bagman Scene: 18\n",
      "[['pam', 'jack'], ['pam', 'jack'], ['pam', 'jack'], ['pam', 'jack'], ['pam', 'jack'], ['pam', 'jack'], ['pam', 'jack'], ['pam', 'jack']] \n",
      " [['pam', 'jack'], ['jack', 'pam'], ['pam', 'jack'], ['jack', 'pam'], ['jack', 'pam'], ['pam', 'jack'], ['pam', 'jack']]\n",
      "Film: Bagman Scene: 19\n",
      "[['pam', 'jack'], ['reverend_mueller', 'ralph'], ['ralph', 'pam'], ['pam', 'mr_sprague'], ['reverend_mueller', 'mr_sprague'], ['ralph', 'mr_sprague'], ['ralph', 'mr_sprague'], ['reverend_mueller', 'ralph'], ['reverend_mueller', 'ralph'], ['mr_sprague', 'jack'], ['mr_sprague', 'jack'], ['ralph', 'mr_sprague'], ['ralph', 'mr_sprague'], ['ralph', 'mr_sprague'], ['pam', 'jack'], ['ralph', 'mr_sprague'], ['ralph', 'mr_sprague'], ['pam', 'mr_sprague'], ['mr_sprague', 'jack']] \n",
      " [['mike', 'jack'], ['mr. sprague', 'jack'], ['chief poncho', 'ralph'], ['jack', 'mr. sprague'], ['jack', 'kevin'], ['councilwoman1', 'jack'], ['mr. sprague', 'jack']]\n",
      "Film: Bagman Scene: 20\n",
      "[['mike', 'jack'], ['mike', 'jack'], ['mike', 'jack'], ['mike', 'jack'], ['mike', 'jack'], ['mike', 'jack'], ['mike', 'jack'], ['mike', 'jack'], ['mike'], ['mike', 'jack'], ['mike', 'jack']] \n",
      " [['emily', 'mike'], ['mike', 'jack'], ['mike', 'jack'], ['flight attendant2', 'mike'], ['flight attendant2', 'mike'], ['mike', 'emily'], ['jack', 'mike'], ['mike', 'jack'], ['jack', 'mike'], ['jack', 'mike'], ['jack', 'flight attendant2'], ['mike', 'emily'], ['mike', 'emily']]\n",
      "Film: Bagman Scene: 21\n",
      "[['tom_delay', 'pam'], ['pam', 'jack'], ['adam'], ['jack', 'adam'], ['jack', 'adam'], ['jack', 'adam']] \n",
      " [['adam', 'jack'], ['jack', 'adam'], ['jack', 'adam'], ['adam', 'jack'], ['jack', 'adam'], ['adam', 'jack']]\n",
      "Film: Bagman Scene: 22\n",
      "[['jack', 'adam'], ['jack', 'adam'], ['jack', 'adam'], ['jack', 'adam'], ['jack', 'adam'], ['jack', 'adam'], ['jack', 'adam']] \n",
      " [['jack', 'adam'], ['adam', 'jack'], ['jack', 'adam'], ['adam', 'jack'], ['jack', 'adam'], ['adam', 'jack'], ['adam', 'jack'], ['adam', 'jack'], ['jack', 'adam']]\n",
      "Film: Bagman Scene: 23\n",
      "[['senator_bob', 'chris'], ['senator_bob', 'mike'], ['senator_bob', 'mike'], ['senator_bob', 'mike'], ['mike', 'chris'], ['mike', 'adam'], ['senator_bob', 'mike'], ['senator_bob', 'mike'], ['senator_bob', 'mike'], ['mike', 'gus_boulis'], ['mike', 'gus_boulis'], ['mike', 'gus_boulis'], ['mike', 'chris'], ['mike', 'gus_boulis'], ['senator_bob', 'mike'], ['senator_bob', 'mike']] \n",
      " [['chris', 'adam'], ['chris', 'adam'], ['adam', 'mike'], ['mike', 'gus boulis'], ['gus boulis', 'mike'], ['adam', 'mike'], ['mike', 'gus boulis'], ['mike', 'gus boulis'], ['chris', 'gus boulis'], ['adam', 'mike'], ['chris', 'adam'], ['adam', 'mike'], ['mike', 'adam'], ['gus boulis', 'mike'], ['gus boulis', 'adam']]\n",
      "Film: Bagman Scene: 24\n",
      "[['pam', 'jack'], ['senator_bob', 'pam'], ['senator_bob', 'jack'], ['senator_bob', 'pam']] \n",
      " [['jack', 'mike'], ['jack', 'senator bob'], ['senator bob', 'jack'], ['jack', 'senator bob'], ['jack', 'mike'], ['mike', 'jack'], ['jack', 'mike']]\n",
      "Film: Bagman Scene: 25\n",
      "[['senator_bob', 'mike'], ['senator_bob', 'mike'], ['senator_bob', 'jack'], ['senator_bob', 'mike'], ['senator_bob', 'jack'], ['senator_bob', 'mike']] \n",
      " [['mike', 'senator bob'], ['mike', 'senator bob'], ['mike', 'senator bob'], ['mike', 'jack'], ['manny', 'jack'], ['jack', 'manny']]\n",
      "Film: Bagman Scene: 26\n",
      "[['mike', 'jack'], ['mike', 'jack'], ['mike', 'jack'], ['mike', 'jack']] \n",
      " [['jack', 'mike'], ['jack', 'mike'], ['jack', 'mike'], ['mike', 'jack'], ['mike', 'jack']]\n",
      "Film: Bagman Scene: 27\n",
      "[['tom_delay', 'senator_bob'], ['tom_delay', 'senator_bob'], ['tom_delay', 'senator_bob'], ['tom_delay', 'senator_bob'], ['tom_delay', 'senator_bob'], ['tom_delay', 'senator_bob'], ['jack', 'gus_boulis'], ['tom_delay', 'jack'], ['tom_delay', 'senator_bob'], ['tom_delay']] \n",
      " [['tom delay', 'jack'], ['jack', 'tom delay'], ['jack', 'tom delay'], ['jack', 'senator'], ['senator', 'jack'], ['grover', 'jack'], ['jack', 'grover'], ['grover', 'jack'], ['chief poncho', 'pam'], ['jack', 'chief poncho']]\n",
      "Film: Bagman Scene: 28\n",
      "[[], ['mike'], [], ['mike'], ['mike'], ['mike'], ['mike'], []] \n",
      " [['mike', 'brian'], ['mike', 'emily'], ['mike', 'emily'], ['emily', 'mike'], ['brian', 'emily']]\n",
      "Film: Bagman Scene: 29\n",
      "[['scott', 'pam'], ['susan', 'scott'], ['pam', 'jack'], ['pam', 'jack'], ['susan', 'pam'], ['pam', 'jack'], ['pam', 'jack'], ['pam', 'jack'], ['susan', 'pam'], ['susan', 'scott'], ['pam', 'gus_boulis'], ['scott', 'pam'], ['susan', 'pam'], ['scott', 'pam']] \n",
      " [['pam', 'jack'], ['jack', 'pam'], ['jack', 'pam'], ['brian', 'mike'], ['pam', 'jack'], ['mike', 'emily'], ['pam', 'jack'], ['kid1', 'pam'], ['kid2', 'pam'], ['sarah', 'pam'], ['jack', 'pam'], ['emily', 'mike'], ['mike', 'susan'], ['susan', 'mike'], ['mike', 'susan'], ['mike', 'susan'], ['susan', 'mike'], ['brian', 'mike'], ['mike', 'emily']]\n",
      "Film: Bagman Scene: 30\n",
      "[['bill', 'adam'], ['bill', 'adam'], ['ralph', 'mike'], ['mike', 'jack'], ['mike', 'jack'], ['mike', 'jack']] \n",
      " [['mike', 'kevin'], ['bill', 'kevin'], ['kevin', 'bill'], ['enid', 'kevin'], ['kevin', 'mike'], ['jack', 'kevin'], ['jack', 'kevin'], ['manny', 'jack'], ['jack', 'enid']]\n",
      "Film: Bagman Scene: 31\n",
      "[['manny', 'jack'], ['manny', 'jack'], ['manny', 'jack'], ['manny', 'jack'], ['manny', 'jack'], ['manny', 'jack'], ['manny', 'jack'], ['manny', 'jack'], ['manny', 'jack'], ['manny', 'jack'], ['manny', 'jack'], ['manny', 'jack'], ['manny', 'jack'], ['manny', 'jack'], ['manny', 'jack']] \n",
      " [['jack', 'manny'], ['manny', 'jack'], ['manny', 'jack'], ['jack', 'manny']]\n",
      "Film: Bagman Scene: 32\n",
      "[['mike', 'gus_boulis'], ['jack', 'gus_boulis'], ['jack', 'gus_boulis'], ['jack'], ['jack', 'adam'], ['jack', 'adam'], ['jack', 'adam'], ['jack', 'gus_boulis'], ['chris'], ['jack', 'adam'], ['jack', 'adam'], ['jack', 'adam'], ['jack', 'adam'], ['jack', 'adam']] \n",
      " [['adam', 'jack'], ['jack', 'adam'], ['adam', 'jack'], ['adam', 'jack'], ['adam', 'jack'], ['adam', 'jack'], ['adam', 'jack'], ['adam', 'jack'], ['jack', 'adam']]\n",
      "Film: Bagman Scene: 33\n",
      "[['jack'], ['mike', 'jack'], ['mike', 'bill'], ['mike', 'gus_boulis'], ['mike', 'gus_boulis'], ['jack'], ['mike']] \n",
      " [['mike', 'enid'], ['jack', 'kevin'], ['mike', 'jack'], ['jack', 'kevin']]\n",
      "Film: Bagman Scene: 34\n",
      "[['mike', 'jack'], ['mike', 'jack'], ['mike', 'jack'], ['mike', 'jack'], ['mike', 'jack'], ['mike', 'jack'], ['mike', 'jack'], ['mike', 'jack']] \n",
      " [['jack', 'mike'], ['mike', 'jack'], ['mike', 'jack'], ['jack', 'mike'], ['mike', 'jack'], ['jack', 'mike']]\n",
      "Film: Bagman Scene: 35\n",
      "[['jack', 'gus_boulis'], ['mike', 'jack'], ['mike', 'jack'], ['mike', 'jack'], ['mike', 'jack'], ['mike', 'jack'], ['mike', 'jack'], ['mike', 'jack'], ['mike', 'jack'], ['mike', 'jack'], ['mike', 'jack'], ['mike', 'jack'], ['mike', 'jack']] \n",
      " [['jack', 'mike'], ['oscar', 'jack'], ['jack', 'enid'], ['mike', 'chief poncho'], ['flight attendant2', 'mike'], ['jack', 'oscar'], ['jack', 'mike'], ['mike', 'jack'], ['jack', 'enid']]\n",
      "Film: Bagman Scene: 36\n",
      "[['mr_sprague', 'gus_boulis'], ['mr_sprague'], ['mr_sprague', 'gus_boulis']] \n",
      " [['mr. sprague', 'enid'], ['jack', 'enid'], ['enid', 'mr. sprague']]\n",
      "Film: Bagman Scene: 37\n",
      "[['pam', 'gus_boulis'], ['pam', 'gus_boulis'], ['pam', 'gus_boulis'], ['pam', 'gus_boulis'], ['pam', 'gus_boulis']] \n",
      " [['chris', 'adam'], ['chris', 'adam'], ['adam', 'chris'], ['chris', 'adam']]\n",
      "Film: Bagman Scene: 38\n",
      "[['jack'], ['pam', 'jack'], ['pam', 'jack'], ['pam', 'jack']] \n",
      " [['sarah', 'jack']]\n",
      "Film: Bagman Scene: 39\n",
      "[['jack', 'emily'], ['senator_bob', 'emily'], ['senator_bob', 'jack'], ['senator_bob', 'jack'], ['senator_bob', 'emily'], ['emily']] \n",
      " [['emily', 'mike'], ['mike', 'emily'], ['mike', ''], ['mike', 'brian'], ['emily', 'mike'], ['emily', 'brian'], ['brian', 'emily']]\n",
      "Film: Bagman Scene: 40\n",
      "[['senator_bob', 'gus_boulis'], ['gus_boulis', 'adam'], ['gus_boulis', 'adam'], ['gus_boulis', 'adam'], ['gus_boulis', 'adam'], ['senator_bob', 'gus_boulis'], ['senator_bob', 'gus_boulis'], ['gus_boulis', 'adam'], ['senator_bob', 'pam'], ['senator_bob', 'gus_boulis'], ['senator_bob', 'gus_boulis']] \n",
      " [['adam', 'woman2'], ['adam', 'woman1'], ['woman2', 'adam'], ['gus boulis', 'adam'], ['jack', 'adam'], ['adam', 'gus boulis'], ['gus boulis', 'adam'], ['adam', 'gus boulis'], ['gus boulis', 'adam']]\n",
      "Film: Bagman Scene: 41\n",
      "[['gus_boulis', 'emily'], ['gus_boulis', 'emily'], ['gus_boulis', 'emily'], ['emily', 'bill'], ['emily']] \n",
      " [['emily', 'concierge'], ['concierge', 'emily'], ['concierge', 'emily']]\n",
      "Film: Bagman Scene: 42\n",
      "[['gus_boulis', 'chris'], ['mike', 'gus_boulis'], ['mike', 'gus_boulis'], ['mike', 'gus_boulis'], ['mike', 'gus_boulis'], ['mike', 'gus_boulis'], ['mike', 'gus_boulis'], ['mike', 'gus_boulis'], ['mike', 'gus_boulis'], ['mike', 'gus_boulis'], ['mike', 'gus_boulis'], ['mike', 'gus_boulis'], ['mike', 'gus_boulis']] \n",
      " [['mr. sprague', 'office secretary'], ['office secretary', 'mr. sprague'], ['chris', 'mike'], ['enid', 'jack'], ['jack', 'mr. sprague'], ['mike', 'jack'], ['mike', 'gus boulis'], ['mike', 'gus boulis'], ['gus boulis', 'mike'], ['gus boulis', 'mike'], ['mike', 'gus boulis'], ['woman on boat', 'mike']]\n",
      "Film: Bagman Scene: 43\n",
      "[['jack', 'chris'], ['jack', 'adam'], ['senator_bob', 'jack'], ['senator_bob', 'jack'], ['jack', 'adam'], ['jack', 'gus_boulis']] \n",
      " [['jack', 'adam'], ['jack', 'adam'], ['adam', 'jack'], ['adam', 'bodyguard']]\n",
      "Film: Bagman Scene: 44\n",
      "[['mr_sprague'], ['mr_sprague'], ['mr_sprague'], ['mr_sprague'], ['mr_sprague']] \n",
      " [['drinking companion', 'mr. sprague'], ['drinking companion', 'mr. sprague'], ['mr. sprague', 'drinking companion'], ['mr. sprague', 'man1'], ['man1', 'mr. sprague']]\n",
      "Film: Bagman Scene: 45\n",
      "[['gus_boulis', 'adam'], ['gus_boulis', 'bill'], ['gus_boulis', 'bill'], ['gus_boulis', 'bill'], ['gus_boulis', 'bill'], ['gus_boulis', 'bill'], ['gus_boulis', 'adam'], ['mike', 'bill'], ['mike', 'gus_boulis'], ['gus_boulis', 'bill'], ['bill', 'adam'], ['bill', 'adam'], ['bill', 'adam'], ['bill']] \n",
      " [['big tony', 'adam'], ['adam', 'big tony'], ['big tony', 'adam'], ['big tony', 'adam'], ['big tony', 'adam']]\n",
      "Film: Bagman Scene: 46\n",
      "[['bill'], ['mr_sprague', 'jack'], ['senator_bob', 'mr_sprague'], ['jack', 'bill']] \n",
      " [['mr. sprague', 'jack'], ['jack', 'kevin'], ['enid', 'mr. sprague'], ['kevin', 'jack'], ['kevin', 'mr. sprague'], ['kevin', 'jack'], ['mr. sprague', 'jack']]\n",
      "Film: Manos Scene: 0\n",
      "[[], [], [], ['debbie'], ['debbie'], ['mike', 'debbie'], ['mike', 'debbie'], ['mike'], ['mike', 'debbie'], ['mike', 'debbie'], ['mike', 'debbie'], ['mike', 'debbie'], ['mike', 'debbie']] \n",
      " [['debbie', 'margaret'], ['margaret', 'debbie'], ['mike', 'margaret'], ['mike', 'margaret'], ['margaret', 'mike'], ['debbie', 'margaret'], ['margaret', 'mike'], ['debbie', 'dog1']]\n",
      "Film: Manos Scene: 1\n",
      "[[], [], ['officer2', 'officer1'], ['officer2', 'officer1'], ['officer2', 'officer1'], ['officer2', 'officer1'], ['officer2'], [], [], ['officer1'], [], [], [], [], []] \n",
      " [['mike', 'officer 1'], ['officer 1', 'mike'], ['officer 1', 'mike'], ['mike', '']]\n",
      "Film: Manos Scene: 2\n",
      "[['woman1', 'man1'], ['woman1', 'man1'], ['woman1'], ['woman1', 'man1']] \n",
      " [['woman1', 'man1'], ['woman1', 'man1'], ['man1', 'woman1'], ['man1', 'woman1']]\n",
      "Film: Manos Scene: 3\n",
      "[] \n",
      " [['margaret', 'mike'], ['mike', 'margaret']]\n",
      "Film: Manos Scene: 4\n",
      "[[], ['officer1'], ['officer1'], ['officer1'], ['officer1']] \n",
      " [['officer1', 'woman1'], ['woman1', 'officer1'], ['woman1', ''], ['woman1', 'man1']]\n",
      "Film: Manos Scene: 5\n",
      "[[], ['officer2', 'mike'], ['mike'], [], ['wife2'], ['wife2', 'officer2'], ['wife2', 'mike'], ['officer1'], ['torgo'], ['torgo'], ['torgo', 'mike'], ['wife2', 'torgo'], ['torgo', 'officer1'], ['torgo'], ['torgo'], ['torgo', 'mike'], ['torgo', 'mike'], ['torgo', 'mike'], ['torgo', 'mike'], ['torgo', 'mike'], ['torgo', 'mike'], ['mike', 'margaret'], ['torgo', 'margaret'], ['torgo'], ['torgo'], ['torgo', 'officer1'], ['torgo', 'officer1'], ['torgo', 'mike'], ['torgo', 'officer2'], ['torgo'], ['torgo']] \n",
      " [['mike', 'torgo'], ['torgo', 'mike'], ['torgo', 'debbie'], ['mike', 'margaret'], ['margaret', 'mike'], ['margaret', 'mike'], ['margaret', 'torgo']]\n",
      "Film: Manos Scene: 6\n",
      "[['margaret'], ['margaret'], ['mike', 'margaret'], ['margaret', 'debbie'], ['mike', 'margaret'], ['mike', 'margaret'], ['mike', 'margaret'], ['mike', 'margaret'], [], ['torgo', 'mike'], ['torgo', 'mike'], ['torgo', 'mike'], ['torgo', 'mike'], [], ['mike', 'margaret'], ['mike', 'margaret'], ['mike', 'margaret'], ['mike', 'margaret'], ['torgo', 'mike']] \n",
      " [['margaret', 'dog'], ['mike', 'margaret'], ['torgo', 'margaret'], ['mike', 'torgo'], ['torgo', 'mike'], ['debbie', 'dog'], ['mike', 'torgo'], ['mike', 'margaret']]\n",
      "Film: Manos Scene: 7\n",
      "[['officer1'], ['mike', 'margaret'], ['mike', 'margaret'], ['mike', 'margaret'], ['mike', 'margaret'], ['mike', 'margaret'], ['mike', 'margaret'], ['mike', 'margaret'], ['mike', 'margaret'], ['mike', 'margaret'], ['mike', 'margaret']] \n",
      " [['mike', 'margaret'], ['mike', 'margaret'], ['dog', 'mike'], ['margaret', 'mike'], ['margaret', 'mike'], ['mike', 'margaret'], ['torgo', 'mike']]\n",
      "Film: Manos Scene: 8\n",
      "[['torgo', 'mike'], ['mike', 'margaret'], ['torgo', 'mike'], ['torgo', 'mike'], ['mike', 'margaret'], ['torgo', 'mike'], ['torgo', 'mike']] \n",
      " [['margaret', 'mike'], ['margaret', 'debbie'], ['margaret', 'debbie'], ['mike', 'margaret'], ['debbie', 'margaret'], ['margaret', 'debbie'], ['margaret', 'mike'], ['mike', 'torgo'], ['mike', 'torgo']]\n",
      "Film: Manos Scene: 9\n",
      "[['torgo'], [], ['torgo'], ['torgo'], ['torgo', 'margaret'], ['torgo', 'margaret'], ['torgo', 'margaret'], ['torgo', 'margaret'], ['torgo'], ['torgo', 'margaret'], ['torgo', 'margaret'], ['torgo', 'margaret']] \n",
      " [['torgo', 'margaret'], ['margaret', 'torgo'], ['torgo', 'margaret'], ['margaret', 'torgo'], ['torgo', 'margaret'], ['torgo', 'margaret'], ['margaret', 'torgo'], ['margaret', 'torgo']]\n",
      "Film: Manos Scene: 10\n",
      "[['mike'], ['mike', 'margaret']] \n",
      " []\n",
      "Film: Manos Scene: 11\n",
      "[['margaret'], ['margaret'], ['torgo', 'margaret'], ['torgo', 'margaret'], ['margaret']] \n",
      " [['torgo', 'margaret'], ['torgo', 'margaret'], ['margaret', 'torgo'], ['margaret', 'torgo']]\n",
      "Film: Manos Scene: 12\n",
      "[['officer2', 'mike'], ['mike', 'margaret'], ['officer2', 'mike'], ['officer2', 'officer1'], ['officer2', 'officer1'], ['officer2', 'mike'], ['officer2', 'mike'], ['mike', 'margaret'], ['officer2', 'mike'], ['officer2', 'mike'], ['mike', 'margaret'], ['margaret'], ['officer2', 'margaret'], ['officer2', 'officer1'], ['officer2', 'officer1']] \n",
      " [['mike', 'margaret'], ['mike', 'torgo'], ['mike', 'torgo'], ['torgo', 'mike'], ['torgo', 'margaret'], ['mike', 'margaret'], ['margaret', 'torgo']]\n",
      "Film: Manos Scene: 13\n",
      "[['mike'], ['mike', 'margaret'], ['mike'], ['mike', 'margaret'], ['mike', 'margaret'], ['mike', 'margaret'], ['mike', 'margaret'], ['mike']] \n",
      " [['mike', 'margaret'], ['debbie', 'mike'], ['mike', 'debbie'], ['mike', 'debbie'], ['mike', 'margaret'], ['dog2', 'debbie']]\n",
      "Film: Manos Scene: 14\n",
      "[['officer2', 'mike'], ['officer2', 'mike'], ['officer2']] \n",
      " [['mike', 'debbie'], ['debbie', 'mike'], ['debbie', 'margaret'], ['margaret', 'debbie']]\n",
      "Film: Manos Scene: 15\n",
      "[['wife3', 'wife2'], ['wife3', 'wife2']] \n",
      " [['debbie', 'margaret'], ['margaret', 'mike'], ['debbie', '']]\n",
      "Film: Manos Scene: 16\n",
      "[['wife1'], ['wife1'], ['wife1', 'torgo'], ['wife2', 'wife1'], ['wife2', 'wife1'], ['wife1', 'torgo'], ['wife1', 'torgo'], ['wife1', 'torgo'], ['wife1', 'torgo'], ['wife1', 'torgo'], ['torgo'], ['wife1', 'torgo'], ['wife1', 'torgo']] \n",
      " [['mike', 'margaret'], ['debbie', ''], ['torgo', 'master'], ['torgo', 'wife1'], ['torgo', 'wife1']]\n",
      "Film: Manos Scene: 17\n",
      "[[], ['officer2'], ['officer2'], [], ['torgo', 'officer2'], ['wife2', 'torgo'], ['margaret']] \n",
      " [['torgo', 'margaret']]\n",
      "Film: Manos Scene: 18\n",
      "[] \n",
      " [['torgo', 'mike']]\n",
      "Film: Manos Scene: 19\n",
      "[['officer2'], ['officer2', 'master'], ['wife6', 'officer2'], ['officer2', 'master']] \n",
      " [['master', 'dog2']]\n",
      "Film: Manos Scene: 20\n",
      "[['woman1'], ['woman1', 'officer1'], ['woman1', 'officer1'], ['woman1', 'officer1'], ['officer1'], ['officer1'], ['officer1', 'man1'], ['officer1'], ['officer1', 'man1'], ['woman1', 'officer1']] \n",
      " [['woman1', 'man1'], ['officer1', 'woman1'], ['woman1', 'officer1'], ['woman1', '']]\n",
      "Film: Manos Scene: 21\n",
      "[['wife1', 'master'], ['wife2', 'master'], ['wife1', 'master'], ['master'], ['wife1', 'master'], [], ['master'], ['master'], [], [], ['master'], ['master']] \n",
      " [['master', 'wife1'], ['master', 'dog2']]\n",
      "Film: Manos Scene: 22\n",
      "[['wife5', 'wife1'], ['wife5', 'wife1'], ['wife5', 'wife1'], ['wife5', 'wife1'], ['wife5', 'wife1'], ['wife5', 'wife1'], ['wife1', 'master'], ['wife5', 'wife1'], ['wife1', 'officer2'], ['master'], ['wife5', 'wife1']] \n",
      " [['wife4', ''], ['master', 'wife6'], ['master', 'wife2']]\n",
      "Film: Manos Scene: 23\n",
      "[['wife2', 'wife1'], ['wife2', 'wife1'], ['wife2', 'wife1'], ['wife2', 'wife1'], ['wife2', 'wife1'], ['wife1', 'officer2'], ['wife2', 'wife1'], ['wife3', 'wife2'], ['wife2', 'wife1'], ['wife2', 'officer2'], ['officer2'], ['wife2'], ['wife2', 'officer2'], ['wife2', 'officer2'], ['officer2']] \n",
      " [['wife1', 'wife6'], ['wife3', 'wife1'], ['wife2', 'wife1'], ['wife2', 'wife1'], ['wife1', 'wife4'], ['wife3', 'wife5'], ['wife6', 'wife2']]\n",
      "Film: Manos Scene: 24\n",
      "[['torgo'], ['torgo', 'master'], ['torgo', 'master'], ['torgo', 'master'], ['torgo', 'master'], ['torgo', 'master'], ['torgo', 'master'], ['torgo', 'master'], ['torgo', 'master'], ['torgo', 'master'], ['torgo', 'master'], ['torgo', 'master'], ['torgo', 'master'], ['torgo', 'master'], ['torgo', 'master'], ['torgo'], ['master'], ['torgo', 'master'], ['torgo', 'master'], ['torgo'], ['torgo']] \n",
      " [['master', 'torgo'], ['master', 'torgo'], ['torgo', 'master'], ['master', 'torgo']]\n",
      "Film: Manos Scene: 25\n",
      "[[], [], ['wife2', 'officer2'], ['wife2'], [], ['wife2'], ['officer2'], ['officer2']] \n",
      " [['wife2', 'mike'], ['wife2', 'mike']]\n",
      "Film: Manos Scene: 26\n",
      "[] \n",
      " [['torgo', 'master'], ['wife2', 'master'], ['wife1', 'wife5'], ['wife3', 'wife4'], ['wife6', 'wife5']]\n",
      "Film: Manos Scene: 27\n",
      "[['margaret'], ['wife1', 'margaret'], ['wife1', 'margaret']] \n",
      " [['master', 'margaret'], ['margaret', 'debbie'], ['wife1', 'wife5'], ['wife3', 'wife5'], ['wife6', 'wife2']]\n",
      "Film: Manos Scene: 28\n",
      "[['wife1', 'officer2'], ['torgo', 'officer2'], ['wife4', 'wife1'], ['torgo', 'master'], ['torgo'], [], ['wife1', 'officer2'], ['wife1', 'officer2'], ['officer2', 'master'], ['officer2', 'master'], ['officer2'], ['wife4', 'officer2'], [], ['officer2', 'master'], ['wife4', 'officer2'], ['wife4', 'officer2'], ['torgo', 'officer2'], ['officer2']] \n",
      " [['master', 'wife6'], ['wife1', 'master'], ['wife5', 'torgo'], ['wife5', 'wife1']]\n",
      "Film: Manos Scene: 29\n",
      "[['margaret'], ['margaret']] \n",
      " [['margaret', 'debbie']]\n",
      "Film: Manos Scene: 30\n",
      "[['master'], ['wife1', 'master'], ['wife1']] \n",
      " [['master', 'wife4'], ['wife4', 'torgo']]\n",
      "Film: Manos Scene: 31\n",
      "[['margaret'], ['margaret']] \n",
      " [['margaret', 'debbie'], ['mike', 'margaret']]\n",
      "Film: Manos Scene: 32\n",
      "[['wife2', 'wife1'], ['officer2', 'master'], ['officer2'], ['officer2'], ['officer2'], ['wife1', 'officer2'], ['wife1', 'officer2'], ['officer2'], ['wife1', 'officer2'], ['wife1', 'officer2'], ['wife2', 'officer2'], ['wife1', 'officer2']] \n",
      " [['wife1', 'master'], ['master', 'wife5'], ['master', 'torgo'], ['wife4', 'torgo'], ['master', 'wife4']]\n",
      "Film: Manos Scene: 33\n",
      "[['mike']] \n",
      " [['margaret', 'mike'], ['mike', 'margaret'], ['mike', 'margaret']]\n",
      "Film: Manos Scene: 34\n",
      "[['wife1', 'officer2'], ['wife1', 'officer2'], ['wife1'], ['wife1', 'officer2'], ['wife1', 'officer2'], ['wife1', 'officer2'], ['wife1'], ['wife1'], ['wife1']] \n",
      " [['master', 'wife1'], ['wife1', 'master']]\n",
      "Film: Manos Scene: 35\n",
      "[['debbie'], ['debbie'], ['debbie'], [], ['debbie'], ['debbie']] \n",
      " [['margaret', 'mike'], ['margaret', 'mike'], ['debbie', 'mike'], ['mike', 'margaret'], ['debbie', '']]\n",
      "Film: Manos Scene: 36\n",
      "[['wife2', 'officer2'], ['master'], ['master'], ['wife2', 'master']] \n",
      " [['master', 'wife3'], ['wife2', 'master'], ['wife3', 'master']]\n",
      "Film: Manos Scene: 37\n",
      "[['mike'], ['mike']] \n",
      " [['margaret', 'mike']]\n",
      "Film: Manos Scene: 38\n",
      "[['wife1', 'mike'], ['wife2', 'master'], ['wife2'], ['wife2', 'master']] \n",
      " [['dog2', 'master'], ['wife2', 'master'], ['wife4', 'wife5']]\n",
      "Film: Manos Scene: 39\n",
      "[['mike'], ['mike', 'debbie'], ['mike'], ['mike', 'debbie']] \n",
      " [['margaret', 'mike'], ['debbie', 'mike'], ['debbie', ''], ['mike', 'margaret'], ['mike', 'debbie']]\n",
      "Film: Manos Scene: 40\n",
      "[['officer2', 'officer1'], ['officer2', 'officer1'], ['officer2', 'officer1'], ['officer2', 'officer1'], ['officer2', 'officer1'], []] \n",
      " [['officer1', 'officer2'], ['officer2', 'officer1'], ['officer1', '']]\n",
      "Film: Manos Scene: 41\n",
      "[[], ['master'], ['master'], ['master']] \n",
      " [['dog2', 'master'], ['debbie', 'mike'], ['mike', 'master']]\n",
      "Film: Manos Scene: 42\n",
      "[[], [], ['woman3'], ['woman3'], [], [], [], [], [], [], []] \n",
      " [['woman3', 'woman2'], ['woman2', 'woman3']]\n",
      "Film: Manos Scene: 43\n",
      "[['woman3', 'mike'], ['woman3', 'woman2'], ['wife4', 'mike']] \n",
      " [['man1', 'woman1'], ['mike', 'woman3']]\n",
      "Film: Road_To_Bali Scene: 0\n",
      "[] \n",
      " []\n",
      "Film: Road_To_Bali Scene: 1\n",
      "[['george'], ['harold', 'george'], ['harold', 'george'], ['harold', 'george'], ['harold', 'george'], ['harold', 'george'], ['harold', 'george'], ['harold', 'george'], ['harold', 'george'], ['harold', 'george'], ['harold', 'george'], ['harold', 'george'], ['harold', 'george'], ['harold', 'george'], ['harold', 'george'], ['harold', 'george'], ['harold', 'george'], ['harold', 'george'], ['harold'], ['harold', 'george'], ['harold', 'george'], ['harold', 'george'], ['harold', 'george'], ['harold'], ['harold', 'george'], ['harold'], ['harold']] \n",
      " [['george', 'harold'], ['george', 'harold'], ['george', 'verna'], [\"verna's father\", 'george'], [\"verna's father\", 'verna'], [\"eunice's father\", 'eunice'], [\"eunice's father\", 'harold'], ['verna', 'george'], ['eunice', 'harold'], ['harold', 'george'], ['harold', 'george']]\n",
      "Film: Road_To_Bali Scene: 2\n",
      "[['george'], ['george'], ['george'], ['george'], ['george'], ['george'], ['george'], ['george'], ['george', 'beautiful_dancer'], ['george'], ['george'], ['george'], ['george'], ['george'], ['george'], ['george'], ['george'], ['george']] \n",
      " [['george', 'harold'], ['george', ''], [\"eunice's father\", 'george'], ['harold', 'george'], ['george', 'harold'], ['harold', 'george'], ['harold', 'george'], ['conductor', '']]\n",
      "Film: Road_To_Bali Scene: 3\n",
      "[['harold', 'george'], ['harold', 'george'], ['harold', 'george']] \n",
      " [['george', 'harold'], ['harold', 'george'], ['sheep', 'harold']]\n",
      "Film: Road_To_Bali Scene: 4\n",
      "[['harold', 'george'], ['harold', 'george'], ['harold', 'george'], ['harold', 'george'], ['ugly_dancer', 'harold'], ['ugly_dancer', 'harold'], ['harold', 'george'], ['harold', 'george'], ['ugly_dancer', 'harold'], ['ugly_dancer', 'harold'], ['harold', 'george']] \n",
      " [['george', 'harold'], ['harold', 'employment manager'], ['prince ken arok', 'george'], ['george', 'employment manager'], ['prince ken arok', 'harold']]\n",
      "Film: Road_To_Bali Scene: 5\n",
      "[['prince_ken_arok', 'jane'], ['prince_ken_arok', 'jane'], ['prince_ken_arok', 'jane'], ['jane', 'employment_manager'], ['prince_ken_arok', 'jane'], ['prince_ken_arok', 'jane']] \n",
      " [['prince ken arok', 'employment manager'], ['employment manager', 'prince ken arok'], ['employment manager', 'prince ken arok'], ['prince ken arok', 'employment manager'], ['employment manager', 'prince ken arok']]\n",
      "Film: Road_To_Bali Scene: 6\n",
      "[['prince_ken_arok', 'jane'], ['prince_ken_arok', 'jane'], ['jane', 'george'], ['jane', 'george'], ['jane', 'george'], ['jane', 'george'], ['jane', 'george']] \n",
      " [['gung', 'george'], ['george', 'gung'], ['harold', 'george'], ['gung', 'george'], ['gung', 'harold']]\n",
      "Film: Road_To_Bali Scene: 7\n",
      "[['harold'], ['harold'], ['harold'], ['harold'], ['harold'], ['ugly_dancer', 'harold'], ['ugly_dancer', 'harold'], ['ugly_dancer', 'harold']] \n",
      " [['harold', 'prince ken arok'], ['prince ken arok', 'harold'], ['harold', 'prince ken arok'], ['harold', 'prince ken arok'], ['prince ken arok', 'harold'], ['harold', 'prince ken arok'], ['prince ken arok', 'harold'], ['george', 'gung']]\n",
      "Film: Road_To_Bali Scene: 8\n",
      "[['harold', 'george'], ['harold', 'george'], ['harold', 'george'], ['harold', 'george'], ['harold', 'george']] \n",
      " [['gung', 'george'], ['george', 'gung'], ['harold', 'gung'], ['gung', 'george'], ['gung', 'prince ken arok'], ['harold', 'gung']]\n",
      "Film: Road_To_Bali Scene: 9\n",
      "[['princess_lala', 'jane'], ['princess_lala', 'jane'], ['princess_lala', 'beautiful_dancer'], ['princess_lala'], ['ugly_dancer', 'princess_lala'], ['ugly_dancer', 'princess_lala'], ['princess_lala', 'beautiful_dancer'], ['ugly_dancer', 'princess_lala'], ['ugly_dancer', 'princess_lala'], ['princess_lala', 'jane'], ['ugly_dancer', 'harold'], ['princess_lala', 'harold'], [], ['princess_lala'], ['princess_lala', 'beautiful_dancer'], ['princess_lala'], ['princess_lala', 'beautiful_dancer'], ['ugly_dancer', 'princess_lala'], ['ugly_dancer', 'princess_lala'], ['ugly_dancer', 'princess_lala']] \n",
      " [['harold', 'gung'], ['george', 'gung'], ['princess lala', 'handmaiden1'], ['princess lala', 'handmaiden1'], ['princess lala', 'handmaiden2']]\n",
      "Film: Road_To_Bali Scene: 10\n",
      "[['jane', 'harold'], ['prince_ken_arok', 'harold'], ['prince_ken_arok', 'harold'], ['prince_ken_arok', 'harold'], ['prince_ken_arok', 'harold'], ['prince_ken_arok', 'harold'], ['prince_ken_arok', 'harold']] \n",
      " [['handmaiden9', ''], ['handmaiden4', 'handmaiden5'], ['handmaiden8', 'handmaiden9'], ['handmaiden6', 'handmaiden7'], ['gung', 'prince ken arok'], ['harold', 'george'], ['handmaiden5', 'handmaiden4'], ['handmaiden7', 'handmaiden6'], ['harold', 'george'], ['handmaiden4', 'george'], ['handmaiden5', 'harold'], ['handmaiden6', 'george'], ['handmaiden7', 'harold'], ['harold', '']]\n",
      "Film: Road_To_Bali Scene: 11\n",
      "[['princess_lala', 'prince_ken_arok'], ['princess_lala', 'prince_ken_arok'], ['princess_lala', 'prince_ken_arok']] \n",
      " [['prince ken arok', 'princess lala'], ['princess lala', 'prince ken arok']]\n",
      "Film: Road_To_Bali Scene: 12\n",
      "[['prince_ken_arok', 'harold'], ['prince_ken_arok', 'harold'], ['prince_ken_arok', 'harold'], ['prince_ken_arok', 'harold'], ['prince_ken_arok', 'harold'], ['prince_ken_arok', 'harold'], ['prince_ken_arok', 'harold'], ['prince_ken_arok', 'harold'], ['prince_ken_arok', 'harold']] \n",
      " [['harold', 'princess lala'], ['princess lala', 'harold'], ['harold', 'george'], ['prince ken arok', 'princess lala'], ['princess lala', 'harold'], ['george', 'princess lala'], ['harold', 'george'], ['princess lala', 'harold'], ['native1', 'prince ken arok'], ['prince ken arok', 'harold']]\n",
      "Film: Road_To_Bali Scene: 13\n",
      "[['princess_lala', 'harold'], ['princess_lala', 'harold'], ['princess_lala', 'harold'], ['princess_lala', 'harold'], ['princess_lala', 'harold'], ['harold'], ['harold'], ['harold'], ['princess_lala', 'harold'], ['princess_lala', 'harold'], ['princess_lala', 'harold'], ['princess_lala', 'harold'], ['princess_lala', 'harold'], ['princess_lala', 'harold']] \n",
      " [['george', 'harold'], ['harold', 'george'], ['princess lala', 'george'], ['princess lala', 'george'], ['', 'george'], ['george', 'princess lala']]\n",
      "Film: Road_To_Bali Scene: 14\n",
      "[['jane', 'george'], ['jane', 'harold'], ['jane', 'george'], ['jane', 'george'], ['jane', 'george'], ['jane', 'george'], ['jane', 'george'], ['jane', 'george']] \n",
      " []\n",
      "Film: Road_To_Bali Scene: 15\n",
      "[['jane', 'harold'], ['jane', 'harold'], ['jane', 'harold'], ['harold', 'george'], ['harold', 'george'], ['harold', 'george'], ['harold', 'george'], ['harold', 'george'], ['jane', 'harold'], ['jane', 'harold'], ['jane', 'harold'], ['harold', 'george'], ['harold', 'george'], ['harold', 'george'], ['harold', 'george'], ['harold', 'george']] \n",
      " [['handmaiden6', ''], ['harold', 'george'], ['george', 'harold'], ['prince ken arok', 'harold']]\n",
      "Film: Road_To_Bali Scene: 16\n",
      "[['princess_lala', 'jane'], ['princess_lala', 'jane'], ['princess_lala', 'jane'], ['princess_lala', 'harold'], ['princess_lala', 'harold'], ['princess_lala', 'harold'], ['princess_lala', 'harold'], ['jane', 'harold'], ['princess_lala', 'harold'], ['princess_lala', 'jane'], ['princess_lala', 'jane'], ['jane', 'harold'], ['princess_lala', 'jane'], ['princess_lala', 'jane'], ['princess_lala', 'jane'], ['princess_lala', 'jane'], ['princess_lala', 'jane'], ['harold', 'george'], ['jane', 'harold'], ['jane', 'harold'], ['jane', 'harold'], ['jane', 'harold'], ['jane', 'harold'], ['princess_lala', 'jane'], ['princess_lala', 'jane'], ['princess_lala', 'jane'], ['jane', 'harold'], ['harold']] \n",
      " [['george', 'harold'], ['princess lala', 'native2'], ['princess lala', 'harold'], ['beautiful dancer', 'harold'], ['native2', 'princess lala'], ['beautiful dancer', 'harold'], ['harold', 'beautiful dancer'], ['george', 'princess lala']]\n",
      "Film: Road_To_Bali Scene: 17\n",
      "[['ugly_dancer', 'princess_lala'], ['princess_lala', 'george'], ['princess_lala', 'george'], ['princess_lala', 'george'], ['princess_lala', 'george'], ['princess_lala', 'george'], ['princess_lala', 'george'], ['princess_lala', 'george'], ['princess_lala', 'george'], ['princess_lala', 'george'], ['princess_lala', 'george'], ['princess_lala', 'george'], ['princess_lala', 'george'], ['princess_lala', 'george'], ['ugly_dancer', 'princess_lala']] \n",
      " [['george', 'princess lala'], ['gung', 'princess lala'], ['princess lala', 'george'], ['princess lala', 'george'], ['george', 'princess lala']]\n",
      "Film: Road_To_Bali Scene: 18\n",
      "[['harold'], ['harold'], ['harold'], ['harold', 'george'], ['harold', 'george'], ['harold', 'george'], ['harold', 'george'], ['harold', 'george'], ['harold', 'george'], ['harold', 'george'], ['george'], ['george'], ['george'], ['harold', 'george'], ['harold', 'george'], ['harold', 'george'], ['harold', 'george'], ['harold', 'george'], ['harold', 'george'], ['harold', 'george'], ['harold', 'george'], ['harold', 'george']] \n",
      " [['harold', 'george'], ['harold', 'george'], ['harold', 'george'], ['george', 'harold'], ['george', 'harold']]\n",
      "Film: Road_To_Bali Scene: 19\n",
      "[['george'], ['george'], ['george'], [], [], ['george'], ['ugly_dancer'], ['ugly_dancer', 'george'], ['ugly_dancer', 'george'], ['ugly_dancer', 'george'], ['ugly_dancer', 'george'], ['george']] \n",
      " [['ugly dancer', 'george'], ['george', 'harold'], ['prince ken arok', 'george']]\n",
      "Film: Road_To_Bali Scene: 20\n",
      "[[], ['ugly_dancer', 'princess_lala'], ['ugly_dancer', 'princess_lala'], ['ugly_dancer', 'princess_lala'], ['ugly_dancer', 'princess_lala'], ['ugly_dancer', 'princess_lala'], ['ugly_dancer', 'princess_lala'], ['ugly_dancer', 'princess_lala'], ['ugly_dancer', 'princess_lala'], ['ugly_dancer', 'jane'], ['princess_lala', 'jane'], ['ugly_dancer', 'princess_lala'], ['ugly_dancer', 'princess_lala'], ['ugly_dancer', 'princess_lala'], ['ugly_dancer', 'princess_lala'], ['ugly_dancer', 'princess_lala']] \n",
      " [['princess lala', 'harold'], ['harold', 'princess lala'], ['george', 'harold'], ['george', 'princess lala'], ['princess lala', 'george'], ['george', 'prince ken arok'], ['princess lala', 'harold'], ['harold', 'george']]\n",
      "Film: Road_To_Bali Scene: 21\n",
      "[['prince_ken_arok', 'george'], [], ['prince_ken_arok', 'george'], ['prince_ken_arok', 'george'], ['prince_ken_arok', 'george'], ['prince_ken_arok', 'harold'], [], [], [], [], [], ['harold', 'employment_manager'], ['prince_ken_arok', 'harold'], ['prince_ken_arok', 'harold'], ['prince_ken_arok', 'harold'], ['prince_ken_arok', 'harold'], ['prince_ken_arok', 'harold'], ['prince_ken_arok', 'harold'], ['harold', 'george'], ['prince_ken_arok', 'george'], ['prince_ken_arok', 'harold'], ['prince_ken_arok'], ['prince_ken_arok'], ['prince_ken_arok', 'harold'], ['prince_ken_arok', 'harold'], ['prince_ken_arok', 'harold'], ['harold', 'george'], ['harold', 'george'], ['harold', 'george'], ['prince_ken_arok', 'harold'], ['prince_ken_arok', 'harold'], ['prince_ken_arok', 'harold'], ['prince_ken_arok', 'harold'], ['prince_ken_arok', 'harold']] \n",
      " [['prince ken arok', 'princess lala'], ['prince ken arok', 'native2'], ['george', 'harold'], ['bogatan the squid', 'harold'], ['harold', 'george'], ['princess lala', ''], ['george', 'harold'], ['harold', 'george'], ['bogatan the squid', 'prince ken arok'], ['princess lala', 'harold']]\n",
      "Film: Road_To_Bali Scene: 22\n",
      "[[], ['harold', 'george'], ['harold', 'george'], ['harold', 'george'], ['harold', 'george'], ['harold', 'george'], ['harold', 'george'], ['harold', 'george'], ['harold', 'george'], ['harold'], ['harold'], ['harold']] \n",
      " [['harold', 'george'], ['george', 'harold'], ['george', 'harold'], ['harold', 'george']]\n",
      "Film: Road_To_Bali Scene: 23\n",
      "[['princess_lala', 'george'], ['princess_lala', 'george'], ['princess_lala', 'george'], ['princess_lala', 'george'], ['princess_lala', 'george'], ['princess_lala', 'george'], ['princess_lala', 'george'], ['princess_lala', 'george'], ['princess_lala', 'george'], ['princess_lala', 'george'], ['princess_lala', 'george'], ['princess_lala', 'george'], ['princess_lala', 'george'], ['princess_lala', 'george'], ['princess_lala', 'george'], ['princess_lala', 'george'], ['princess_lala', 'george'], ['princess_lala', 'george'], ['princess_lala', 'george'], ['george'], ['george'], ['princess_lala', 'george'], ['princess_lala', 'george'], ['princess_lala', 'george'], ['princess_lala', 'george'], ['princess_lala', 'george'], ['princess_lala', 'george'], ['princess_lala', 'george'], ['princess_lala', 'george'], ['princess_lala', 'george'], ['princess_lala', 'george'], ['princess_lala', 'george'], ['princess_lala', 'george'], ['princess_lala', 'george'], ['princess_lala', 'george'], ['princess_lala', 'george'], ['princess_lala']] \n",
      " [['george', 'princess lala'], ['harold', 'george'], ['harold', 'george'], ['george', 'harold'], ['harold', 'princess lala'], ['george', 'harold'], ['harold', 'princess lala'], ['george', 'harold'], ['princess lala', 'harold'], ['princess lala', 'george'], ['princess lala', 'george']]\n",
      "Film: Road_To_Bali Scene: 24\n",
      "[['jane'], ['jane'], ['jane', 'harold'], ['princess_lala', 'jane'], ['princess_lala', 'jane'], ['princess_lala', 'jane'], ['princess_lala', 'jane'], ['princess_lala', 'harold'], ['princess_lala', 'harold'], ['princess_lala', 'harold'], ['princess_lala', 'harold'], []] \n",
      " [['sandy the chimpanzee', 'young princess lala'], ['princess lala', 'george'], ['george', 'harold'], ['princess lala', 'harold'], ['harold', 'princess lala'], ['harold', 'princess lala'], ['george', 'harold'], ['harold', 'princess lala'], ['princess lala', 'harold']]\n",
      "Film: Road_To_Bali Scene: 25\n",
      "[[], ['harold', 'george'], ['jane', 'harold'], ['jane', 'george'], ['jane', 'george'], ['jane', 'harold'], ['harold', 'george'], ['jane', 'harold'], ['jane', 'harold'], ['jane', 'harold'], ['jane', 'harold'], ['jane'], ['jane', 'harold'], ['jane', 'harold'], ['jane', 'harold'], ['jane', 'george'], ['jane', 'george'], ['jane', 'george'], ['jane', 'george'], ['jane', 'george']] \n",
      " [['george', ''], ['harold', 'princess lala'], ['george', ''], ['george', 'bob'], ['princess lala', 'harold']]\n",
      "Film: Road_To_Bali Scene: 26\n",
      "[['princess_lala', 'harold'], ['princess_lala', 'harold'], ['princess_lala', 'harold'], ['princess_lala', 'harold'], ['princess_lala', 'harold'], ['princess_lala', 'harold'], ['princess_lala', 'harold'], ['princess_lala']] \n",
      " [['george', 'bob'], ['bob', 'george'], ['bob', 'george'], ['princess lala', 'george'], ['george', 'princess lala'], ['harold', 'princess lala'], ['princess lala', 'harold']]\n",
      "Film: Road_To_Bali Scene: 27\n",
      "[[], [], ['princess_lala', 'harold'], ['harold'], ['princess_lala', 'harold'], ['princess_lala', 'harold'], ['princess_lala', 'harold'], ['princess_lala', 'harold']] \n",
      " [['crocodile2', 'harold'], ['princess lala', 'harold'], ['george', 'harold'], ['crocodile1', 'harold'], ['harold', 'humphrey'], ['harold', 'george']]\n",
      "Film: Road_To_Bali Scene: 28\n",
      "[['ugly_dancer', 'jane'], ['ugly_dancer'], ['ugly_dancer', 'jane'], ['ugly_dancer', 'jane'], ['ugly_dancer', 'jane'], ['jane', 'harold'], ['ugly_dancer', 'jane'], ['ugly_dancer', 'jane'], ['ugly_dancer', 'jane'], ['ugly_dancer', 'jane'], ['ugly_dancer', 'jane']] \n",
      " [['princess lala', ''], ['princess lala', 'george'], ['tiger', 'princess lala'], ['george', 'harold'], ['harold', 'george'], ['harold', 'princess lala'], ['harold', 'george'], ['princess lala', 'george'], ['george', 'harold']]\n",
      "Film: Road_To_Bali Scene: 29\n",
      "[['ugly_dancer'], ['ugly_dancer', 'princess_lala'], ['ugly_dancer', 'princess_lala'], ['princess_lala', 'harold'], ['princess_lala', 'harold'], ['princess_lala', 'harold'], ['princess_lala', 'harold'], ['princess_lala', 'harold'], ['princess_lala', 'harold'], ['princess_lala'], ['ugly_dancer', 'princess_lala'], ['ugly_dancer', 'harold'], ['princess_lala'], ['princess_lala', 'harold'], ['ugly_dancer', 'harold'], ['princess_lala', 'harold'], ['ugly_dancer', 'princess_lala'], ['ugly_dancer', 'princess_lala'], ['ugly_dancer', 'princess_lala'], ['princess_lala', 'harold'], ['princess_lala', 'harold'], ['harold', 'george'], ['ugly_dancer', 'princess_lala'], ['princess_lala', 'harold'], ['ugly_dancer', 'princess_lala'], ['ugly_dancer', 'princess_lala'], ['ugly_dancer', 'princess_lala'], ['ugly_dancer', 'harold'], ['ugly_dancer', 'princess_lala'], ['ugly_dancer', 'harold'], [], ['ugly_dancer', 'harold'], ['george'], ['princess_lala']] \n",
      " [['harold', 'princess lala'], ['harold', 'princess lala'], ['harold', 'princess lala'], ['harold', ''], ['harold', 'george'], ['princess lala', 'harold'], ['princess lala', 'harold'], ['harold', 'george'], ['harold', 'princess lala']]\n",
      "Film: Road_To_Bali Scene: 30\n",
      "[[], ['princess_lala', 'beautiful_dancer'], ['princess_lala', 'george']] \n",
      " []\n",
      "Film: Road_To_Bali Scene: 31\n",
      "[[], [], ['harold'], [], [], [], [], ['harold'], [], ['harold'], ['harold'], ['harold'], [], ['harold'], ['harold'], ['harold'], ['harold'], ['harold']] \n",
      " [['tiger', 'gorilla'], ['harold', 'gorilla'], ['princess lala', 'harold'], ['gorilla', 'george'], ['gorilla', 'harold']]\n",
      "Film: Road_To_Bali Scene: 32\n",
      "[['harold', 'george'], ['harold', 'george'], ['harold', 'george'], [], [], [], [], ['harold', 'george'], ['harold', 'george'], [], [], ['harold', 'george'], ['george'], ['harold', 'george'], ['harold', 'george'], ['harold', 'george'], ['harold', 'george'], ['harold', 'george'], ['harold', 'george'], ['harold', 'george'], ['harold', 'george'], ['harold', 'george'], ['harold'], ['harold', 'george'], ['harold', 'george'], ['harold', 'george'], ['harold', 'george'], ['harold', 'george'], ['harold', 'george'], ['harold', 'george'], ['harold'], ['harold'], ['harold'], ['harold', 'george'], ['harold', 'george'], ['harold', 'george'], ['harold', 'george'], ['harold', 'george'], ['harold', 'beautiful_dancer'], ['harold', 'george']] \n",
      " [['george', 'princess lala'], ['harold', 'george'], ['princess lala', 'george'], ['', 'harold'], ['gorilla', 'harold'], ['island native3', 'george'], ['george', 'gorilla'], ['island native2', 'gorilla'], ['island native1', 'harold'], ['princess lala', 'harold'], ['princess lala', 'harold'], ['gorilla', 'george'], ['george', 'harold'], ['harold', 'george'], ['island native3', 'island native1'], ['island native2', 'island native1'], ['princess lala', 'george']]\n",
      "Film: Road_To_Bali Scene: 33\n",
      "[['harold'], ['prince_ken_arok', 'harold'], ['prince_ken_arok', 'harold'], ['prince_ken_arok', 'harold'], ['prince_ken_arok', 'harold'], ['harold', 'beautiful_dancer'], ['prince_ken_arok', 'harold'], ['prince_ken_arok', 'harold'], ['prince_ken_arok', 'harold'], ['harold', 'beautiful_dancer'], ['harold', 'beautiful_dancer'], ['harold', 'beautiful_dancer']] \n",
      " [['warrior2', 'princess lala'], ['kid', 'harold'], ['mother', 'kid'], ['mother', 'kid'], ['island native1', 'george'], ['island native2', 'harold'], ['island native3', 'princess lala'], ['harold', 'george'], ['princess lala', 'harold'], ['george', 'harold'], ['warrior1', 'princess lala']]\n",
      "Film: Road_To_Bali Scene: 34\n",
      "[['princess_lala', 'harold'], ['princess_lala', 'harold'], ['princess_lala', 'harold'], ['harold'], ['harold'], ['harold'], ['harold']] \n",
      " [['bhoma da', 'princess lala'], ['princess lala', 'bhoma da'], ['warrior1', 'princess lala'], ['warrior2', 'princess lala'], ['princess lala', 'warrior1'], ['bhoma da', 'warrior1'], ['warrior2', 'warrior1'], ['bhoma da', 'princess lala'], ['warrior1', 'princess lala']]\n",
      "Film: Road_To_Bali Scene: 35\n",
      "[['harold', 'george'], ['harold', 'george'], ['harold', 'george'], ['prince_ken_arok', 'harold'], ['prince_ken_arok', 'harold']] \n",
      " [['george', 'harold'], ['harold', 'george'], ['island native1', 'george'], ['island native2', 'harold']]\n",
      "Film: Road_To_Bali Scene: 36\n",
      "[['princess_lala', 'harold'], ['princess_lala', 'harold'], ['princess_lala', 'harold'], ['princess_lala', 'harold'], ['ugly_dancer', 'princess_lala'], ['ugly_dancer', 'princess_lala']] \n",
      " [['princess lala', 'bhoma da'], ['bhoma da', 'princess lala'], ['guard1', 'princess lala'], ['princess lala', 'guard1']]\n",
      "Film: Road_To_Bali Scene: 37\n",
      "[] \n",
      " [['island native1', 'george'], ['island native3', 'harold'], ['island native2', 'george'], ['island native4', 'harold']]\n",
      "Film: Road_To_Bali Scene: 38\n",
      "[['harold'], ['harold'], ['jane', 'harold'], ['harold'], ['harold'], ['harold'], ['harold'], ['harold']] \n",
      " [['island native3', 'harold'], ['island handmaiden', 'harold'], ['island native5', 'harold'], ['harold', 'island native4'], ['island native4', 'harold'], ['island native6', 'harold'], ['harold', 'island native3']]\n",
      "Film: Road_To_Bali Scene: 39\n",
      "[['george'], ['george'], ['george']] \n",
      " [['island native7', 'george'], ['george', 'island native8']]\n",
      "Film: Road_To_Bali Scene: 40\n",
      "[['ugly_dancer', 'prince_ken_arok'], ['ugly_dancer', 'prince_ken_arok'], ['ugly_dancer', 'prince_ken_arok'], ['ugly_dancer', 'prince_ken_arok'], ['ugly_dancer', 'prince_ken_arok'], ['ugly_dancer', 'prince_ken_arok'], ['ugly_dancer', 'prince_ken_arok'], ['ugly_dancer', 'prince_ken_arok'], ['prince_ken_arok'], ['ugly_dancer', 'prince_ken_arok'], ['ugly_dancer', 'prince_ken_arok'], ['ugly_dancer', 'prince_ken_arok'], ['ugly_dancer', 'prince_ken_arok'], ['ugly_dancer', 'prince_ken_arok'], ['ugly_dancer', 'prince_ken_arok'], ['ugly_dancer', 'prince_ken_arok'], ['ugly_dancer', 'prince_ken_arok'], ['ugly_dancer', 'prince_ken_arok']] \n",
      " [['king ramayana', 'princess lala'], ['princess lala', 'king ramayana'], ['prince ken arok', 'princess lala'], ['princess lala', 'prince ken arok'], ['princess lala', 'prince ken arok'], ['king ramayana', 'guard3'], ['king ramayana', 'princess lala'], ['bhoma da', 'king ramayana'], ['bhoma da', 'volcano']]\n",
      "Film: Road_To_Bali Scene: 41\n",
      "[['prince_ken_arok', 'harold'], ['prince_ken_arok', 'harold']] \n",
      " [['george', 'island native7'], ['island native8', 'island native7'], ['island native7', 'george'], ['harold', 'island native5'], ['island native5', 'harold'], ['island native6', 'harold']]\n",
      "Film: Road_To_Bali Scene: 42\n",
      "[['harold'], ['harold'], ['harold'], []] \n",
      " [['guard1', 'bhoma da']]\n",
      "Film: Road_To_Bali Scene: 43\n",
      "[['ugly_dancer', 'harold'], ['ugly_dancer', 'harold'], ['ugly_dancer', 'king_kamayana'], ['ugly_dancer', 'harold'], ['ugly_dancer', 'king_kamayana'], ['ugly_dancer', 'king_kamayana'], ['ugly_dancer', 'king_kamayana'], ['king_kamayana', 'harold'], ['harold'], ['harold'], [], ['king_kamayana', 'harold'], ['king_kamayana']] \n",
      " [['island native5', 'george'], ['island native6', 'george'], ['island native7', 'harold'], ['island native8', 'harold'], ['king ramayana', 'guard1'], ['guard1', 'king ramayana'], ['king ramayana', 'bhoma da'], ['king ramayana', 'bhoma da'], ['king ramayana', 'volcano'], ['bhoma da', 'george'], ['bhoma da', 'harold'], ['guard3', 'princess lala'], ['guard2', 'princess lala']]\n",
      "Film: Road_To_Bali Scene: 44\n",
      "[[], ['harold'], ['harold'], ['harold'], [], ['harold', 'george'], ['harold', 'george'], ['harold', 'george'], ['harold', 'george'], ['harold', 'george'], ['harold', 'george'], ['harold', 'george'], ['harold', 'george'], ['harold', 'george'], ['harold', 'george'], ['harold', 'george'], ['harold', 'george'], ['harold', 'george'], ['harold', 'george'], ['harold', 'george'], ['harold', 'george'], ['harold', 'george'], ['harold', 'george']] \n",
      " [['george', 'harold'], ['harold', 'george'], ['harold', 'guard2'], ['george', 'guard2'], ['george', 'volcano'], ['george', 'guard2']]\n",
      "Film: Road_To_Bali Scene: 45\n",
      "[['princess_lala'], ['princess_lala'], ['princess_lala', 'harold'], ['princess_lala'], ['princess_lala', 'harold'], ['harold'], ['princess_lala', 'harold'], ['princess_lala', 'harold'], ['harold']] \n",
      " [['harold', 'princess lala'], ['princess lala', 'harold'], ['harold', 'princess lala'], ['princess lala', 'harold'], ['princess lala', 'george'], ['george', 'princess lala'], ['harold', '']]\n",
      "Film: Road_To_Bali Scene: 46\n",
      "[['harold'], ['harold'], ['harold'], ['harold'], ['harold'], ['harold'], ['harold'], ['harold'], ['harold'], ['harold'], ['harold'], ['harold'], ['harold'], ['jane', 'harold'], ['jane', 'harold'], ['jane', 'harold'], ['jane', 'harold'], ['jane', 'harold'], ['jane', 'harold'], ['harold']] \n",
      " [['george', ''], ['princess lala', 'harold'], ['george', 'harold'], ['jane', 'george'], ['george', 'harold'], ['jane', ''], ['princess lala', 'george'], ['princess lala', 'harold'], ['harold', 'george']]\n",
      "Film: The_Illusionist Scene: 0\n",
      "[['willigut', 'eisenheim'], [], [], ['willigut'], ['willigut', 'prince_leopold'], ['willigut', 'eisenheim'], ['willigut', 'prince_leopold'], ['willigut', 'prince_leopold'], ['young_eisenheim', 'willigut'], ['willigut', 'eisenheim'], ['willigut', 'prince_leopold'], ['willigut', 'prince_leopold']] \n",
      " [['woman1', 'eisenheim'], ['inspector uhi', 'eisenheim']]\n",
      "Film: The_Illusionist Scene: 1\n",
      "[['prince_leopold'], ['prince_leopold', 'inspector_uhi'], ['inspector_uhi'], ['prince_leopold', 'inspector_uhi'], ['prince_leopold', 'inspector_uhi'], ['prince_leopold', 'inspector_uhi'], ['prince_leopold', 'inspector_uhi']] \n",
      " [['butler', 'prince leopold'], ['prince leopold', 'inspector uhi'], ['prince leopold', 'inspector uhi'], ['inspector uhi', 'prince leopold']]\n",
      "Film: The_Illusionist Scene: 2\n",
      "[['travelling_magician'], ['travelling_magician'], ['young_eisenheim', 'travelling_magician'], ['young_eisenheim', 'travelling_magician'], ['young_eisenheim', 'travelling_magician'], ['young_eisenheim', 'travelling_magician'], ['young_eisenheim']] \n",
      " [['travelling magician', 'young eisenheim'], ['young eisenheim', 'travelling magician']]\n",
      "Film: The_Illusionist Scene: 3\n",
      "[['young_eisenheim'], ['young_sophie', 'young_eisenheim'], ['young_sophie', 'young_eisenheim'], ['young_sophie', 'young_eisenheim'], ['young_sophie', 'young_eisenheim']] \n",
      " [['young sophie', 'young eisenheim'], ['young sophie', 'young eisenheim']]\n",
      "Film: The_Illusionist Scene: 4\n",
      "[['young_sophie', 'young_eisenheim'], ['young_sophie', 'young_eisenheim'], ['young_sophie', 'young_eisenheim']] \n",
      " [['young eisenheim', 'young sophie'], ['woman1', 'young sophie'], ['woman1', 'young sophie']]\n",
      "Film: The_Illusionist Scene: 5\n",
      "[['young_sophie', 'willigut'], ['young_sophie', 'willigut'], ['young_eisenheim', 'willigut']] \n",
      " [['young eisenheim', 'young sophie']]\n",
      "Film: The_Illusionist Scene: 6\n",
      "[['young_eisenheim'], [], ['young_eisenheim'], ['young_sophie', 'young_eisenheim'], ['young_eisenheim']] \n",
      " [['young sophie', 'young eisenheim'], ['young eisenheim', 'young sophie'], ['young sophie', 'young eisenheim'], ['young sophie', 'young eisenheim']]\n",
      "Film: The_Illusionist Scene: 7\n",
      "[['young_eisenheim'], ['young_eisenheim'], ['young_sophie', 'young_eisenheim'], ['young_eisenheim']] \n",
      " [['young sophie', 'young eisenheim'], ['young eisenheim', 'young sophie'], ['young eisenheim', 'young sophie']]\n",
      "Film: The_Illusionist Scene: 8\n",
      "[[], ['young_eisenheim', 'eisenheim'], [], ['young_eisenheim'], ['eisenheim'], [], [], ['young_eisenheim']] \n",
      " [['young eisenheim', 'officer2'], ['young eisenheim', 'young sophie'], ['officer1', 'young sophie'], ['young eisenheim', 'officer2']]\n",
      "Film: The_Illusionist Scene: 9\n",
      "[] \n",
      " []\n",
      "Film: The_Illusionist Scene: 10\n",
      "[['willigut', 'prince_leopold'], ['josef'], ['josef', 'eisenheim'], ['josef', 'eisenheim'], ['willigut', 'josef'], ['eisenheim'], ['willigut', 'josef'], ['willigut', 'eisenheim'], ['eisenheim'], ['eisenheim'], ['eisenheim'], ['eisenheim'], ['willigut', 'eisenheim'], ['eisenheim'], ['willigut', 'eisenheim'], ['willigut', 'eisenheim'], ['willigut', 'eisenheim'], ['prince_leopold', 'josef'], ['eisenheim'], ['willigut', 'prince_leopold'], ['willigut', 'josef'], ['willigut', 'prince_leopold'], ['willigut', 'prince_leopold']] \n",
      " [['josef', 'eisenheim'], ['eisenheim', 'audience woman1'], ['audience woman1', 'eisenheim'], ['eisenheim', 'audience woman1'], ['audience man1', 'eisenheim'], ['eisenheim', 'audience man1'], ['audience woman1', 'audience man1']]\n",
      "Film: The_Illusionist Scene: 11\n",
      "[['willigut'], ['willigut'], ['willigut'], ['willigut', 'eisenheim']] \n",
      " [['willigut', 'eisenheim'], ['', 'kid1'], ['eisenheim', 'willigut'], ['', 'kid2'], ['eisenheim', 'kid1'], ['eisenheim', 'kid2'], ['willigut', 'kid3'], ['eisenheim', 'kid3']]\n",
      "Film: The_Illusionist Scene: 12\n",
      "[['willigut', 'josef'], ['willigut', 'josef'], ['josef'], ['josef', 'eisenheim'], ['josef', 'eisenheim']] \n",
      " [['eisenheim', 'josef'], ['josef', 'eisenheim'], ['josef', 'eisenheim'], ['eisenheim', 'josef']]\n",
      "Film: The_Illusionist Scene: 13\n",
      "[['inspector_uhi', 'doctor'], ['inspector_uhi', 'doctor']] \n",
      " [['jurka', 'inspector uhi'], ['inspector uhi', 'jurka'], ['jurka', 'inspector uhi']]\n",
      "Film: The_Illusionist Scene: 14\n",
      "[['willigut', 'josef'], ['willigut', 'josef'], ['willigut', 'inspector_uhi'], ['josef', 'inspector_uhi'], ['josef', 'inspector_uhi'], ['josef', 'inspector_uhi'], ['josef', 'inspector_uhi'], ['inspector_uhi', 'eisenheim'], ['inspector_uhi', 'eisenheim'], ['josef', 'inspector_uhi'], ['josef', 'inspector_uhi'], ['josef', 'inspector_uhi'], ['josef', 'inspector_uhi'], ['josef', 'inspector_uhi'], ['inspector_uhi', 'eisenheim'], ['inspector_uhi', 'eisenheim']] \n",
      " [['inspector assistant', 'inspector uhi'], ['eisenheim', 'inspector uhi'], ['josef', 'inspector uhi'], ['inspector uhi', 'eisenheim'], ['eisenheim', 'inspector uhi'], ['inspector uhi', 'eisenheim'], ['eisenheim', 'inspector uhi']]\n",
      "Film: The_Illusionist Scene: 15\n",
      "[['willigut', 'josef'], ['eisenheim'], ['eisenheim'], ['young_eisenheim', 'sophie'], ['sophie', 'eisenheim'], ['young_eisenheim', 'eisenheim'], ['young_eisenheim', 'willigut'], ['young_eisenheim', 'sophie'], ['young_eisenheim', 'willigut'], ['sophie', 'prince_leopold'], ['sophie', 'prince_leopold'], ['young_eisenheim', 'sophie'], ['young_eisenheim', 'sophie'], ['sophie', 'prince_leopold'], ['prince_leopold', 'eisenheim'], ['sophie', 'prince_leopold'], ['sophie', 'eisenheim'], ['sophie', 'prince_leopold'], ['young_eisenheim', 'sophie'], ['prince_leopold', 'eisenheim'], ['sophie', 'eisenheim'], ['sophie', 'josef'], ['willigut', 'sophie'], ['young_eisenheim', 'willigut'], ['sophie', 'prince_leopold'], ['willigut', 'sophie']] \n",
      " [['eisenheim', 'prince leopold'], ['stage assistant1', 'sophie'], ['prince leopold', 'eisenheim'], ['stage assistant1', 'stage assistant2'], ['josef', 'sophie'], ['eisenheim', 'sophie'], ['prince leopold', 'sophie'], ['eisenheim', 'sophie'], ['eisenheim', 'sophie']]\n",
      "Film: The_Illusionist Scene: 16\n",
      "[['eisenheim', 'doctor']] \n",
      " []\n",
      "Film: The_Illusionist Scene: 17\n",
      "[['sophie', 'prince_leopold'], ['sophie', 'prince_leopold'], ['sophie', 'prince_leopold'], ['sophie', 'prince_leopold'], ['sophie', 'prince_leopold'], ['willigut', 'prince_leopold'], ['sophie', 'prince_leopold'], ['sophie', 'prince_leopold'], ['sophie', 'prince_leopold'], ['willigut', 'sophie'], ['sophie', 'prince_leopold'], ['willigut', 'sophie']] \n",
      " [['josef', 'eisenheim'], ['josef', 'eisenheim'], ['prince leopold', 'eisenheim'], ['eisenheim', 'prince leopold'], ['sophie', 'prince leopold'], ['prince leopold', 'eisenheim'], ['prince leopold', '']]\n",
      "Film: The_Illusionist Scene: 18\n",
      "[['josef', 'eisenheim'], ['josef', 'eisenheim'], ['josef', 'eisenheim'], ['josef', 'eisenheim']] \n",
      " [['josef', 'eisenheim'], ['josef', 'eisenheim'], ['eisenheim', 'josef'], ['eisenheim', 'josef']]\n",
      "Film: The_Illusionist Scene: 19\n",
      "[['eisenheim'], ['eisenheim'], ['sophie', 'eisenheim'], ['sophie', 'eisenheim'], ['eisenheim'], ['willigut', 'prince_leopold'], ['sophie', 'eisenheim'], ['sophie', 'eisenheim'], ['sophie', 'eisenheim'], ['sophie', 'eisenheim'], ['sophie', 'eisenheim'], ['sophie', 'eisenheim'], ['sophie', 'eisenheim'], ['sophie', 'eisenheim'], ['sophie', 'eisenheim'], ['sophie', 'eisenheim'], ['sophie', 'eisenheim'], ['sophie', 'eisenheim'], ['sophie', 'eisenheim'], ['sophie', 'eisenheim'], ['sophie'], ['sophie', 'eisenheim']] \n",
      " [['stage assistant1', 'eisenheim'], ['postman', 'stage assistant1'], ['eisenheim', 'sophie'], ['sophie', 'eisenheim'], ['eisenheim', 'sophie'], ['sophie', 'eisenheim'], ['sophie', 'eisenheim']]\n",
      "Film: The_Illusionist Scene: 20\n",
      "[['inspector_uhi'], ['inspector_uhi'], ['inspector_uhi']] \n",
      " [['jurka', 'inspector uhi'], ['inspector uhi', 'jurka'], ['jurka', 'inspector uhi'], ['jurka', 'inspector uhi']]\n",
      "Film: The_Illusionist Scene: 21\n",
      "[['inspector_uhi', 'eisenheim']] \n",
      " [['jurka', 'eisenheim'], ['eisenheim', 'jurka'], ['jurka', 'eisenheim'], ['inspector assistant', 'eisenheim']]\n",
      "Film: The_Illusionist Scene: 22\n",
      "[['willigut', 'inspector_uhi'], ['inspector_uhi', 'eisenheim'], ['inspector_uhi', 'eisenheim'], ['inspector_uhi', 'eisenheim'], ['inspector_uhi'], ['inspector_uhi', 'eisenheim'], ['inspector_uhi', 'eisenheim'], ['inspector_uhi', 'eisenheim'], ['inspector_uhi', 'eisenheim'], ['inspector_uhi', 'eisenheim'], ['inspector_uhi', 'eisenheim'], ['inspector_uhi'], ['inspector_uhi', 'eisenheim'], ['inspector_uhi'], ['inspector_uhi', 'eisenheim']] \n",
      " [['jurka', 'eisenheim'], ['inspector uhi', 'eisenheim'], ['eisenheim', 'inspector uhi'], ['inspector assistant', 'eisenheim'], ['inspector uhi', 'eisenheim'], ['eisenheim', 'inspector uhi']]\n",
      "Film: The_Illusionist Scene: 23\n",
      "[['prince_leopold', 'inspector_uhi'], ['willigut', 'sophie'], ['sophie', 'prince_leopold'], ['willigut', 'sophie'], ['willigut', 'sophie'], ['willigut', 'sophie'], ['willigut', 'sophie'], ['willigut', 'prince_leopold'], ['willigut', 'prince_leopold'], ['prince_leopold', 'eisenheim'], ['prince_leopold', 'eisenheim'], ['willigut', 'prince_leopold'], ['willigut', 'prince_leopold'], ['prince_leopold', 'eisenheim'], ['prince_leopold', 'eisenheim'], ['prince_leopold', 'eisenheim'], ['prince_leopold', 'eisenheim'], ['prince_leopold', 'eisenheim'], ['prince_leopold', 'inspector_uhi'], ['prince_leopold', 'eisenheim'], ['willigut', 'travelling_magician'], ['willigut', 'sophie'], ['prince_leopold', 'eisenheim'], ['prince_leopold', 'eisenheim'], ['prince_leopold', 'eisenheim'], ['prince_leopold'], ['prince_leopold'], ['prince_leopold', 'eisenheim'], ['willigut', 'prince_leopold'], ['prince_leopold', 'eisenheim'], ['travelling_magician', 'prince_leopold']] \n",
      " [['inspector uhi', 'eisenheim'], ['prince leopold', 'eisenheim'], ['sophie', 'prince leopold'], ['prince leopold', 'eisenheim'], ['prince leopold', 'audience man2'], ['eisenheim', 'audience man3'], ['eisenheim', 'audience man4']]\n",
      "Film: The_Illusionist Scene: 24\n",
      "[['sophie', 'inspector_uhi'], ['sophie', 'inspector_uhi'], ['sophie', 'inspector_uhi']] \n",
      " [['prince leopold', 'inspector uhi'], ['inspector uhi', 'prince leopold'], ['sophie', 'eisenheim'], ['eisenheim', 'sophie'], ['woman2', ''], ['sophie', ''], ['sophie', 'eisenheim']]\n",
      "Film: The_Illusionist Scene: 25\n",
      "[['eisenheim']] \n",
      " []\n",
      "Film: The_Illusionist Scene: 26\n",
      "[['willigut', 'sophie'], ['willigut', 'eisenheim'], ['eisenheim'], ['sophie', 'eisenheim'], ['willigut', 'sophie'], ['eisenheim'], ['sophie', 'eisenheim'], ['sophie', 'eisenheim'], ['sophie', 'eisenheim'], ['sophie'], [], ['sophie'], ['sophie', 'eisenheim'], ['sophie', 'eisenheim'], ['sophie', 'eisenheim'], ['sophie'], ['sophie', 'eisenheim'], ['eisenheim'], ['willigut', 'sophie'], ['willigut', 'sophie'], [], ['sophie']] \n",
      " [['eisenheim', 'sophie'], ['eisenheim', 'sophie'], ['eisenheim', 'sophie'], ['eisenheim', 'sophie'], ['sophie', 'horse']]\n",
      "Film: The_Illusionist Scene: 27\n",
      "[[], [], ['eisenheim'], ['eisenheim'], ['eisenheim'], ['eisenheim'], ['eisenheim'], ['sophie', 'eisenheim'], ['sophie', 'eisenheim']] \n",
      " [['eisenheim', 'sophie'], ['sophie', 'eisenheim'], ['eisenheim', 'sophie']]\n",
      "Film: The_Illusionist Scene: 28\n",
      "[] \n",
      " []\n",
      "Film: The_Illusionist Scene: 29\n",
      "[['eisenheim'], ['eisenheim'], ['eisenheim']] \n",
      " [['josef', 'eisenheim'], ['josef', 'eisenheim'], ['eisenheim', 'josef']]\n",
      "Film: The_Illusionist Scene: 30\n",
      "[['eisenheim'], []] \n",
      " [['eisenheim', 'bank teller'], ['bank teller', 'eisenheim']]\n",
      "Film: The_Illusionist Scene: 31\n",
      "[[], [], ['doctor'], ['willigut']] \n",
      " [['eisenheim', 'sophie'], ['sophie', 'eisenheim'], ['sophie', 'eisenheim'], ['inspector assistant', 'eisenheim']]\n",
      "Film: The_Illusionist Scene: 32\n",
      "[['inspector_uhi']] \n",
      " [['inspector uhi', 'inspector assistant'], ['inspector uhi', 'jurka'], ['inspector assistant', 'inspector uhi']]\n",
      "Film: The_Illusionist Scene: 33\n",
      "[['willigut', 'prince_leopold'], ['willigut', 'prince_leopold'], ['willigut', 'inspector_uhi'], [], ['inspector_uhi']] \n",
      " [['inspector uhi', 'eisenheim'], ['eisenheim', 'doctor'], ['eisenheim', 'doctor']]\n",
      "Film: The_Illusionist Scene: 34\n",
      "[['inspector_uhi'], ['prince_leopold', 'inspector_uhi'], ['prince_leopold', 'inspector_uhi'], ['prince_leopold', 'inspector_uhi'], ['prince_leopold', 'inspector_uhi'], ['prince_leopold', 'inspector_uhi'], ['prince_leopold', 'inspector_uhi']] \n",
      " [['inspector uhi', 'prince leopold'], ['prince leopold', 'inspector uhi'], ['inspector uhi', 'prince leopold'], ['prince leopold', 'inspector uhi']]\n",
      "Film: The_Illusionist Scene: 35\n",
      "[['willigut'], ['willigut', 'sophie'], ['sophie', 'prince_leopold'], ['sophie', 'prince_leopold'], ['sophie', 'prince_leopold'], ['prince_leopold'], ['prince_leopold'], ['prince_leopold'], ['sophie', 'prince_leopold'], ['sophie', 'prince_leopold'], ['sophie', 'prince_leopold'], ['sophie'], ['sophie'], ['sophie', 'prince_leopold'], ['prince_leopold', 'eisenheim'], ['sophie', 'prince_leopold'], ['sophie', 'prince_leopold'], ['sophie', 'prince_leopold'], ['sophie', 'prince_leopold'], ['sophie', 'prince_leopold'], ['sophie'], ['sophie']] \n",
      " [['sophie', 'horse'], ['sophie', 'prince leopold'], ['loschek', 'sophie'], ['prince leopold', 'sophie'], ['prince leopold', 'sophie'], ['prince leopold', 'sophie'], ['sophie', 'prince leopold'], ['prince leopold', 'sophie'], ['loschek', 'prince leopold'], ['prince leopold', 'sophie'], ['sophie', '']]\n",
      "Film: The_Illusionist Scene: 36\n",
      "[['eisenheim'], ['eisenheim'], [], []] \n",
      " [['eisenheim', 'stage assistant1']]\n",
      "Film: The_Illusionist Scene: 37\n",
      "[] \n",
      " [['loschek', 'horse']]\n",
      "Film: The_Illusionist Scene: 38\n",
      "[['prince_leopold'], ['eisenheim', 'doctor'], ['eisenheim'], ['prince_leopold', 'eisenheim'], ['eisenheim'], ['eisenheim'], ['eisenheim']] \n",
      " [['eisenheim', 'sophie'], ['eisenheim', 'sophie']]\n",
      "Film: The_Illusionist Scene: 39\n",
      "[['jurka', 'inspector_uhi'], ['jurka', 'inspector_uhi'], ['jurka', 'inspector_uhi'], ['jurka', 'inspector_uhi'], ['jurka', 'inspector_uhi'], ['jurka', 'inspector_uhi'], ['jurka', 'inspector_uhi'], ['jurka', 'inspector_uhi'], ['inspector_uhi', 'doctor'], ['jurka', 'inspector_uhi'], ['jurka', 'inspector_uhi'], ['jurka', 'doctor']] \n",
      " [['inspector uhi', 'inspector assistant'], ['inspector assistant', 'inspector uhi'], ['doctor', 'inspector uhi'], ['doctor', 'inspector uhi'], ['inspector uhi', 'doctor'], ['inspector uhi', 'sophie'], ['jurka', 'sophie'], ['doctor', 'inspector uhi'], ['jurka', 'inspector assistant'], ['doctor', 'inspector uhi']]\n",
      "Film: The_Illusionist Scene: 40\n",
      "[['jurka', 'inspector_uhi'], ['jurka', 'inspector_uhi'], ['jurka', 'inspector_uhi'], ['jurka', 'eisenheim'], ['jurka', 'inspector_uhi'], ['jurka', 'inspector_uhi'], ['jurka', 'inspector_uhi']] \n",
      " [['inspector assistant', ''], ['eisenheim', 'inspector uhi'], ['eisenheim', 'inspector uhi'], ['inspector uhi', 'eisenheim']]\n",
      "Film: The_Illusionist Scene: 41\n",
      "[['inspector_uhi'], ['jurka', 'inspector_uhi'], ['jurka', 'inspector_uhi'], ['jurka', 'inspector_uhi'], ['jurka', 'inspector_uhi'], ['jurka', 'inspector_uhi'], ['jurka', 'inspector_uhi'], ['jurka', 'inspector_uhi'], ['jurka', 'inspector_uhi'], ['prince_leopold', 'jurka'], ['jurka', 'inspector_uhi']] \n",
      " [['inspector uhi', 'jurka'], ['jurka', 'inspector uhi'], ['jurka', 'inspector uhi'], ['jurka', 'inspector uhi'], ['prince leopold', 'inspector uhi'], ['inspector uhi', 'prince leopold']]\n",
      "Film: The_Illusionist Scene: 42\n",
      "[['inspector_uhi', 'eisenheim'], ['eisenheim']] \n",
      " []\n",
      "Film: The_Illusionist Scene: 43\n",
      "[['eisenheim'], ['willigut'], ['willigut', 'eisenheim'], ['eisenheim']] \n",
      " [['eisenheim', 'new stage assistant4'], ['new stage assistant1', 'new stage assistant2'], ['new stage assistant3', 'new stage assistant4']]\n",
      "Film: The_Illusionist Scene: 44\n",
      "[['eisenheim'], ['jurka', 'eisenheim'], [], ['eisenheim'], ['eisenheim'], ['willigut', 'eisenheim'], ['willigut', 'jurka'], ['eisenheim'], ['eisenheim'], ['willigut', 'eisenheim'], ['doctor'], ['willigut', 'eisenheim'], ['willigut', 'eisenheim']] \n",
      " [['inspector uhi', 'eisenheim'], ['ghost', 'audience man5'], ['audience man5', 'ghost'], ['audience man6', 'ghost'], ['ghost', 'audience man6']]\n",
      "Film: The_Illusionist Scene: 45\n",
      "[['inspector_uhi', 'eisenheim'], ['eisenheim']] \n",
      " [['inspector uhi', 'jurka'], ['jurka', 'inspector uhi']]\n",
      "Film: The_Illusionist Scene: 46\n",
      "[['willigut', 'prince_leopold'], ['willigut', 'prince_leopold'], ['willigut', 'prince_leopold'], ['willigut', 'eisenheim'], ['willigut']] \n",
      " [['jurka', 'eisenheim'], ['inspector uhi', 'eisenheim']]\n"
     ]
    }
   ],
   "source": [
    "sgg_results = dict()\n",
    "for test_filmname in global_test_filmnames:\n",
    "    film_results_str_re, film_results_str_pr, film_results_ints = [], [], []\n",
    "    for s_idx in range(len(film_preds[test_filmname])):\n",
    "        print('Film:', test_filmname, 'Scene:', s_idx)\n",
    "        scene_ints_p = film_preds[test_filmname][s_idx]\n",
    "        scene_chars_p = graphen_tr_ch[test_filmname ][s_idx]\n",
    "        \n",
    "\n",
    "        scene_ints_y = t_raw[test_filmname][s_idx]\n",
    "        scene_chars_y = n_raw[test_filmname][s_idx]\n",
    "        scene_chars_y = [[char[0].lower(), char[1].lower()] for char in scene_chars_y]\n",
    "\n",
    "        print(scene_chars_p, '\\n', scene_chars_y)\n",
    "        \n",
    "        tp_str, fp_str, tp_ints = 0, 0, 0\n",
    "        for int_y, chars_y in zip(scene_ints_y, scene_chars_y):\n",
    "            flag_int, flag_str = 0, 0\n",
    "            for int_p, chars_p in zip(scene_ints_p, scene_chars_p):                \n",
    "                if int_y in int_p and set(chars_p) == set(chars_y) and flag_int == 0:\n",
    "                    tp_ints += 1\n",
    "                    flag_int = 1\n",
    "            for int_p, chars_p in zip(scene_ints_p, scene_chars_p):\n",
    "                if set(chars_p) == set(chars_y) and flag_str == 0:\n",
    "                    tp_str += 1\n",
    "                    flag_str +=1\n",
    "                else:\n",
    "                    if len(chars_p) == 2 and set(chars_p) != set(chars_y):\n",
    "                        fp_str+=1\n",
    "                    \n",
    "#        print('results', tp_both/(len(scene_ints_y) + 1e-10), '\\n ____________')\n",
    "        film_results_str_re.append(tp_str/(len(scene_ints_y) + 1e-10))\n",
    "        film_results_str_pr.append(tp_str/(tp_str + fp_str + 1e-10))\n",
    "        film_results_ints.append(tp_ints/(len(scene_ints_y) + 1e-10))\n",
    "    sgg_results[test_filmname] = [np.mean(film_results_str_re),\\\n",
    "                                  np.mean(film_results_str_pr),\\\n",
    "                                  np.mean(film_results_ints)]"
   ]
  },
  {
   "cell_type": "code",
   "execution_count": 109,
   "id": "d47534d2",
   "metadata": {},
   "outputs": [
    {
     "data": {
      "text/plain": [
       "{'Bagman': [0.3235551029720945, 0.1744572916202799, 0.16912025699492098],\n",
       " 'Manos': [0.25659271283679014, 0.1334413072163135, 0.11524170273880964],\n",
       " 'Road_To_Bali': [0.11675168455276014,\n",
       "  0.05696184319205058,\n",
       "  0.07889976106327969],\n",
       " 'The_Illusionist': [0.1138635596056949,\n",
       "  0.060187236110927134,\n",
       "  0.07212090509790904]}"
      ]
     },
     "execution_count": 109,
     "metadata": {},
     "output_type": "execute_result"
    }
   ],
   "source": [
    "sgg_results\n"
   ]
  },
  {
   "cell_type": "code",
   "execution_count": 49,
   "id": "f33cf7fc",
   "metadata": {},
   "outputs": [
    {
     "data": {
      "text/plain": [
       "{'Bagman': [0.3235551029720945, 0.1744572916202799, 0.16912025699492098],\n",
       " 'Manos': [0.25659271283679014, 0.1334413072163135, 0.11524170273880964],\n",
       " 'Road_To_Bali': [0.11675168455276014,\n",
       "  0.05696184319205058,\n",
       "  0.07889976106327969],\n",
       " 'The_Illusionist': [0.1138635596056949,\n",
       "  0.060187236110927134,\n",
       "  0.07212090509790904]}"
      ]
     },
     "execution_count": 49,
     "metadata": {},
     "output_type": "execute_result"
    }
   ],
   "source": [
    "sgg_results"
   ]
  },
  {
   "cell_type": "code",
   "execution_count": 949,
   "id": "33075fdb",
   "metadata": {},
   "outputs": [
    {
     "data": {
      "text/plain": [
       "{'Bagman': [0.2992227910144453, 0.14937123259484092, 0.1467129703661617],\n",
       " 'Manos': [0.14423701298249872, 0.10839491028200555, 0.06691017315796534],\n",
       " 'Road_To_Bali': [0.03070504797609056,\n",
       "  0.005820641262208728,\n",
       "  0.020233625364757767],\n",
       " 'The_Illusionist': [0.09706180344286489,\n",
       "  0.06636184187406699,\n",
       "  0.046588990205019845]}"
      ]
     },
     "execution_count": 949,
     "metadata": {},
     "output_type": "execute_result"
    }
   ],
   "source": [
    "sgg_results"
   ]
  },
  {
   "cell_type": "markdown",
   "id": "1140378e",
   "metadata": {},
   "source": [
    "VTA"
   ]
  },
  {
   "cell_type": "code",
   "execution_count": 736,
   "id": "c53124db",
   "metadata": {},
   "outputs": [
    {
     "data": {
      "text/plain": [
       "{'Bagman': [0.2992227910144453, 0.1467129703661617],\n",
       " 'Manos': [0.14423701298249872, 0.06691017315796534],\n",
       " 'Road_To_Bali': [0.03070504797609056, 0.020233625364757767],\n",
       " 'The_Illusionist': [0.09706180344286489, 0.046588990205019845]}"
      ]
     },
     "execution_count": 736,
     "metadata": {},
     "output_type": "execute_result"
    }
   ],
   "source": [
    "sgg_results"
   ]
  },
  {
   "cell_type": "markdown",
   "id": "8b82a174",
   "metadata": {},
   "source": [
    "VT"
   ]
  },
  {
   "cell_type": "code",
   "execution_count": 725,
   "id": "7782b6b8",
   "metadata": {},
   "outputs": [
    {
     "data": {
      "text/plain": [
       "{'Bagman': [0.2992227910144453, 0.1545143888057732],\n",
       " 'Manos': [0.14423701298249872, 0.06691017315796534],\n",
       " 'Road_To_Bali': [0.03070504797609056, 0.020233625364757767],\n",
       " 'The_Illusionist': [0.09706180344286489, 0.04552516041783367]}"
      ]
     },
     "execution_count": 725,
     "metadata": {},
     "output_type": "execute_result"
    }
   ],
   "source": [
    "sgg_results"
   ]
  },
  {
   "cell_type": "markdown",
   "id": "142af069",
   "metadata": {},
   "source": [
    "V"
   ]
  },
  {
   "cell_type": "code",
   "execution_count": 716,
   "id": "711d33a2",
   "metadata": {},
   "outputs": [
    {
     "data": {
      "text/plain": [
       "{'Bagman': [0.2992227910144453, 0.13537167386275362],\n",
       " 'Manos': [0.14423701298249872, 0.05798160172958233],\n",
       " 'Road_To_Bali': [0.03070504797609056, 0.020233625364757767],\n",
       " 'The_Illusionist': [0.09706180344286489, 0.048564674095601806]}"
      ]
     },
     "execution_count": 716,
     "metadata": {},
     "output_type": "execute_result"
    }
   ],
   "source": [
    "sgg_results"
   ]
  },
  {
   "cell_type": "code",
   "execution_count": 348,
   "id": "277cacea",
   "metadata": {},
   "outputs": [
    {
     "data": {
      "text/plain": [
       "{'Bagman': [0.2992227910144453, 0.12482313940622851],\n",
       " 'Manos': [0.14423701298249872, 0.07259199133935737],\n",
       " 'Road_To_Bali': [0.03070504797609056, 0.01668752607403673],\n",
       " 'The_Illusionist': [0.09706180344286489, 0.02759202971914001]}"
      ]
     },
     "execution_count": 348,
     "metadata": {},
     "output_type": "execute_result"
    }
   ],
   "source": [
    "sgg_results"
   ]
  },
  {
   "cell_type": "code",
   "execution_count": null,
   "id": "6b4b6738",
   "metadata": {},
   "outputs": [],
   "source": []
  },
  {
   "cell_type": "code",
   "execution_count": 341,
   "id": "82cf08c7",
   "metadata": {},
   "outputs": [
    {
     "data": {
      "text/plain": [
       "{'Bagman': [0.2992227910144453, 0.11584590909656564],\n",
       " 'Manos': [0.14423701298249872, 0.05798160172958233],\n",
       " 'Road_To_Bali': [0.03070504797609056, 0.01668752607403673],\n",
       " 'The_Illusionist': [0.09706180344286489, 0.02227288078310278]}"
      ]
     },
     "execution_count": 341,
     "metadata": {},
     "output_type": "execute_result"
    }
   ],
   "source": [
    "sgg_results"
   ]
  },
  {
   "cell_type": "markdown",
   "id": "8a6dd61a",
   "metadata": {},
   "source": [
    "## Queries"
   ]
  },
  {
   "cell_type": "code",
   "execution_count": null,
   "id": "74fc1251",
   "metadata": {},
   "outputs": [],
   "source": [
    "# !pip install xmltodict"
   ]
  },
  {
   "cell_type": "code",
   "execution_count": 366,
   "id": "fb257e66",
   "metadata": {},
   "outputs": [],
   "source": [
    "import json"
   ]
  },
  {
   "cell_type": "markdown",
   "id": "1e6d1d1d",
   "metadata": {},
   "source": [
    "A note about notation:\n",
    "\n",
    "1. Question 1 -- Which **unique scene** contains the following **interactions**?\n",
    "2. Question 2 -- Which **person** in the **specified scene** has the following **interactions** with other **persons** in **the same scene**?\n",
    "3. Question 3 -- In **specified scene**, **Person 1** **interaction** **Person 2**. What is the **immediate next / following interation** between **Person 1** and **Person 2**, in **another specified scene** (it can be the same)?\n",
    "4. Question 4 -- In **specified scene**, **Person 1** **interaction** **Person 2**. What is the **immediate prior / previous interation** between **Person 1** and **Person 2**, in **another specified scene** (it can be the same)?\n",
    "5. Question 5 -- Match the **textual description** of the scene with the **corresponding scene number**.\n",
    "6. Question 6 -- What is the **correct sentiment label** in the **specified scene**?"
   ]
  },
  {
   "cell_type": "markdown",
   "id": "618ebc79",
   "metadata": {},
   "source": [
    "### Preprocessing "
   ]
  },
  {
   "cell_type": "code",
   "execution_count": 79,
   "id": "9fdad7b9",
   "metadata": {},
   "outputs": [],
   "source": [
    "import xmltodict"
   ]
  },
  {
   "cell_type": "code",
   "execution_count": 80,
   "id": "7f95f202",
   "metadata": {},
   "outputs": [],
   "source": [
    "quieries_folder = '../DVUChallenge/dev_dataset/scenes_knowledge_graphs/2021.testing.queries.groundTruth/'"
   ]
  },
  {
   "cell_type": "code",
   "execution_count": 81,
   "id": "d6e93ee2",
   "metadata": {},
   "outputs": [
    {
     "name": "stderr",
     "output_type": "stream",
     "text": [
      "100%|██████████| 4/4 [00:00<00:00, 52.21it/s]\n"
     ]
    }
   ],
   "source": [
    "parsed_queries, parsed_answers = dict(), dict()\n",
    "\n",
    "for test_filmname in tqdm(global_test_filmnames):\n",
    "    with open(f'{quieries_folder + test_filmname}/{test_filmname}.Scene_Level.xml', 'r') as f:\n",
    "        data = xmltodict.parse(f.read())\n",
    "        parsed_queries[test_filmname] = data['DeepVideoUnderstandingSceneQueries']['DeepVideoUnderstandingTopicQuery']\n",
    "    \n",
    "    with open(f'{quieries_folder + test_filmname}/{test_filmname}_Answers.txt', 'r') as f:\n",
    "        data = f.read().split('\\n\\n')\n",
    "        parsed_answers[test_filmname] = data"
   ]
  },
  {
   "cell_type": "code",
   "execution_count": 82,
   "id": "87b4c966",
   "metadata": {},
   "outputs": [],
   "source": [
    "def quiery_parsing(query):\n",
    "    query_body = dict()\n",
    "    \n",
    "    if query['@question'] == '1':\n",
    "        query_body['q_type'] = int(query['@question'])\n",
    "        query_body['description'] = query['item'][-1]['@description']\n",
    "        query_body['interaction_list'] = [entry['@predicate'].split(':')[-1] for entry in query['item'] if '@predicate' in entry]\n",
    "        return query_body\n",
    "    \n",
    "    if query['@question'] == '2':\n",
    "        query_body['q_type'] = int(query['@question'])\n",
    "        query_body['scene'] = int(query['item'][0]['@scene'])\n",
    "        query_body['description'] = query['item'][-1]['@description']\n",
    "        query_body['interaction_list'] = [entry['@predicate'].split(':')[-1] for entry in query['item'] if '@predicate' in entry]\n",
    "        query_body['object_list'] = [entry['@object'].split(':')[-1] for entry in query['item'] if '@object' in entry]\n",
    "        return query_body\n",
    "    \n",
    "    if query['@question'] == '3' or query['@question'] == '4':\n",
    "        query_body['q_type'] = int(query['@question'])\n",
    "        query_body['scene'] = int(query['item'][0]['@scene'])\n",
    "        query_body['description'] = query['item'][1]['@description']\n",
    "        \n",
    "        query_body['subject'] = query['item'][0]['@subject']\n",
    "        query_body['object'] = query['item'][0]['@object']\n",
    "        query_body['predicate'] = query['item'][0]['@object']\n",
    "        \n",
    "        query_body['target_scene'] = int(query['Answers']['item'][0]['@scene'])\n",
    "        query_body['answers'] = [entry['@answer'] for entry in query['Answers']['item']]\n",
    "        return query_body\n",
    "    \n",
    "    if query['@question'] == '5':\n",
    "        query_body['q_type'] = int(query['@question'])\n",
    "        query_body['scene_description'] = query['item'][1]['@description']\n",
    "        query_body['answers'] = [int(entry['@answer']) for entry in query['Answers']['item']]\n",
    "        return query_body\n",
    "        \n",
    "    if query['@question'] == '6':\n",
    "        query_body['q_type'] = int(query['@question'])\n",
    "        query_body['scene'] = int(query['item'][0]['@scene'])\n",
    "        query_body['description'] = query['item'][1]['@description']\n",
    "        query_body['answers'] = [entry['@answer'] for entry in query['Answers']['item']]\n",
    "        return query_body"
   ]
  },
  {
   "cell_type": "code",
   "execution_count": 83,
   "id": "a0f35ebb",
   "metadata": {},
   "outputs": [
    {
     "name": "stderr",
     "output_type": "stream",
     "text": [
      "100%|██████████| 4/4 [00:00<00:00, 5329.48it/s]\n"
     ]
    }
   ],
   "source": [
    "for filmname in tqdm(global_test_filmnames):\n",
    "    for i in range(len(parsed_queries[filmname])):\n",
    "        parsed_queries[filmname][i] = quiery_parsing(parsed_queries[filmname][i])"
   ]
  },
  {
   "cell_type": "code",
   "execution_count": 84,
   "id": "051318a5",
   "metadata": {},
   "outputs": [],
   "source": [
    "for filmname in parsed_answers:\n",
    "    parsed_answers[filmname] = [entry.split('\\n') for entry in parsed_answers[filmname]]"
   ]
  },
  {
   "cell_type": "code",
   "execution_count": 85,
   "id": "bec9d6d1",
   "metadata": {},
   "outputs": [
    {
     "name": "stderr",
     "output_type": "stream",
     "text": [
      "100%|██████████| 4/4 [00:00<00:00, 14217.98it/s]\n"
     ]
    }
   ],
   "source": [
    "for filmname in tqdm(global_test_filmnames):\n",
    "    for i in range(len(parsed_queries[filmname])):\n",
    "        if parsed_queries[filmname][i]['q_type'] == 1:\n",
    "            parsed_answers[filmname][i] = int(parsed_answers[filmname][i][0].split(' ')[-1])\n",
    "        if parsed_queries[filmname][i]['q_type'] == 2:\n",
    "            parsed_answers[filmname][i] = parsed_answers[filmname][i][1].split(' ')[-1]\n",
    "        if parsed_queries[filmname][i]['q_type'] == 3:\n",
    "            parsed_answers[filmname][i] = parsed_answers[filmname][i][1].split(':')[2].replace('Source', '').strip()\n",
    "        if parsed_queries[filmname][i]['q_type'] == 4:\n",
    "            parsed_answers[filmname][i] = parsed_answers[filmname][i][1].split(':')[2].replace('Source', '').strip()\n",
    "        if parsed_queries[filmname][i]['q_type'] == 5:\n",
    "            parsed_answers[filmname][i] = parsed_answers[filmname][i][0]\n",
    "        if parsed_queries[filmname][i]['q_type'] == 6:\n",
    "            parsed_answers[filmname][i] = parsed_answers[filmname][i][0]"
   ]
  },
  {
   "cell_type": "code",
   "execution_count": 86,
   "id": "16218ee0",
   "metadata": {},
   "outputs": [
    {
     "data": {
      "text/plain": [
       "{'q_type': 5,\n",
       " 'scene_description': 'Jack gives a speech and introduces Tom DeLay to the stage. Then he hands a check to Senator Jarvis and the Senator thanks him. Jack approaches Grover who complains to him about having to socialize with Chief Poncho who is currently talking to Pam at another table. Jack attempts to appease Grover and negotiate with him. Grover asks where Mike is, as he was supposed to take over for him hours ago.',\n",
       " 'answers': [3, 8, 13, 19, 24, 28, 33, 37, 41, 43]}"
      ]
     },
     "execution_count": 86,
     "metadata": {},
     "output_type": "execute_result"
    }
   ],
   "source": [
    "parsed_queries['Bagman'][25]"
   ]
  },
  {
   "cell_type": "code",
   "execution_count": 87,
   "id": "131a4414",
   "metadata": {},
   "outputs": [
    {
     "data": {
      "text/plain": [
       "'28'"
      ]
     },
     "execution_count": 87,
     "metadata": {},
     "output_type": "execute_result"
    }
   ],
   "source": [
    "parsed_answers['Bagman'][25]"
   ]
  },
  {
   "cell_type": "markdown",
   "id": "a0f19128",
   "metadata": {},
   "source": [
    "### Query answering"
   ]
  },
  {
   "cell_type": "code",
   "execution_count": 603,
   "id": "ca477b3d",
   "metadata": {},
   "outputs": [
    {
     "data": {
      "text/plain": [
       "[[99, 6, 1, 38, 84],\n",
       " [6, 44, 99, 65, 0],\n",
       " [99, 66, 44, 92, 1],\n",
       " [55, 99, 4, 38, 6],\n",
       " [99, 35, 44, 6, 62],\n",
       " [99, 44, 6, 65, 0]]"
      ]
     },
     "execution_count": 603,
     "metadata": {},
     "output_type": "execute_result"
    }
   ],
   "source": [
    "film_preds['Bagman'][30]"
   ]
  },
  {
   "cell_type": "code",
   "execution_count": 624,
   "id": "52b171ce",
   "metadata": {},
   "outputs": [
    {
     "data": {
      "text/plain": [
       "[('Mike', 'Kevin'),\n",
       " ('Bill', 'Kevin'),\n",
       " ('Kevin', 'Bill'),\n",
       " ('Enid', 'Kevin'),\n",
       " ('Kevin', 'Mike'),\n",
       " ('Jack', 'Kevin'),\n",
       " ('Jack', 'Kevin'),\n",
       " ('Manny', 'Jack'),\n",
       " ('Jack', 'Enid')]"
      ]
     },
     "execution_count": 624,
     "metadata": {},
     "output_type": "execute_result"
    }
   ],
   "source": [
    "n_raw['Bagman'][30]"
   ]
  },
  {
   "cell_type": "code",
   "execution_count": 606,
   "id": "863238bf",
   "metadata": {},
   "outputs": [
    {
     "data": {
      "text/plain": [
       "[['bill'], ['bill'], ['ralph', 'gus_boulis'], ['bill'], ['bill'], ['bill']]"
      ]
     },
     "execution_count": 606,
     "metadata": {},
     "output_type": "execute_result"
    }
   ],
   "source": [
    "evg_tr_ch['Bagman'][30]"
   ]
  },
  {
   "cell_type": "code",
   "execution_count": 626,
   "id": "7667c5b1",
   "metadata": {},
   "outputs": [
    {
     "data": {
      "text/plain": [
       "[['bill', 'adam'],\n",
       " ['bill', 'adam'],\n",
       " ['ralph', 'mike'],\n",
       " ['mike', 'jack'],\n",
       " ['mike', 'jack'],\n",
       " ['mike', 'jack']]"
      ]
     },
     "execution_count": 626,
     "metadata": {},
     "output_type": "execute_result"
    }
   ],
   "source": [
    "graphen_tr_ch['Bagman'][30]"
   ]
  },
  {
   "cell_type": "code",
   "execution_count": 88,
   "id": "c4ef5406",
   "metadata": {},
   "outputs": [],
   "source": [
    "def augmented_argmax(x, top_n):\n",
    "    x = np.array(x)\n",
    "    idx = np.arange(x.size)\n",
    "    return idx[np.argsort(x[idx])][-top_n:][::-1]"
   ]
  },
  {
   "cell_type": "code",
   "execution_count": 91,
   "id": "b0043d4a",
   "metadata": {},
   "outputs": [],
   "source": [
    "from collections import Counter"
   ]
  },
  {
   "cell_type": "code",
   "execution_count": 92,
   "id": "ac1da364",
   "metadata": {},
   "outputs": [
    {
     "name": "stdout",
     "output_type": "stream",
     "text": [
      "Q1 MRR: 0.023809523809523808\n",
      "Q1 MRR: 0.037037037037037035\n",
      "Q1 MRR: 0.05\n",
      "Q1 MRR: 0.03333333333333333\n",
      "Q2 MRR: 0\n",
      "Q2 MRR: 0\n",
      "Q2 MRR: 0\n",
      "Q2 MRR: 1.0\n",
      "Q1 MRR: 0.07692307692307693\n",
      "Q1 MRR: 0.07692307692307693\n",
      "Q1 MRR: 0.05555555555555555\n",
      "Q1 MRR: 0.3333333333333333\n",
      "Q2 MRR: 1.0\n",
      "Q2 MRR: 0\n",
      "Q2 MRR: 0\n",
      "Q2 MRR: 0\n",
      "Q1 MRR: 0.16666666666666666\n",
      "Q1 MRR: 0.05555555555555555\n",
      "Q1 MRR: 0.030303030303030304\n",
      "Q1 MRR: 0.125\n",
      "Q2 MRR: 0\n",
      "Q2 MRR: 0\n",
      "Q2 MRR: 1.0\n",
      "Q2 MRR: 0\n",
      "Q1 MRR: 0.030303030303030304\n",
      "Q1 MRR: 0.09090909090909091\n",
      "Q1 MRR: 0.125\n",
      "Q1 MRR: 0.025\n",
      "Q2 MRR: 0\n",
      "Q2 MRR: 0\n",
      "Q2 MRR: 0\n",
      "Q2 MRR: 0\n"
     ]
    }
   ],
   "source": [
    "results = dict()\n",
    "\n",
    "tracking_data = evg_tr_ch\n",
    "\n",
    "for test_filmname in global_test_filmnames:\n",
    "\n",
    "#    test_filmname = 'Bagman'\n",
    "\n",
    "    results[test_filmname] = {1:[], 2:[], 3:[], 4:[], 5:[], 6:[]}\n",
    "\n",
    "    for query, answer in zip(parsed_queries[test_filmname], parsed_answers[test_filmname]):\n",
    "        if query['q_type'] == 1:\n",
    "            reference_ints = set([inter_2_label[interaction] for interaction in query['interaction_list']])\n",
    "            pred_ints = [set([interaction for chunk_ints in scene_ints for interaction in chunk_ints[:3]]) for scene_ints in film_preds[test_filmname]]\n",
    "            scores = [len(reference_ints.intersection(pred_ints[i])) for i in range(len(pred_ints))]\n",
    "    #        print(augmented_argmax(scores, len(scores)))\n",
    "            reciprocal_rank = 1/((augmented_argmax(scores, len(scores)) + 1).tolist().index(answer) + 1)\n",
    "            print('Q1 MRR:', reciprocal_rank)\n",
    "            results[test_filmname][1].append(reciprocal_rank)\n",
    "        if query['q_type'] == 2:\n",
    "            scene_idx = query['scene']\n",
    "            interactions, persons = query['interaction_list'], [entry.lower() for entry in query['object_list']]\n",
    "            tracking_results = tracking_data[test_filmname][scene_idx+1]\n",
    "            candidates = [tracking_results[i] for i in range(len(tracking_results))\\\n",
    "                          if len(set(tracking_results[i]).intersection(set(persons))) > 0 and\\\n",
    "                          len(tracking_results[i]) == 2]\n",
    "#            print(persons)\n",
    "            \n",
    "            result = [candidate[0] if candidate[1] in set(persons) else candidate[1] for candidate in candidates]\n",
    "            result = [entry[0] for entry in Counter(result).most_common()]\n",
    "            \n",
    "#            print(result, answer)\n",
    "            \n",
    "            if answer.lower() in result:\n",
    "                reciprocal_rank = 1/(result.index(answer.lower()) + 1)\n",
    "            else:\n",
    "                reciprocal_rank = 0\n",
    "            results[test_filmname][2].append(reciprocal_rank)\n",
    "            print('Q2 MRR:', reciprocal_rank)\n",
    "#            print(persons, tracking_results)\n",
    "        \n",
    "        if query['q_type'] == 5:\n",
    "            pass\n",
    "        \n",
    "        if query['q_type'] == 6:\n",
    "            pass"
   ]
  },
  {
   "cell_type": "code",
   "execution_count": 93,
   "id": "ed568539",
   "metadata": {},
   "outputs": [],
   "source": [
    "### from collections import Counter"
   ]
  },
  {
   "cell_type": "code",
   "execution_count": 94,
   "id": "f248ba07",
   "metadata": {},
   "outputs": [
    {
     "data": {
      "text/plain": [
       "[('gus_boulis', 3), ('test', 2), ('r', 1)]"
      ]
     },
     "execution_count": 94,
     "metadata": {},
     "output_type": "execute_result"
    }
   ],
   "source": [
    "Counter(['gus_boulis', 'gus_boulis', 'test', 'r', 'test', 'gus_boulis']).most_common()"
   ]
  },
  {
   "cell_type": "code",
   "execution_count": 95,
   "id": "7bb115ea",
   "metadata": {},
   "outputs": [
    {
     "data": {
      "text/plain": [
       "{'Bagman': {1: 0.036044973544973546, 2: 0.25, 3: [], 4: [], 5: [], 6: []},\n",
       " 'Manos': {1: 0.13568376068376067, 2: 0.25, 3: [], 4: [], 5: [], 6: []},\n",
       " 'Road_To_Bali': {1: 0.09438131313131312, 2: 0.25, 3: [], 4: [], 5: [], 6: []},\n",
       " 'The_Illusionist': {1: 0.06780303030303031,\n",
       "  2: 0.0,\n",
       "  3: [],\n",
       "  4: [],\n",
       "  5: [],\n",
       "  6: []}}"
      ]
     },
     "execution_count": 95,
     "metadata": {},
     "output_type": "execute_result"
    }
   ],
   "source": [
    "for test_filmname in global_test_filmnames:\n",
    "    results[test_filmname][1] = np.mean(results[test_filmname][1])\n",
    "    results[test_filmname][2] = np.mean(results[test_filmname][2])\n",
    "results"
   ]
  },
  {
   "cell_type": "code",
   "execution_count": 756,
   "id": "d0c0f9ba",
   "metadata": {},
   "outputs": [
    {
     "data": {
      "text/plain": [
       "{'Bagman': {1: 0.06273436708219317, 2: 0.25, 3: [], 4: [], 5: [], 6: []},\n",
       " 'Manos': {1: 0.1599832915622389, 2: 0.25, 3: [], 4: [], 5: [], 6: []},\n",
       " 'Road_To_Bali': {1: 0.09880252849002849, 2: 0.25, 3: [], 4: [], 5: [], 6: []},\n",
       " 'The_Illusionist': {1: 0.28520299145299144,\n",
       "  2: 0.0,\n",
       "  3: [],\n",
       "  4: [],\n",
       "  5: [],\n",
       "  6: []}}"
      ]
     },
     "execution_count": 756,
     "metadata": {},
     "output_type": "execute_result"
    }
   ],
   "source": [
    "for test_filmname in global_test_filmnames:\n",
    "    results[test_filmname][1] = np.mean(results[test_filmname][1])\n",
    "    results[test_filmname][2] = np.mean(results[test_filmname][2])\n",
    "results"
   ]
  },
  {
   "cell_type": "code",
   "execution_count": null,
   "id": "9c2f9057",
   "metadata": {},
   "outputs": [],
   "source": [
    "for test_filmname in global_test_filmnames:\n",
    "    test_"
   ]
  },
  {
   "cell_type": "code",
   "execution_count": 760,
   "id": "d87182bd",
   "metadata": {},
   "outputs": [
    {
     "data": {
      "text/plain": [
       "0.16721679588527413"
      ]
     },
     "execution_count": 760,
     "metadata": {},
     "output_type": "execute_result"
    }
   ],
   "source": [
    "(0.06273436708219317 + 0.15 + 0.09 + 0.285 + 0.25 + 0.25+ 0.25 + 0)/8"
   ]
  },
  {
   "cell_type": "code",
   "execution_count": 593,
   "id": "0477ad27",
   "metadata": {},
   "outputs": [
    {
     "data": {
      "text/plain": [
       "['gives to', 'talks to', 'watches', 'watches', 'touches', 'asks', 'talks to']"
      ]
     },
     "execution_count": 593,
     "metadata": {},
     "output_type": "execute_result"
    }
   ],
   "source": [
    " parsed_queries['Bagman'][0]['interaction_list']"
   ]
  },
  {
   "cell_type": "code",
   "execution_count": 591,
   "id": "400eeeb0",
   "metadata": {},
   "outputs": [
    {
     "data": {
      "text/plain": [
       "[38, 99, 109, 109, 104, 6, 99]"
      ]
     },
     "execution_count": 591,
     "metadata": {},
     "output_type": "execute_result"
    }
   ],
   "source": [
    "[inter_2_label[interaction] for interaction in parsed_queries['Bagman'][0]['interaction_list']]"
   ]
  },
  {
   "cell_type": "code",
   "execution_count": 588,
   "id": "91bcca05",
   "metadata": {},
   "outputs": [
    {
     "data": {
      "text/plain": [
       "26"
      ]
     },
     "execution_count": 588,
     "metadata": {},
     "output_type": "execute_result"
    }
   ],
   "source": [
    "parsed_answers['Bagman'][0]"
   ]
  },
  {
   "cell_type": "code",
   "execution_count": 594,
   "id": "22c80bcd",
   "metadata": {},
   "outputs": [
    {
     "data": {
      "text/plain": [
       "[99, 38, 109, 104, 6, 99]"
      ]
     },
     "execution_count": 594,
     "metadata": {},
     "output_type": "execute_result"
    }
   ],
   "source": [
    "t_raw['Bagman'][25]"
   ]
  },
  {
   "cell_type": "code",
   "execution_count": null,
   "id": "1708568b",
   "metadata": {},
   "outputs": [],
   "source": []
  },
  {
   "cell_type": "code",
   "execution_count": 596,
   "id": "97d32737",
   "metadata": {},
   "outputs": [
    {
     "data": {
      "text/plain": [
       "array([24,  4, 21, 46, 13, 30,  7, 34,  5, 33, 38, 42,  2, 43, 39, 18, 41,\n",
       "       40,  8,  9, 19, 11, 12,  3, 14, 15,  6, 10, 47, 20, 28, 45, 44, 36,\n",
       "       35, 32, 31, 29, 25,  1, 17, 27, 26, 23, 37, 22, 16])"
      ]
     },
     "execution_count": 596,
     "metadata": {},
     "output_type": "execute_result"
    }
   ],
   "source": [
    "augmented_argmax(scores, len(scores)) + 1"
   ]
  },
  {
   "cell_type": "code",
   "execution_count": 571,
   "id": "ebb1538b",
   "metadata": {},
   "outputs": [
    {
     "data": {
      "text/plain": [
       "0.02564102564102564"
      ]
     },
     "execution_count": 571,
     "metadata": {},
     "output_type": "execute_result"
    }
   ],
   "source": [
    "1/augmented_argmax(scores, len(scores)).tolist().index(26)"
   ]
  },
  {
   "cell_type": "code",
   "execution_count": 583,
   "id": "db88a73f",
   "metadata": {},
   "outputs": [
    {
     "ename": "IndexError",
     "evalue": "list index out of range",
     "output_type": "error",
     "traceback": [
      "\u001b[0;31m---------------------------------------------------------------------------\u001b[0m",
      "\u001b[0;31mIndexError\u001b[0m                                Traceback (most recent call last)",
      "\u001b[0;32m/tmp/ipykernel_28240/3380815856.py\u001b[0m in \u001b[0;36m<module>\u001b[0;34m\u001b[0m\n\u001b[0;32m----> 1\u001b[0;31m \u001b[0mquiery_parsing\u001b[0m\u001b[0;34m(\u001b[0m\u001b[0mparsed_queries\u001b[0m\u001b[0;34m[\u001b[0m\u001b[0;34m'Bagman'\u001b[0m\u001b[0;34m]\u001b[0m\u001b[0;34m[\u001b[0m\u001b[0;36m30\u001b[0m\u001b[0;34m]\u001b[0m\u001b[0;34m)\u001b[0m\u001b[0;34m\u001b[0m\u001b[0;34m\u001b[0m\u001b[0m\n\u001b[0m",
      "\u001b[0;31mIndexError\u001b[0m: list index out of range"
     ]
    }
   ],
   "source": [
    "quiery_parsing(parsed_queries['Bagman'][30])"
   ]
  },
  {
   "cell_type": "code",
   "execution_count": 464,
   "id": "36a680c1",
   "metadata": {},
   "outputs": [
    {
     "data": {
      "text/plain": [
       "{'@question': '5',\n",
       " '@id': '8',\n",
       " 'item': [{'@subject': 'Scene:Unknown', '@predicate': 'Description'},\n",
       "  {'@description': 'While Jack plays the piano late at night, his wife, Pam comes downstairs and sits with him. He puts his arm around Pam and she asks him what he is doing still up this late since the kids have gone to sleep. The two reminisce on their past.'}],\n",
       " 'Answers': {'item': [{'@type': 'Integer:Scene', '@answer': '3'},\n",
       "   {'@type': 'Integer:Scene', '@answer': '8'},\n",
       "   {'@type': 'Integer:Scene', '@answer': '13'},\n",
       "   {'@type': 'Integer:Scene', '@answer': '19'},\n",
       "   {'@type': 'Integer:Scene', '@answer': '24'},\n",
       "   {'@type': 'Integer:Scene', '@answer': '28'},\n",
       "   {'@type': 'Integer:Scene', '@answer': '33'},\n",
       "   {'@type': 'Integer:Scene', '@answer': '37'},\n",
       "   {'@type': 'Integer:Scene', '@answer': '41'},\n",
       "   {'@type': 'Integer:Scene', '@answer': '43'}]}}"
      ]
     },
     "execution_count": 464,
     "metadata": {},
     "output_type": "execute_result"
    }
   ],
   "source": [
    "parsed_queries['Bagman'][23]"
   ]
  },
  {
   "cell_type": "code",
   "execution_count": 451,
   "id": "b3f5c52e",
   "metadata": {},
   "outputs": [
    {
     "data": {
      "text/plain": [
       "{'q_type': 2,\n",
       " 'scene': 18,\n",
       " 'description': 'Which Person in scene 18 has the following  Interactions: introduces Target_Person:Eisenheim, whispers to Target_Person:Eisenheim',\n",
       " 'interaction_list': ['introduces', 'whispers to'],\n",
       " 'object_list': ['Eisenheim', 'Eisenheim']}"
      ]
     },
     "execution_count": 451,
     "metadata": {},
     "output_type": "execute_result"
    }
   ],
   "source": [
    "quiery_parsing(parsed_queries[test_filmname][5])"
   ]
  },
  {
   "cell_type": "code",
   "execution_count": 435,
   "id": "bc8fd906",
   "metadata": {},
   "outputs": [],
   "source": [
    "quiery_parsing(parsed_queries[test_filmname][19])"
   ]
  },
  {
   "cell_type": "code",
   "execution_count": 436,
   "id": "6d965a34",
   "metadata": {},
   "outputs": [
    {
     "data": {
      "text/plain": [
       "{'@question': '5',\n",
       " '@id': '4',\n",
       " 'item': [{'@subject': 'Scene:Unknown', '@predicate': 'Description'},\n",
       "  {'@description': 'Sophie arrives at the mansion and Loschek leads her to a room to wait for Prince_Leopold. Sophie and the prince get into a fight and he slaps her across the face. Sophie runs out and Loschek watches as the prince follows her to the stable. Sophie manages to escape.'}],\n",
       " 'Answers': {'item': [{'@type': 'Integer:Scene', '@answer': '3'},\n",
       "   {'@type': 'Integer:Scene', '@answer': '7'},\n",
       "   {'@type': 'Integer:Scene', '@answer': '12'},\n",
       "   {'@type': 'Integer:Scene', '@answer': '18'},\n",
       "   {'@type': 'Integer:Scene', '@answer': '24'},\n",
       "   {'@type': 'Integer:Scene', '@answer': '28'},\n",
       "   {'@type': 'Integer:Scene', '@answer': '32'},\n",
       "   {'@type': 'Integer:Scene', '@answer': '36'},\n",
       "   {'@type': 'Integer:Scene', '@answer': '40'},\n",
       "   {'@type': 'Integer:Scene', '@answer': '43'}]}}"
      ]
     },
     "execution_count": 436,
     "metadata": {},
     "output_type": "execute_result"
    }
   ],
   "source": [
    "parsed_queries[test_filmname][19]"
   ]
  },
  {
   "cell_type": "code",
   "execution_count": 420,
   "id": "e2d3a4ea",
   "metadata": {},
   "outputs": [
    {
     "name": "stdout",
     "output_type": "stream",
     "text": [
      "> \u001b[0;32m/tmp/ipykernel_28240/448720590.py\u001b[0m(28)\u001b[0;36m<listcomp>\u001b[0;34m()\u001b[0m\n",
      "\u001b[0;32m     25 \u001b[0;31m        \u001b[0mquery_body\u001b[0m\u001b[0;34m[\u001b[0m\u001b[0;34m'predicate'\u001b[0m\u001b[0;34m]\u001b[0m \u001b[0;34m=\u001b[0m \u001b[0mquery\u001b[0m\u001b[0;34m[\u001b[0m\u001b[0;34m'item'\u001b[0m\u001b[0;34m]\u001b[0m\u001b[0;34m[\u001b[0m\u001b[0;36m0\u001b[0m\u001b[0;34m]\u001b[0m\u001b[0;34m[\u001b[0m\u001b[0;34m'@object'\u001b[0m\u001b[0;34m]\u001b[0m\u001b[0;34m\u001b[0m\u001b[0;34m\u001b[0m\u001b[0m\n",
      "\u001b[0m\u001b[0;32m     26 \u001b[0;31m\u001b[0;34m\u001b[0m\u001b[0m\n",
      "\u001b[0m\u001b[0;32m     27 \u001b[0;31m        \u001b[0mquery_body\u001b[0m\u001b[0;34m[\u001b[0m\u001b[0;34m'target_scene'\u001b[0m\u001b[0;34m]\u001b[0m \u001b[0;34m=\u001b[0m \u001b[0mquery\u001b[0m\u001b[0;34m[\u001b[0m\u001b[0;34m'Answers'\u001b[0m\u001b[0;34m]\u001b[0m\u001b[0;34m[\u001b[0m\u001b[0;34m'item'\u001b[0m\u001b[0;34m]\u001b[0m\u001b[0;34m[\u001b[0m\u001b[0;36m0\u001b[0m\u001b[0;34m]\u001b[0m\u001b[0;34m[\u001b[0m\u001b[0;34m'@scene'\u001b[0m\u001b[0;34m]\u001b[0m\u001b[0;34m\u001b[0m\u001b[0;34m\u001b[0m\u001b[0m\n",
      "\u001b[0m\u001b[0;32m---> 28 \u001b[0;31m        \u001b[0mquery_body\u001b[0m\u001b[0;34m[\u001b[0m\u001b[0;34m'answers'\u001b[0m\u001b[0;34m]\u001b[0m \u001b[0;34m=\u001b[0m \u001b[0;34m[\u001b[0m\u001b[0mentry\u001b[0m\u001b[0;34m[\u001b[0m\u001b[0;34m'@answer'\u001b[0m\u001b[0;34m]\u001b[0m \u001b[0;32mfor\u001b[0m \u001b[0mentry\u001b[0m \u001b[0;32min\u001b[0m \u001b[0mquery\u001b[0m\u001b[0;34m[\u001b[0m\u001b[0;34m'Answers'\u001b[0m\u001b[0;34m]\u001b[0m\u001b[0;34m[\u001b[0m\u001b[0;34m'item'\u001b[0m\u001b[0;34m]\u001b[0m\u001b[0;34m[\u001b[0m\u001b[0;36m1\u001b[0m\u001b[0;34m]\u001b[0m\u001b[0;34m]\u001b[0m\u001b[0;34m\u001b[0m\u001b[0;34m\u001b[0m\u001b[0m\n",
      "\u001b[0m\u001b[0;32m     29 \u001b[0;31m        \u001b[0;32mreturn\u001b[0m \u001b[0mquery_body\u001b[0m\u001b[0;34m\u001b[0m\u001b[0;34m\u001b[0m\u001b[0m\n",
      "\u001b[0m\n",
      "ipdb> query['Answers']['item'][1]\n",
      "*** NameError: name 'query' is not defined\n",
      "ipdb> entry\n",
      "'@type'\n",
      "ipdb> exit\n"
     ]
    }
   ],
   "source": [
    "%debug"
   ]
  },
  {
   "cell_type": "code",
   "execution_count": null,
   "id": "f98ad8d7",
   "metadata": {},
   "outputs": [],
   "source": [
    "'The_Illusionist.Scene_Level.xml'"
   ]
  }
 ],
 "metadata": {
  "kernelspec": {
   "display_name": "Python 3 (ipykernel)",
   "language": "python",
   "name": "python3"
  },
  "language_info": {
   "codemirror_mode": {
    "name": "ipython",
    "version": 3
   },
   "file_extension": ".py",
   "mimetype": "text/x-python",
   "name": "python",
   "nbconvert_exporter": "python",
   "pygments_lexer": "ipython3",
   "version": "3.7.12"
  }
 },
 "nbformat": 4,
 "nbformat_minor": 5
}
